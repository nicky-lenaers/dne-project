{
  "cells": [
    {
      "cell_type": "markdown",
      "metadata": {
        "id": "MWc4kcBMGnpg"
      },
      "source": [
        "# Training DNQ for BlackJack\n",
        "\n",
        "Based on [Deep Q-Network from Tianshou](https://tianshou.org/en/stable/01_tutorials/00_dqn.html)."
      ]
    },
    {
      "cell_type": "code",
      "execution_count": null,
      "metadata": {
        "id": "_ixzdtHHYg_a"
      },
      "outputs": [],
      "source": [
        "%load_ext autoreload\n",
        "%autoreload 2"
      ]
    },
    {
      "cell_type": "markdown",
      "metadata": {
        "id": "y9lmQIv9F9Ke"
      },
      "source": [
        "# Install dependencies"
      ]
    },
    {
      "cell_type": "code",
      "execution_count": null,
      "metadata": {
        "colab": {
          "base_uri": "https://localhost:8080/"
        },
        "id": "QSgELpG0YrrI",
        "outputId": "22e582be-6148-4dc2-dfaf-5f7a6296dbb3"
      },
      "outputs": [
        {
          "name": "stdout",
          "output_type": "stream",
          "text": [
            "Requirement already satisfied: gymnasium==0.29.1 in /usr/local/lib/python3.10/dist-packages (0.29.1)\n",
            "Requirement already satisfied: pygame==2.3.0 in /usr/local/lib/python3.10/dist-packages (2.3.0)\n",
            "Requirement already satisfied: pettingzoo==1.24.3 in /usr/local/lib/python3.10/dist-packages (1.24.3)\n",
            "Requirement already satisfied: tianshou==0.5.1 in /usr/local/lib/python3.10/dist-packages (0.5.1)\n",
            "Requirement already satisfied: transformers==4.39.1 in /usr/local/lib/python3.10/dist-packages (4.39.1)\n",
            "Requirement already satisfied: accelerate==0.28.0 in /usr/local/lib/python3.10/dist-packages (0.28.0)\n",
            "Requirement already satisfied: openai in /usr/local/lib/python3.10/dist-packages (1.20.0)\n",
            "Requirement already satisfied: numpy>=1.21.0 in /usr/local/lib/python3.10/dist-packages (from gymnasium==0.29.1) (1.25.2)\n",
            "Requirement already satisfied: cloudpickle>=1.2.0 in /usr/local/lib/python3.10/dist-packages (from gymnasium==0.29.1) (2.2.1)\n",
            "Requirement already satisfied: typing-extensions>=4.3.0 in /usr/local/lib/python3.10/dist-packages (from gymnasium==0.29.1) (4.11.0)\n",
            "Requirement already satisfied: farama-notifications>=0.0.1 in /usr/local/lib/python3.10/dist-packages (from gymnasium==0.29.1) (0.0.4)\n",
            "Requirement already satisfied: tqdm in /usr/local/lib/python3.10/dist-packages (from tianshou==0.5.1) (4.66.2)\n",
            "Requirement already satisfied: tensorboard>=2.5.0 in /usr/local/lib/python3.10/dist-packages (from tianshou==0.5.1) (2.15.2)\n",
            "Requirement already satisfied: torch>=1.4.0 in /usr/local/lib/python3.10/dist-packages (from tianshou==0.5.1) (2.2.1+cu121)\n",
            "Requirement already satisfied: numba>=0.51.0 in /usr/local/lib/python3.10/dist-packages (from tianshou==0.5.1) (0.58.1)\n",
            "Requirement already satisfied: h5py>=2.10.0 in /usr/local/lib/python3.10/dist-packages (from tianshou==0.5.1) (3.9.0)\n",
            "Requirement already satisfied: packaging in /usr/local/lib/python3.10/dist-packages (from tianshou==0.5.1) (24.0)\n",
            "Requirement already satisfied: filelock in /usr/local/lib/python3.10/dist-packages (from transformers==4.39.1) (3.13.4)\n",
            "Requirement already satisfied: huggingface-hub<1.0,>=0.19.3 in /usr/local/lib/python3.10/dist-packages (from transformers==4.39.1) (0.20.3)\n",
            "Requirement already satisfied: pyyaml>=5.1 in /usr/local/lib/python3.10/dist-packages (from transformers==4.39.1) (6.0.1)\n",
            "Requirement already satisfied: regex!=2019.12.17 in /usr/local/lib/python3.10/dist-packages (from transformers==4.39.1) (2023.12.25)\n",
            "Requirement already satisfied: requests in /usr/local/lib/python3.10/dist-packages (from transformers==4.39.1) (2.31.0)\n",
            "Requirement already satisfied: tokenizers<0.19,>=0.14 in /usr/local/lib/python3.10/dist-packages (from transformers==4.39.1) (0.15.2)\n",
            "Requirement already satisfied: safetensors>=0.4.1 in /usr/local/lib/python3.10/dist-packages (from transformers==4.39.1) (0.4.2)\n",
            "Requirement already satisfied: psutil in /usr/local/lib/python3.10/dist-packages (from accelerate==0.28.0) (5.9.5)\n",
            "Requirement already satisfied: anyio<5,>=3.5.0 in /usr/local/lib/python3.10/dist-packages (from openai) (3.7.1)\n",
            "Requirement already satisfied: distro<2,>=1.7.0 in /usr/lib/python3/dist-packages (from openai) (1.7.0)\n",
            "Requirement already satisfied: httpx<1,>=0.23.0 in /usr/local/lib/python3.10/dist-packages (from openai) (0.27.0)\n",
            "Requirement already satisfied: pydantic<3,>=1.9.0 in /usr/local/lib/python3.10/dist-packages (from openai) (2.6.4)\n",
            "Requirement already satisfied: sniffio in /usr/local/lib/python3.10/dist-packages (from openai) (1.3.1)\n",
            "Requirement already satisfied: idna>=2.8 in /usr/local/lib/python3.10/dist-packages (from anyio<5,>=3.5.0->openai) (3.6)\n",
            "Requirement already satisfied: exceptiongroup in /usr/local/lib/python3.10/dist-packages (from anyio<5,>=3.5.0->openai) (1.2.0)\n",
            "Requirement already satisfied: certifi in /usr/local/lib/python3.10/dist-packages (from httpx<1,>=0.23.0->openai) (2024.2.2)\n",
            "Requirement already satisfied: httpcore==1.* in /usr/local/lib/python3.10/dist-packages (from httpx<1,>=0.23.0->openai) (1.0.5)\n",
            "Requirement already satisfied: h11<0.15,>=0.13 in /usr/local/lib/python3.10/dist-packages (from httpcore==1.*->httpx<1,>=0.23.0->openai) (0.14.0)\n",
            "Requirement already satisfied: fsspec>=2023.5.0 in /usr/local/lib/python3.10/dist-packages (from huggingface-hub<1.0,>=0.19.3->transformers==4.39.1) (2023.6.0)\n",
            "Requirement already satisfied: llvmlite<0.42,>=0.41.0dev0 in /usr/local/lib/python3.10/dist-packages (from numba>=0.51.0->tianshou==0.5.1) (0.41.1)\n",
            "Requirement already satisfied: annotated-types>=0.4.0 in /usr/local/lib/python3.10/dist-packages (from pydantic<3,>=1.9.0->openai) (0.6.0)\n",
            "Requirement already satisfied: pydantic-core==2.16.3 in /usr/local/lib/python3.10/dist-packages (from pydantic<3,>=1.9.0->openai) (2.16.3)\n",
            "Requirement already satisfied: absl-py>=0.4 in /usr/local/lib/python3.10/dist-packages (from tensorboard>=2.5.0->tianshou==0.5.1) (1.4.0)\n",
            "Requirement already satisfied: grpcio>=1.48.2 in /usr/local/lib/python3.10/dist-packages (from tensorboard>=2.5.0->tianshou==0.5.1) (1.62.1)\n",
            "Requirement already satisfied: google-auth<3,>=1.6.3 in /usr/local/lib/python3.10/dist-packages (from tensorboard>=2.5.0->tianshou==0.5.1) (2.27.0)\n",
            "Requirement already satisfied: google-auth-oauthlib<2,>=0.5 in /usr/local/lib/python3.10/dist-packages (from tensorboard>=2.5.0->tianshou==0.5.1) (1.2.0)\n",
            "Requirement already satisfied: markdown>=2.6.8 in /usr/local/lib/python3.10/dist-packages (from tensorboard>=2.5.0->tianshou==0.5.1) (3.6)\n",
            "Requirement already satisfied: protobuf!=4.24.0,>=3.19.6 in /usr/local/lib/python3.10/dist-packages (from tensorboard>=2.5.0->tianshou==0.5.1) (3.20.3)\n",
            "Requirement already satisfied: setuptools>=41.0.0 in /usr/local/lib/python3.10/dist-packages (from tensorboard>=2.5.0->tianshou==0.5.1) (67.7.2)\n",
            "Requirement already satisfied: six>1.9 in /usr/local/lib/python3.10/dist-packages (from tensorboard>=2.5.0->tianshou==0.5.1) (1.16.0)\n",
            "Requirement already satisfied: tensorboard-data-server<0.8.0,>=0.7.0 in /usr/local/lib/python3.10/dist-packages (from tensorboard>=2.5.0->tianshou==0.5.1) (0.7.2)\n",
            "Requirement already satisfied: werkzeug>=1.0.1 in /usr/local/lib/python3.10/dist-packages (from tensorboard>=2.5.0->tianshou==0.5.1) (3.0.2)\n",
            "Requirement already satisfied: charset-normalizer<4,>=2 in /usr/local/lib/python3.10/dist-packages (from requests->transformers==4.39.1) (3.3.2)\n",
            "Requirement already satisfied: urllib3<3,>=1.21.1 in /usr/local/lib/python3.10/dist-packages (from requests->transformers==4.39.1) (2.0.7)\n",
            "Requirement already satisfied: sympy in /usr/local/lib/python3.10/dist-packages (from torch>=1.4.0->tianshou==0.5.1) (1.12)\n",
            "Requirement already satisfied: networkx in /usr/local/lib/python3.10/dist-packages (from torch>=1.4.0->tianshou==0.5.1) (3.3)\n",
            "Requirement already satisfied: jinja2 in /usr/local/lib/python3.10/dist-packages (from torch>=1.4.0->tianshou==0.5.1) (3.1.3)\n",
            "Requirement already satisfied: nvidia-cuda-nvrtc-cu12==12.1.105 in /usr/local/lib/python3.10/dist-packages (from torch>=1.4.0->tianshou==0.5.1) (12.1.105)\n",
            "Requirement already satisfied: nvidia-cuda-runtime-cu12==12.1.105 in /usr/local/lib/python3.10/dist-packages (from torch>=1.4.0->tianshou==0.5.1) (12.1.105)\n",
            "Requirement already satisfied: nvidia-cuda-cupti-cu12==12.1.105 in /usr/local/lib/python3.10/dist-packages (from torch>=1.4.0->tianshou==0.5.1) (12.1.105)\n",
            "Requirement already satisfied: nvidia-cudnn-cu12==8.9.2.26 in /usr/local/lib/python3.10/dist-packages (from torch>=1.4.0->tianshou==0.5.1) (8.9.2.26)\n",
            "Requirement already satisfied: nvidia-cublas-cu12==12.1.3.1 in /usr/local/lib/python3.10/dist-packages (from torch>=1.4.0->tianshou==0.5.1) (12.1.3.1)\n",
            "Requirement already satisfied: nvidia-cufft-cu12==11.0.2.54 in /usr/local/lib/python3.10/dist-packages (from torch>=1.4.0->tianshou==0.5.1) (11.0.2.54)\n",
            "Requirement already satisfied: nvidia-curand-cu12==10.3.2.106 in /usr/local/lib/python3.10/dist-packages (from torch>=1.4.0->tianshou==0.5.1) (10.3.2.106)\n",
            "Requirement already satisfied: nvidia-cusolver-cu12==11.4.5.107 in /usr/local/lib/python3.10/dist-packages (from torch>=1.4.0->tianshou==0.5.1) (11.4.5.107)\n",
            "Requirement already satisfied: nvidia-cusparse-cu12==12.1.0.106 in /usr/local/lib/python3.10/dist-packages (from torch>=1.4.0->tianshou==0.5.1) (12.1.0.106)\n",
            "Requirement already satisfied: nvidia-nccl-cu12==2.19.3 in /usr/local/lib/python3.10/dist-packages (from torch>=1.4.0->tianshou==0.5.1) (2.19.3)\n",
            "Requirement already satisfied: nvidia-nvtx-cu12==12.1.105 in /usr/local/lib/python3.10/dist-packages (from torch>=1.4.0->tianshou==0.5.1) (12.1.105)\n",
            "Requirement already satisfied: triton==2.2.0 in /usr/local/lib/python3.10/dist-packages (from torch>=1.4.0->tianshou==0.5.1) (2.2.0)\n",
            "Requirement already satisfied: nvidia-nvjitlink-cu12 in /usr/local/lib/python3.10/dist-packages (from nvidia-cusolver-cu12==11.4.5.107->torch>=1.4.0->tianshou==0.5.1) (12.4.127)\n",
            "Requirement already satisfied: cachetools<6.0,>=2.0.0 in /usr/local/lib/python3.10/dist-packages (from google-auth<3,>=1.6.3->tensorboard>=2.5.0->tianshou==0.5.1) (5.3.3)\n",
            "Requirement already satisfied: pyasn1-modules>=0.2.1 in /usr/local/lib/python3.10/dist-packages (from google-auth<3,>=1.6.3->tensorboard>=2.5.0->tianshou==0.5.1) (0.4.0)\n",
            "Requirement already satisfied: rsa<5,>=3.1.4 in /usr/local/lib/python3.10/dist-packages (from google-auth<3,>=1.6.3->tensorboard>=2.5.0->tianshou==0.5.1) (4.9)\n",
            "Requirement already satisfied: requests-oauthlib>=0.7.0 in /usr/local/lib/python3.10/dist-packages (from google-auth-oauthlib<2,>=0.5->tensorboard>=2.5.0->tianshou==0.5.1) (1.3.1)\n",
            "Requirement already satisfied: MarkupSafe>=2.1.1 in /usr/local/lib/python3.10/dist-packages (from werkzeug>=1.0.1->tensorboard>=2.5.0->tianshou==0.5.1) (2.1.5)\n",
            "Requirement already satisfied: mpmath>=0.19 in /usr/local/lib/python3.10/dist-packages (from sympy->torch>=1.4.0->tianshou==0.5.1) (1.3.0)\n",
            "Requirement already satisfied: pyasn1<0.7.0,>=0.4.6 in /usr/local/lib/python3.10/dist-packages (from pyasn1-modules>=0.2.1->google-auth<3,>=1.6.3->tensorboard>=2.5.0->tianshou==0.5.1) (0.6.0)\n",
            "Requirement already satisfied: oauthlib>=3.0.0 in /usr/local/lib/python3.10/dist-packages (from requests-oauthlib>=0.7.0->google-auth-oauthlib<2,>=0.5->tensorboard>=2.5.0->tianshou==0.5.1) (3.2.2)\n"
          ]
        }
      ],
      "source": [
        "#!pip install gymnasium==0.29.1 pygame==2.3.0 pettingzoo==1.24.3 tianshou==0.5.1 transformers==4.39.1 accelerate==0.28.0 openai"
      ]
    },
    {
      "cell_type": "markdown",
      "metadata": {
        "id": "GJUqMfTpGHkb"
      },
      "source": [
        "# Setup environment"
      ]
    },
    {
      "cell_type": "code",
      "execution_count": null,
      "metadata": {
        "id": "8eNTgrS7Qozg"
      },
      "outputs": [],
      "source": [
        "import gymnasium as gym\n",
        "import tianshou as ts\n",
        "from gymnasium.spaces import Dict\n",
        "from gymnasium.wrappers import FlattenObservation\n",
        "\n",
        "def get_env(render_mode = None):\n",
        "  \"\"\"\n",
        "  BlackJack has an observation space which is a tuple, consisting of\n",
        "  the player's sum, the dealers card showing and whether or not\n",
        "  the player has a usable ace. This tuple is flattened for Tianshou\n",
        "  to be able to put it through the deep network layers.\n",
        "  \"\"\"\n",
        "  env = gym.make(\"Blackjack-v1\", render_mode=render_mode)\n",
        "  env = FlattenObservation(env)\n",
        "  env.reset(seed=42)\n",
        "\n",
        "  return env\n",
        "\n",
        "env = get_env()"
      ]
    },
    {
      "cell_type": "code",
      "execution_count": null,
      "metadata": {
        "colab": {
          "base_uri": "https://localhost:8080/"
        },
        "id": "LP3tEh8Acfca",
        "outputId": "489db554-a642-4263-8921-02bf51a4e95b"
      },
      "outputs": [
        {
          "name": "stderr",
          "output_type": "stream",
          "text": [
            "/usr/local/lib/python3.10/dist-packages/ipykernel/ipkernel.py:283: DeprecationWarning: `should_run_async` will not call `transform_cell` automatically in the future. Please pass the result to `transformed_cell` argument and any exception that happen during thetransform in `preprocessing_exc_tuple` in IPython 7.17 and above.\n",
            "  and should_run_async(code)\n"
          ]
        }
      ],
      "source": [
        "train_envs = ts.env.DummyVectorEnv([get_env for _ in range(10)])\n",
        "test_envs = ts.env.DummyVectorEnv([get_env for _ in range(100)])"
      ]
    },
    {
      "cell_type": "markdown",
      "metadata": {
        "id": "lB6dVGoGGPl0"
      },
      "source": [
        "# Setup PyTorch Network"
      ]
    },
    {
      "cell_type": "code",
      "execution_count": null,
      "metadata": {
        "id": "FSDEGYrcZUO2"
      },
      "outputs": [],
      "source": [
        "import torch\n",
        "import numpy as np\n",
        "from torch import nn\n",
        "\n",
        "\n",
        "class Net(nn.Module):\n",
        "    def __init__(self, state_shape, action_shape):\n",
        "        super().__init__()\n",
        "        self.model = nn.Sequential(\n",
        "            nn.Linear(np.prod(state_shape), 128),\n",
        "            nn.ReLU(inplace=True),\n",
        "            nn.Linear(128, 128),\n",
        "            nn.ReLU(inplace=True),\n",
        "            nn.Linear(128, 128),\n",
        "            nn.ReLU(inplace=True),\n",
        "            nn.Linear(128, np.prod(action_shape)),\n",
        "        )\n",
        "\n",
        "    def forward(self, obs, state=None, info={}):\n",
        "        if not isinstance(obs, torch.Tensor):\n",
        "            obs = torch.tensor(obs, dtype=torch.float)\n",
        "        batch = obs.shape[0]\n",
        "        logits = self.model(obs.view(batch, -1))\n",
        "        return logits, state\n",
        "\n",
        "state_shape = env.observation_space.shape\n",
        "action_shape = env.action_space.shape or env.action_space.n\n",
        "\n",
        "net = Net(state_shape, action_shape)\n",
        "optim = torch.optim.Adam(net.parameters(), lr=1e-3)"
      ]
    },
    {
      "cell_type": "markdown",
      "metadata": {
        "id": "T4_YveVRRC87"
      },
      "source": [
        "# Create Policy\n",
        "\n",
        "Create a deep DQN Policy using the network and optimizer."
      ]
    },
    {
      "cell_type": "code",
      "execution_count": null,
      "metadata": {
        "colab": {
          "base_uri": "https://localhost:8080/"
        },
        "id": "KJ-3vuAuREa8",
        "outputId": "fea21246-d051-4b9b-c852-a5e31a7f3da8"
      },
      "outputs": [
        {
          "name": "stderr",
          "output_type": "stream",
          "text": [
            "/usr/local/lib/python3.10/dist-packages/ipykernel/ipkernel.py:283: DeprecationWarning: `should_run_async` will not call `transform_cell` automatically in the future. Please pass the result to `transformed_cell` argument and any exception that happen during thetransform in `preprocessing_exc_tuple` in IPython 7.17 and above.\n",
            "  and should_run_async(code)\n"
          ]
        }
      ],
      "source": [
        "policy = ts.policy.DQNPolicy(\n",
        "    model=net,\n",
        "    optim=optim,\n",
        "    action_space=env.action_space,\n",
        "    discount_factor=0.9,\n",
        "    estimation_step=3,\n",
        "    target_update_freq=320,\n",
        ")"
      ]
    },
    {
      "cell_type": "code",
      "execution_count": null,
      "metadata": {
        "colab": {
          "base_uri": "https://localhost:8080/"
        },
        "id": "5YDAB_hZRGR8",
        "outputId": "d0925252-ee44-4491-e070-d6079dacb913"
      },
      "outputs": [
        {
          "name": "stderr",
          "output_type": "stream",
          "text": [
            "/usr/local/lib/python3.10/dist-packages/ipykernel/ipkernel.py:283: DeprecationWarning: `should_run_async` will not call `transform_cell` automatically in the future. Please pass the result to `transformed_cell` argument and any exception that happen during thetransform in `preprocessing_exc_tuple` in IPython 7.17 and above.\n",
            "  and should_run_async(code)\n"
          ]
        }
      ],
      "source": [
        "train_collector = ts.data.Collector(\n",
        "    policy, train_envs, ts.data.VectorReplayBuffer(20000, 10), exploration_noise=True\n",
        ")\n",
        "test_collector = ts.data.Collector(policy, test_envs, exploration_noise=True)"
      ]
    },
    {
      "cell_type": "markdown",
      "metadata": {
        "id": "wgZy7_UPJzbJ"
      },
      "source": [
        "# Train the agent\n",
        "Using the OffPolicyTrainer."
      ]
    },
    {
      "cell_type": "code",
      "execution_count": null,
      "metadata": {
        "colab": {
          "base_uri": "https://localhost:8080/"
        },
        "id": "Sb9XhtchcB3G",
        "outputId": "071ebffa-7bb0-42c6-cd49-88d4c801c78d"
      },
      "outputs": [
        {
          "name": "stderr",
          "output_type": "stream",
          "text": [
            "/usr/local/lib/python3.10/dist-packages/ipykernel/ipkernel.py:283: DeprecationWarning: `should_run_async` will not call `transform_cell` automatically in the future. Please pass the result to `transformed_cell` argument and any exception that happen during thetransform in `preprocessing_exc_tuple` in IPython 7.17 and above.\n",
            "  and should_run_async(code)\n",
            "Epoch #1: 10001it [00:16, 623.83it/s, env_step=10000, len=1, loss=0.511, n/ep=7, n/st=10, rew=0.14]                           \n"
          ]
        },
        {
          "name": "stdout",
          "output_type": "stream",
          "text": [
            "Epoch #1: test_reward: 0.900000 ± 0.435890, best_reward: 0.900000 ± 0.435890 in #1\n"
          ]
        },
        {
          "name": "stderr",
          "output_type": "stream",
          "text": [
            "Epoch #2: 10001it [00:16, 597.43it/s, env_step=20000, len=1, loss=0.592, n/ep=8, n/st=10, rew=-0.12]                           \n"
          ]
        },
        {
          "name": "stdout",
          "output_type": "stream",
          "text": [
            "Epoch #2: test_reward: 0.000000 ± 0.244949, best_reward: 0.900000 ± 0.435890 in #1\n"
          ]
        },
        {
          "name": "stderr",
          "output_type": "stream",
          "text": [
            "Epoch #3: 10001it [00:16, 623.83it/s, env_step=30000, len=1, loss=0.616, n/ep=6, n/st=10, rew=-0.67]                           \n"
          ]
        },
        {
          "name": "stdout",
          "output_type": "stream",
          "text": [
            "Epoch #3: test_reward: 0.960000 ± 0.280000, best_reward: 0.960000 ± 0.280000 in #3\n"
          ]
        },
        {
          "name": "stderr",
          "output_type": "stream",
          "text": [
            "Epoch #4: 10001it [00:16, 605.30it/s, env_step=40000, len=1, loss=0.604, n/ep=7, n/st=10, rew=-0.29]                           \n"
          ]
        },
        {
          "name": "stdout",
          "output_type": "stream",
          "text": [
            "Epoch #4: test_reward: 0.960000 ± 0.280000, best_reward: 0.960000 ± 0.280000 in #3\n"
          ]
        },
        {
          "name": "stderr",
          "output_type": "stream",
          "text": [
            "Epoch #5: 10001it [00:16, 622.11it/s, env_step=50000, len=2, loss=0.615, n/ep=5, n/st=10, rew=0.40]                           \n"
          ]
        },
        {
          "name": "stdout",
          "output_type": "stream",
          "text": [
            "Epoch #5: test_reward: 0.980000 ± 0.140000, best_reward: 0.980000 ± 0.140000 in #5\n"
          ]
        },
        {
          "name": "stderr",
          "output_type": "stream",
          "text": [
            "Epoch #6: 10001it [00:16, 614.21it/s, env_step=60000, len=1, loss=0.611, n/ep=8, n/st=10, rew=0.00]                           \n"
          ]
        },
        {
          "name": "stdout",
          "output_type": "stream",
          "text": [
            "Epoch #6: test_reward: 0.920000 ± 0.391918, best_reward: 0.980000 ± 0.140000 in #5\n"
          ]
        },
        {
          "name": "stderr",
          "output_type": "stream",
          "text": [
            "Epoch #7: 10001it [00:16, 596.03it/s, env_step=70000, len=1, loss=0.615, n/ep=6, n/st=10, rew=0.00]                           \n"
          ]
        },
        {
          "name": "stdout",
          "output_type": "stream",
          "text": [
            "Epoch #7: test_reward: -0.880000 ± 0.474974, best_reward: 0.980000 ± 0.140000 in #5\n"
          ]
        },
        {
          "name": "stderr",
          "output_type": "stream",
          "text": [
            "Epoch #8: 10001it [00:16, 610.20it/s, env_step=80000, len=1, loss=0.605, n/ep=6, n/st=10, rew=-0.17]                           \n"
          ]
        },
        {
          "name": "stdout",
          "output_type": "stream",
          "text": [
            "Epoch #8: test_reward: 0.920000 ± 0.391918, best_reward: 0.980000 ± 0.140000 in #5\n"
          ]
        },
        {
          "name": "stderr",
          "output_type": "stream",
          "text": [
            "Epoch #9: 10001it [00:16, 620.30it/s, env_step=90000, len=1, loss=0.602, n/ep=7, n/st=10, rew=0.14]                           \n"
          ]
        },
        {
          "name": "stdout",
          "output_type": "stream",
          "text": [
            "Epoch #9: test_reward: 0.840000 ± 0.542586, best_reward: 0.980000 ± 0.140000 in #5\n"
          ]
        },
        {
          "name": "stderr",
          "output_type": "stream",
          "text": [
            "Epoch #10: 10001it [00:16, 610.78it/s, env_step=100000, len=1, loss=0.605, n/ep=7, n/st=10, rew=0.43]                           \n"
          ]
        },
        {
          "name": "stdout",
          "output_type": "stream",
          "text": [
            "Epoch #10: test_reward: -0.940000 ± 0.341174, best_reward: 0.980000 ± 0.140000 in #5\n",
            "Finished training! Use 164.42s\n"
          ]
        },
        {
          "data": {
            "text/plain": [
              "{'duration': '164.42s',\n",
              " 'train_time/model': '110.39s',\n",
              " 'test_step': 1593,\n",
              " 'test_episode': 1100,\n",
              " 'test_time': '0.48s',\n",
              " 'test_speed': '3314.25 step/s',\n",
              " 'best_reward': 0.98,\n",
              " 'best_result': '0.98 ± 0.14',\n",
              " 'train_step': 100000,\n",
              " 'train_episode': 68490,\n",
              " 'train_time/collector': '53.55s',\n",
              " 'train_speed': '610.00 step/s'}"
            ]
          },
          "execution_count": 8,
          "metadata": {},
          "output_type": "execute_result"
        }
      ],
      "source": [
        "result = ts.trainer.OffpolicyTrainer(\n",
        "    policy=policy,\n",
        "    train_collector=train_collector,\n",
        "    test_collector=test_collector,\n",
        "    max_epoch=10,\n",
        "    step_per_epoch=10000,\n",
        "    step_per_collect=10,\n",
        "    update_per_step=0.1,\n",
        "    episode_per_test=100,\n",
        "    batch_size=64,\n",
        "    train_fn=lambda epoch, env_step: policy.set_eps(0.1),\n",
        "    test_fn=lambda epoch, env_step: policy.set_eps(0.05),\n",
        ").run()\n",
        "print(f'Finished training! Use {result[\"duration\"]}')\n",
        "\n",
        "result"
      ]
    },
    {
      "cell_type": "markdown",
      "metadata": {
        "id": "nxLtBMTBKNg-"
      },
      "source": [
        "# Play\n",
        "\n",
        "Play with the trained agent to the opponent a number of episodes and print the results"
      ]
    },
    {
      "cell_type": "code",
      "execution_count": null,
      "metadata": {
        "colab": {
          "base_uri": "https://localhost:8080/"
        },
        "id": "MAhLVoCMctbb",
        "outputId": "28128abc-3b79-4307-adb5-30a1050f39ef"
      },
      "outputs": [
        {
          "name": "stdout",
          "output_type": "stream",
          "text": [
            "Win: 42 lost: 43 draw: 15\n"
          ]
        }
      ],
      "source": [
        "policy.eval()\n",
        "\n",
        "env = get_env(render_mode=None)\n",
        "env = ts.env.DummyVectorEnv([lambda: env])\n",
        "collector = ts.data.Collector(policy, env, exploration_noise=True)\n",
        "# play number of episodes\n",
        "result = collector.collect(n_episode=100, render=None)\n",
        "rews, lens = result[\"rews\"], result[\"lens\"]\n",
        "\n",
        "won = 0\n",
        "draw = 0\n",
        "lost = 0\n",
        "for res in result['rews']:\n",
        "  if res == 1:\n",
        "    won += 1\n",
        "  elif res == -1:\n",
        "    lost +=1\n",
        "  else:\n",
        "    draw += 1\n",
        "\n",
        "print(\"Win: \" + str(won) + \" lost: \" + str(lost) + \" draw: \" + str(draw))"
      ]
    },
    {
      "cell_type": "code",
      "execution_count": null,
      "metadata": {
        "id": "wX5mHWKuUvjf"
      },
      "outputs": [],
      "source": []
    }
  ],
  "metadata": {
    "accelerator": "GPU",
    "colab": {
      "gpuType": "T4",
      "provenance": []
    },
    "kernelspec": {
      "display_name": "Python 3",
      "name": "python3"
    },
    "language_info": {
      "name": "python"
    }
  },
  "nbformat": 4,
  "nbformat_minor": 0
}
