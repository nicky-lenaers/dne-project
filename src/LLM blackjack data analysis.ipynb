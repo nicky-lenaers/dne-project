{
 "cells": [
  {
   "cell_type": "markdown",
   "id": "a54bd6cb",
   "metadata": {},
   "source": [
    "# LLM blackjack experiment data analysis"
   ]
  },
  {
   "cell_type": "code",
   "execution_count": 169,
   "id": "0dd3536a",
   "metadata": {},
   "outputs": [
    {
     "name": "stderr",
     "output_type": "stream",
     "text": [
      "WARNING: Ignoring invalid distribution -orch (c:\\users\\johan\\anaconda3\\envs\\ktai dqn\\lib\\site-packages)\n",
      "WARNING: Ignoring invalid distribution -orch (c:\\users\\johan\\anaconda3\\envs\\ktai dqn\\lib\\site-packages)\n",
      "WARNING: Ignoring invalid distribution -orch (c:\\users\\johan\\anaconda3\\envs\\ktai dqn\\lib\\site-packages)\n",
      "WARNING: Ignoring invalid distribution -orch (c:\\users\\johan\\anaconda3\\envs\\ktai dqn\\lib\\site-packages)\n",
      "WARNING: Ignoring invalid distribution -orch (c:\\users\\johan\\anaconda3\\envs\\ktai dqn\\lib\\site-packages)\n",
      "WARNING: Ignoring invalid distribution -orch (c:\\users\\johan\\anaconda3\\envs\\ktai dqn\\lib\\site-packages)\n"
     ]
    }
   ],
   "source": [
    "!pip install -q -U pandas\n",
    "import pandas as pd\n",
    "!pip install -q -U seaborn\n",
    "# some imports to set up plotting\n",
    "import matplotlib.pyplot as plt\n",
    "# pip install seaborn\n",
    "import seaborn as sns\n",
    "!pip install -q -U plotly\n",
    "import plotly.graph_objects as go\n",
    "import numpy as np "
   ]
  },
  {
   "cell_type": "code",
   "execution_count": 170,
   "id": "780dbbf7",
   "metadata": {},
   "outputs": [
    {
     "name": "stdout",
     "output_type": "stream",
     "text": [
      "Shape:\n",
      "(1700, 9)\n",
      "Columns:\n",
      "Index(['promptKey', 'temperature', 'timesteps', 'rewards', 'hitActions',\n",
      "       'standActions', 'randomActions', 'DateTime', 'win'],\n",
      "      dtype='object')\n"
     ]
    }
   ],
   "source": [
    "# Load the CSV file into a pandas DataFrame\n",
    "dfBlackJackLLM = pd.read_csv(\"Data\\BlackJackLlmTotal20240425-2021.csv\")\n",
    "dfBlackJackLLM['win'] = dfBlackJackLLM['rewards'].apply(lambda x: 1 if x == 1 else 0)\n",
    "print(\"Shape:\")\n",
    "print(dfBlackJackLLM.shape)\n",
    "print(\"Columns:\")\n",
    "print(dfBlackJackLLM.columns)\n"
   ]
  },
  {
   "cell_type": "code",
   "execution_count": 171,
   "id": "75ccd098",
   "metadata": {},
   "outputs": [
    {
     "data": {
      "text/html": [
       "<div>\n",
       "<style scoped>\n",
       "    .dataframe tbody tr th:only-of-type {\n",
       "        vertical-align: middle;\n",
       "    }\n",
       "\n",
       "    .dataframe tbody tr th {\n",
       "        vertical-align: top;\n",
       "    }\n",
       "\n",
       "    .dataframe thead th {\n",
       "        text-align: right;\n",
       "    }\n",
       "</style>\n",
       "<table border=\"1\" class=\"dataframe\">\n",
       "  <thead>\n",
       "    <tr style=\"text-align: right;\">\n",
       "      <th></th>\n",
       "      <th>promptKey</th>\n",
       "      <th>temperature</th>\n",
       "      <th>timesteps</th>\n",
       "      <th>rewards</th>\n",
       "      <th>hitActions</th>\n",
       "      <th>standActions</th>\n",
       "      <th>randomActions</th>\n",
       "      <th>DateTime</th>\n",
       "      <th>win</th>\n",
       "    </tr>\n",
       "  </thead>\n",
       "  <tbody>\n",
       "    <tr>\n",
       "      <th>0</th>\n",
       "      <td>zero_shot_prompt</td>\n",
       "      <td>0.1</td>\n",
       "      <td>1</td>\n",
       "      <td>-1.0</td>\n",
       "      <td>1</td>\n",
       "      <td>0</td>\n",
       "      <td>0</td>\n",
       "      <td>2024-04-25 18:22:10.180025</td>\n",
       "      <td>0</td>\n",
       "    </tr>\n",
       "    <tr>\n",
       "      <th>1</th>\n",
       "      <td>zero_shot_prompt</td>\n",
       "      <td>0.1</td>\n",
       "      <td>2</td>\n",
       "      <td>-1.0</td>\n",
       "      <td>2</td>\n",
       "      <td>0</td>\n",
       "      <td>0</td>\n",
       "      <td>2024-04-25 18:22:10.312699</td>\n",
       "      <td>0</td>\n",
       "    </tr>\n",
       "    <tr>\n",
       "      <th>2</th>\n",
       "      <td>zero_shot_prompt</td>\n",
       "      <td>0.1</td>\n",
       "      <td>2</td>\n",
       "      <td>-1.0</td>\n",
       "      <td>2</td>\n",
       "      <td>0</td>\n",
       "      <td>0</td>\n",
       "      <td>2024-04-25 18:22:10.443303</td>\n",
       "      <td>0</td>\n",
       "    </tr>\n",
       "    <tr>\n",
       "      <th>3</th>\n",
       "      <td>zero_shot_prompt</td>\n",
       "      <td>0.1</td>\n",
       "      <td>2</td>\n",
       "      <td>-1.0</td>\n",
       "      <td>2</td>\n",
       "      <td>0</td>\n",
       "      <td>0</td>\n",
       "      <td>2024-04-25 18:22:10.580843</td>\n",
       "      <td>0</td>\n",
       "    </tr>\n",
       "    <tr>\n",
       "      <th>4</th>\n",
       "      <td>zero_shot_prompt</td>\n",
       "      <td>0.1</td>\n",
       "      <td>1</td>\n",
       "      <td>-1.0</td>\n",
       "      <td>1</td>\n",
       "      <td>0</td>\n",
       "      <td>0</td>\n",
       "      <td>2024-04-25 18:22:10.647822</td>\n",
       "      <td>0</td>\n",
       "    </tr>\n",
       "  </tbody>\n",
       "</table>\n",
       "</div>"
      ],
      "text/plain": [
       "          promptKey  temperature  timesteps  rewards  hitActions  \\\n",
       "0  zero_shot_prompt          0.1          1     -1.0           1   \n",
       "1  zero_shot_prompt          0.1          2     -1.0           2   \n",
       "2  zero_shot_prompt          0.1          2     -1.0           2   \n",
       "3  zero_shot_prompt          0.1          2     -1.0           2   \n",
       "4  zero_shot_prompt          0.1          1     -1.0           1   \n",
       "\n",
       "   standActions  randomActions                    DateTime  win  \n",
       "0             0              0  2024-04-25 18:22:10.180025    0  \n",
       "1             0              0  2024-04-25 18:22:10.312699    0  \n",
       "2             0              0  2024-04-25 18:22:10.443303    0  \n",
       "3             0              0  2024-04-25 18:22:10.580843    0  \n",
       "4             0              0  2024-04-25 18:22:10.647822    0  "
      ]
     },
     "execution_count": 171,
     "metadata": {},
     "output_type": "execute_result"
    }
   ],
   "source": [
    "dfBlackJackLLM.head()"
   ]
  },
  {
   "cell_type": "code",
   "execution_count": 172,
   "id": "5c98c181",
   "metadata": {},
   "outputs": [
    {
     "name": "stdout",
     "output_type": "stream",
     "text": [
      "<class 'pandas.core.frame.DataFrame'>\n",
      "RangeIndex: 1700 entries, 0 to 1699\n",
      "Data columns (total 9 columns):\n",
      " #   Column         Non-Null Count  Dtype  \n",
      "---  ------         --------------  -----  \n",
      " 0   promptKey      1700 non-null   object \n",
      " 1   temperature    1700 non-null   float64\n",
      " 2   timesteps      1700 non-null   int64  \n",
      " 3   rewards        1700 non-null   float64\n",
      " 4   hitActions     1700 non-null   int64  \n",
      " 5   standActions   1700 non-null   int64  \n",
      " 6   randomActions  1700 non-null   int64  \n",
      " 7   DateTime       1700 non-null   object \n",
      " 8   win            1700 non-null   int64  \n",
      "dtypes: float64(2), int64(5), object(2)\n",
      "memory usage: 119.7+ KB\n",
      "None\n"
     ]
    }
   ],
   "source": [
    "print(dfBlackJackLLM.info())"
   ]
  },
  {
   "cell_type": "code",
   "execution_count": 173,
   "id": "bf73e350",
   "metadata": {},
   "outputs": [
    {
     "data": {
      "text/html": [
       "<div>\n",
       "<style scoped>\n",
       "    .dataframe tbody tr th:only-of-type {\n",
       "        vertical-align: middle;\n",
       "    }\n",
       "\n",
       "    .dataframe tbody tr th {\n",
       "        vertical-align: top;\n",
       "    }\n",
       "\n",
       "    .dataframe thead th {\n",
       "        text-align: right;\n",
       "    }\n",
       "</style>\n",
       "<table border=\"1\" class=\"dataframe\">\n",
       "  <thead>\n",
       "    <tr style=\"text-align: right;\">\n",
       "      <th></th>\n",
       "      <th>temperature</th>\n",
       "      <th>timesteps</th>\n",
       "      <th>rewards</th>\n",
       "      <th>hitActions</th>\n",
       "      <th>standActions</th>\n",
       "      <th>randomActions</th>\n",
       "      <th>win</th>\n",
       "    </tr>\n",
       "  </thead>\n",
       "  <tbody>\n",
       "    <tr>\n",
       "      <th>count</th>\n",
       "      <td>1700.000000</td>\n",
       "      <td>1700.000000</td>\n",
       "      <td>1700.000000</td>\n",
       "      <td>1700.000000</td>\n",
       "      <td>1700.000000</td>\n",
       "      <td>1700.000000</td>\n",
       "      <td>1700.000000</td>\n",
       "    </tr>\n",
       "    <tr>\n",
       "      <th>mean</th>\n",
       "      <td>0.517647</td>\n",
       "      <td>1.811176</td>\n",
       "      <td>-0.727059</td>\n",
       "      <td>1.582941</td>\n",
       "      <td>0.228235</td>\n",
       "      <td>0.081765</td>\n",
       "      <td>0.124706</td>\n",
       "    </tr>\n",
       "    <tr>\n",
       "      <th>std</th>\n",
       "      <td>0.350288</td>\n",
       "      <td>0.902677</td>\n",
       "      <td>0.669417</td>\n",
       "      <td>1.019326</td>\n",
       "      <td>0.419819</td>\n",
       "      <td>0.361179</td>\n",
       "      <td>0.330482</td>\n",
       "    </tr>\n",
       "    <tr>\n",
       "      <th>min</th>\n",
       "      <td>0.000000</td>\n",
       "      <td>1.000000</td>\n",
       "      <td>-1.000000</td>\n",
       "      <td>0.000000</td>\n",
       "      <td>0.000000</td>\n",
       "      <td>0.000000</td>\n",
       "      <td>0.000000</td>\n",
       "    </tr>\n",
       "    <tr>\n",
       "      <th>25%</th>\n",
       "      <td>0.100000</td>\n",
       "      <td>1.000000</td>\n",
       "      <td>-1.000000</td>\n",
       "      <td>1.000000</td>\n",
       "      <td>0.000000</td>\n",
       "      <td>0.000000</td>\n",
       "      <td>0.000000</td>\n",
       "    </tr>\n",
       "    <tr>\n",
       "      <th>50%</th>\n",
       "      <td>0.400000</td>\n",
       "      <td>2.000000</td>\n",
       "      <td>-1.000000</td>\n",
       "      <td>1.000000</td>\n",
       "      <td>0.000000</td>\n",
       "      <td>0.000000</td>\n",
       "      <td>0.000000</td>\n",
       "    </tr>\n",
       "    <tr>\n",
       "      <th>75%</th>\n",
       "      <td>0.700000</td>\n",
       "      <td>2.000000</td>\n",
       "      <td>-1.000000</td>\n",
       "      <td>2.000000</td>\n",
       "      <td>0.000000</td>\n",
       "      <td>0.000000</td>\n",
       "      <td>0.000000</td>\n",
       "    </tr>\n",
       "    <tr>\n",
       "      <th>max</th>\n",
       "      <td>1.000000</td>\n",
       "      <td>7.000000</td>\n",
       "      <td>1.000000</td>\n",
       "      <td>7.000000</td>\n",
       "      <td>1.000000</td>\n",
       "      <td>4.000000</td>\n",
       "      <td>1.000000</td>\n",
       "    </tr>\n",
       "  </tbody>\n",
       "</table>\n",
       "</div>"
      ],
      "text/plain": [
       "       temperature    timesteps      rewards   hitActions  standActions  \\\n",
       "count  1700.000000  1700.000000  1700.000000  1700.000000   1700.000000   \n",
       "mean      0.517647     1.811176    -0.727059     1.582941      0.228235   \n",
       "std       0.350288     0.902677     0.669417     1.019326      0.419819   \n",
       "min       0.000000     1.000000    -1.000000     0.000000      0.000000   \n",
       "25%       0.100000     1.000000    -1.000000     1.000000      0.000000   \n",
       "50%       0.400000     2.000000    -1.000000     1.000000      0.000000   \n",
       "75%       0.700000     2.000000    -1.000000     2.000000      0.000000   \n",
       "max       1.000000     7.000000     1.000000     7.000000      1.000000   \n",
       "\n",
       "       randomActions          win  \n",
       "count    1700.000000  1700.000000  \n",
       "mean        0.081765     0.124706  \n",
       "std         0.361179     0.330482  \n",
       "min         0.000000     0.000000  \n",
       "25%         0.000000     0.000000  \n",
       "50%         0.000000     0.000000  \n",
       "75%         0.000000     0.000000  \n",
       "max         4.000000     1.000000  "
      ]
     },
     "execution_count": 173,
     "metadata": {},
     "output_type": "execute_result"
    }
   ],
   "source": [
    "dfBlackJackLLM.describe()"
   ]
  },
  {
   "cell_type": "code",
   "execution_count": 174,
   "id": "74c85dfd",
   "metadata": {},
   "outputs": [
    {
     "data": {
      "text/html": [
       "<div>\n",
       "<style scoped>\n",
       "    .dataframe tbody tr th:only-of-type {\n",
       "        vertical-align: middle;\n",
       "    }\n",
       "\n",
       "    .dataframe tbody tr th {\n",
       "        vertical-align: top;\n",
       "    }\n",
       "\n",
       "    .dataframe thead tr th {\n",
       "        text-align: left;\n",
       "    }\n",
       "\n",
       "    .dataframe thead tr:last-of-type th {\n",
       "        text-align: right;\n",
       "    }\n",
       "</style>\n",
       "<table border=\"1\" class=\"dataframe\">\n",
       "  <thead>\n",
       "    <tr>\n",
       "      <th></th>\n",
       "      <th></th>\n",
       "      <th colspan=\"6\" halign=\"left\">timesteps</th>\n",
       "      <th colspan=\"4\" halign=\"left\">rewards</th>\n",
       "      <th>...</th>\n",
       "      <th colspan=\"4\" halign=\"left\">randomActions</th>\n",
       "      <th colspan=\"6\" halign=\"left\">win</th>\n",
       "    </tr>\n",
       "    <tr>\n",
       "      <th></th>\n",
       "      <th></th>\n",
       "      <th>count</th>\n",
       "      <th>mean</th>\n",
       "      <th>std</th>\n",
       "      <th>min</th>\n",
       "      <th>50%</th>\n",
       "      <th>max</th>\n",
       "      <th>count</th>\n",
       "      <th>mean</th>\n",
       "      <th>std</th>\n",
       "      <th>min</th>\n",
       "      <th>...</th>\n",
       "      <th>std</th>\n",
       "      <th>min</th>\n",
       "      <th>50%</th>\n",
       "      <th>max</th>\n",
       "      <th>count</th>\n",
       "      <th>mean</th>\n",
       "      <th>std</th>\n",
       "      <th>min</th>\n",
       "      <th>50%</th>\n",
       "      <th>max</th>\n",
       "    </tr>\n",
       "    <tr>\n",
       "      <th>promptKey</th>\n",
       "      <th>temperature</th>\n",
       "      <th></th>\n",
       "      <th></th>\n",
       "      <th></th>\n",
       "      <th></th>\n",
       "      <th></th>\n",
       "      <th></th>\n",
       "      <th></th>\n",
       "      <th></th>\n",
       "      <th></th>\n",
       "      <th></th>\n",
       "      <th></th>\n",
       "      <th></th>\n",
       "      <th></th>\n",
       "      <th></th>\n",
       "      <th></th>\n",
       "      <th></th>\n",
       "      <th></th>\n",
       "      <th></th>\n",
       "      <th></th>\n",
       "      <th></th>\n",
       "      <th></th>\n",
       "    </tr>\n",
       "  </thead>\n",
       "  <tbody>\n",
       "    <tr>\n",
       "      <th rowspan=\"4\" valign=\"top\">Chain_of_Thought_prompt</th>\n",
       "      <th>0.1</th>\n",
       "      <td>100.0</td>\n",
       "      <td>1.65</td>\n",
       "      <td>0.770347</td>\n",
       "      <td>1.0</td>\n",
       "      <td>1.5</td>\n",
       "      <td>5.0</td>\n",
       "      <td>100.0</td>\n",
       "      <td>-0.38</td>\n",
       "      <td>0.885118</td>\n",
       "      <td>-1.0</td>\n",
       "      <td>...</td>\n",
       "      <td>0.000000</td>\n",
       "      <td>0.0</td>\n",
       "      <td>0.0</td>\n",
       "      <td>0.0</td>\n",
       "      <td>100.0</td>\n",
       "      <td>0.27</td>\n",
       "      <td>0.446196</td>\n",
       "      <td>0.0</td>\n",
       "      <td>0.0</td>\n",
       "      <td>1.0</td>\n",
       "    </tr>\n",
       "    <tr>\n",
       "      <th>0.4</th>\n",
       "      <td>100.0</td>\n",
       "      <td>1.67</td>\n",
       "      <td>0.766139</td>\n",
       "      <td>1.0</td>\n",
       "      <td>2.0</td>\n",
       "      <td>4.0</td>\n",
       "      <td>100.0</td>\n",
       "      <td>-0.29</td>\n",
       "      <td>0.935225</td>\n",
       "      <td>-1.0</td>\n",
       "      <td>...</td>\n",
       "      <td>0.000000</td>\n",
       "      <td>0.0</td>\n",
       "      <td>0.0</td>\n",
       "      <td>0.0</td>\n",
       "      <td>100.0</td>\n",
       "      <td>0.33</td>\n",
       "      <td>0.472582</td>\n",
       "      <td>0.0</td>\n",
       "      <td>0.0</td>\n",
       "      <td>1.0</td>\n",
       "    </tr>\n",
       "    <tr>\n",
       "      <th>0.7</th>\n",
       "      <td>100.0</td>\n",
       "      <td>1.76</td>\n",
       "      <td>0.911431</td>\n",
       "      <td>1.0</td>\n",
       "      <td>1.5</td>\n",
       "      <td>4.0</td>\n",
       "      <td>100.0</td>\n",
       "      <td>-0.24</td>\n",
       "      <td>0.933333</td>\n",
       "      <td>-1.0</td>\n",
       "      <td>...</td>\n",
       "      <td>0.000000</td>\n",
       "      <td>0.0</td>\n",
       "      <td>0.0</td>\n",
       "      <td>0.0</td>\n",
       "      <td>100.0</td>\n",
       "      <td>0.34</td>\n",
       "      <td>0.476095</td>\n",
       "      <td>0.0</td>\n",
       "      <td>0.0</td>\n",
       "      <td>1.0</td>\n",
       "    </tr>\n",
       "    <tr>\n",
       "      <th>1.0</th>\n",
       "      <td>100.0</td>\n",
       "      <td>1.59</td>\n",
       "      <td>0.853927</td>\n",
       "      <td>1.0</td>\n",
       "      <td>1.0</td>\n",
       "      <td>5.0</td>\n",
       "      <td>100.0</td>\n",
       "      <td>-0.40</td>\n",
       "      <td>0.887625</td>\n",
       "      <td>-1.0</td>\n",
       "      <td>...</td>\n",
       "      <td>0.000000</td>\n",
       "      <td>0.0</td>\n",
       "      <td>0.0</td>\n",
       "      <td>0.0</td>\n",
       "      <td>100.0</td>\n",
       "      <td>0.27</td>\n",
       "      <td>0.446196</td>\n",
       "      <td>0.0</td>\n",
       "      <td>0.0</td>\n",
       "      <td>1.0</td>\n",
       "    </tr>\n",
       "    <tr>\n",
       "      <th>Random</th>\n",
       "      <th>0.0</th>\n",
       "      <td>100.0</td>\n",
       "      <td>1.39</td>\n",
       "      <td>0.633971</td>\n",
       "      <td>1.0</td>\n",
       "      <td>1.0</td>\n",
       "      <td>4.0</td>\n",
       "      <td>100.0</td>\n",
       "      <td>-0.31</td>\n",
       "      <td>0.917782</td>\n",
       "      <td>-1.0</td>\n",
       "      <td>...</td>\n",
       "      <td>0.633971</td>\n",
       "      <td>1.0</td>\n",
       "      <td>1.0</td>\n",
       "      <td>4.0</td>\n",
       "      <td>100.0</td>\n",
       "      <td>0.31</td>\n",
       "      <td>0.464823</td>\n",
       "      <td>0.0</td>\n",
       "      <td>0.0</td>\n",
       "      <td>1.0</td>\n",
       "    </tr>\n",
       "    <tr>\n",
       "      <th rowspan=\"4\" valign=\"top\">few_shot_prompt</th>\n",
       "      <th>0.1</th>\n",
       "      <td>100.0</td>\n",
       "      <td>1.86</td>\n",
       "      <td>0.853040</td>\n",
       "      <td>1.0</td>\n",
       "      <td>2.0</td>\n",
       "      <td>5.0</td>\n",
       "      <td>100.0</td>\n",
       "      <td>-0.98</td>\n",
       "      <td>0.200000</td>\n",
       "      <td>-1.0</td>\n",
       "      <td>...</td>\n",
       "      <td>0.000000</td>\n",
       "      <td>0.0</td>\n",
       "      <td>0.0</td>\n",
       "      <td>0.0</td>\n",
       "      <td>100.0</td>\n",
       "      <td>0.01</td>\n",
       "      <td>0.100000</td>\n",
       "      <td>0.0</td>\n",
       "      <td>0.0</td>\n",
       "      <td>1.0</td>\n",
       "    </tr>\n",
       "    <tr>\n",
       "      <th>0.4</th>\n",
       "      <td>100.0</td>\n",
       "      <td>1.93</td>\n",
       "      <td>1.056533</td>\n",
       "      <td>1.0</td>\n",
       "      <td>2.0</td>\n",
       "      <td>7.0</td>\n",
       "      <td>100.0</td>\n",
       "      <td>-0.90</td>\n",
       "      <td>0.438086</td>\n",
       "      <td>-1.0</td>\n",
       "      <td>...</td>\n",
       "      <td>0.000000</td>\n",
       "      <td>0.0</td>\n",
       "      <td>0.0</td>\n",
       "      <td>0.0</td>\n",
       "      <td>100.0</td>\n",
       "      <td>0.05</td>\n",
       "      <td>0.219043</td>\n",
       "      <td>0.0</td>\n",
       "      <td>0.0</td>\n",
       "      <td>1.0</td>\n",
       "    </tr>\n",
       "    <tr>\n",
       "      <th>0.7</th>\n",
       "      <td>100.0</td>\n",
       "      <td>2.03</td>\n",
       "      <td>0.892788</td>\n",
       "      <td>1.0</td>\n",
       "      <td>2.0</td>\n",
       "      <td>4.0</td>\n",
       "      <td>100.0</td>\n",
       "      <td>-0.76</td>\n",
       "      <td>0.637546</td>\n",
       "      <td>-1.0</td>\n",
       "      <td>...</td>\n",
       "      <td>0.000000</td>\n",
       "      <td>0.0</td>\n",
       "      <td>0.0</td>\n",
       "      <td>0.0</td>\n",
       "      <td>100.0</td>\n",
       "      <td>0.11</td>\n",
       "      <td>0.314466</td>\n",
       "      <td>0.0</td>\n",
       "      <td>0.0</td>\n",
       "      <td>1.0</td>\n",
       "    </tr>\n",
       "    <tr>\n",
       "      <th>1.0</th>\n",
       "      <td>100.0</td>\n",
       "      <td>1.85</td>\n",
       "      <td>0.946818</td>\n",
       "      <td>1.0</td>\n",
       "      <td>2.0</td>\n",
       "      <td>5.0</td>\n",
       "      <td>100.0</td>\n",
       "      <td>-1.00</td>\n",
       "      <td>0.000000</td>\n",
       "      <td>-1.0</td>\n",
       "      <td>...</td>\n",
       "      <td>0.000000</td>\n",
       "      <td>0.0</td>\n",
       "      <td>0.0</td>\n",
       "      <td>0.0</td>\n",
       "      <td>100.0</td>\n",
       "      <td>0.00</td>\n",
       "      <td>0.000000</td>\n",
       "      <td>0.0</td>\n",
       "      <td>0.0</td>\n",
       "      <td>0.0</td>\n",
       "    </tr>\n",
       "    <tr>\n",
       "      <th rowspan=\"4\" valign=\"top\">one_shot_prompt</th>\n",
       "      <th>0.1</th>\n",
       "      <td>100.0</td>\n",
       "      <td>1.77</td>\n",
       "      <td>0.919541</td>\n",
       "      <td>1.0</td>\n",
       "      <td>2.0</td>\n",
       "      <td>6.0</td>\n",
       "      <td>100.0</td>\n",
       "      <td>-0.71</td>\n",
       "      <td>0.686007</td>\n",
       "      <td>-1.0</td>\n",
       "      <td>...</td>\n",
       "      <td>0.000000</td>\n",
       "      <td>0.0</td>\n",
       "      <td>0.0</td>\n",
       "      <td>0.0</td>\n",
       "      <td>100.0</td>\n",
       "      <td>0.13</td>\n",
       "      <td>0.337998</td>\n",
       "      <td>0.0</td>\n",
       "      <td>0.0</td>\n",
       "      <td>1.0</td>\n",
       "    </tr>\n",
       "    <tr>\n",
       "      <th>0.4</th>\n",
       "      <td>100.0</td>\n",
       "      <td>1.88</td>\n",
       "      <td>0.902074</td>\n",
       "      <td>1.0</td>\n",
       "      <td>2.0</td>\n",
       "      <td>5.0</td>\n",
       "      <td>100.0</td>\n",
       "      <td>-0.87</td>\n",
       "      <td>0.485237</td>\n",
       "      <td>-1.0</td>\n",
       "      <td>...</td>\n",
       "      <td>0.000000</td>\n",
       "      <td>0.0</td>\n",
       "      <td>0.0</td>\n",
       "      <td>0.0</td>\n",
       "      <td>100.0</td>\n",
       "      <td>0.06</td>\n",
       "      <td>0.238683</td>\n",
       "      <td>0.0</td>\n",
       "      <td>0.0</td>\n",
       "      <td>1.0</td>\n",
       "    </tr>\n",
       "    <tr>\n",
       "      <th>0.7</th>\n",
       "      <td>100.0</td>\n",
       "      <td>1.84</td>\n",
       "      <td>0.825356</td>\n",
       "      <td>1.0</td>\n",
       "      <td>2.0</td>\n",
       "      <td>4.0</td>\n",
       "      <td>100.0</td>\n",
       "      <td>-0.76</td>\n",
       "      <td>0.653197</td>\n",
       "      <td>-1.0</td>\n",
       "      <td>...</td>\n",
       "      <td>0.000000</td>\n",
       "      <td>0.0</td>\n",
       "      <td>0.0</td>\n",
       "      <td>0.0</td>\n",
       "      <td>100.0</td>\n",
       "      <td>0.12</td>\n",
       "      <td>0.326599</td>\n",
       "      <td>0.0</td>\n",
       "      <td>0.0</td>\n",
       "      <td>1.0</td>\n",
       "    </tr>\n",
       "    <tr>\n",
       "      <th>1.0</th>\n",
       "      <td>100.0</td>\n",
       "      <td>1.90</td>\n",
       "      <td>0.893297</td>\n",
       "      <td>1.0</td>\n",
       "      <td>2.0</td>\n",
       "      <td>5.0</td>\n",
       "      <td>100.0</td>\n",
       "      <td>-0.76</td>\n",
       "      <td>0.653197</td>\n",
       "      <td>-1.0</td>\n",
       "      <td>...</td>\n",
       "      <td>0.000000</td>\n",
       "      <td>0.0</td>\n",
       "      <td>0.0</td>\n",
       "      <td>0.0</td>\n",
       "      <td>100.0</td>\n",
       "      <td>0.12</td>\n",
       "      <td>0.326599</td>\n",
       "      <td>0.0</td>\n",
       "      <td>0.0</td>\n",
       "      <td>1.0</td>\n",
       "    </tr>\n",
       "    <tr>\n",
       "      <th rowspan=\"4\" valign=\"top\">zero_shot_prompt</th>\n",
       "      <th>0.1</th>\n",
       "      <td>100.0</td>\n",
       "      <td>1.95</td>\n",
       "      <td>1.048086</td>\n",
       "      <td>1.0</td>\n",
       "      <td>2.0</td>\n",
       "      <td>5.0</td>\n",
       "      <td>100.0</td>\n",
       "      <td>-1.00</td>\n",
       "      <td>0.000000</td>\n",
       "      <td>-1.0</td>\n",
       "      <td>...</td>\n",
       "      <td>0.000000</td>\n",
       "      <td>0.0</td>\n",
       "      <td>0.0</td>\n",
       "      <td>0.0</td>\n",
       "      <td>100.0</td>\n",
       "      <td>0.00</td>\n",
       "      <td>0.000000</td>\n",
       "      <td>0.0</td>\n",
       "      <td>0.0</td>\n",
       "      <td>0.0</td>\n",
       "    </tr>\n",
       "    <tr>\n",
       "      <th>0.4</th>\n",
       "      <td>100.0</td>\n",
       "      <td>1.99</td>\n",
       "      <td>1.058825</td>\n",
       "      <td>1.0</td>\n",
       "      <td>2.0</td>\n",
       "      <td>5.0</td>\n",
       "      <td>100.0</td>\n",
       "      <td>-1.00</td>\n",
       "      <td>0.000000</td>\n",
       "      <td>-1.0</td>\n",
       "      <td>...</td>\n",
       "      <td>0.000000</td>\n",
       "      <td>0.0</td>\n",
       "      <td>0.0</td>\n",
       "      <td>0.0</td>\n",
       "      <td>100.0</td>\n",
       "      <td>0.00</td>\n",
       "      <td>0.000000</td>\n",
       "      <td>0.0</td>\n",
       "      <td>0.0</td>\n",
       "      <td>0.0</td>\n",
       "    </tr>\n",
       "    <tr>\n",
       "      <th>0.7</th>\n",
       "      <td>100.0</td>\n",
       "      <td>1.96</td>\n",
       "      <td>0.920255</td>\n",
       "      <td>1.0</td>\n",
       "      <td>2.0</td>\n",
       "      <td>5.0</td>\n",
       "      <td>100.0</td>\n",
       "      <td>-1.00</td>\n",
       "      <td>0.000000</td>\n",
       "      <td>-1.0</td>\n",
       "      <td>...</td>\n",
       "      <td>0.000000</td>\n",
       "      <td>0.0</td>\n",
       "      <td>0.0</td>\n",
       "      <td>0.0</td>\n",
       "      <td>100.0</td>\n",
       "      <td>0.00</td>\n",
       "      <td>0.000000</td>\n",
       "      <td>0.0</td>\n",
       "      <td>0.0</td>\n",
       "      <td>0.0</td>\n",
       "    </tr>\n",
       "    <tr>\n",
       "      <th>1.0</th>\n",
       "      <td>100.0</td>\n",
       "      <td>1.77</td>\n",
       "      <td>0.814701</td>\n",
       "      <td>1.0</td>\n",
       "      <td>2.0</td>\n",
       "      <td>5.0</td>\n",
       "      <td>100.0</td>\n",
       "      <td>-1.00</td>\n",
       "      <td>0.000000</td>\n",
       "      <td>-1.0</td>\n",
       "      <td>...</td>\n",
       "      <td>0.000000</td>\n",
       "      <td>0.0</td>\n",
       "      <td>0.0</td>\n",
       "      <td>0.0</td>\n",
       "      <td>100.0</td>\n",
       "      <td>0.00</td>\n",
       "      <td>0.000000</td>\n",
       "      <td>0.0</td>\n",
       "      <td>0.0</td>\n",
       "      <td>0.0</td>\n",
       "    </tr>\n",
       "  </tbody>\n",
       "</table>\n",
       "<p>17 rows × 36 columns</p>\n",
       "</div>"
      ],
      "text/plain": [
       "                                    timesteps                                 \\\n",
       "                                        count  mean       std  min  50%  max   \n",
       "promptKey               temperature                                            \n",
       "Chain_of_Thought_prompt 0.1             100.0  1.65  0.770347  1.0  1.5  5.0   \n",
       "                        0.4             100.0  1.67  0.766139  1.0  2.0  4.0   \n",
       "                        0.7             100.0  1.76  0.911431  1.0  1.5  4.0   \n",
       "                        1.0             100.0  1.59  0.853927  1.0  1.0  5.0   \n",
       "Random                  0.0             100.0  1.39  0.633971  1.0  1.0  4.0   \n",
       "few_shot_prompt         0.1             100.0  1.86  0.853040  1.0  2.0  5.0   \n",
       "                        0.4             100.0  1.93  1.056533  1.0  2.0  7.0   \n",
       "                        0.7             100.0  2.03  0.892788  1.0  2.0  4.0   \n",
       "                        1.0             100.0  1.85  0.946818  1.0  2.0  5.0   \n",
       "one_shot_prompt         0.1             100.0  1.77  0.919541  1.0  2.0  6.0   \n",
       "                        0.4             100.0  1.88  0.902074  1.0  2.0  5.0   \n",
       "                        0.7             100.0  1.84  0.825356  1.0  2.0  4.0   \n",
       "                        1.0             100.0  1.90  0.893297  1.0  2.0  5.0   \n",
       "zero_shot_prompt        0.1             100.0  1.95  1.048086  1.0  2.0  5.0   \n",
       "                        0.4             100.0  1.99  1.058825  1.0  2.0  5.0   \n",
       "                        0.7             100.0  1.96  0.920255  1.0  2.0  5.0   \n",
       "                        1.0             100.0  1.77  0.814701  1.0  2.0  5.0   \n",
       "\n",
       "                                    rewards                       ...  \\\n",
       "                                      count  mean       std  min  ...   \n",
       "promptKey               temperature                               ...   \n",
       "Chain_of_Thought_prompt 0.1           100.0 -0.38  0.885118 -1.0  ...   \n",
       "                        0.4           100.0 -0.29  0.935225 -1.0  ...   \n",
       "                        0.7           100.0 -0.24  0.933333 -1.0  ...   \n",
       "                        1.0           100.0 -0.40  0.887625 -1.0  ...   \n",
       "Random                  0.0           100.0 -0.31  0.917782 -1.0  ...   \n",
       "few_shot_prompt         0.1           100.0 -0.98  0.200000 -1.0  ...   \n",
       "                        0.4           100.0 -0.90  0.438086 -1.0  ...   \n",
       "                        0.7           100.0 -0.76  0.637546 -1.0  ...   \n",
       "                        1.0           100.0 -1.00  0.000000 -1.0  ...   \n",
       "one_shot_prompt         0.1           100.0 -0.71  0.686007 -1.0  ...   \n",
       "                        0.4           100.0 -0.87  0.485237 -1.0  ...   \n",
       "                        0.7           100.0 -0.76  0.653197 -1.0  ...   \n",
       "                        1.0           100.0 -0.76  0.653197 -1.0  ...   \n",
       "zero_shot_prompt        0.1           100.0 -1.00  0.000000 -1.0  ...   \n",
       "                        0.4           100.0 -1.00  0.000000 -1.0  ...   \n",
       "                        0.7           100.0 -1.00  0.000000 -1.0  ...   \n",
       "                        1.0           100.0 -1.00  0.000000 -1.0  ...   \n",
       "\n",
       "                                    randomActions                   win        \\\n",
       "                                              std  min  50%  max  count  mean   \n",
       "promptKey               temperature                                             \n",
       "Chain_of_Thought_prompt 0.1              0.000000  0.0  0.0  0.0  100.0  0.27   \n",
       "                        0.4              0.000000  0.0  0.0  0.0  100.0  0.33   \n",
       "                        0.7              0.000000  0.0  0.0  0.0  100.0  0.34   \n",
       "                        1.0              0.000000  0.0  0.0  0.0  100.0  0.27   \n",
       "Random                  0.0              0.633971  1.0  1.0  4.0  100.0  0.31   \n",
       "few_shot_prompt         0.1              0.000000  0.0  0.0  0.0  100.0  0.01   \n",
       "                        0.4              0.000000  0.0  0.0  0.0  100.0  0.05   \n",
       "                        0.7              0.000000  0.0  0.0  0.0  100.0  0.11   \n",
       "                        1.0              0.000000  0.0  0.0  0.0  100.0  0.00   \n",
       "one_shot_prompt         0.1              0.000000  0.0  0.0  0.0  100.0  0.13   \n",
       "                        0.4              0.000000  0.0  0.0  0.0  100.0  0.06   \n",
       "                        0.7              0.000000  0.0  0.0  0.0  100.0  0.12   \n",
       "                        1.0              0.000000  0.0  0.0  0.0  100.0  0.12   \n",
       "zero_shot_prompt        0.1              0.000000  0.0  0.0  0.0  100.0  0.00   \n",
       "                        0.4              0.000000  0.0  0.0  0.0  100.0  0.00   \n",
       "                        0.7              0.000000  0.0  0.0  0.0  100.0  0.00   \n",
       "                        1.0              0.000000  0.0  0.0  0.0  100.0  0.00   \n",
       "\n",
       "                                                              \n",
       "                                          std  min  50%  max  \n",
       "promptKey               temperature                           \n",
       "Chain_of_Thought_prompt 0.1          0.446196  0.0  0.0  1.0  \n",
       "                        0.4          0.472582  0.0  0.0  1.0  \n",
       "                        0.7          0.476095  0.0  0.0  1.0  \n",
       "                        1.0          0.446196  0.0  0.0  1.0  \n",
       "Random                  0.0          0.464823  0.0  0.0  1.0  \n",
       "few_shot_prompt         0.1          0.100000  0.0  0.0  1.0  \n",
       "                        0.4          0.219043  0.0  0.0  1.0  \n",
       "                        0.7          0.314466  0.0  0.0  1.0  \n",
       "                        1.0          0.000000  0.0  0.0  0.0  \n",
       "one_shot_prompt         0.1          0.337998  0.0  0.0  1.0  \n",
       "                        0.4          0.238683  0.0  0.0  1.0  \n",
       "                        0.7          0.326599  0.0  0.0  1.0  \n",
       "                        1.0          0.326599  0.0  0.0  1.0  \n",
       "zero_shot_prompt        0.1          0.000000  0.0  0.0  0.0  \n",
       "                        0.4          0.000000  0.0  0.0  0.0  \n",
       "                        0.7          0.000000  0.0  0.0  0.0  \n",
       "                        1.0          0.000000  0.0  0.0  0.0  \n",
       "\n",
       "[17 rows x 36 columns]"
      ]
     },
     "execution_count": 174,
     "metadata": {},
     "output_type": "execute_result"
    }
   ],
   "source": [
    "dfBlackJackLLM.groupby([\"promptKey\",\"temperature\"]).describe(percentiles=[])"
   ]
  },
  {
   "cell_type": "code",
   "execution_count": null,
   "id": "f021261e",
   "metadata": {},
   "outputs": [],
   "source": []
  },
  {
   "cell_type": "code",
   "execution_count": 175,
   "id": "d6f23d97",
   "metadata": {},
   "outputs": [
    {
     "data": {
      "text/html": [
       "<div>\n",
       "<style scoped>\n",
       "    .dataframe tbody tr th:only-of-type {\n",
       "        vertical-align: middle;\n",
       "    }\n",
       "\n",
       "    .dataframe tbody tr th {\n",
       "        vertical-align: top;\n",
       "    }\n",
       "\n",
       "    .dataframe thead th {\n",
       "        text-align: right;\n",
       "    }\n",
       "</style>\n",
       "<table border=\"1\" class=\"dataframe\">\n",
       "  <thead>\n",
       "    <tr style=\"text-align: right;\">\n",
       "      <th></th>\n",
       "      <th></th>\n",
       "      <th>games</th>\n",
       "      <th>timesteps</th>\n",
       "      <th>hit</th>\n",
       "      <th>stand</th>\n",
       "      <th>random</th>\n",
       "      <th>rewards</th>\n",
       "      <th>games won</th>\n",
       "    </tr>\n",
       "    <tr>\n",
       "      <th>promptKey</th>\n",
       "      <th>temperature</th>\n",
       "      <th></th>\n",
       "      <th></th>\n",
       "      <th></th>\n",
       "      <th></th>\n",
       "      <th></th>\n",
       "      <th></th>\n",
       "      <th></th>\n",
       "    </tr>\n",
       "  </thead>\n",
       "  <tbody>\n",
       "    <tr>\n",
       "      <th rowspan=\"4\" valign=\"top\">Chain_of_Thought_prompt</th>\n",
       "      <th>0.1</th>\n",
       "      <td>100</td>\n",
       "      <td>165</td>\n",
       "      <td>121 (73.3%)</td>\n",
       "      <td>44 (26.7%)</td>\n",
       "      <td>0 (0.0%)</td>\n",
       "      <td>-38.0</td>\n",
       "      <td>27 (27.0%)</td>\n",
       "    </tr>\n",
       "    <tr>\n",
       "      <th>0.4</th>\n",
       "      <td>100</td>\n",
       "      <td>167</td>\n",
       "      <td>122 (73.1%)</td>\n",
       "      <td>45 (26.9%)</td>\n",
       "      <td>0 (0.0%)</td>\n",
       "      <td>-29.0</td>\n",
       "      <td>33 (33.0%)</td>\n",
       "    </tr>\n",
       "    <tr>\n",
       "      <th>0.7</th>\n",
       "      <td>100</td>\n",
       "      <td>176</td>\n",
       "      <td>121 (68.8%)</td>\n",
       "      <td>55 (31.2%)</td>\n",
       "      <td>0 (0.0%)</td>\n",
       "      <td>-24.0</td>\n",
       "      <td>34 (34.0%)</td>\n",
       "    </tr>\n",
       "    <tr>\n",
       "      <th>1.0</th>\n",
       "      <td>100</td>\n",
       "      <td>159</td>\n",
       "      <td>107 (67.3%)</td>\n",
       "      <td>52 (32.7%)</td>\n",
       "      <td>0 (0.0%)</td>\n",
       "      <td>-40.0</td>\n",
       "      <td>27 (27.0%)</td>\n",
       "    </tr>\n",
       "    <tr>\n",
       "      <th>Random</th>\n",
       "      <th>0.0</th>\n",
       "      <td>100</td>\n",
       "      <td>139</td>\n",
       "      <td>64 (46.0%)</td>\n",
       "      <td>75 (54.0%)</td>\n",
       "      <td>139 (100.0%)</td>\n",
       "      <td>-31.0</td>\n",
       "      <td>31 (31.0%)</td>\n",
       "    </tr>\n",
       "    <tr>\n",
       "      <th rowspan=\"4\" valign=\"top\">few_shot_prompt</th>\n",
       "      <th>0.1</th>\n",
       "      <td>100</td>\n",
       "      <td>186</td>\n",
       "      <td>183 (98.4%)</td>\n",
       "      <td>3 (1.6%)</td>\n",
       "      <td>0 (0.0%)</td>\n",
       "      <td>-98.0</td>\n",
       "      <td>1 (1.0%)</td>\n",
       "    </tr>\n",
       "    <tr>\n",
       "      <th>0.4</th>\n",
       "      <td>100</td>\n",
       "      <td>193</td>\n",
       "      <td>186 (96.4%)</td>\n",
       "      <td>7 (3.6%)</td>\n",
       "      <td>0 (0.0%)</td>\n",
       "      <td>-90.0</td>\n",
       "      <td>5 (5.0%)</td>\n",
       "    </tr>\n",
       "    <tr>\n",
       "      <th>0.7</th>\n",
       "      <td>100</td>\n",
       "      <td>203</td>\n",
       "      <td>188 (92.6%)</td>\n",
       "      <td>15 (7.4%)</td>\n",
       "      <td>0 (0.0%)</td>\n",
       "      <td>-76.0</td>\n",
       "      <td>11 (11.0%)</td>\n",
       "    </tr>\n",
       "    <tr>\n",
       "      <th>1.0</th>\n",
       "      <td>100</td>\n",
       "      <td>185</td>\n",
       "      <td>181 (97.8%)</td>\n",
       "      <td>4 (2.2%)</td>\n",
       "      <td>0 (0.0%)</td>\n",
       "      <td>-100.0</td>\n",
       "      <td>0 (0.0%)</td>\n",
       "    </tr>\n",
       "    <tr>\n",
       "      <th rowspan=\"4\" valign=\"top\">one_shot_prompt</th>\n",
       "      <th>0.1</th>\n",
       "      <td>100</td>\n",
       "      <td>177</td>\n",
       "      <td>150 (84.7%)</td>\n",
       "      <td>27 (15.3%)</td>\n",
       "      <td>0 (0.0%)</td>\n",
       "      <td>-71.0</td>\n",
       "      <td>13 (13.0%)</td>\n",
       "    </tr>\n",
       "    <tr>\n",
       "      <th>0.4</th>\n",
       "      <td>100</td>\n",
       "      <td>188</td>\n",
       "      <td>172 (91.5%)</td>\n",
       "      <td>16 (8.5%)</td>\n",
       "      <td>0 (0.0%)</td>\n",
       "      <td>-87.0</td>\n",
       "      <td>6 (6.0%)</td>\n",
       "    </tr>\n",
       "    <tr>\n",
       "      <th>0.7</th>\n",
       "      <td>100</td>\n",
       "      <td>184</td>\n",
       "      <td>164 (89.1%)</td>\n",
       "      <td>20 (10.9%)</td>\n",
       "      <td>0 (0.0%)</td>\n",
       "      <td>-76.0</td>\n",
       "      <td>12 (12.0%)</td>\n",
       "    </tr>\n",
       "    <tr>\n",
       "      <th>1.0</th>\n",
       "      <td>100</td>\n",
       "      <td>190</td>\n",
       "      <td>165 (86.8%)</td>\n",
       "      <td>25 (13.2%)</td>\n",
       "      <td>0 (0.0%)</td>\n",
       "      <td>-76.0</td>\n",
       "      <td>12 (12.0%)</td>\n",
       "    </tr>\n",
       "    <tr>\n",
       "      <th rowspan=\"4\" valign=\"top\">zero_shot_prompt</th>\n",
       "      <th>0.1</th>\n",
       "      <td>100</td>\n",
       "      <td>195</td>\n",
       "      <td>195 (100.0%)</td>\n",
       "      <td>0 (0.0%)</td>\n",
       "      <td>0 (0.0%)</td>\n",
       "      <td>-100.0</td>\n",
       "      <td>0 (0.0%)</td>\n",
       "    </tr>\n",
       "    <tr>\n",
       "      <th>0.4</th>\n",
       "      <td>100</td>\n",
       "      <td>199</td>\n",
       "      <td>199 (100.0%)</td>\n",
       "      <td>0 (0.0%)</td>\n",
       "      <td>0 (0.0%)</td>\n",
       "      <td>-100.0</td>\n",
       "      <td>0 (0.0%)</td>\n",
       "    </tr>\n",
       "    <tr>\n",
       "      <th>0.7</th>\n",
       "      <td>100</td>\n",
       "      <td>196</td>\n",
       "      <td>196 (100.0%)</td>\n",
       "      <td>0 (0.0%)</td>\n",
       "      <td>0 (0.0%)</td>\n",
       "      <td>-100.0</td>\n",
       "      <td>0 (0.0%)</td>\n",
       "    </tr>\n",
       "    <tr>\n",
       "      <th>1.0</th>\n",
       "      <td>100</td>\n",
       "      <td>177</td>\n",
       "      <td>177 (100.0%)</td>\n",
       "      <td>0 (0.0%)</td>\n",
       "      <td>0 (0.0%)</td>\n",
       "      <td>-100.0</td>\n",
       "      <td>0 (0.0%)</td>\n",
       "    </tr>\n",
       "  </tbody>\n",
       "</table>\n",
       "</div>"
      ],
      "text/plain": [
       "                                     games  timesteps           hit  \\\n",
       "promptKey               temperature                                   \n",
       "Chain_of_Thought_prompt 0.1            100        165   121 (73.3%)   \n",
       "                        0.4            100        167   122 (73.1%)   \n",
       "                        0.7            100        176   121 (68.8%)   \n",
       "                        1.0            100        159   107 (67.3%)   \n",
       "Random                  0.0            100        139    64 (46.0%)   \n",
       "few_shot_prompt         0.1            100        186   183 (98.4%)   \n",
       "                        0.4            100        193   186 (96.4%)   \n",
       "                        0.7            100        203   188 (92.6%)   \n",
       "                        1.0            100        185   181 (97.8%)   \n",
       "one_shot_prompt         0.1            100        177   150 (84.7%)   \n",
       "                        0.4            100        188   172 (91.5%)   \n",
       "                        0.7            100        184   164 (89.1%)   \n",
       "                        1.0            100        190   165 (86.8%)   \n",
       "zero_shot_prompt        0.1            100        195  195 (100.0%)   \n",
       "                        0.4            100        199  199 (100.0%)   \n",
       "                        0.7            100        196  196 (100.0%)   \n",
       "                        1.0            100        177  177 (100.0%)   \n",
       "\n",
       "                                          stand        random  rewards  \\\n",
       "promptKey               temperature                                      \n",
       "Chain_of_Thought_prompt 0.1          44 (26.7%)      0 (0.0%)    -38.0   \n",
       "                        0.4          45 (26.9%)      0 (0.0%)    -29.0   \n",
       "                        0.7          55 (31.2%)      0 (0.0%)    -24.0   \n",
       "                        1.0          52 (32.7%)      0 (0.0%)    -40.0   \n",
       "Random                  0.0          75 (54.0%)  139 (100.0%)    -31.0   \n",
       "few_shot_prompt         0.1            3 (1.6%)      0 (0.0%)    -98.0   \n",
       "                        0.4            7 (3.6%)      0 (0.0%)    -90.0   \n",
       "                        0.7           15 (7.4%)      0 (0.0%)    -76.0   \n",
       "                        1.0            4 (2.2%)      0 (0.0%)   -100.0   \n",
       "one_shot_prompt         0.1          27 (15.3%)      0 (0.0%)    -71.0   \n",
       "                        0.4           16 (8.5%)      0 (0.0%)    -87.0   \n",
       "                        0.7          20 (10.9%)      0 (0.0%)    -76.0   \n",
       "                        1.0          25 (13.2%)      0 (0.0%)    -76.0   \n",
       "zero_shot_prompt        0.1            0 (0.0%)      0 (0.0%)   -100.0   \n",
       "                        0.4            0 (0.0%)      0 (0.0%)   -100.0   \n",
       "                        0.7            0 (0.0%)      0 (0.0%)   -100.0   \n",
       "                        1.0            0 (0.0%)      0 (0.0%)   -100.0   \n",
       "\n",
       "                                      games won  \n",
       "promptKey               temperature              \n",
       "Chain_of_Thought_prompt 0.1          27 (27.0%)  \n",
       "                        0.4          33 (33.0%)  \n",
       "                        0.7          34 (34.0%)  \n",
       "                        1.0          27 (27.0%)  \n",
       "Random                  0.0          31 (31.0%)  \n",
       "few_shot_prompt         0.1            1 (1.0%)  \n",
       "                        0.4            5 (5.0%)  \n",
       "                        0.7          11 (11.0%)  \n",
       "                        1.0            0 (0.0%)  \n",
       "one_shot_prompt         0.1          13 (13.0%)  \n",
       "                        0.4            6 (6.0%)  \n",
       "                        0.7          12 (12.0%)  \n",
       "                        1.0          12 (12.0%)  \n",
       "zero_shot_prompt        0.1            0 (0.0%)  \n",
       "                        0.4            0 (0.0%)  \n",
       "                        0.7            0 (0.0%)  \n",
       "                        1.0            0 (0.0%)  "
      ]
     },
     "execution_count": 175,
     "metadata": {},
     "output_type": "execute_result"
    }
   ],
   "source": [
    "pivot = dfBlackJackLLM.pivot_table(\n",
    "    [\"timesteps\", \"hitActions\",\"standActions\", \"randomActions\", \"rewards\", \"win\"],\n",
    "    [\"promptKey\",\"temperature\"],\n",
    "    aggfunc=\"sum\",\n",
    ")\n",
    "\n",
    "pivot['games'] = 100\n",
    "pivot['% hit'] = (pivot.hitActions / pivot.timesteps *100 )\n",
    "pivot['% stand'] = (pivot.standActions / pivot.timesteps *100 )\n",
    "pivot['% random'] = (pivot.randomActions / pivot.timesteps *100 )\n",
    "pivot['% win'] = (pivot.win / pivot.games *100 )\n",
    "# Merge columns into one column in the correct format\n",
    "pivot['hit'] = pivot['hitActions'].astype(str) + ' (' + pivot['% hit'].map('{:.1f}'.format).astype(str) + '%)'\n",
    "pivot['stand'] = pivot['standActions'].astype(str) + ' (' + pivot['% stand'].map('{:.1f}'.format).astype(str) + '%)'\n",
    "pivot['random'] = pivot['randomActions'].astype(str) + ' (' + pivot['% random'].map('{:.1f}'.format).astype(str) + '%)'\n",
    "pivot['games won'] = pivot['win'].astype(str) + ' (' + pivot['% win'].map('{:.1f}'.format).astype(str) + '%)'\n",
    "\n",
    "pivotOrdered = pivot[[\"games\", \"timesteps\", \"hit\", 'stand',\"random\", \"rewards\", \"games won\"]].copy()\n",
    "pivotOrdered"
   ]
  },
  {
   "cell_type": "code",
   "execution_count": 176,
   "id": "600126f6",
   "metadata": {
    "scrolled": false
   },
   "outputs": [
    {
     "data": {
      "application/vnd.plotly.v1+json": {
       "config": {
        "plotlyServerURL": "https://plot.ly"
       },
       "data": [
        {
         "customdata": [
          -0.3275,
          -0.31,
          -0.91,
          -0.775,
          -1
         ],
         "name": "Stand",
         "orientation": "h",
         "type": "bar",
         "x": [
          -0.49,
          -0.75,
          -0.0725,
          -0.22,
          0
         ],
         "y": [
          "Chain_of_Thought_prompt",
          "Random",
          "few_shot_prompt",
          "one_shot_prompt",
          "zero_shot_prompt"
         ]
        },
        {
         "customdata": [
          -0.3275,
          -0.31,
          -0.91,
          -0.775,
          -1
         ],
         "name": "Hit",
         "orientation": "h",
         "type": "bar",
         "x": [
          1.1775,
          0.64,
          1.845,
          1.6275,
          1.9175
         ],
         "y": [
          "Chain_of_Thought_prompt",
          "Random",
          "few_shot_prompt",
          "one_shot_prompt",
          "zero_shot_prompt"
         ]
        }
       ],
       "layout": {
        "bargap": 0.01,
        "barmode": "relative",
        "height": 400,
        "legend": {
         "orientation": "h",
         "x": 0.1,
         "y": -0.1
        },
        "template": {
         "data": {
          "bar": [
           {
            "error_x": {
             "color": "#2a3f5f"
            },
            "error_y": {
             "color": "#2a3f5f"
            },
            "marker": {
             "line": {
              "color": "#E5ECF6",
              "width": 0.5
             },
             "pattern": {
              "fillmode": "overlay",
              "size": 10,
              "solidity": 0.2
             }
            },
            "type": "bar"
           }
          ],
          "barpolar": [
           {
            "marker": {
             "line": {
              "color": "#E5ECF6",
              "width": 0.5
             },
             "pattern": {
              "fillmode": "overlay",
              "size": 10,
              "solidity": 0.2
             }
            },
            "type": "barpolar"
           }
          ],
          "carpet": [
           {
            "aaxis": {
             "endlinecolor": "#2a3f5f",
             "gridcolor": "white",
             "linecolor": "white",
             "minorgridcolor": "white",
             "startlinecolor": "#2a3f5f"
            },
            "baxis": {
             "endlinecolor": "#2a3f5f",
             "gridcolor": "white",
             "linecolor": "white",
             "minorgridcolor": "white",
             "startlinecolor": "#2a3f5f"
            },
            "type": "carpet"
           }
          ],
          "choropleth": [
           {
            "colorbar": {
             "outlinewidth": 0,
             "ticks": ""
            },
            "type": "choropleth"
           }
          ],
          "contour": [
           {
            "colorbar": {
             "outlinewidth": 0,
             "ticks": ""
            },
            "colorscale": [
             [
              0,
              "#0d0887"
             ],
             [
              0.1111111111111111,
              "#46039f"
             ],
             [
              0.2222222222222222,
              "#7201a8"
             ],
             [
              0.3333333333333333,
              "#9c179e"
             ],
             [
              0.4444444444444444,
              "#bd3786"
             ],
             [
              0.5555555555555556,
              "#d8576b"
             ],
             [
              0.6666666666666666,
              "#ed7953"
             ],
             [
              0.7777777777777778,
              "#fb9f3a"
             ],
             [
              0.8888888888888888,
              "#fdca26"
             ],
             [
              1,
              "#f0f921"
             ]
            ],
            "type": "contour"
           }
          ],
          "contourcarpet": [
           {
            "colorbar": {
             "outlinewidth": 0,
             "ticks": ""
            },
            "type": "contourcarpet"
           }
          ],
          "heatmap": [
           {
            "colorbar": {
             "outlinewidth": 0,
             "ticks": ""
            },
            "colorscale": [
             [
              0,
              "#0d0887"
             ],
             [
              0.1111111111111111,
              "#46039f"
             ],
             [
              0.2222222222222222,
              "#7201a8"
             ],
             [
              0.3333333333333333,
              "#9c179e"
             ],
             [
              0.4444444444444444,
              "#bd3786"
             ],
             [
              0.5555555555555556,
              "#d8576b"
             ],
             [
              0.6666666666666666,
              "#ed7953"
             ],
             [
              0.7777777777777778,
              "#fb9f3a"
             ],
             [
              0.8888888888888888,
              "#fdca26"
             ],
             [
              1,
              "#f0f921"
             ]
            ],
            "type": "heatmap"
           }
          ],
          "heatmapgl": [
           {
            "colorbar": {
             "outlinewidth": 0,
             "ticks": ""
            },
            "colorscale": [
             [
              0,
              "#0d0887"
             ],
             [
              0.1111111111111111,
              "#46039f"
             ],
             [
              0.2222222222222222,
              "#7201a8"
             ],
             [
              0.3333333333333333,
              "#9c179e"
             ],
             [
              0.4444444444444444,
              "#bd3786"
             ],
             [
              0.5555555555555556,
              "#d8576b"
             ],
             [
              0.6666666666666666,
              "#ed7953"
             ],
             [
              0.7777777777777778,
              "#fb9f3a"
             ],
             [
              0.8888888888888888,
              "#fdca26"
             ],
             [
              1,
              "#f0f921"
             ]
            ],
            "type": "heatmapgl"
           }
          ],
          "histogram": [
           {
            "marker": {
             "pattern": {
              "fillmode": "overlay",
              "size": 10,
              "solidity": 0.2
             }
            },
            "type": "histogram"
           }
          ],
          "histogram2d": [
           {
            "colorbar": {
             "outlinewidth": 0,
             "ticks": ""
            },
            "colorscale": [
             [
              0,
              "#0d0887"
             ],
             [
              0.1111111111111111,
              "#46039f"
             ],
             [
              0.2222222222222222,
              "#7201a8"
             ],
             [
              0.3333333333333333,
              "#9c179e"
             ],
             [
              0.4444444444444444,
              "#bd3786"
             ],
             [
              0.5555555555555556,
              "#d8576b"
             ],
             [
              0.6666666666666666,
              "#ed7953"
             ],
             [
              0.7777777777777778,
              "#fb9f3a"
             ],
             [
              0.8888888888888888,
              "#fdca26"
             ],
             [
              1,
              "#f0f921"
             ]
            ],
            "type": "histogram2d"
           }
          ],
          "histogram2dcontour": [
           {
            "colorbar": {
             "outlinewidth": 0,
             "ticks": ""
            },
            "colorscale": [
             [
              0,
              "#0d0887"
             ],
             [
              0.1111111111111111,
              "#46039f"
             ],
             [
              0.2222222222222222,
              "#7201a8"
             ],
             [
              0.3333333333333333,
              "#9c179e"
             ],
             [
              0.4444444444444444,
              "#bd3786"
             ],
             [
              0.5555555555555556,
              "#d8576b"
             ],
             [
              0.6666666666666666,
              "#ed7953"
             ],
             [
              0.7777777777777778,
              "#fb9f3a"
             ],
             [
              0.8888888888888888,
              "#fdca26"
             ],
             [
              1,
              "#f0f921"
             ]
            ],
            "type": "histogram2dcontour"
           }
          ],
          "mesh3d": [
           {
            "colorbar": {
             "outlinewidth": 0,
             "ticks": ""
            },
            "type": "mesh3d"
           }
          ],
          "parcoords": [
           {
            "line": {
             "colorbar": {
              "outlinewidth": 0,
              "ticks": ""
             }
            },
            "type": "parcoords"
           }
          ],
          "pie": [
           {
            "automargin": true,
            "type": "pie"
           }
          ],
          "scatter": [
           {
            "fillpattern": {
             "fillmode": "overlay",
             "size": 10,
             "solidity": 0.2
            },
            "type": "scatter"
           }
          ],
          "scatter3d": [
           {
            "line": {
             "colorbar": {
              "outlinewidth": 0,
              "ticks": ""
             }
            },
            "marker": {
             "colorbar": {
              "outlinewidth": 0,
              "ticks": ""
             }
            },
            "type": "scatter3d"
           }
          ],
          "scattercarpet": [
           {
            "marker": {
             "colorbar": {
              "outlinewidth": 0,
              "ticks": ""
             }
            },
            "type": "scattercarpet"
           }
          ],
          "scattergeo": [
           {
            "marker": {
             "colorbar": {
              "outlinewidth": 0,
              "ticks": ""
             }
            },
            "type": "scattergeo"
           }
          ],
          "scattergl": [
           {
            "marker": {
             "colorbar": {
              "outlinewidth": 0,
              "ticks": ""
             }
            },
            "type": "scattergl"
           }
          ],
          "scattermapbox": [
           {
            "marker": {
             "colorbar": {
              "outlinewidth": 0,
              "ticks": ""
             }
            },
            "type": "scattermapbox"
           }
          ],
          "scatterpolar": [
           {
            "marker": {
             "colorbar": {
              "outlinewidth": 0,
              "ticks": ""
             }
            },
            "type": "scatterpolar"
           }
          ],
          "scatterpolargl": [
           {
            "marker": {
             "colorbar": {
              "outlinewidth": 0,
              "ticks": ""
             }
            },
            "type": "scatterpolargl"
           }
          ],
          "scatterternary": [
           {
            "marker": {
             "colorbar": {
              "outlinewidth": 0,
              "ticks": ""
             }
            },
            "type": "scatterternary"
           }
          ],
          "surface": [
           {
            "colorbar": {
             "outlinewidth": 0,
             "ticks": ""
            },
            "colorscale": [
             [
              0,
              "#0d0887"
             ],
             [
              0.1111111111111111,
              "#46039f"
             ],
             [
              0.2222222222222222,
              "#7201a8"
             ],
             [
              0.3333333333333333,
              "#9c179e"
             ],
             [
              0.4444444444444444,
              "#bd3786"
             ],
             [
              0.5555555555555556,
              "#d8576b"
             ],
             [
              0.6666666666666666,
              "#ed7953"
             ],
             [
              0.7777777777777778,
              "#fb9f3a"
             ],
             [
              0.8888888888888888,
              "#fdca26"
             ],
             [
              1,
              "#f0f921"
             ]
            ],
            "type": "surface"
           }
          ],
          "table": [
           {
            "cells": {
             "fill": {
              "color": "#EBF0F8"
             },
             "line": {
              "color": "white"
             }
            },
            "header": {
             "fill": {
              "color": "#C8D4E3"
             },
             "line": {
              "color": "white"
             }
            },
            "type": "table"
           }
          ]
         },
         "layout": {
          "annotationdefaults": {
           "arrowcolor": "#2a3f5f",
           "arrowhead": 0,
           "arrowwidth": 1
          },
          "autotypenumbers": "strict",
          "coloraxis": {
           "colorbar": {
            "outlinewidth": 0,
            "ticks": ""
           }
          },
          "colorscale": {
           "diverging": [
            [
             0,
             "#8e0152"
            ],
            [
             0.1,
             "#c51b7d"
            ],
            [
             0.2,
             "#de77ae"
            ],
            [
             0.3,
             "#f1b6da"
            ],
            [
             0.4,
             "#fde0ef"
            ],
            [
             0.5,
             "#f7f7f7"
            ],
            [
             0.6,
             "#e6f5d0"
            ],
            [
             0.7,
             "#b8e186"
            ],
            [
             0.8,
             "#7fbc41"
            ],
            [
             0.9,
             "#4d9221"
            ],
            [
             1,
             "#276419"
            ]
           ],
           "sequential": [
            [
             0,
             "#0d0887"
            ],
            [
             0.1111111111111111,
             "#46039f"
            ],
            [
             0.2222222222222222,
             "#7201a8"
            ],
            [
             0.3333333333333333,
             "#9c179e"
            ],
            [
             0.4444444444444444,
             "#bd3786"
            ],
            [
             0.5555555555555556,
             "#d8576b"
            ],
            [
             0.6666666666666666,
             "#ed7953"
            ],
            [
             0.7777777777777778,
             "#fb9f3a"
            ],
            [
             0.8888888888888888,
             "#fdca26"
            ],
            [
             1,
             "#f0f921"
            ]
           ],
           "sequentialminus": [
            [
             0,
             "#0d0887"
            ],
            [
             0.1111111111111111,
             "#46039f"
            ],
            [
             0.2222222222222222,
             "#7201a8"
            ],
            [
             0.3333333333333333,
             "#9c179e"
            ],
            [
             0.4444444444444444,
             "#bd3786"
            ],
            [
             0.5555555555555556,
             "#d8576b"
            ],
            [
             0.6666666666666666,
             "#ed7953"
            ],
            [
             0.7777777777777778,
             "#fb9f3a"
            ],
            [
             0.8888888888888888,
             "#fdca26"
            ],
            [
             1,
             "#f0f921"
            ]
           ]
          },
          "colorway": [
           "#636efa",
           "#EF553B",
           "#00cc96",
           "#ab63fa",
           "#FFA15A",
           "#19d3f3",
           "#FF6692",
           "#B6E880",
           "#FF97FF",
           "#FECB52"
          ],
          "font": {
           "color": "#2a3f5f"
          },
          "geo": {
           "bgcolor": "white",
           "lakecolor": "white",
           "landcolor": "#E5ECF6",
           "showlakes": true,
           "showland": true,
           "subunitcolor": "white"
          },
          "hoverlabel": {
           "align": "left"
          },
          "hovermode": "closest",
          "mapbox": {
           "style": "light"
          },
          "paper_bgcolor": "white",
          "plot_bgcolor": "#E5ECF6",
          "polar": {
           "angularaxis": {
            "gridcolor": "white",
            "linecolor": "white",
            "ticks": ""
           },
           "bgcolor": "#E5ECF6",
           "radialaxis": {
            "gridcolor": "white",
            "linecolor": "white",
            "ticks": ""
           }
          },
          "scene": {
           "xaxis": {
            "backgroundcolor": "#E5ECF6",
            "gridcolor": "white",
            "gridwidth": 2,
            "linecolor": "white",
            "showbackground": true,
            "ticks": "",
            "zerolinecolor": "white"
           },
           "yaxis": {
            "backgroundcolor": "#E5ECF6",
            "gridcolor": "white",
            "gridwidth": 2,
            "linecolor": "white",
            "showbackground": true,
            "ticks": "",
            "zerolinecolor": "white"
           },
           "zaxis": {
            "backgroundcolor": "#E5ECF6",
            "gridcolor": "white",
            "gridwidth": 2,
            "linecolor": "white",
            "showbackground": true,
            "ticks": "",
            "zerolinecolor": "white"
           }
          },
          "shapedefaults": {
           "line": {
            "color": "#2a3f5f"
           }
          },
          "ternary": {
           "aaxis": {
            "gridcolor": "white",
            "linecolor": "white",
            "ticks": ""
           },
           "baxis": {
            "gridcolor": "white",
            "linecolor": "white",
            "ticks": ""
           },
           "bgcolor": "#E5ECF6",
           "caxis": {
            "gridcolor": "white",
            "linecolor": "white",
            "ticks": ""
           }
          },
          "title": {
           "x": 0.05
          },
          "xaxis": {
           "automargin": true,
           "gridcolor": "white",
           "linecolor": "white",
           "ticks": "",
           "title": {
            "standoff": 15
           },
           "zerolinecolor": "white",
           "zerolinewidth": 2
          },
          "yaxis": {
           "automargin": true,
           "gridcolor": "white",
           "linecolor": "white",
           "ticks": "",
           "title": {
            "standoff": 15
           },
           "zerolinecolor": "white",
           "zerolinewidth": 2
          }
         }
        },
        "title": {
         "text": "Average of stand and hit actions per game"
        },
        "width": 700,
        "yaxis": {
         "autorange": "reversed"
        }
       }
      },
      "text/html": [
       "<div>                            <div id=\"170946d7-dd9a-4bfd-85ce-0a8da254ab49\" class=\"plotly-graph-div\" style=\"height:400px; width:700px;\"></div>            <script type=\"text/javascript\">                require([\"plotly\"], function(Plotly) {                    window.PLOTLYENV=window.PLOTLYENV || {};                                    if (document.getElementById(\"170946d7-dd9a-4bfd-85ce-0a8da254ab49\")) {                    Plotly.newPlot(                        \"170946d7-dd9a-4bfd-85ce-0a8da254ab49\",                        [{\"customdata\":[-0.3275,-0.31,-0.91,-0.775,-1.0],\"name\":\"Stand\",\"orientation\":\"h\",\"x\":[-0.49,-0.75,-0.0725,-0.22,-0.0],\"y\":[\"Chain_of_Thought_prompt\",\"Random\",\"few_shot_prompt\",\"one_shot_prompt\",\"zero_shot_prompt\"],\"type\":\"bar\"},{\"customdata\":[-0.3275,-0.31,-0.91,-0.775,-1.0],\"name\":\"Hit\",\"orientation\":\"h\",\"x\":[1.1775,0.64,1.845,1.6275,1.9175],\"y\":[\"Chain_of_Thought_prompt\",\"Random\",\"few_shot_prompt\",\"one_shot_prompt\",\"zero_shot_prompt\"],\"type\":\"bar\"}],                        {\"template\":{\"data\":{\"histogram2dcontour\":[{\"type\":\"histogram2dcontour\",\"colorbar\":{\"outlinewidth\":0,\"ticks\":\"\"},\"colorscale\":[[0.0,\"#0d0887\"],[0.1111111111111111,\"#46039f\"],[0.2222222222222222,\"#7201a8\"],[0.3333333333333333,\"#9c179e\"],[0.4444444444444444,\"#bd3786\"],[0.5555555555555556,\"#d8576b\"],[0.6666666666666666,\"#ed7953\"],[0.7777777777777778,\"#fb9f3a\"],[0.8888888888888888,\"#fdca26\"],[1.0,\"#f0f921\"]]}],\"choropleth\":[{\"type\":\"choropleth\",\"colorbar\":{\"outlinewidth\":0,\"ticks\":\"\"}}],\"histogram2d\":[{\"type\":\"histogram2d\",\"colorbar\":{\"outlinewidth\":0,\"ticks\":\"\"},\"colorscale\":[[0.0,\"#0d0887\"],[0.1111111111111111,\"#46039f\"],[0.2222222222222222,\"#7201a8\"],[0.3333333333333333,\"#9c179e\"],[0.4444444444444444,\"#bd3786\"],[0.5555555555555556,\"#d8576b\"],[0.6666666666666666,\"#ed7953\"],[0.7777777777777778,\"#fb9f3a\"],[0.8888888888888888,\"#fdca26\"],[1.0,\"#f0f921\"]]}],\"heatmap\":[{\"type\":\"heatmap\",\"colorbar\":{\"outlinewidth\":0,\"ticks\":\"\"},\"colorscale\":[[0.0,\"#0d0887\"],[0.1111111111111111,\"#46039f\"],[0.2222222222222222,\"#7201a8\"],[0.3333333333333333,\"#9c179e\"],[0.4444444444444444,\"#bd3786\"],[0.5555555555555556,\"#d8576b\"],[0.6666666666666666,\"#ed7953\"],[0.7777777777777778,\"#fb9f3a\"],[0.8888888888888888,\"#fdca26\"],[1.0,\"#f0f921\"]]}],\"heatmapgl\":[{\"type\":\"heatmapgl\",\"colorbar\":{\"outlinewidth\":0,\"ticks\":\"\"},\"colorscale\":[[0.0,\"#0d0887\"],[0.1111111111111111,\"#46039f\"],[0.2222222222222222,\"#7201a8\"],[0.3333333333333333,\"#9c179e\"],[0.4444444444444444,\"#bd3786\"],[0.5555555555555556,\"#d8576b\"],[0.6666666666666666,\"#ed7953\"],[0.7777777777777778,\"#fb9f3a\"],[0.8888888888888888,\"#fdca26\"],[1.0,\"#f0f921\"]]}],\"contourcarpet\":[{\"type\":\"contourcarpet\",\"colorbar\":{\"outlinewidth\":0,\"ticks\":\"\"}}],\"contour\":[{\"type\":\"contour\",\"colorbar\":{\"outlinewidth\":0,\"ticks\":\"\"},\"colorscale\":[[0.0,\"#0d0887\"],[0.1111111111111111,\"#46039f\"],[0.2222222222222222,\"#7201a8\"],[0.3333333333333333,\"#9c179e\"],[0.4444444444444444,\"#bd3786\"],[0.5555555555555556,\"#d8576b\"],[0.6666666666666666,\"#ed7953\"],[0.7777777777777778,\"#fb9f3a\"],[0.8888888888888888,\"#fdca26\"],[1.0,\"#f0f921\"]]}],\"surface\":[{\"type\":\"surface\",\"colorbar\":{\"outlinewidth\":0,\"ticks\":\"\"},\"colorscale\":[[0.0,\"#0d0887\"],[0.1111111111111111,\"#46039f\"],[0.2222222222222222,\"#7201a8\"],[0.3333333333333333,\"#9c179e\"],[0.4444444444444444,\"#bd3786\"],[0.5555555555555556,\"#d8576b\"],[0.6666666666666666,\"#ed7953\"],[0.7777777777777778,\"#fb9f3a\"],[0.8888888888888888,\"#fdca26\"],[1.0,\"#f0f921\"]]}],\"mesh3d\":[{\"type\":\"mesh3d\",\"colorbar\":{\"outlinewidth\":0,\"ticks\":\"\"}}],\"scatter\":[{\"fillpattern\":{\"fillmode\":\"overlay\",\"size\":10,\"solidity\":0.2},\"type\":\"scatter\"}],\"parcoords\":[{\"type\":\"parcoords\",\"line\":{\"colorbar\":{\"outlinewidth\":0,\"ticks\":\"\"}}}],\"scatterpolargl\":[{\"type\":\"scatterpolargl\",\"marker\":{\"colorbar\":{\"outlinewidth\":0,\"ticks\":\"\"}}}],\"bar\":[{\"error_x\":{\"color\":\"#2a3f5f\"},\"error_y\":{\"color\":\"#2a3f5f\"},\"marker\":{\"line\":{\"color\":\"#E5ECF6\",\"width\":0.5},\"pattern\":{\"fillmode\":\"overlay\",\"size\":10,\"solidity\":0.2}},\"type\":\"bar\"}],\"scattergeo\":[{\"type\":\"scattergeo\",\"marker\":{\"colorbar\":{\"outlinewidth\":0,\"ticks\":\"\"}}}],\"scatterpolar\":[{\"type\":\"scatterpolar\",\"marker\":{\"colorbar\":{\"outlinewidth\":0,\"ticks\":\"\"}}}],\"histogram\":[{\"marker\":{\"pattern\":{\"fillmode\":\"overlay\",\"size\":10,\"solidity\":0.2}},\"type\":\"histogram\"}],\"scattergl\":[{\"type\":\"scattergl\",\"marker\":{\"colorbar\":{\"outlinewidth\":0,\"ticks\":\"\"}}}],\"scatter3d\":[{\"type\":\"scatter3d\",\"line\":{\"colorbar\":{\"outlinewidth\":0,\"ticks\":\"\"}},\"marker\":{\"colorbar\":{\"outlinewidth\":0,\"ticks\":\"\"}}}],\"scattermapbox\":[{\"type\":\"scattermapbox\",\"marker\":{\"colorbar\":{\"outlinewidth\":0,\"ticks\":\"\"}}}],\"scatterternary\":[{\"type\":\"scatterternary\",\"marker\":{\"colorbar\":{\"outlinewidth\":0,\"ticks\":\"\"}}}],\"scattercarpet\":[{\"type\":\"scattercarpet\",\"marker\":{\"colorbar\":{\"outlinewidth\":0,\"ticks\":\"\"}}}],\"carpet\":[{\"aaxis\":{\"endlinecolor\":\"#2a3f5f\",\"gridcolor\":\"white\",\"linecolor\":\"white\",\"minorgridcolor\":\"white\",\"startlinecolor\":\"#2a3f5f\"},\"baxis\":{\"endlinecolor\":\"#2a3f5f\",\"gridcolor\":\"white\",\"linecolor\":\"white\",\"minorgridcolor\":\"white\",\"startlinecolor\":\"#2a3f5f\"},\"type\":\"carpet\"}],\"table\":[{\"cells\":{\"fill\":{\"color\":\"#EBF0F8\"},\"line\":{\"color\":\"white\"}},\"header\":{\"fill\":{\"color\":\"#C8D4E3\"},\"line\":{\"color\":\"white\"}},\"type\":\"table\"}],\"barpolar\":[{\"marker\":{\"line\":{\"color\":\"#E5ECF6\",\"width\":0.5},\"pattern\":{\"fillmode\":\"overlay\",\"size\":10,\"solidity\":0.2}},\"type\":\"barpolar\"}],\"pie\":[{\"automargin\":true,\"type\":\"pie\"}]},\"layout\":{\"autotypenumbers\":\"strict\",\"colorway\":[\"#636efa\",\"#EF553B\",\"#00cc96\",\"#ab63fa\",\"#FFA15A\",\"#19d3f3\",\"#FF6692\",\"#B6E880\",\"#FF97FF\",\"#FECB52\"],\"font\":{\"color\":\"#2a3f5f\"},\"hovermode\":\"closest\",\"hoverlabel\":{\"align\":\"left\"},\"paper_bgcolor\":\"white\",\"plot_bgcolor\":\"#E5ECF6\",\"polar\":{\"bgcolor\":\"#E5ECF6\",\"angularaxis\":{\"gridcolor\":\"white\",\"linecolor\":\"white\",\"ticks\":\"\"},\"radialaxis\":{\"gridcolor\":\"white\",\"linecolor\":\"white\",\"ticks\":\"\"}},\"ternary\":{\"bgcolor\":\"#E5ECF6\",\"aaxis\":{\"gridcolor\":\"white\",\"linecolor\":\"white\",\"ticks\":\"\"},\"baxis\":{\"gridcolor\":\"white\",\"linecolor\":\"white\",\"ticks\":\"\"},\"caxis\":{\"gridcolor\":\"white\",\"linecolor\":\"white\",\"ticks\":\"\"}},\"coloraxis\":{\"colorbar\":{\"outlinewidth\":0,\"ticks\":\"\"}},\"colorscale\":{\"sequential\":[[0.0,\"#0d0887\"],[0.1111111111111111,\"#46039f\"],[0.2222222222222222,\"#7201a8\"],[0.3333333333333333,\"#9c179e\"],[0.4444444444444444,\"#bd3786\"],[0.5555555555555556,\"#d8576b\"],[0.6666666666666666,\"#ed7953\"],[0.7777777777777778,\"#fb9f3a\"],[0.8888888888888888,\"#fdca26\"],[1.0,\"#f0f921\"]],\"sequentialminus\":[[0.0,\"#0d0887\"],[0.1111111111111111,\"#46039f\"],[0.2222222222222222,\"#7201a8\"],[0.3333333333333333,\"#9c179e\"],[0.4444444444444444,\"#bd3786\"],[0.5555555555555556,\"#d8576b\"],[0.6666666666666666,\"#ed7953\"],[0.7777777777777778,\"#fb9f3a\"],[0.8888888888888888,\"#fdca26\"],[1.0,\"#f0f921\"]],\"diverging\":[[0,\"#8e0152\"],[0.1,\"#c51b7d\"],[0.2,\"#de77ae\"],[0.3,\"#f1b6da\"],[0.4,\"#fde0ef\"],[0.5,\"#f7f7f7\"],[0.6,\"#e6f5d0\"],[0.7,\"#b8e186\"],[0.8,\"#7fbc41\"],[0.9,\"#4d9221\"],[1,\"#276419\"]]},\"xaxis\":{\"gridcolor\":\"white\",\"linecolor\":\"white\",\"ticks\":\"\",\"title\":{\"standoff\":15},\"zerolinecolor\":\"white\",\"automargin\":true,\"zerolinewidth\":2},\"yaxis\":{\"gridcolor\":\"white\",\"linecolor\":\"white\",\"ticks\":\"\",\"title\":{\"standoff\":15},\"zerolinecolor\":\"white\",\"automargin\":true,\"zerolinewidth\":2},\"scene\":{\"xaxis\":{\"backgroundcolor\":\"#E5ECF6\",\"gridcolor\":\"white\",\"linecolor\":\"white\",\"showbackground\":true,\"ticks\":\"\",\"zerolinecolor\":\"white\",\"gridwidth\":2},\"yaxis\":{\"backgroundcolor\":\"#E5ECF6\",\"gridcolor\":\"white\",\"linecolor\":\"white\",\"showbackground\":true,\"ticks\":\"\",\"zerolinecolor\":\"white\",\"gridwidth\":2},\"zaxis\":{\"backgroundcolor\":\"#E5ECF6\",\"gridcolor\":\"white\",\"linecolor\":\"white\",\"showbackground\":true,\"ticks\":\"\",\"zerolinecolor\":\"white\",\"gridwidth\":2}},\"shapedefaults\":{\"line\":{\"color\":\"#2a3f5f\"}},\"annotationdefaults\":{\"arrowcolor\":\"#2a3f5f\",\"arrowhead\":0,\"arrowwidth\":1},\"geo\":{\"bgcolor\":\"white\",\"landcolor\":\"#E5ECF6\",\"subunitcolor\":\"white\",\"showland\":true,\"showlakes\":true,\"lakecolor\":\"white\"},\"title\":{\"x\":0.05},\"mapbox\":{\"style\":\"light\"}}},\"yaxis\":{\"autorange\":\"reversed\"},\"legend\":{\"orientation\":\"h\",\"x\":0.1,\"y\":-0.1},\"barmode\":\"relative\",\"height\":400,\"width\":700,\"bargap\":0.01,\"title\":{\"text\":\"Average of stand and hit actions per game\"}},                        {\"responsive\": true}                    ).then(function(){\n",
       "                            \n",
       "var gd = document.getElementById('170946d7-dd9a-4bfd-85ce-0a8da254ab49');\n",
       "var x = new MutationObserver(function (mutations, observer) {{\n",
       "        var display = window.getComputedStyle(gd).display;\n",
       "        if (!display || display === 'none') {{\n",
       "            console.log([gd, 'removed!']);\n",
       "            Plotly.purge(gd);\n",
       "            observer.disconnect();\n",
       "        }}\n",
       "}});\n",
       "\n",
       "// Listen for the removal of the full notebook cells\n",
       "var notebookContainer = gd.closest('#notebook-container');\n",
       "if (notebookContainer) {{\n",
       "    x.observe(notebookContainer, {childList: true});\n",
       "}}\n",
       "\n",
       "// Listen for the clearing of the current output cell\n",
       "var outputEl = gd.closest('.output');\n",
       "if (outputEl) {{\n",
       "    x.observe(outputEl, {childList: true});\n",
       "}}\n",
       "\n",
       "                        })                };                });            </script>        </div>"
      ]
     },
     "metadata": {},
     "output_type": "display_data"
    }
   ],
   "source": [
    "grouped_df = dfBlackJackLLM.groupby(['promptKey']).mean(numeric_only=True).reset_index()\n",
    "\n",
    "fig = go.Figure()\n",
    "\n",
    "\n",
    "fig.add_trace(go.Bar(x=-grouped_df['standActions'].values,\n",
    "                        y=grouped_df['promptKey'],\n",
    "                        orientation='h',\n",
    "                        name='Stand',\n",
    "                        customdata=grouped_df['rewards']))\n",
    "\n",
    "fig.add_trace(go.Bar(x=grouped_df['hitActions'].values,\n",
    "                        y=grouped_df['promptKey'],\n",
    "                        orientation='h',\n",
    "                        name='Hit',\n",
    "                        customdata=grouped_df['rewards']))\n",
    "\n",
    "fig.update_layout(barmode='relative', \n",
    "                  height=400, \n",
    "                  width=700, \n",
    "                  yaxis_autorange='reversed',\n",
    "                  bargap=0.01,\n",
    "                  legend_orientation ='h',\n",
    "                  legend_x=0.10, legend_y=-0.1,\n",
    "                  title=\"Average of stand and hit actions per game\"\n",
    "                 )\n",
    "fig.show()"
   ]
  },
  {
   "cell_type": "code",
   "execution_count": 177,
   "id": "0fcdd43d",
   "metadata": {},
   "outputs": [
    {
     "data": {
      "text/html": [
       "<div>\n",
       "<style scoped>\n",
       "    .dataframe tbody tr th:only-of-type {\n",
       "        vertical-align: middle;\n",
       "    }\n",
       "\n",
       "    .dataframe tbody tr th {\n",
       "        vertical-align: top;\n",
       "    }\n",
       "\n",
       "    .dataframe thead th {\n",
       "        text-align: right;\n",
       "    }\n",
       "</style>\n",
       "<table border=\"1\" class=\"dataframe\">\n",
       "  <thead>\n",
       "    <tr style=\"text-align: right;\">\n",
       "      <th>rewards</th>\n",
       "      <th>-1.0</th>\n",
       "      <th>0.0</th>\n",
       "      <th>1.0</th>\n",
       "    </tr>\n",
       "    <tr>\n",
       "      <th>promptKey</th>\n",
       "      <th></th>\n",
       "      <th></th>\n",
       "      <th></th>\n",
       "    </tr>\n",
       "  </thead>\n",
       "  <tbody>\n",
       "    <tr>\n",
       "      <th>Chain_of_Thought_prompt</th>\n",
       "      <td>0.6300</td>\n",
       "      <td>0.0675</td>\n",
       "      <td>0.3025</td>\n",
       "    </tr>\n",
       "    <tr>\n",
       "      <th>Random</th>\n",
       "      <td>0.6200</td>\n",
       "      <td>0.0700</td>\n",
       "      <td>0.3100</td>\n",
       "    </tr>\n",
       "    <tr>\n",
       "      <th>few_shot_prompt</th>\n",
       "      <td>0.9525</td>\n",
       "      <td>0.0050</td>\n",
       "      <td>0.0425</td>\n",
       "    </tr>\n",
       "    <tr>\n",
       "      <th>one_shot_prompt</th>\n",
       "      <td>0.8825</td>\n",
       "      <td>0.0100</td>\n",
       "      <td>0.1075</td>\n",
       "    </tr>\n",
       "    <tr>\n",
       "      <th>zero_shot_prompt</th>\n",
       "      <td>1.0000</td>\n",
       "      <td>0.0000</td>\n",
       "      <td>0.0000</td>\n",
       "    </tr>\n",
       "  </tbody>\n",
       "</table>\n",
       "</div>"
      ],
      "text/plain": [
       "rewards                    -1.0     0.0     1.0\n",
       "promptKey                                      \n",
       "Chain_of_Thought_prompt  0.6300  0.0675  0.3025\n",
       "Random                   0.6200  0.0700  0.3100\n",
       "few_shot_prompt          0.9525  0.0050  0.0425\n",
       "one_shot_prompt          0.8825  0.0100  0.1075\n",
       "zero_shot_prompt         1.0000  0.0000  0.0000"
      ]
     },
     "execution_count": 177,
     "metadata": {},
     "output_type": "execute_result"
    }
   ],
   "source": [
    "freq_table = pd.crosstab(dfBlackJackLLM['promptKey'], dfBlackJackLLM['rewards'], normalize='index') \n",
    "freq_table"
   ]
  },
  {
   "cell_type": "code",
   "execution_count": 178,
   "id": "7c0b702b",
   "metadata": {},
   "outputs": [],
   "source": [
    "# Graphics in retina format are more sharp and legible\n",
    "%config InlineBackend.figure_format = 'retina'"
   ]
  },
  {
   "cell_type": "code",
   "execution_count": null,
   "id": "1d25bee9",
   "metadata": {},
   "outputs": [],
   "source": []
  },
  {
   "cell_type": "code",
   "execution_count": 179,
   "id": "ae5d7147",
   "metadata": {},
   "outputs": [
    {
     "name": "stderr",
     "output_type": "stream",
     "text": [
      "C:\\Users\\johan\\AppData\\Local\\Temp\\ipykernel_21980\\2916267392.py:6: UserWarning:\n",
      "\n",
      "The palette list has more values (10) than needed (5), which may not be intended.\n",
      "\n"
     ]
    },
    {
     "data": {
      "image/png": "[encoded data removed]",
      "text/plain": [
       "<Figure size 1000x600 with 1 Axes>"
      ]
     },
     "metadata": {
      "image/png": {
       "height": 547,
       "width": 855
      }
     },
     "output_type": "display_data"
    }
   ],
   "source": [
    "# Group by temperature and prompt, then sum the rewards\n",
    "grouped_df = dfBlackJackLLM.groupby(['promptKey']).mean(numeric_only=True).reset_index()\n",
    "\n",
    "# Plot the data using seaborn\n",
    "plt.figure(figsize=(10, 6))\n",
    "sns.barplot(x='promptKey', y='win', hue='promptKey', data=grouped_df, palette=sns.color_palette())\n",
    "plt.title('Winrate per prompt')\n",
    "plt.xlabel('Prompt')\n",
    "plt.ylabel('Winrate')\n",
    "\n",
    "#plt.legend(title='Prompt')\n",
    "plt.show()"
   ]
  },
  {
   "cell_type": "code",
   "execution_count": 183,
   "id": "b5ef44f1",
   "metadata": {},
   "outputs": [
    {
     "name": "stderr",
     "output_type": "stream",
     "text": [
      "C:\\Users\\johan\\AppData\\Local\\Temp\\ipykernel_21980\\916577015.py:6: UserWarning:\n",
      "\n",
      "The palette list has more values (6) than needed (5), which may not be intended.\n",
      "\n"
     ]
    },
    {
     "data": {
      "image/png": "[encoded data removed]",
      "text/plain": [
       "<Figure size 1000x600 with 1 Axes>"
      ]
     },
     "metadata": {
      "image/png": {
       "height": 547,
       "width": 855
      }
     },
     "output_type": "display_data"
    }
   ],
   "source": [
    "# Group by temperature and prompt, then sum the rewards\n",
    "grouped_df = dfBlackJackLLM.groupby(['promptKey', 'temperature']).mean(numeric_only=True).reset_index()\n",
    "\n",
    "# Plot the data using seaborn\n",
    "plt.figure(figsize=(10, 6))\n",
    "sns.barplot(x='promptKey', y='win', hue='temperature', data=grouped_df, palette=sns.color_palette(\"flare\"))\n",
    "plt.title('Average winrate for temperature and prompt')\n",
    "plt.xlabel('Prompt')\n",
    "plt.ylabel('Average winrate')\n",
    "\n",
    "plt.legend(title='Temperature')\n",
    "plt.show()"
   ]
  },
  {
   "cell_type": "code",
   "execution_count": 181,
   "id": "5bcbb89e",
   "metadata": {},
   "outputs": [
    {
     "name": "stderr",
     "output_type": "stream",
     "text": [
      "C:\\Users\\johan\\AppData\\Local\\Temp\\ipykernel_21980\\3196256984.py:5: FutureWarning:\n",
      "\n",
      "\n",
      "\n",
      "Passing `palette` without assigning `hue` is deprecated and will be removed in v0.14.0. Assign the `x` variable to `hue` and set `legend=False` for the same effect.\n",
      "\n",
      "\n",
      "C:\\Users\\johan\\AppData\\Local\\Temp\\ipykernel_21980\\3196256984.py:5: UserWarning:\n",
      "\n",
      "The palette list has more values (6) than needed (4), which may not be intended.\n",
      "\n"
     ]
    },
    {
     "data": {
      "image/png": "[encoded data removed]",
      "text/plain": [
       "<Figure size 1000x600 with 1 Axes>"
      ]
     },
     "metadata": {
      "image/png": {
       "height": 546,
       "width": 855
      }
     },
     "output_type": "display_data"
    }
   ],
   "source": [
    "grouped_df = dfBlackJackLLM[dfBlackJackLLM['promptKey'] != \"Random\"] .groupby(['temperature']).mean(numeric_only=True).reset_index()\n",
    "\n",
    "# Plot the data using seaborn\n",
    "plt.figure(figsize=(10, 6))\n",
    "sns.barplot(x='temperature', y='win', data=grouped_df, palette=sns.color_palette(\"flare\"), order=grouped_df['temperature'])\n",
    "plt.title('Average winrate for every temperature')\n",
    "plt.xlabel('Temperature')\n",
    "plt.ylabel('Winrate')\n",
    "plt.plot(legend=False)\n",
    "plt.show()"
   ]
  },
  {
   "cell_type": "code",
   "execution_count": 182,
   "id": "1892b8e4",
   "metadata": {},
   "outputs": [
    {
     "name": "stderr",
     "output_type": "stream",
     "text": [
      "C:\\Users\\johan\\AppData\\Local\\Temp\\ipykernel_21980\\488412029.py:6: UserWarning:\n",
      "\n",
      "The palette list has more values (6) than needed (5), which may not be intended.\n",
      "\n"
     ]
    },
    {
     "data": {
      "image/png": "[encoded data removed]",
      "text/plain": [
       "<Figure size 1000x600 with 1 Axes>"
      ]
     },
     "metadata": {
      "image/png": {
       "height": 547,
       "width": 858
      }
     },
     "output_type": "display_data"
    }
   ],
   "source": [
    "# Group by temperature and prompt, then sum the rewards\n",
    "grouped_df = dfBlackJackLLM.groupby(['promptKey']).mean(numeric_only=True).reset_index()\n",
    "\n",
    "# Plot the data using seaborn\n",
    "plt.figure(figsize=(10, 6))\n",
    "sns.barplot(x='promptKey', y='rewards', hue='promptKey', data=grouped_df, palette=sns.color_palette(\"flare\"), order=grouped_df['promptKey'])\n",
    "plt.title('Average Rewards for Every prompt type')\n",
    "plt.xlabel('Temperature')\n",
    "plt.ylabel('Average Reward')\n",
    "\n",
    "\n",
    "plt.show()"
   ]
  },
  {
   "cell_type": "code",
   "execution_count": null,
   "id": "64413f24",
   "metadata": {},
   "outputs": [],
   "source": []
  },
  {
   "cell_type": "code",
   "execution_count": null,
   "id": "f03ad443",
   "metadata": {},
   "outputs": [],
   "source": []
  },
  {
   "cell_type": "code",
   "execution_count": null,
   "id": "f118d2ee",
   "metadata": {},
   "outputs": [],
   "source": []
  }
 ],
 "metadata": {
  "kernelspec": {
   "display_name": "Python 3 (ipykernel)",
   "language": "python",
   "name": "python3"
  },
  "language_info": {
   "codemirror_mode": {
    "name": "ipython",
    "version": 3
   },
   "file_extension": ".py",
   "mimetype": "text/x-python",
   "name": "python",
   "nbconvert_exporter": "python",
   "pygments_lexer": "ipython3",
   "version": "3.8.19"
  }
 },
 "nbformat": 4,
 "nbformat_minor": 5
}
