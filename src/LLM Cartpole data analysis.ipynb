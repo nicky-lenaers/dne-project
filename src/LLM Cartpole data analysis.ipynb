{
 "cells": [
  {
   "cell_type": "code",
   "execution_count": 48,
   "id": "0dc11732-e3b7-4753-bc45-48b3aca1f32c",
   "metadata": {},
   "outputs": [],
   "source": [
    "import warnings\n",
    "warnings.filterwarnings('ignore')"
   ]
  },
  {
   "cell_type": "markdown",
   "id": "7035edd4-4767-4bba-afe0-3b0cd76983f8",
   "metadata": {},
   "source": [
    "## Playing with words: Comparing several LLM models to DQN in playing simple games\n",
    "<img src=\"images/BannerCartPole.png\" alt=\"Alternative text\"  style=\"width: 100%;\"/>"
   ]
  },
  {
   "cell_type": "markdown",
   "id": "2835d594-dfcb-4c13-b3cd-eca34676b366",
   "metadata": {},
   "source": [
    "## LLM Cartpole experiment data analysis\n",
    "Project for **IM1102-232433M - Deep Neural Engineering** by:\n",
    "<center>Johan Weiland 85264426a, Ronald Buit 85252851a, Nicky Lenaers 85211597a, Jelmer de Boer 85253354</center>\n",
    "<br>\n",
    "\n",
    "<h3>Introduction</h3>\n",
    "In the field of automated game-playing, reinforcement learning (RL), and, in particular, Q-learning has garnered wide-claim success. This form of RL utilizes the Q-function, which measures the expected cumulative rewards when taking a particular action in a given state. Deep Q-Networks (DQNs) employ deep neural networks to approximate the Q-function, which has been successfully used for navigating very complex game environments; From classic Atari games to classic board games like Go.\n",
    "\n",
    "However, in recent years Large Language Models (LLMs), Deep Neural Networks often based on transformer architectures, were more and more able to generate human-like text with increasing fluency and coherence. Models like ChatGPT, Zephyr, and Phi were able to significantly push the boundaries of language generation.\n",
    "\n",
    "<h3>Experiment</h3>\n",
    "In our project \"Playing with words: Comparing several LLM models to DQN in playing simple games\" a Zephyr 3B LLM is used to play the Cartpole gym environment. This game is played with different prompt types and a varying temperature parameter. For each configuration, 100 games are played. The best configuration was selected to compete against the other RL models.\n",
    "\n",
    "<h3>Model</h3>\n",
    "For this experiment, Stable LM Zephyr 3B was used. Stable LM Zephyr 3B is a 3 billion parameter Large Language Model (LLM), 60% smaller than 7B models, allowing accurate, and responsive output on a variety of devices without requiring high-end hardware. \n",
    "More information on the LLM model Stable LM Zephyr 3B can be found here:<br>\n",
    "<a href='https://stability.ai/news/stablelm-zephyr-3b-stability-llm'>https://stability.ai/news/stablelm-zephyr-3b-stability-llm</a>\n",
    "\n",
    "<h3>Prompt engineering</h3>\n",
    "In this experiment, several prompting techniques were used, shown in the table below.\n",
    "<img src=\"images\\CartpolePrompts.png\" alt=\"Alternative text\"  style=\"width: 80%;\"/>\n",
    "\n",
    "<h3>Environment Information</h3>\n",
    "a visual representation of the Cartpole game:\n",
    "<img src=\"images\\cart_pole.gif\" alt=\"Alternative text\"  style=\"width: 50%;\"/>\n",
    "More information about the Cartpole environment can be found at:<br>\n",
    "<a href='https://gymnasium.farama.org/environments/classic_control/cart_pole/'>https://gymnasium.farama.org/environments/classic_control/cart_pole/</a>\n",
    "\n",
    "<h3>Experiment data generation</h3>\n",
    "Experiment data was gathered by playing 100 games for each parameter and prompt combination, with a random model employed as a baseline for comparison. This data collection process is detailed in the accompanying experiment notebook, accessible here:\n",
    "<br>\n",
    "<a href='https://github.com/nicky-lenaers/dne-project/blob/main/src/cartpole/play_cartpole_Zephyr3B.ipynb'>\n",
    "    https://github.com/nicky-lenaers/dne-project/blob/main/src/cartpole/play_cartpole_Zephyr3B.ipynb</a>\n",
    "\n",
    "<h3>Workflow To Be Followed</h3>\n",
    "Step 1: Loading The Dataset<br>\n",
    "Step 2: Performing Exploratory Data Analysis<br>\n",
    "Step 3: Visualizing the data<br>"
   ]
  },
  {
   "cell_type": "markdown",
   "id": "ec871e8f-a264-4644-a2f5-277de356f4fd",
   "metadata": {},
   "source": [
    "<h1>Step 1: Loading The Dataset</h1>"
   ]
  },
  {
   "cell_type": "markdown",
   "id": "af8614c5-1011-4894-8425-d2e5aa1de766",
   "metadata": {},
   "source": [
    "Importing libraries necessary in this notebook"
   ]
  },
  {
   "cell_type": "code",
   "execution_count": 61,
   "id": "0dd3536a",
   "metadata": {},
   "outputs": [
    {
     "name": "stderr",
     "output_type": "stream",
     "text": [
      "WARNING: Ignoring invalid distribution -orch (c:\\users\\johan\\anaconda3\\envs\\ktai dqn\\lib\\site-packages)\n",
      "WARNING: Ignoring invalid distribution -orch (c:\\users\\johan\\anaconda3\\envs\\ktai dqn\\lib\\site-packages)\n",
      "WARNING: Ignoring invalid distribution -orch (c:\\users\\johan\\anaconda3\\envs\\ktai dqn\\lib\\site-packages)\n",
      "WARNING: Ignoring invalid distribution -orch (c:\\users\\johan\\anaconda3\\envs\\ktai dqn\\lib\\site-packages)\n",
      "WARNING: Ignoring invalid distribution -orch (c:\\users\\johan\\anaconda3\\envs\\ktai dqn\\lib\\site-packages)\n",
      "WARNING: Ignoring invalid distribution -orch (c:\\users\\johan\\anaconda3\\envs\\ktai dqn\\lib\\site-packages)\n"
     ]
    }
   ],
   "source": [
    "!pip install -q -U pandas\n",
    "import pandas as pd\n",
    "!pip install -q -U seaborn\n",
    "# some imports to set up plotting\n",
    "import matplotlib.pyplot as plt\n",
    "# pip install seaborn\n",
    "import seaborn as sns\n",
    "!pip install -q -U plotly\n",
    "import plotly.graph_objects as go\n",
    "import numpy as np "
   ]
  },
  {
   "cell_type": "markdown",
   "id": "67d6b4ae-2aa9-4153-b74a-f5f10e35d74d",
   "metadata": {},
   "source": [
    "<BR><BR>Loading the dataset"
   ]
  },
  {
   "cell_type": "code",
   "execution_count": 62,
   "id": "780dbbf7",
   "metadata": {},
   "outputs": [
    {
     "name": "stdout",
     "output_type": "stream",
     "text": [
      "Shape:\n",
      "(1700, 8)\n",
      "Columns:\n",
      "Index(['promptKey', 'temperature', 'timesteps', 'rewards', 'leftActions',\n",
      "       'rightActions', 'randomActions', 'DateTime'],\n",
      "      dtype='object')\n"
     ]
    }
   ],
   "source": [
    "dfCartPoleLLM = pd.read_csv(\"Data\\CartPoleLlm_Total_20240426-115006.csv\")\n",
    "print(\"Shape:\")\n",
    "print(dfCartPoleLLM.shape)\n",
    "print(\"Columns:\")\n",
    "print(dfCartPoleLLM.columns)"
   ]
  },
  {
   "cell_type": "markdown",
   "id": "dbf647ec-f0b7-4527-9b21-99310c0b57aa",
   "metadata": {},
   "source": [
    "<BR><BR><h1>Step 2: Performing Exploratory Data Analysis</h1>"
   ]
  },
  {
   "cell_type": "code",
   "execution_count": 63,
   "id": "75ccd098",
   "metadata": {},
   "outputs": [
    {
     "data": {
      "text/html": [
       "<div>\n",
       "<style scoped>\n",
       "    .dataframe tbody tr th:only-of-type {\n",
       "        vertical-align: middle;\n",
       "    }\n",
       "\n",
       "    .dataframe tbody tr th {\n",
       "        vertical-align: top;\n",
       "    }\n",
       "\n",
       "    .dataframe thead th {\n",
       "        text-align: right;\n",
       "    }\n",
       "</style>\n",
       "<table border=\"1\" class=\"dataframe\">\n",
       "  <thead>\n",
       "    <tr style=\"text-align: right;\">\n",
       "      <th></th>\n",
       "      <th>promptKey</th>\n",
       "      <th>temperature</th>\n",
       "      <th>timesteps</th>\n",
       "      <th>rewards</th>\n",
       "      <th>leftActions</th>\n",
       "      <th>rightActions</th>\n",
       "      <th>randomActions</th>\n",
       "      <th>DateTime</th>\n",
       "    </tr>\n",
       "  </thead>\n",
       "  <tbody>\n",
       "    <tr>\n",
       "      <th>0</th>\n",
       "      <td>zero_shot_prompt</td>\n",
       "      <td>0.1</td>\n",
       "      <td>9</td>\n",
       "      <td>9.0</td>\n",
       "      <td>9</td>\n",
       "      <td>0</td>\n",
       "      <td>0</td>\n",
       "      <td>2024-04-26 11:50:08.284575</td>\n",
       "    </tr>\n",
       "    <tr>\n",
       "      <th>1</th>\n",
       "      <td>zero_shot_prompt</td>\n",
       "      <td>0.1</td>\n",
       "      <td>9</td>\n",
       "      <td>9.0</td>\n",
       "      <td>9</td>\n",
       "      <td>0</td>\n",
       "      <td>0</td>\n",
       "      <td>2024-04-26 11:50:08.857468</td>\n",
       "    </tr>\n",
       "    <tr>\n",
       "      <th>2</th>\n",
       "      <td>zero_shot_prompt</td>\n",
       "      <td>0.1</td>\n",
       "      <td>10</td>\n",
       "      <td>10.0</td>\n",
       "      <td>10</td>\n",
       "      <td>0</td>\n",
       "      <td>0</td>\n",
       "      <td>2024-04-26 11:50:09.504922</td>\n",
       "    </tr>\n",
       "    <tr>\n",
       "      <th>3</th>\n",
       "      <td>zero_shot_prompt</td>\n",
       "      <td>0.1</td>\n",
       "      <td>10</td>\n",
       "      <td>10.0</td>\n",
       "      <td>9</td>\n",
       "      <td>1</td>\n",
       "      <td>1</td>\n",
       "      <td>2024-04-26 11:50:10.562282</td>\n",
       "    </tr>\n",
       "    <tr>\n",
       "      <th>4</th>\n",
       "      <td>zero_shot_prompt</td>\n",
       "      <td>0.1</td>\n",
       "      <td>9</td>\n",
       "      <td>9.0</td>\n",
       "      <td>9</td>\n",
       "      <td>0</td>\n",
       "      <td>0</td>\n",
       "      <td>2024-04-26 11:50:11.142881</td>\n",
       "    </tr>\n",
       "  </tbody>\n",
       "</table>\n",
       "</div>"
      ],
      "text/plain": [
       "          promptKey  temperature  timesteps  rewards  leftActions  \\\n",
       "0  zero_shot_prompt          0.1          9      9.0            9   \n",
       "1  zero_shot_prompt          0.1          9      9.0            9   \n",
       "2  zero_shot_prompt          0.1         10     10.0           10   \n",
       "3  zero_shot_prompt          0.1         10     10.0            9   \n",
       "4  zero_shot_prompt          0.1          9      9.0            9   \n",
       "\n",
       "   rightActions  randomActions                    DateTime  \n",
       "0             0              0  2024-04-26 11:50:08.284575  \n",
       "1             0              0  2024-04-26 11:50:08.857468  \n",
       "2             0              0  2024-04-26 11:50:09.504922  \n",
       "3             1              1  2024-04-26 11:50:10.562282  \n",
       "4             0              0  2024-04-26 11:50:11.142881  "
      ]
     },
     "execution_count": 63,
     "metadata": {},
     "output_type": "execute_result"
    }
   ],
   "source": [
    "dfCartPoleLLM.head()"
   ]
  },
  {
   "cell_type": "code",
   "execution_count": 64,
   "id": "5c98c181",
   "metadata": {},
   "outputs": [
    {
     "name": "stdout",
     "output_type": "stream",
     "text": [
      "<class 'pandas.core.frame.DataFrame'>\n",
      "RangeIndex: 1700 entries, 0 to 1699\n",
      "Data columns (total 8 columns):\n",
      " #   Column         Non-Null Count  Dtype  \n",
      "---  ------         --------------  -----  \n",
      " 0   promptKey      1700 non-null   object \n",
      " 1   temperature    1700 non-null   float64\n",
      " 2   timesteps      1700 non-null   int64  \n",
      " 3   rewards        1700 non-null   float64\n",
      " 4   leftActions    1700 non-null   int64  \n",
      " 5   rightActions   1700 non-null   int64  \n",
      " 6   randomActions  1700 non-null   int64  \n",
      " 7   DateTime       1700 non-null   object \n",
      "dtypes: float64(2), int64(4), object(2)\n",
      "memory usage: 106.4+ KB\n",
      "None\n"
     ]
    }
   ],
   "source": [
    "print(dfCartPoleLLM.info())"
   ]
  },
  {
   "cell_type": "code",
   "execution_count": 65,
   "id": "bf73e350",
   "metadata": {},
   "outputs": [
    {
     "data": {
      "text/html": [
       "<div>\n",
       "<style scoped>\n",
       "    .dataframe tbody tr th:only-of-type {\n",
       "        vertical-align: middle;\n",
       "    }\n",
       "\n",
       "    .dataframe tbody tr th {\n",
       "        vertical-align: top;\n",
       "    }\n",
       "\n",
       "    .dataframe thead th {\n",
       "        text-align: right;\n",
       "    }\n",
       "</style>\n",
       "<table border=\"1\" class=\"dataframe\">\n",
       "  <thead>\n",
       "    <tr style=\"text-align: right;\">\n",
       "      <th></th>\n",
       "      <th>temperature</th>\n",
       "      <th>timesteps</th>\n",
       "      <th>rewards</th>\n",
       "      <th>leftActions</th>\n",
       "      <th>rightActions</th>\n",
       "      <th>randomActions</th>\n",
       "    </tr>\n",
       "  </thead>\n",
       "  <tbody>\n",
       "    <tr>\n",
       "      <th>count</th>\n",
       "      <td>1700.000000</td>\n",
       "      <td>1700.000000</td>\n",
       "      <td>1700.000000</td>\n",
       "      <td>1700.000000</td>\n",
       "      <td>1700.000000</td>\n",
       "      <td>1700.000000</td>\n",
       "    </tr>\n",
       "    <tr>\n",
       "      <th>mean</th>\n",
       "      <td>0.517647</td>\n",
       "      <td>28.045882</td>\n",
       "      <td>28.045882</td>\n",
       "      <td>14.648824</td>\n",
       "      <td>13.397059</td>\n",
       "      <td>1.902353</td>\n",
       "    </tr>\n",
       "    <tr>\n",
       "      <th>std</th>\n",
       "      <td>0.350288</td>\n",
       "      <td>18.636298</td>\n",
       "      <td>18.636298</td>\n",
       "      <td>9.116322</td>\n",
       "      <td>10.294172</td>\n",
       "      <td>5.597327</td>\n",
       "    </tr>\n",
       "    <tr>\n",
       "      <th>min</th>\n",
       "      <td>0.000000</td>\n",
       "      <td>8.000000</td>\n",
       "      <td>8.000000</td>\n",
       "      <td>0.000000</td>\n",
       "      <td>0.000000</td>\n",
       "      <td>0.000000</td>\n",
       "    </tr>\n",
       "    <tr>\n",
       "      <th>25%</th>\n",
       "      <td>0.100000</td>\n",
       "      <td>12.000000</td>\n",
       "      <td>12.000000</td>\n",
       "      <td>9.000000</td>\n",
       "      <td>6.000000</td>\n",
       "      <td>0.000000</td>\n",
       "    </tr>\n",
       "    <tr>\n",
       "      <th>50%</th>\n",
       "      <td>0.400000</td>\n",
       "      <td>23.000000</td>\n",
       "      <td>23.000000</td>\n",
       "      <td>11.000000</td>\n",
       "      <td>12.000000</td>\n",
       "      <td>0.000000</td>\n",
       "    </tr>\n",
       "    <tr>\n",
       "      <th>75%</th>\n",
       "      <td>0.700000</td>\n",
       "      <td>40.000000</td>\n",
       "      <td>40.000000</td>\n",
       "      <td>20.000000</td>\n",
       "      <td>20.000000</td>\n",
       "      <td>1.000000</td>\n",
       "    </tr>\n",
       "    <tr>\n",
       "      <th>max</th>\n",
       "      <td>1.000000</td>\n",
       "      <td>141.000000</td>\n",
       "      <td>141.000000</td>\n",
       "      <td>71.000000</td>\n",
       "      <td>70.000000</td>\n",
       "      <td>80.000000</td>\n",
       "    </tr>\n",
       "  </tbody>\n",
       "</table>\n",
       "</div>"
      ],
      "text/plain": [
       "       temperature    timesteps      rewards  leftActions  rightActions  \\\n",
       "count  1700.000000  1700.000000  1700.000000  1700.000000   1700.000000   \n",
       "mean      0.517647    28.045882    28.045882    14.648824     13.397059   \n",
       "std       0.350288    18.636298    18.636298     9.116322     10.294172   \n",
       "min       0.000000     8.000000     8.000000     0.000000      0.000000   \n",
       "25%       0.100000    12.000000    12.000000     9.000000      6.000000   \n",
       "50%       0.400000    23.000000    23.000000    11.000000     12.000000   \n",
       "75%       0.700000    40.000000    40.000000    20.000000     20.000000   \n",
       "max       1.000000   141.000000   141.000000    71.000000     70.000000   \n",
       "\n",
       "       randomActions  \n",
       "count    1700.000000  \n",
       "mean        1.902353  \n",
       "std         5.597327  \n",
       "min         0.000000  \n",
       "25%         0.000000  \n",
       "50%         0.000000  \n",
       "75%         1.000000  \n",
       "max        80.000000  "
      ]
     },
     "execution_count": 65,
     "metadata": {},
     "output_type": "execute_result"
    }
   ],
   "source": [
    "dfCartPoleLLM.describe()"
   ]
  },
  {
   "cell_type": "code",
   "execution_count": 66,
   "id": "74c85dfd",
   "metadata": {},
   "outputs": [
    {
     "data": {
      "text/html": [
       "<div>\n",
       "<style scoped>\n",
       "    .dataframe tbody tr th:only-of-type {\n",
       "        vertical-align: middle;\n",
       "    }\n",
       "\n",
       "    .dataframe tbody tr th {\n",
       "        vertical-align: top;\n",
       "    }\n",
       "\n",
       "    .dataframe thead tr th {\n",
       "        text-align: left;\n",
       "    }\n",
       "\n",
       "    .dataframe thead tr:last-of-type th {\n",
       "        text-align: right;\n",
       "    }\n",
       "</style>\n",
       "<table border=\"1\" class=\"dataframe\">\n",
       "  <thead>\n",
       "    <tr>\n",
       "      <th></th>\n",
       "      <th></th>\n",
       "      <th colspan=\"6\" halign=\"left\">timesteps</th>\n",
       "      <th colspan=\"4\" halign=\"left\">rewards</th>\n",
       "      <th>...</th>\n",
       "      <th colspan=\"4\" halign=\"left\">rightActions</th>\n",
       "      <th colspan=\"6\" halign=\"left\">randomActions</th>\n",
       "    </tr>\n",
       "    <tr>\n",
       "      <th></th>\n",
       "      <th></th>\n",
       "      <th>count</th>\n",
       "      <th>mean</th>\n",
       "      <th>std</th>\n",
       "      <th>min</th>\n",
       "      <th>50%</th>\n",
       "      <th>max</th>\n",
       "      <th>count</th>\n",
       "      <th>mean</th>\n",
       "      <th>std</th>\n",
       "      <th>min</th>\n",
       "      <th>...</th>\n",
       "      <th>std</th>\n",
       "      <th>min</th>\n",
       "      <th>50%</th>\n",
       "      <th>max</th>\n",
       "      <th>count</th>\n",
       "      <th>mean</th>\n",
       "      <th>std</th>\n",
       "      <th>min</th>\n",
       "      <th>50%</th>\n",
       "      <th>max</th>\n",
       "    </tr>\n",
       "    <tr>\n",
       "      <th>promptKey</th>\n",
       "      <th>temperature</th>\n",
       "      <th></th>\n",
       "      <th></th>\n",
       "      <th></th>\n",
       "      <th></th>\n",
       "      <th></th>\n",
       "      <th></th>\n",
       "      <th></th>\n",
       "      <th></th>\n",
       "      <th></th>\n",
       "      <th></th>\n",
       "      <th></th>\n",
       "      <th></th>\n",
       "      <th></th>\n",
       "      <th></th>\n",
       "      <th></th>\n",
       "      <th></th>\n",
       "      <th></th>\n",
       "      <th></th>\n",
       "      <th></th>\n",
       "      <th></th>\n",
       "      <th></th>\n",
       "    </tr>\n",
       "  </thead>\n",
       "  <tbody>\n",
       "    <tr>\n",
       "      <th rowspan=\"4\" valign=\"top\">Chain_of_Thought_prompt</th>\n",
       "      <th>0.1</th>\n",
       "      <td>100.0</td>\n",
       "      <td>41.06</td>\n",
       "      <td>8.966627</td>\n",
       "      <td>25.0</td>\n",
       "      <td>40.0</td>\n",
       "      <td>68.0</td>\n",
       "      <td>100.0</td>\n",
       "      <td>41.06</td>\n",
       "      <td>8.966627</td>\n",
       "      <td>25.0</td>\n",
       "      <td>...</td>\n",
       "      <td>4.377387</td>\n",
       "      <td>11.0</td>\n",
       "      <td>19.5</td>\n",
       "      <td>32.0</td>\n",
       "      <td>100.0</td>\n",
       "      <td>0.03</td>\n",
       "      <td>0.171447</td>\n",
       "      <td>0.0</td>\n",
       "      <td>0.0</td>\n",
       "      <td>1.0</td>\n",
       "    </tr>\n",
       "    <tr>\n",
       "      <th>0.4</th>\n",
       "      <td>100.0</td>\n",
       "      <td>41.92</td>\n",
       "      <td>9.545934</td>\n",
       "      <td>24.0</td>\n",
       "      <td>41.0</td>\n",
       "      <td>64.0</td>\n",
       "      <td>100.0</td>\n",
       "      <td>41.92</td>\n",
       "      <td>9.545934</td>\n",
       "      <td>24.0</td>\n",
       "      <td>...</td>\n",
       "      <td>4.651100</td>\n",
       "      <td>10.0</td>\n",
       "      <td>20.0</td>\n",
       "      <td>31.0</td>\n",
       "      <td>100.0</td>\n",
       "      <td>0.03</td>\n",
       "      <td>0.171447</td>\n",
       "      <td>0.0</td>\n",
       "      <td>0.0</td>\n",
       "      <td>1.0</td>\n",
       "    </tr>\n",
       "    <tr>\n",
       "      <th>0.7</th>\n",
       "      <td>100.0</td>\n",
       "      <td>39.19</td>\n",
       "      <td>11.269602</td>\n",
       "      <td>13.0</td>\n",
       "      <td>39.0</td>\n",
       "      <td>84.0</td>\n",
       "      <td>100.0</td>\n",
       "      <td>39.19</td>\n",
       "      <td>11.269602</td>\n",
       "      <td>13.0</td>\n",
       "      <td>...</td>\n",
       "      <td>6.036923</td>\n",
       "      <td>5.0</td>\n",
       "      <td>18.0</td>\n",
       "      <td>39.0</td>\n",
       "      <td>100.0</td>\n",
       "      <td>0.46</td>\n",
       "      <td>0.687845</td>\n",
       "      <td>0.0</td>\n",
       "      <td>0.0</td>\n",
       "      <td>3.0</td>\n",
       "    </tr>\n",
       "    <tr>\n",
       "      <th>1.0</th>\n",
       "      <td>100.0</td>\n",
       "      <td>41.85</td>\n",
       "      <td>15.109951</td>\n",
       "      <td>14.0</td>\n",
       "      <td>39.5</td>\n",
       "      <td>86.0</td>\n",
       "      <td>100.0</td>\n",
       "      <td>41.85</td>\n",
       "      <td>15.109951</td>\n",
       "      <td>14.0</td>\n",
       "      <td>...</td>\n",
       "      <td>7.613412</td>\n",
       "      <td>7.0</td>\n",
       "      <td>18.0</td>\n",
       "      <td>44.0</td>\n",
       "      <td>100.0</td>\n",
       "      <td>2.95</td>\n",
       "      <td>2.076200</td>\n",
       "      <td>0.0</td>\n",
       "      <td>3.0</td>\n",
       "      <td>9.0</td>\n",
       "    </tr>\n",
       "    <tr>\n",
       "      <th>Random</th>\n",
       "      <th>0.0</th>\n",
       "      <td>100.0</td>\n",
       "      <td>21.10</td>\n",
       "      <td>10.502044</td>\n",
       "      <td>9.0</td>\n",
       "      <td>17.0</td>\n",
       "      <td>80.0</td>\n",
       "      <td>100.0</td>\n",
       "      <td>21.10</td>\n",
       "      <td>10.502044</td>\n",
       "      <td>9.0</td>\n",
       "      <td>...</td>\n",
       "      <td>5.603489</td>\n",
       "      <td>1.0</td>\n",
       "      <td>10.0</td>\n",
       "      <td>38.0</td>\n",
       "      <td>100.0</td>\n",
       "      <td>21.10</td>\n",
       "      <td>10.502044</td>\n",
       "      <td>9.0</td>\n",
       "      <td>17.0</td>\n",
       "      <td>80.0</td>\n",
       "    </tr>\n",
       "    <tr>\n",
       "      <th rowspan=\"4\" valign=\"top\">few_shot_prompt</th>\n",
       "      <th>0.1</th>\n",
       "      <td>100.0</td>\n",
       "      <td>45.91</td>\n",
       "      <td>17.496952</td>\n",
       "      <td>13.0</td>\n",
       "      <td>42.5</td>\n",
       "      <td>89.0</td>\n",
       "      <td>100.0</td>\n",
       "      <td>45.91</td>\n",
       "      <td>17.496952</td>\n",
       "      <td>13.0</td>\n",
       "      <td>...</td>\n",
       "      <td>8.644003</td>\n",
       "      <td>7.0</td>\n",
       "      <td>23.0</td>\n",
       "      <td>43.0</td>\n",
       "      <td>100.0</td>\n",
       "      <td>0.00</td>\n",
       "      <td>0.000000</td>\n",
       "      <td>0.0</td>\n",
       "      <td>0.0</td>\n",
       "      <td>0.0</td>\n",
       "    </tr>\n",
       "    <tr>\n",
       "      <th>0.4</th>\n",
       "      <td>100.0</td>\n",
       "      <td>44.75</td>\n",
       "      <td>22.609274</td>\n",
       "      <td>11.0</td>\n",
       "      <td>43.0</td>\n",
       "      <td>141.0</td>\n",
       "      <td>100.0</td>\n",
       "      <td>44.75</td>\n",
       "      <td>22.609274</td>\n",
       "      <td>11.0</td>\n",
       "      <td>...</td>\n",
       "      <td>11.442482</td>\n",
       "      <td>7.0</td>\n",
       "      <td>21.5</td>\n",
       "      <td>70.0</td>\n",
       "      <td>100.0</td>\n",
       "      <td>0.00</td>\n",
       "      <td>0.000000</td>\n",
       "      <td>0.0</td>\n",
       "      <td>0.0</td>\n",
       "      <td>0.0</td>\n",
       "    </tr>\n",
       "    <tr>\n",
       "      <th>0.7</th>\n",
       "      <td>100.0</td>\n",
       "      <td>41.70</td>\n",
       "      <td>23.437646</td>\n",
       "      <td>11.0</td>\n",
       "      <td>37.0</td>\n",
       "      <td>120.0</td>\n",
       "      <td>100.0</td>\n",
       "      <td>41.70</td>\n",
       "      <td>23.437646</td>\n",
       "      <td>11.0</td>\n",
       "      <td>...</td>\n",
       "      <td>11.913052</td>\n",
       "      <td>4.0</td>\n",
       "      <td>18.5</td>\n",
       "      <td>61.0</td>\n",
       "      <td>100.0</td>\n",
       "      <td>0.03</td>\n",
       "      <td>0.171447</td>\n",
       "      <td>0.0</td>\n",
       "      <td>0.0</td>\n",
       "      <td>1.0</td>\n",
       "    </tr>\n",
       "    <tr>\n",
       "      <th>1.0</th>\n",
       "      <td>100.0</td>\n",
       "      <td>38.01</td>\n",
       "      <td>18.633355</td>\n",
       "      <td>12.0</td>\n",
       "      <td>35.0</td>\n",
       "      <td>99.0</td>\n",
       "      <td>100.0</td>\n",
       "      <td>38.01</td>\n",
       "      <td>18.633355</td>\n",
       "      <td>12.0</td>\n",
       "      <td>...</td>\n",
       "      <td>9.103729</td>\n",
       "      <td>5.0</td>\n",
       "      <td>18.0</td>\n",
       "      <td>49.0</td>\n",
       "      <td>100.0</td>\n",
       "      <td>0.74</td>\n",
       "      <td>0.894653</td>\n",
       "      <td>0.0</td>\n",
       "      <td>0.0</td>\n",
       "      <td>4.0</td>\n",
       "    </tr>\n",
       "    <tr>\n",
       "      <th rowspan=\"4\" valign=\"top\">one_shot_prompt</th>\n",
       "      <th>0.1</th>\n",
       "      <td>100.0</td>\n",
       "      <td>20.18</td>\n",
       "      <td>10.734049</td>\n",
       "      <td>8.0</td>\n",
       "      <td>17.5</td>\n",
       "      <td>57.0</td>\n",
       "      <td>100.0</td>\n",
       "      <td>20.18</td>\n",
       "      <td>10.734049</td>\n",
       "      <td>8.0</td>\n",
       "      <td>...</td>\n",
       "      <td>5.422139</td>\n",
       "      <td>6.0</td>\n",
       "      <td>10.0</td>\n",
       "      <td>30.0</td>\n",
       "      <td>100.0</td>\n",
       "      <td>0.00</td>\n",
       "      <td>0.000000</td>\n",
       "      <td>0.0</td>\n",
       "      <td>0.0</td>\n",
       "      <td>0.0</td>\n",
       "    </tr>\n",
       "    <tr>\n",
       "      <th>0.4</th>\n",
       "      <td>100.0</td>\n",
       "      <td>18.96</td>\n",
       "      <td>9.978684</td>\n",
       "      <td>9.0</td>\n",
       "      <td>16.5</td>\n",
       "      <td>67.0</td>\n",
       "      <td>100.0</td>\n",
       "      <td>18.96</td>\n",
       "      <td>9.978684</td>\n",
       "      <td>9.0</td>\n",
       "      <td>...</td>\n",
       "      <td>4.924429</td>\n",
       "      <td>6.0</td>\n",
       "      <td>10.0</td>\n",
       "      <td>34.0</td>\n",
       "      <td>100.0</td>\n",
       "      <td>0.00</td>\n",
       "      <td>0.000000</td>\n",
       "      <td>0.0</td>\n",
       "      <td>0.0</td>\n",
       "      <td>0.0</td>\n",
       "    </tr>\n",
       "    <tr>\n",
       "      <th>0.7</th>\n",
       "      <td>100.0</td>\n",
       "      <td>20.43</td>\n",
       "      <td>10.017414</td>\n",
       "      <td>9.0</td>\n",
       "      <td>18.5</td>\n",
       "      <td>59.0</td>\n",
       "      <td>100.0</td>\n",
       "      <td>20.43</td>\n",
       "      <td>10.017414</td>\n",
       "      <td>9.0</td>\n",
       "      <td>...</td>\n",
       "      <td>4.758024</td>\n",
       "      <td>6.0</td>\n",
       "      <td>11.0</td>\n",
       "      <td>29.0</td>\n",
       "      <td>100.0</td>\n",
       "      <td>0.00</td>\n",
       "      <td>0.000000</td>\n",
       "      <td>0.0</td>\n",
       "      <td>0.0</td>\n",
       "      <td>0.0</td>\n",
       "    </tr>\n",
       "    <tr>\n",
       "      <th>1.0</th>\n",
       "      <td>100.0</td>\n",
       "      <td>20.96</td>\n",
       "      <td>10.773068</td>\n",
       "      <td>10.0</td>\n",
       "      <td>17.0</td>\n",
       "      <td>61.0</td>\n",
       "      <td>100.0</td>\n",
       "      <td>20.96</td>\n",
       "      <td>10.773068</td>\n",
       "      <td>10.0</td>\n",
       "      <td>...</td>\n",
       "      <td>5.456680</td>\n",
       "      <td>7.0</td>\n",
       "      <td>10.0</td>\n",
       "      <td>31.0</td>\n",
       "      <td>100.0</td>\n",
       "      <td>0.15</td>\n",
       "      <td>0.385992</td>\n",
       "      <td>0.0</td>\n",
       "      <td>0.0</td>\n",
       "      <td>2.0</td>\n",
       "    </tr>\n",
       "    <tr>\n",
       "      <th rowspan=\"4\" valign=\"top\">zero_shot_prompt</th>\n",
       "      <th>0.1</th>\n",
       "      <td>100.0</td>\n",
       "      <td>9.35</td>\n",
       "      <td>0.770347</td>\n",
       "      <td>8.0</td>\n",
       "      <td>9.0</td>\n",
       "      <td>11.0</td>\n",
       "      <td>100.0</td>\n",
       "      <td>9.35</td>\n",
       "      <td>0.770347</td>\n",
       "      <td>8.0</td>\n",
       "      <td>...</td>\n",
       "      <td>0.272660</td>\n",
       "      <td>0.0</td>\n",
       "      <td>0.0</td>\n",
       "      <td>1.0</td>\n",
       "      <td>100.0</td>\n",
       "      <td>0.15</td>\n",
       "      <td>0.358870</td>\n",
       "      <td>0.0</td>\n",
       "      <td>0.0</td>\n",
       "      <td>1.0</td>\n",
       "    </tr>\n",
       "    <tr>\n",
       "      <th>0.4</th>\n",
       "      <td>100.0</td>\n",
       "      <td>10.22</td>\n",
       "      <td>1.251908</td>\n",
       "      <td>8.0</td>\n",
       "      <td>10.0</td>\n",
       "      <td>17.0</td>\n",
       "      <td>100.0</td>\n",
       "      <td>10.22</td>\n",
       "      <td>1.251908</td>\n",
       "      <td>8.0</td>\n",
       "      <td>...</td>\n",
       "      <td>0.874498</td>\n",
       "      <td>0.0</td>\n",
       "      <td>1.0</td>\n",
       "      <td>4.0</td>\n",
       "      <td>100.0</td>\n",
       "      <td>1.28</td>\n",
       "      <td>1.101697</td>\n",
       "      <td>0.0</td>\n",
       "      <td>1.0</td>\n",
       "      <td>5.0</td>\n",
       "    </tr>\n",
       "    <tr>\n",
       "      <th>0.7</th>\n",
       "      <td>100.0</td>\n",
       "      <td>10.33</td>\n",
       "      <td>1.435868</td>\n",
       "      <td>8.0</td>\n",
       "      <td>10.0</td>\n",
       "      <td>16.0</td>\n",
       "      <td>100.0</td>\n",
       "      <td>10.33</td>\n",
       "      <td>1.435868</td>\n",
       "      <td>8.0</td>\n",
       "      <td>...</td>\n",
       "      <td>1.166667</td>\n",
       "      <td>0.0</td>\n",
       "      <td>1.0</td>\n",
       "      <td>7.0</td>\n",
       "      <td>100.0</td>\n",
       "      <td>2.36</td>\n",
       "      <td>1.592406</td>\n",
       "      <td>0.0</td>\n",
       "      <td>2.0</td>\n",
       "      <td>10.0</td>\n",
       "    </tr>\n",
       "    <tr>\n",
       "      <th>1.0</th>\n",
       "      <td>100.0</td>\n",
       "      <td>10.86</td>\n",
       "      <td>2.113067</td>\n",
       "      <td>8.0</td>\n",
       "      <td>10.0</td>\n",
       "      <td>20.0</td>\n",
       "      <td>100.0</td>\n",
       "      <td>10.86</td>\n",
       "      <td>2.113067</td>\n",
       "      <td>8.0</td>\n",
       "      <td>...</td>\n",
       "      <td>1.343296</td>\n",
       "      <td>0.0</td>\n",
       "      <td>1.0</td>\n",
       "      <td>6.0</td>\n",
       "      <td>100.0</td>\n",
       "      <td>3.06</td>\n",
       "      <td>1.942715</td>\n",
       "      <td>0.0</td>\n",
       "      <td>3.0</td>\n",
       "      <td>11.0</td>\n",
       "    </tr>\n",
       "  </tbody>\n",
       "</table>\n",
       "<p>17 rows × 30 columns</p>\n",
       "</div>"
      ],
      "text/plain": [
       "                                    timesteps                                \\\n",
       "                                        count   mean        std   min   50%   \n",
       "promptKey               temperature                                           \n",
       "Chain_of_Thought_prompt 0.1             100.0  41.06   8.966627  25.0  40.0   \n",
       "                        0.4             100.0  41.92   9.545934  24.0  41.0   \n",
       "                        0.7             100.0  39.19  11.269602  13.0  39.0   \n",
       "                        1.0             100.0  41.85  15.109951  14.0  39.5   \n",
       "Random                  0.0             100.0  21.10  10.502044   9.0  17.0   \n",
       "few_shot_prompt         0.1             100.0  45.91  17.496952  13.0  42.5   \n",
       "                        0.4             100.0  44.75  22.609274  11.0  43.0   \n",
       "                        0.7             100.0  41.70  23.437646  11.0  37.0   \n",
       "                        1.0             100.0  38.01  18.633355  12.0  35.0   \n",
       "one_shot_prompt         0.1             100.0  20.18  10.734049   8.0  17.5   \n",
       "                        0.4             100.0  18.96   9.978684   9.0  16.5   \n",
       "                        0.7             100.0  20.43  10.017414   9.0  18.5   \n",
       "                        1.0             100.0  20.96  10.773068  10.0  17.0   \n",
       "zero_shot_prompt        0.1             100.0   9.35   0.770347   8.0   9.0   \n",
       "                        0.4             100.0  10.22   1.251908   8.0  10.0   \n",
       "                        0.7             100.0  10.33   1.435868   8.0  10.0   \n",
       "                        1.0             100.0  10.86   2.113067   8.0  10.0   \n",
       "\n",
       "                                           rewards                          \\\n",
       "                                       max   count   mean        std   min   \n",
       "promptKey               temperature                                          \n",
       "Chain_of_Thought_prompt 0.1           68.0   100.0  41.06   8.966627  25.0   \n",
       "                        0.4           64.0   100.0  41.92   9.545934  24.0   \n",
       "                        0.7           84.0   100.0  39.19  11.269602  13.0   \n",
       "                        1.0           86.0   100.0  41.85  15.109951  14.0   \n",
       "Random                  0.0           80.0   100.0  21.10  10.502044   9.0   \n",
       "few_shot_prompt         0.1           89.0   100.0  45.91  17.496952  13.0   \n",
       "                        0.4          141.0   100.0  44.75  22.609274  11.0   \n",
       "                        0.7          120.0   100.0  41.70  23.437646  11.0   \n",
       "                        1.0           99.0   100.0  38.01  18.633355  12.0   \n",
       "one_shot_prompt         0.1           57.0   100.0  20.18  10.734049   8.0   \n",
       "                        0.4           67.0   100.0  18.96   9.978684   9.0   \n",
       "                        0.7           59.0   100.0  20.43  10.017414   9.0   \n",
       "                        1.0           61.0   100.0  20.96  10.773068  10.0   \n",
       "zero_shot_prompt        0.1           11.0   100.0   9.35   0.770347   8.0   \n",
       "                        0.4           17.0   100.0  10.22   1.251908   8.0   \n",
       "                        0.7           16.0   100.0  10.33   1.435868   8.0   \n",
       "                        1.0           20.0   100.0  10.86   2.113067   8.0   \n",
       "\n",
       "                                     ... rightActions                    \\\n",
       "                                     ...          std   min   50%   max   \n",
       "promptKey               temperature  ...                                  \n",
       "Chain_of_Thought_prompt 0.1          ...     4.377387  11.0  19.5  32.0   \n",
       "                        0.4          ...     4.651100  10.0  20.0  31.0   \n",
       "                        0.7          ...     6.036923   5.0  18.0  39.0   \n",
       "                        1.0          ...     7.613412   7.0  18.0  44.0   \n",
       "Random                  0.0          ...     5.603489   1.0  10.0  38.0   \n",
       "few_shot_prompt         0.1          ...     8.644003   7.0  23.0  43.0   \n",
       "                        0.4          ...    11.442482   7.0  21.5  70.0   \n",
       "                        0.7          ...    11.913052   4.0  18.5  61.0   \n",
       "                        1.0          ...     9.103729   5.0  18.0  49.0   \n",
       "one_shot_prompt         0.1          ...     5.422139   6.0  10.0  30.0   \n",
       "                        0.4          ...     4.924429   6.0  10.0  34.0   \n",
       "                        0.7          ...     4.758024   6.0  11.0  29.0   \n",
       "                        1.0          ...     5.456680   7.0  10.0  31.0   \n",
       "zero_shot_prompt        0.1          ...     0.272660   0.0   0.0   1.0   \n",
       "                        0.4          ...     0.874498   0.0   1.0   4.0   \n",
       "                        0.7          ...     1.166667   0.0   1.0   7.0   \n",
       "                        1.0          ...     1.343296   0.0   1.0   6.0   \n",
       "\n",
       "                                    randomActions                         \\\n",
       "                                            count   mean        std  min   \n",
       "promptKey               temperature                                        \n",
       "Chain_of_Thought_prompt 0.1                 100.0   0.03   0.171447  0.0   \n",
       "                        0.4                 100.0   0.03   0.171447  0.0   \n",
       "                        0.7                 100.0   0.46   0.687845  0.0   \n",
       "                        1.0                 100.0   2.95   2.076200  0.0   \n",
       "Random                  0.0                 100.0  21.10  10.502044  9.0   \n",
       "few_shot_prompt         0.1                 100.0   0.00   0.000000  0.0   \n",
       "                        0.4                 100.0   0.00   0.000000  0.0   \n",
       "                        0.7                 100.0   0.03   0.171447  0.0   \n",
       "                        1.0                 100.0   0.74   0.894653  0.0   \n",
       "one_shot_prompt         0.1                 100.0   0.00   0.000000  0.0   \n",
       "                        0.4                 100.0   0.00   0.000000  0.0   \n",
       "                        0.7                 100.0   0.00   0.000000  0.0   \n",
       "                        1.0                 100.0   0.15   0.385992  0.0   \n",
       "zero_shot_prompt        0.1                 100.0   0.15   0.358870  0.0   \n",
       "                        0.4                 100.0   1.28   1.101697  0.0   \n",
       "                        0.7                 100.0   2.36   1.592406  0.0   \n",
       "                        1.0                 100.0   3.06   1.942715  0.0   \n",
       "\n",
       "                                                 \n",
       "                                      50%   max  \n",
       "promptKey               temperature              \n",
       "Chain_of_Thought_prompt 0.1           0.0   1.0  \n",
       "                        0.4           0.0   1.0  \n",
       "                        0.7           0.0   3.0  \n",
       "                        1.0           3.0   9.0  \n",
       "Random                  0.0          17.0  80.0  \n",
       "few_shot_prompt         0.1           0.0   0.0  \n",
       "                        0.4           0.0   0.0  \n",
       "                        0.7           0.0   1.0  \n",
       "                        1.0           0.0   4.0  \n",
       "one_shot_prompt         0.1           0.0   0.0  \n",
       "                        0.4           0.0   0.0  \n",
       "                        0.7           0.0   0.0  \n",
       "                        1.0           0.0   2.0  \n",
       "zero_shot_prompt        0.1           0.0   1.0  \n",
       "                        0.4           1.0   5.0  \n",
       "                        0.7           2.0  10.0  \n",
       "                        1.0           3.0  11.0  \n",
       "\n",
       "[17 rows x 30 columns]"
      ]
     },
     "execution_count": 66,
     "metadata": {},
     "output_type": "execute_result"
    }
   ],
   "source": [
    "dfCartPoleLLM.groupby([\"promptKey\",\"temperature\"]).describe(percentiles=[])"
   ]
  },
  {
   "cell_type": "code",
   "execution_count": 67,
   "id": "403e9329-01bf-47d0-9a98-f84fdd98a63c",
   "metadata": {
    "scrolled": true
   },
   "outputs": [
    {
     "data": {
      "text/html": [
       "<div>\n",
       "<style scoped>\n",
       "    .dataframe tbody tr th:only-of-type {\n",
       "        vertical-align: middle;\n",
       "    }\n",
       "\n",
       "    .dataframe tbody tr th {\n",
       "        vertical-align: top;\n",
       "    }\n",
       "\n",
       "    .dataframe thead th {\n",
       "        text-align: right;\n",
       "    }\n",
       "</style>\n",
       "<table border=\"1\" class=\"dataframe\">\n",
       "  <thead>\n",
       "    <tr style=\"text-align: right;\">\n",
       "      <th></th>\n",
       "      <th></th>\n",
       "      <th>games</th>\n",
       "      <th>timesteps</th>\n",
       "      <th>left</th>\n",
       "      <th>right</th>\n",
       "      <th>random</th>\n",
       "      <th>rewards</th>\n",
       "    </tr>\n",
       "    <tr>\n",
       "      <th>promptKey</th>\n",
       "      <th>temperature</th>\n",
       "      <th></th>\n",
       "      <th></th>\n",
       "      <th></th>\n",
       "      <th></th>\n",
       "      <th></th>\n",
       "      <th></th>\n",
       "    </tr>\n",
       "  </thead>\n",
       "  <tbody>\n",
       "    <tr>\n",
       "      <th rowspan=\"4\" valign=\"top\">Chain_of_Thought_prompt</th>\n",
       "      <th>0.1</th>\n",
       "      <td>100</td>\n",
       "      <td>4106</td>\n",
       "      <td>2105 (51.3%)</td>\n",
       "      <td>2001 (48.7%)</td>\n",
       "      <td>3 (0.1%)</td>\n",
       "      <td>41.06</td>\n",
       "    </tr>\n",
       "    <tr>\n",
       "      <th>0.4</th>\n",
       "      <td>100</td>\n",
       "      <td>4192</td>\n",
       "      <td>2186 (52.1%)</td>\n",
       "      <td>2006 (47.9%)</td>\n",
       "      <td>3 (0.1%)</td>\n",
       "      <td>41.92</td>\n",
       "    </tr>\n",
       "    <tr>\n",
       "      <th>0.7</th>\n",
       "      <td>100</td>\n",
       "      <td>3919</td>\n",
       "      <td>2039 (52.0%)</td>\n",
       "      <td>1880 (48.0%)</td>\n",
       "      <td>46 (1.2%)</td>\n",
       "      <td>39.19</td>\n",
       "    </tr>\n",
       "    <tr>\n",
       "      <th>1.0</th>\n",
       "      <td>100</td>\n",
       "      <td>4185</td>\n",
       "      <td>2219 (53.0%)</td>\n",
       "      <td>1966 (47.0%)</td>\n",
       "      <td>295 (7.0%)</td>\n",
       "      <td>41.85</td>\n",
       "    </tr>\n",
       "    <tr>\n",
       "      <th>Random</th>\n",
       "      <th>0.0</th>\n",
       "      <td>100</td>\n",
       "      <td>2110</td>\n",
       "      <td>1053 (49.9%)</td>\n",
       "      <td>1057 (50.1%)</td>\n",
       "      <td>2110 (100.0%)</td>\n",
       "      <td>21.10</td>\n",
       "    </tr>\n",
       "    <tr>\n",
       "      <th rowspan=\"4\" valign=\"top\">few_shot_prompt</th>\n",
       "      <th>0.1</th>\n",
       "      <td>100</td>\n",
       "      <td>4591</td>\n",
       "      <td>2213 (48.2%)</td>\n",
       "      <td>2378 (51.8%)</td>\n",
       "      <td>0 (0.0%)</td>\n",
       "      <td>45.91</td>\n",
       "    </tr>\n",
       "    <tr>\n",
       "      <th>0.4</th>\n",
       "      <td>100</td>\n",
       "      <td>4475</td>\n",
       "      <td>2192 (49.0%)</td>\n",
       "      <td>2283 (51.0%)</td>\n",
       "      <td>0 (0.0%)</td>\n",
       "      <td>44.75</td>\n",
       "    </tr>\n",
       "    <tr>\n",
       "      <th>0.7</th>\n",
       "      <td>100</td>\n",
       "      <td>4170</td>\n",
       "      <td>2042 (49.0%)</td>\n",
       "      <td>2128 (51.0%)</td>\n",
       "      <td>3 (0.1%)</td>\n",
       "      <td>41.70</td>\n",
       "    </tr>\n",
       "    <tr>\n",
       "      <th>1.0</th>\n",
       "      <td>100</td>\n",
       "      <td>3801</td>\n",
       "      <td>1848 (48.6%)</td>\n",
       "      <td>1953 (51.4%)</td>\n",
       "      <td>74 (1.9%)</td>\n",
       "      <td>38.01</td>\n",
       "    </tr>\n",
       "    <tr>\n",
       "      <th rowspan=\"4\" valign=\"top\">one_shot_prompt</th>\n",
       "      <th>0.1</th>\n",
       "      <td>100</td>\n",
       "      <td>2018</td>\n",
       "      <td>830 (41.1%)</td>\n",
       "      <td>1188 (58.9%)</td>\n",
       "      <td>0 (0.0%)</td>\n",
       "      <td>20.18</td>\n",
       "    </tr>\n",
       "    <tr>\n",
       "      <th>0.4</th>\n",
       "      <td>100</td>\n",
       "      <td>1896</td>\n",
       "      <td>761 (40.1%)</td>\n",
       "      <td>1135 (59.9%)</td>\n",
       "      <td>0 (0.0%)</td>\n",
       "      <td>18.96</td>\n",
       "    </tr>\n",
       "    <tr>\n",
       "      <th>0.7</th>\n",
       "      <td>100</td>\n",
       "      <td>2043</td>\n",
       "      <td>817 (40.0%)</td>\n",
       "      <td>1226 (60.0%)</td>\n",
       "      <td>0 (0.0%)</td>\n",
       "      <td>20.43</td>\n",
       "    </tr>\n",
       "    <tr>\n",
       "      <th>1.0</th>\n",
       "      <td>100</td>\n",
       "      <td>2096</td>\n",
       "      <td>864 (41.2%)</td>\n",
       "      <td>1232 (58.8%)</td>\n",
       "      <td>15 (0.7%)</td>\n",
       "      <td>20.96</td>\n",
       "    </tr>\n",
       "    <tr>\n",
       "      <th rowspan=\"4\" valign=\"top\">zero_shot_prompt</th>\n",
       "      <th>0.1</th>\n",
       "      <td>100</td>\n",
       "      <td>935</td>\n",
       "      <td>927 (99.1%)</td>\n",
       "      <td>8 (0.9%)</td>\n",
       "      <td>15 (1.6%)</td>\n",
       "      <td>9.35</td>\n",
       "    </tr>\n",
       "    <tr>\n",
       "      <th>0.4</th>\n",
       "      <td>100</td>\n",
       "      <td>1022</td>\n",
       "      <td>949 (92.9%)</td>\n",
       "      <td>73 (7.1%)</td>\n",
       "      <td>128 (12.5%)</td>\n",
       "      <td>10.22</td>\n",
       "    </tr>\n",
       "    <tr>\n",
       "      <th>0.7</th>\n",
       "      <td>100</td>\n",
       "      <td>1033</td>\n",
       "      <td>928 (89.8%)</td>\n",
       "      <td>105 (10.2%)</td>\n",
       "      <td>236 (22.8%)</td>\n",
       "      <td>10.33</td>\n",
       "    </tr>\n",
       "    <tr>\n",
       "      <th>1.0</th>\n",
       "      <td>100</td>\n",
       "      <td>1086</td>\n",
       "      <td>930 (85.6%)</td>\n",
       "      <td>156 (14.4%)</td>\n",
       "      <td>306 (28.2%)</td>\n",
       "      <td>10.86</td>\n",
       "    </tr>\n",
       "  </tbody>\n",
       "</table>\n",
       "</div>"
      ],
      "text/plain": [
       "                                     games  timesteps          left  \\\n",
       "promptKey               temperature                                   \n",
       "Chain_of_Thought_prompt 0.1            100       4106  2105 (51.3%)   \n",
       "                        0.4            100       4192  2186 (52.1%)   \n",
       "                        0.7            100       3919  2039 (52.0%)   \n",
       "                        1.0            100       4185  2219 (53.0%)   \n",
       "Random                  0.0            100       2110  1053 (49.9%)   \n",
       "few_shot_prompt         0.1            100       4591  2213 (48.2%)   \n",
       "                        0.4            100       4475  2192 (49.0%)   \n",
       "                        0.7            100       4170  2042 (49.0%)   \n",
       "                        1.0            100       3801  1848 (48.6%)   \n",
       "one_shot_prompt         0.1            100       2018   830 (41.1%)   \n",
       "                        0.4            100       1896   761 (40.1%)   \n",
       "                        0.7            100       2043   817 (40.0%)   \n",
       "                        1.0            100       2096   864 (41.2%)   \n",
       "zero_shot_prompt        0.1            100        935   927 (99.1%)   \n",
       "                        0.4            100       1022   949 (92.9%)   \n",
       "                        0.7            100       1033   928 (89.8%)   \n",
       "                        1.0            100       1086   930 (85.6%)   \n",
       "\n",
       "                                            right         random  rewards  \n",
       "promptKey               temperature                                        \n",
       "Chain_of_Thought_prompt 0.1          2001 (48.7%)       3 (0.1%)    41.06  \n",
       "                        0.4          2006 (47.9%)       3 (0.1%)    41.92  \n",
       "                        0.7          1880 (48.0%)      46 (1.2%)    39.19  \n",
       "                        1.0          1966 (47.0%)     295 (7.0%)    41.85  \n",
       "Random                  0.0          1057 (50.1%)  2110 (100.0%)    21.10  \n",
       "few_shot_prompt         0.1          2378 (51.8%)       0 (0.0%)    45.91  \n",
       "                        0.4          2283 (51.0%)       0 (0.0%)    44.75  \n",
       "                        0.7          2128 (51.0%)       3 (0.1%)    41.70  \n",
       "                        1.0          1953 (51.4%)      74 (1.9%)    38.01  \n",
       "one_shot_prompt         0.1          1188 (58.9%)       0 (0.0%)    20.18  \n",
       "                        0.4          1135 (59.9%)       0 (0.0%)    18.96  \n",
       "                        0.7          1226 (60.0%)       0 (0.0%)    20.43  \n",
       "                        1.0          1232 (58.8%)      15 (0.7%)    20.96  \n",
       "zero_shot_prompt        0.1              8 (0.9%)      15 (1.6%)     9.35  \n",
       "                        0.4             73 (7.1%)    128 (12.5%)    10.22  \n",
       "                        0.7           105 (10.2%)    236 (22.8%)    10.33  \n",
       "                        1.0           156 (14.4%)    306 (28.2%)    10.86  "
      ]
     },
     "execution_count": 67,
     "metadata": {},
     "output_type": "execute_result"
    }
   ],
   "source": [
    "pivot = dfCartPoleLLM.pivot_table(\n",
    "    [\"timesteps\", \"leftActions\", \"rightActions\", \"randomActions\", \"rewards\"],\n",
    "    [\"promptKey\", \"temperature\"],\n",
    "    aggfunc={\"timesteps\": \"sum\",\n",
    "             \"leftActions\": \"sum\",\n",
    "             \"rightActions\": \"sum\",\n",
    "             \"randomActions\": \"sum\",\n",
    "             \"rewards\": \"mean\"}  # Use \"mean\" for average instead of \"sum\"\n",
    ")\n",
    "\n",
    "pivot['games'] = 100\n",
    "pivot['% left'] = (pivot.leftActions / pivot.timesteps *100 )\n",
    "pivot['% right'] = (pivot.rightActions / pivot.timesteps *100 )\n",
    "pivot['% random'] = (pivot.randomActions / pivot.timesteps *100 )\n",
    "\n",
    "# Merge columns into one column in the correct format\n",
    "pivot['left'] = pivot['leftActions'].astype(str) + ' (' + pivot['% left'].map('{:.1f}'.format).astype(str) + '%)'\n",
    "pivot['right'] = pivot['rightActions'].astype(str) + ' (' + pivot['% right'].map('{:.1f}'.format).astype(str) + '%)'\n",
    "pivot['random'] = pivot['randomActions'].astype(str) + ' (' + pivot['% random'].map('{:.1f}'.format).astype(str) + '%)'\n",
    "\n",
    "pivotOrdered = pivot[[\"games\", \"timesteps\", \"left\", 'right', \"random\", \"rewards\"]].copy()\n",
    "pivotOrdered"
   ]
  },
  {
   "cell_type": "markdown",
   "id": "0b46db57-cc11-4d19-a4b9-c9377dcccd04",
   "metadata": {},
   "source": [
    "<BR><BR><h1>Step 3: Visualizing the data</h1>"
   ]
  },
  {
   "cell_type": "code",
   "execution_count": 68,
   "id": "0fcdd43d",
   "metadata": {},
   "outputs": [
    {
     "data": {
      "application/vnd.plotly.v1+json": {
       "config": {
        "plotlyServerURL": "https://plot.ly"
       },
       "data": [
        {
         "customdata": [
          41.005,
          21.1,
          42.5925,
          20.1325,
          10.19
         ],
         "name": "Left",
         "orientation": "h",
         "type": "bar",
         "x": [
          -21.3725,
          -10.53,
          -20.7375,
          -8.18,
          -9.335
         ],
         "y": [
          "Chain_of_Thought_prompt",
          "Random",
          "few_shot_prompt",
          "one_shot_prompt",
          "zero_shot_prompt"
         ]
        },
        {
         "customdata": [
          41.005,
          21.1,
          42.5925,
          20.1325,
          10.19
         ],
         "name": "Right",
         "orientation": "h",
         "type": "bar",
         "x": [
          19.6325,
          10.57,
          21.855,
          11.9525,
          0.855
         ],
         "y": [
          "Chain_of_Thought_prompt",
          "Random",
          "few_shot_prompt",
          "one_shot_prompt",
          "zero_shot_prompt"
         ]
        }
       ],
       "layout": {
        "bargap": 0.01,
        "barmode": "relative",
        "height": 400,
        "legend": {
         "orientation": "h",
         "x": 0.1,
         "y": -0.1
        },
        "template": {
         "data": {
          "bar": [
           {
            "error_x": {
             "color": "#2a3f5f"
            },
            "error_y": {
             "color": "#2a3f5f"
            },
            "marker": {
             "line": {
              "color": "#E5ECF6",
              "width": 0.5
             },
             "pattern": {
              "fillmode": "overlay",
              "size": 10,
              "solidity": 0.2
             }
            },
            "type": "bar"
           }
          ],
          "barpolar": [
           {
            "marker": {
             "line": {
              "color": "#E5ECF6",
              "width": 0.5
             },
             "pattern": {
              "fillmode": "overlay",
              "size": 10,
              "solidity": 0.2
             }
            },
            "type": "barpolar"
           }
          ],
          "carpet": [
           {
            "aaxis": {
             "endlinecolor": "#2a3f5f",
             "gridcolor": "white",
             "linecolor": "white",
             "minorgridcolor": "white",
             "startlinecolor": "#2a3f5f"
            },
            "baxis": {
             "endlinecolor": "#2a3f5f",
             "gridcolor": "white",
             "linecolor": "white",
             "minorgridcolor": "white",
             "startlinecolor": "#2a3f5f"
            },
            "type": "carpet"
           }
          ],
          "choropleth": [
           {
            "colorbar": {
             "outlinewidth": 0,
             "ticks": ""
            },
            "type": "choropleth"
           }
          ],
          "contour": [
           {
            "colorbar": {
             "outlinewidth": 0,
             "ticks": ""
            },
            "colorscale": [
             [
              0,
              "#0d0887"
             ],
             [
              0.1111111111111111,
              "#46039f"
             ],
             [
              0.2222222222222222,
              "#7201a8"
             ],
             [
              0.3333333333333333,
              "#9c179e"
             ],
             [
              0.4444444444444444,
              "#bd3786"
             ],
             [
              0.5555555555555556,
              "#d8576b"
             ],
             [
              0.6666666666666666,
              "#ed7953"
             ],
             [
              0.7777777777777778,
              "#fb9f3a"
             ],
             [
              0.8888888888888888,
              "#fdca26"
             ],
             [
              1,
              "#f0f921"
             ]
            ],
            "type": "contour"
           }
          ],
          "contourcarpet": [
           {
            "colorbar": {
             "outlinewidth": 0,
             "ticks": ""
            },
            "type": "contourcarpet"
           }
          ],
          "heatmap": [
           {
            "colorbar": {
             "outlinewidth": 0,
             "ticks": ""
            },
            "colorscale": [
             [
              0,
              "#0d0887"
             ],
             [
              0.1111111111111111,
              "#46039f"
             ],
             [
              0.2222222222222222,
              "#7201a8"
             ],
             [
              0.3333333333333333,
              "#9c179e"
             ],
             [
              0.4444444444444444,
              "#bd3786"
             ],
             [
              0.5555555555555556,
              "#d8576b"
             ],
             [
              0.6666666666666666,
              "#ed7953"
             ],
             [
              0.7777777777777778,
              "#fb9f3a"
             ],
             [
              0.8888888888888888,
              "#fdca26"
             ],
             [
              1,
              "#f0f921"
             ]
            ],
            "type": "heatmap"
           }
          ],
          "heatmapgl": [
           {
            "colorbar": {
             "outlinewidth": 0,
             "ticks": ""
            },
            "colorscale": [
             [
              0,
              "#0d0887"
             ],
             [
              0.1111111111111111,
              "#46039f"
             ],
             [
              0.2222222222222222,
              "#7201a8"
             ],
             [
              0.3333333333333333,
              "#9c179e"
             ],
             [
              0.4444444444444444,
              "#bd3786"
             ],
             [
              0.5555555555555556,
              "#d8576b"
             ],
             [
              0.6666666666666666,
              "#ed7953"
             ],
             [
              0.7777777777777778,
              "#fb9f3a"
             ],
             [
              0.8888888888888888,
              "#fdca26"
             ],
             [
              1,
              "#f0f921"
             ]
            ],
            "type": "heatmapgl"
           }
          ],
          "histogram": [
           {
            "marker": {
             "pattern": {
              "fillmode": "overlay",
              "size": 10,
              "solidity": 0.2
             }
            },
            "type": "histogram"
           }
          ],
          "histogram2d": [
           {
            "colorbar": {
             "outlinewidth": 0,
             "ticks": ""
            },
            "colorscale": [
             [
              0,
              "#0d0887"
             ],
             [
              0.1111111111111111,
              "#46039f"
             ],
             [
              0.2222222222222222,
              "#7201a8"
             ],
             [
              0.3333333333333333,
              "#9c179e"
             ],
             [
              0.4444444444444444,
              "#bd3786"
             ],
             [
              0.5555555555555556,
              "#d8576b"
             ],
             [
              0.6666666666666666,
              "#ed7953"
             ],
             [
              0.7777777777777778,
              "#fb9f3a"
             ],
             [
              0.8888888888888888,
              "#fdca26"
             ],
             [
              1,
              "#f0f921"
             ]
            ],
            "type": "histogram2d"
           }
          ],
          "histogram2dcontour": [
           {
            "colorbar": {
             "outlinewidth": 0,
             "ticks": ""
            },
            "colorscale": [
             [
              0,
              "#0d0887"
             ],
             [
              0.1111111111111111,
              "#46039f"
             ],
             [
              0.2222222222222222,
              "#7201a8"
             ],
             [
              0.3333333333333333,
              "#9c179e"
             ],
             [
              0.4444444444444444,
              "#bd3786"
             ],
             [
              0.5555555555555556,
              "#d8576b"
             ],
             [
              0.6666666666666666,
              "#ed7953"
             ],
             [
              0.7777777777777778,
              "#fb9f3a"
             ],
             [
              0.8888888888888888,
              "#fdca26"
             ],
             [
              1,
              "#f0f921"
             ]
            ],
            "type": "histogram2dcontour"
           }
          ],
          "mesh3d": [
           {
            "colorbar": {
             "outlinewidth": 0,
             "ticks": ""
            },
            "type": "mesh3d"
           }
          ],
          "parcoords": [
           {
            "line": {
             "colorbar": {
              "outlinewidth": 0,
              "ticks": ""
             }
            },
            "type": "parcoords"
           }
          ],
          "pie": [
           {
            "automargin": true,
            "type": "pie"
           }
          ],
          "scatter": [
           {
            "fillpattern": {
             "fillmode": "overlay",
             "size": 10,
             "solidity": 0.2
            },
            "type": "scatter"
           }
          ],
          "scatter3d": [
           {
            "line": {
             "colorbar": {
              "outlinewidth": 0,
              "ticks": ""
             }
            },
            "marker": {
             "colorbar": {
              "outlinewidth": 0,
              "ticks": ""
             }
            },
            "type": "scatter3d"
           }
          ],
          "scattercarpet": [
           {
            "marker": {
             "colorbar": {
              "outlinewidth": 0,
              "ticks": ""
             }
            },
            "type": "scattercarpet"
           }
          ],
          "scattergeo": [
           {
            "marker": {
             "colorbar": {
              "outlinewidth": 0,
              "ticks": ""
             }
            },
            "type": "scattergeo"
           }
          ],
          "scattergl": [
           {
            "marker": {
             "colorbar": {
              "outlinewidth": 0,
              "ticks": ""
             }
            },
            "type": "scattergl"
           }
          ],
          "scattermapbox": [
           {
            "marker": {
             "colorbar": {
              "outlinewidth": 0,
              "ticks": ""
             }
            },
            "type": "scattermapbox"
           }
          ],
          "scatterpolar": [
           {
            "marker": {
             "colorbar": {
              "outlinewidth": 0,
              "ticks": ""
             }
            },
            "type": "scatterpolar"
           }
          ],
          "scatterpolargl": [
           {
            "marker": {
             "colorbar": {
              "outlinewidth": 0,
              "ticks": ""
             }
            },
            "type": "scatterpolargl"
           }
          ],
          "scatterternary": [
           {
            "marker": {
             "colorbar": {
              "outlinewidth": 0,
              "ticks": ""
             }
            },
            "type": "scatterternary"
           }
          ],
          "surface": [
           {
            "colorbar": {
             "outlinewidth": 0,
             "ticks": ""
            },
            "colorscale": [
             [
              0,
              "#0d0887"
             ],
             [
              0.1111111111111111,
              "#46039f"
             ],
             [
              0.2222222222222222,
              "#7201a8"
             ],
             [
              0.3333333333333333,
              "#9c179e"
             ],
             [
              0.4444444444444444,
              "#bd3786"
             ],
             [
              0.5555555555555556,
              "#d8576b"
             ],
             [
              0.6666666666666666,
              "#ed7953"
             ],
             [
              0.7777777777777778,
              "#fb9f3a"
             ],
             [
              0.8888888888888888,
              "#fdca26"
             ],
             [
              1,
              "#f0f921"
             ]
            ],
            "type": "surface"
           }
          ],
          "table": [
           {
            "cells": {
             "fill": {
              "color": "#EBF0F8"
             },
             "line": {
              "color": "white"
             }
            },
            "header": {
             "fill": {
              "color": "#C8D4E3"
             },
             "line": {
              "color": "white"
             }
            },
            "type": "table"
           }
          ]
         },
         "layout": {
          "annotationdefaults": {
           "arrowcolor": "#2a3f5f",
           "arrowhead": 0,
           "arrowwidth": 1
          },
          "autotypenumbers": "strict",
          "coloraxis": {
           "colorbar": {
            "outlinewidth": 0,
            "ticks": ""
           }
          },
          "colorscale": {
           "diverging": [
            [
             0,
             "#8e0152"
            ],
            [
             0.1,
             "#c51b7d"
            ],
            [
             0.2,
             "#de77ae"
            ],
            [
             0.3,
             "#f1b6da"
            ],
            [
             0.4,
             "#fde0ef"
            ],
            [
             0.5,
             "#f7f7f7"
            ],
            [
             0.6,
             "#e6f5d0"
            ],
            [
             0.7,
             "#b8e186"
            ],
            [
             0.8,
             "#7fbc41"
            ],
            [
             0.9,
             "#4d9221"
            ],
            [
             1,
             "#276419"
            ]
           ],
           "sequential": [
            [
             0,
             "#0d0887"
            ],
            [
             0.1111111111111111,
             "#46039f"
            ],
            [
             0.2222222222222222,
             "#7201a8"
            ],
            [
             0.3333333333333333,
             "#9c179e"
            ],
            [
             0.4444444444444444,
             "#bd3786"
            ],
            [
             0.5555555555555556,
             "#d8576b"
            ],
            [
             0.6666666666666666,
             "#ed7953"
            ],
            [
             0.7777777777777778,
             "#fb9f3a"
            ],
            [
             0.8888888888888888,
             "#fdca26"
            ],
            [
             1,
             "#f0f921"
            ]
           ],
           "sequentialminus": [
            [
             0,
             "#0d0887"
            ],
            [
             0.1111111111111111,
             "#46039f"
            ],
            [
             0.2222222222222222,
             "#7201a8"
            ],
            [
             0.3333333333333333,
             "#9c179e"
            ],
            [
             0.4444444444444444,
             "#bd3786"
            ],
            [
             0.5555555555555556,
             "#d8576b"
            ],
            [
             0.6666666666666666,
             "#ed7953"
            ],
            [
             0.7777777777777778,
             "#fb9f3a"
            ],
            [
             0.8888888888888888,
             "#fdca26"
            ],
            [
             1,
             "#f0f921"
            ]
           ]
          },
          "colorway": [
           "#636efa",
           "#EF553B",
           "#00cc96",
           "#ab63fa",
           "#FFA15A",
           "#19d3f3",
           "#FF6692",
           "#B6E880",
           "#FF97FF",
           "#FECB52"
          ],
          "font": {
           "color": "#2a3f5f"
          },
          "geo": {
           "bgcolor": "white",
           "lakecolor": "white",
           "landcolor": "#E5ECF6",
           "showlakes": true,
           "showland": true,
           "subunitcolor": "white"
          },
          "hoverlabel": {
           "align": "left"
          },
          "hovermode": "closest",
          "mapbox": {
           "style": "light"
          },
          "paper_bgcolor": "white",
          "plot_bgcolor": "#E5ECF6",
          "polar": {
           "angularaxis": {
            "gridcolor": "white",
            "linecolor": "white",
            "ticks": ""
           },
           "bgcolor": "#E5ECF6",
           "radialaxis": {
            "gridcolor": "white",
            "linecolor": "white",
            "ticks": ""
           }
          },
          "scene": {
           "xaxis": {
            "backgroundcolor": "#E5ECF6",
            "gridcolor": "white",
            "gridwidth": 2,
            "linecolor": "white",
            "showbackground": true,
            "ticks": "",
            "zerolinecolor": "white"
           },
           "yaxis": {
            "backgroundcolor": "#E5ECF6",
            "gridcolor": "white",
            "gridwidth": 2,
            "linecolor": "white",
            "showbackground": true,
            "ticks": "",
            "zerolinecolor": "white"
           },
           "zaxis": {
            "backgroundcolor": "#E5ECF6",
            "gridcolor": "white",
            "gridwidth": 2,
            "linecolor": "white",
            "showbackground": true,
            "ticks": "",
            "zerolinecolor": "white"
           }
          },
          "shapedefaults": {
           "line": {
            "color": "#2a3f5f"
           }
          },
          "ternary": {
           "aaxis": {
            "gridcolor": "white",
            "linecolor": "white",
            "ticks": ""
           },
           "baxis": {
            "gridcolor": "white",
            "linecolor": "white",
            "ticks": ""
           },
           "bgcolor": "#E5ECF6",
           "caxis": {
            "gridcolor": "white",
            "linecolor": "white",
            "ticks": ""
           }
          },
          "title": {
           "x": 0.05
          },
          "xaxis": {
           "automargin": true,
           "gridcolor": "white",
           "linecolor": "white",
           "ticks": "",
           "title": {
            "standoff": 15
           },
           "zerolinecolor": "white",
           "zerolinewidth": 2
          },
          "yaxis": {
           "automargin": true,
           "gridcolor": "white",
           "linecolor": "white",
           "ticks": "",
           "title": {
            "standoff": 15
           },
           "zerolinecolor": "white",
           "zerolinewidth": 2
          }
         }
        },
        "title": {
         "text": "Average number of left and right actions per game"
        },
        "width": 700,
        "xaxis": {
         "autorange": true,
         "range": [
          -23.774027777777775,
          24.256527777777777
         ],
         "type": "linear"
        },
        "yaxis": {
         "autorange": true,
         "range": [
          4.5,
          -0.5
         ],
         "type": "category"
        }
       }
      },
      "image/png": "[encoded data removed]",
      "text/html": [
       "<div>                            <div id=\"9897f3ef-7185-44fc-9dd1-485f26e2eff9\" class=\"plotly-graph-div\" style=\"height:400px; width:700px;\"></div>            <script type=\"text/javascript\">                require([\"plotly\"], function(Plotly) {                    window.PLOTLYENV=window.PLOTLYENV || {};                                    if (document.getElementById(\"9897f3ef-7185-44fc-9dd1-485f26e2eff9\")) {                    Plotly.newPlot(                        \"9897f3ef-7185-44fc-9dd1-485f26e2eff9\",                        [{\"customdata\":[41.005,21.1,42.5925,20.1325,10.19],\"name\":\"Left\",\"orientation\":\"h\",\"x\":[-21.3725,-10.53,-20.7375,-8.18,-9.335],\"y\":[\"Chain_of_Thought_prompt\",\"Random\",\"few_shot_prompt\",\"one_shot_prompt\",\"zero_shot_prompt\"],\"type\":\"bar\"},{\"customdata\":[41.005,21.1,42.5925,20.1325,10.19],\"name\":\"Right\",\"orientation\":\"h\",\"x\":[19.6325,10.57,21.855,11.9525,0.855],\"y\":[\"Chain_of_Thought_prompt\",\"Random\",\"few_shot_prompt\",\"one_shot_prompt\",\"zero_shot_prompt\"],\"type\":\"bar\"}],                        {\"template\":{\"data\":{\"histogram2dcontour\":[{\"type\":\"histogram2dcontour\",\"colorbar\":{\"outlinewidth\":0,\"ticks\":\"\"},\"colorscale\":[[0.0,\"#0d0887\"],[0.1111111111111111,\"#46039f\"],[0.2222222222222222,\"#7201a8\"],[0.3333333333333333,\"#9c179e\"],[0.4444444444444444,\"#bd3786\"],[0.5555555555555556,\"#d8576b\"],[0.6666666666666666,\"#ed7953\"],[0.7777777777777778,\"#fb9f3a\"],[0.8888888888888888,\"#fdca26\"],[1.0,\"#f0f921\"]]}],\"choropleth\":[{\"type\":\"choropleth\",\"colorbar\":{\"outlinewidth\":0,\"ticks\":\"\"}}],\"histogram2d\":[{\"type\":\"histogram2d\",\"colorbar\":{\"outlinewidth\":0,\"ticks\":\"\"},\"colorscale\":[[0.0,\"#0d0887\"],[0.1111111111111111,\"#46039f\"],[0.2222222222222222,\"#7201a8\"],[0.3333333333333333,\"#9c179e\"],[0.4444444444444444,\"#bd3786\"],[0.5555555555555556,\"#d8576b\"],[0.6666666666666666,\"#ed7953\"],[0.7777777777777778,\"#fb9f3a\"],[0.8888888888888888,\"#fdca26\"],[1.0,\"#f0f921\"]]}],\"heatmap\":[{\"type\":\"heatmap\",\"colorbar\":{\"outlinewidth\":0,\"ticks\":\"\"},\"colorscale\":[[0.0,\"#0d0887\"],[0.1111111111111111,\"#46039f\"],[0.2222222222222222,\"#7201a8\"],[0.3333333333333333,\"#9c179e\"],[0.4444444444444444,\"#bd3786\"],[0.5555555555555556,\"#d8576b\"],[0.6666666666666666,\"#ed7953\"],[0.7777777777777778,\"#fb9f3a\"],[0.8888888888888888,\"#fdca26\"],[1.0,\"#f0f921\"]]}],\"heatmapgl\":[{\"type\":\"heatmapgl\",\"colorbar\":{\"outlinewidth\":0,\"ticks\":\"\"},\"colorscale\":[[0.0,\"#0d0887\"],[0.1111111111111111,\"#46039f\"],[0.2222222222222222,\"#7201a8\"],[0.3333333333333333,\"#9c179e\"],[0.4444444444444444,\"#bd3786\"],[0.5555555555555556,\"#d8576b\"],[0.6666666666666666,\"#ed7953\"],[0.7777777777777778,\"#fb9f3a\"],[0.8888888888888888,\"#fdca26\"],[1.0,\"#f0f921\"]]}],\"contourcarpet\":[{\"type\":\"contourcarpet\",\"colorbar\":{\"outlinewidth\":0,\"ticks\":\"\"}}],\"contour\":[{\"type\":\"contour\",\"colorbar\":{\"outlinewidth\":0,\"ticks\":\"\"},\"colorscale\":[[0.0,\"#0d0887\"],[0.1111111111111111,\"#46039f\"],[0.2222222222222222,\"#7201a8\"],[0.3333333333333333,\"#9c179e\"],[0.4444444444444444,\"#bd3786\"],[0.5555555555555556,\"#d8576b\"],[0.6666666666666666,\"#ed7953\"],[0.7777777777777778,\"#fb9f3a\"],[0.8888888888888888,\"#fdca26\"],[1.0,\"#f0f921\"]]}],\"surface\":[{\"type\":\"surface\",\"colorbar\":{\"outlinewidth\":0,\"ticks\":\"\"},\"colorscale\":[[0.0,\"#0d0887\"],[0.1111111111111111,\"#46039f\"],[0.2222222222222222,\"#7201a8\"],[0.3333333333333333,\"#9c179e\"],[0.4444444444444444,\"#bd3786\"],[0.5555555555555556,\"#d8576b\"],[0.6666666666666666,\"#ed7953\"],[0.7777777777777778,\"#fb9f3a\"],[0.8888888888888888,\"#fdca26\"],[1.0,\"#f0f921\"]]}],\"mesh3d\":[{\"type\":\"mesh3d\",\"colorbar\":{\"outlinewidth\":0,\"ticks\":\"\"}}],\"scatter\":[{\"fillpattern\":{\"fillmode\":\"overlay\",\"size\":10,\"solidity\":0.2},\"type\":\"scatter\"}],\"parcoords\":[{\"type\":\"parcoords\",\"line\":{\"colorbar\":{\"outlinewidth\":0,\"ticks\":\"\"}}}],\"scatterpolargl\":[{\"type\":\"scatterpolargl\",\"marker\":{\"colorbar\":{\"outlinewidth\":0,\"ticks\":\"\"}}}],\"bar\":[{\"error_x\":{\"color\":\"#2a3f5f\"},\"error_y\":{\"color\":\"#2a3f5f\"},\"marker\":{\"line\":{\"color\":\"#E5ECF6\",\"width\":0.5},\"pattern\":{\"fillmode\":\"overlay\",\"size\":10,\"solidity\":0.2}},\"type\":\"bar\"}],\"scattergeo\":[{\"type\":\"scattergeo\",\"marker\":{\"colorbar\":{\"outlinewidth\":0,\"ticks\":\"\"}}}],\"scatterpolar\":[{\"type\":\"scatterpolar\",\"marker\":{\"colorbar\":{\"outlinewidth\":0,\"ticks\":\"\"}}}],\"histogram\":[{\"marker\":{\"pattern\":{\"fillmode\":\"overlay\",\"size\":10,\"solidity\":0.2}},\"type\":\"histogram\"}],\"scattergl\":[{\"type\":\"scattergl\",\"marker\":{\"colorbar\":{\"outlinewidth\":0,\"ticks\":\"\"}}}],\"scatter3d\":[{\"type\":\"scatter3d\",\"line\":{\"colorbar\":{\"outlinewidth\":0,\"ticks\":\"\"}},\"marker\":{\"colorbar\":{\"outlinewidth\":0,\"ticks\":\"\"}}}],\"scattermapbox\":[{\"type\":\"scattermapbox\",\"marker\":{\"colorbar\":{\"outlinewidth\":0,\"ticks\":\"\"}}}],\"scatterternary\":[{\"type\":\"scatterternary\",\"marker\":{\"colorbar\":{\"outlinewidth\":0,\"ticks\":\"\"}}}],\"scattercarpet\":[{\"type\":\"scattercarpet\",\"marker\":{\"colorbar\":{\"outlinewidth\":0,\"ticks\":\"\"}}}],\"carpet\":[{\"aaxis\":{\"endlinecolor\":\"#2a3f5f\",\"gridcolor\":\"white\",\"linecolor\":\"white\",\"minorgridcolor\":\"white\",\"startlinecolor\":\"#2a3f5f\"},\"baxis\":{\"endlinecolor\":\"#2a3f5f\",\"gridcolor\":\"white\",\"linecolor\":\"white\",\"minorgridcolor\":\"white\",\"startlinecolor\":\"#2a3f5f\"},\"type\":\"carpet\"}],\"table\":[{\"cells\":{\"fill\":{\"color\":\"#EBF0F8\"},\"line\":{\"color\":\"white\"}},\"header\":{\"fill\":{\"color\":\"#C8D4E3\"},\"line\":{\"color\":\"white\"}},\"type\":\"table\"}],\"barpolar\":[{\"marker\":{\"line\":{\"color\":\"#E5ECF6\",\"width\":0.5},\"pattern\":{\"fillmode\":\"overlay\",\"size\":10,\"solidity\":0.2}},\"type\":\"barpolar\"}],\"pie\":[{\"automargin\":true,\"type\":\"pie\"}]},\"layout\":{\"autotypenumbers\":\"strict\",\"colorway\":[\"#636efa\",\"#EF553B\",\"#00cc96\",\"#ab63fa\",\"#FFA15A\",\"#19d3f3\",\"#FF6692\",\"#B6E880\",\"#FF97FF\",\"#FECB52\"],\"font\":{\"color\":\"#2a3f5f\"},\"hovermode\":\"closest\",\"hoverlabel\":{\"align\":\"left\"},\"paper_bgcolor\":\"white\",\"plot_bgcolor\":\"#E5ECF6\",\"polar\":{\"bgcolor\":\"#E5ECF6\",\"angularaxis\":{\"gridcolor\":\"white\",\"linecolor\":\"white\",\"ticks\":\"\"},\"radialaxis\":{\"gridcolor\":\"white\",\"linecolor\":\"white\",\"ticks\":\"\"}},\"ternary\":{\"bgcolor\":\"#E5ECF6\",\"aaxis\":{\"gridcolor\":\"white\",\"linecolor\":\"white\",\"ticks\":\"\"},\"baxis\":{\"gridcolor\":\"white\",\"linecolor\":\"white\",\"ticks\":\"\"},\"caxis\":{\"gridcolor\":\"white\",\"linecolor\":\"white\",\"ticks\":\"\"}},\"coloraxis\":{\"colorbar\":{\"outlinewidth\":0,\"ticks\":\"\"}},\"colorscale\":{\"sequential\":[[0.0,\"#0d0887\"],[0.1111111111111111,\"#46039f\"],[0.2222222222222222,\"#7201a8\"],[0.3333333333333333,\"#9c179e\"],[0.4444444444444444,\"#bd3786\"],[0.5555555555555556,\"#d8576b\"],[0.6666666666666666,\"#ed7953\"],[0.7777777777777778,\"#fb9f3a\"],[0.8888888888888888,\"#fdca26\"],[1.0,\"#f0f921\"]],\"sequentialminus\":[[0.0,\"#0d0887\"],[0.1111111111111111,\"#46039f\"],[0.2222222222222222,\"#7201a8\"],[0.3333333333333333,\"#9c179e\"],[0.4444444444444444,\"#bd3786\"],[0.5555555555555556,\"#d8576b\"],[0.6666666666666666,\"#ed7953\"],[0.7777777777777778,\"#fb9f3a\"],[0.8888888888888888,\"#fdca26\"],[1.0,\"#f0f921\"]],\"diverging\":[[0,\"#8e0152\"],[0.1,\"#c51b7d\"],[0.2,\"#de77ae\"],[0.3,\"#f1b6da\"],[0.4,\"#fde0ef\"],[0.5,\"#f7f7f7\"],[0.6,\"#e6f5d0\"],[0.7,\"#b8e186\"],[0.8,\"#7fbc41\"],[0.9,\"#4d9221\"],[1,\"#276419\"]]},\"xaxis\":{\"gridcolor\":\"white\",\"linecolor\":\"white\",\"ticks\":\"\",\"title\":{\"standoff\":15},\"zerolinecolor\":\"white\",\"automargin\":true,\"zerolinewidth\":2},\"yaxis\":{\"gridcolor\":\"white\",\"linecolor\":\"white\",\"ticks\":\"\",\"title\":{\"standoff\":15},\"zerolinecolor\":\"white\",\"automargin\":true,\"zerolinewidth\":2},\"scene\":{\"xaxis\":{\"backgroundcolor\":\"#E5ECF6\",\"gridcolor\":\"white\",\"linecolor\":\"white\",\"showbackground\":true,\"ticks\":\"\",\"zerolinecolor\":\"white\",\"gridwidth\":2},\"yaxis\":{\"backgroundcolor\":\"#E5ECF6\",\"gridcolor\":\"white\",\"linecolor\":\"white\",\"showbackground\":true,\"ticks\":\"\",\"zerolinecolor\":\"white\",\"gridwidth\":2},\"zaxis\":{\"backgroundcolor\":\"#E5ECF6\",\"gridcolor\":\"white\",\"linecolor\":\"white\",\"showbackground\":true,\"ticks\":\"\",\"zerolinecolor\":\"white\",\"gridwidth\":2}},\"shapedefaults\":{\"line\":{\"color\":\"#2a3f5f\"}},\"annotationdefaults\":{\"arrowcolor\":\"#2a3f5f\",\"arrowhead\":0,\"arrowwidth\":1},\"geo\":{\"bgcolor\":\"white\",\"landcolor\":\"#E5ECF6\",\"subunitcolor\":\"white\",\"showland\":true,\"showlakes\":true,\"lakecolor\":\"white\"},\"title\":{\"x\":0.05},\"mapbox\":{\"style\":\"light\"}}},\"yaxis\":{\"autorange\":\"reversed\"},\"legend\":{\"orientation\":\"h\",\"x\":0.1,\"y\":-0.1},\"barmode\":\"relative\",\"height\":400,\"width\":700,\"bargap\":0.01,\"title\":{\"text\":\"Average number of left and right actions per game\"}},                        {\"responsive\": true}                    ).then(function(){\n",
       "                            \n",
       "var gd = document.getElementById('9897f3ef-7185-44fc-9dd1-485f26e2eff9');\n",
       "var x = new MutationObserver(function (mutations, observer) {{\n",
       "        var display = window.getComputedStyle(gd).display;\n",
       "        if (!display || display === 'none') {{\n",
       "            console.log([gd, 'removed!']);\n",
       "            Plotly.purge(gd);\n",
       "            observer.disconnect();\n",
       "        }}\n",
       "}});\n",
       "\n",
       "// Listen for the removal of the full notebook cells\n",
       "var notebookContainer = gd.closest('#notebook-container');\n",
       "if (notebookContainer) {{\n",
       "    x.observe(notebookContainer, {childList: true});\n",
       "}}\n",
       "\n",
       "// Listen for the clearing of the current output cell\n",
       "var outputEl = gd.closest('.output');\n",
       "if (outputEl) {{\n",
       "    x.observe(outputEl, {childList: true});\n",
       "}}\n",
       "\n",
       "                        })                };                });            </script>        </div>"
      ]
     },
     "metadata": {},
     "output_type": "display_data"
    }
   ],
   "source": [
    "grouped_df = dfCartPoleLLM.groupby(['promptKey']).mean(numeric_only=True).reset_index()\n",
    "\n",
    "fig = go.Figure()\n",
    "\n",
    "fig.add_trace(go.Bar(x=-grouped_df['leftActions'].values,\n",
    "                        y=grouped_df['promptKey'],\n",
    "                        orientation='h',\n",
    "                        name='Left',\n",
    "                        customdata=grouped_df['rewards']))\n",
    "\n",
    "fig.add_trace(go.Bar(x=grouped_df['rightActions'].values,\n",
    "                        y=grouped_df['promptKey'],\n",
    "                        orientation='h',\n",
    "                        name='Right',\n",
    "                        customdata=grouped_df['rewards']))\n",
    "\n",
    "fig.update_layout(barmode='relative', \n",
    "                  height=400, \n",
    "                  width=700, \n",
    "                  yaxis_autorange='reversed',\n",
    "                  bargap=0.01,\n",
    "                  legend_orientation ='h',\n",
    "                  legend_x=0.10, legend_y=-0.1,\n",
    "                  title=\"Average number of left and right actions per game\"\n",
    "                 )\n",
    "fig.show()"
   ]
  },
  {
   "cell_type": "code",
   "execution_count": 69,
   "id": "016a3462-27f5-4d2e-a9f6-249403871c08",
   "metadata": {},
   "outputs": [],
   "source": [
    "# Graphics in retina format are more sharp and legible\n",
    "%config InlineBackend.figure_format = 'retina'"
   ]
  },
  {
   "cell_type": "code",
   "execution_count": 70,
   "id": "dc096774-0d3c-4073-9f1f-8375c8bda5ef",
   "metadata": {},
   "outputs": [
    {
     "data": {
      "image/png": "[encoded data removed]",
      "text/plain": [
       "<Figure size 1000x600 with 1 Axes>"
      ]
     },
     "metadata": {
      "image/png": {
       "height": 547,
       "width": 842
      }
     },
     "output_type": "display_data"
    }
   ],
   "source": [
    "# Group by temperature and prompt, then take the average rewards\n",
    "grouped_df = dfCartPoleLLM.groupby(['promptKey']).mean(numeric_only=True).reset_index()\n",
    "\n",
    "# Plot the data using seaborn\n",
    "plt.figure(figsize=(10, 6))\n",
    "sns.barplot(x='promptKey', y='rewards', hue='promptKey', data=grouped_df, palette=sns.color_palette())\n",
    "plt.title('Average reward per prompt')\n",
    "plt.xlabel('Prompt')\n",
    "plt.ylabel('Reward')\n",
    "\n",
    "#plt.legend(title='Prompt')\n",
    "plt.show()"
   ]
  },
  {
   "cell_type": "code",
   "execution_count": 71,
   "id": "2995ff35-3dd3-4bc4-a854-f40446e5cc39",
   "metadata": {},
   "outputs": [
    {
     "data": {
      "image/png": "[encoded data removed]",
      "text/plain": [
       "<Figure size 1000x600 with 1 Axes>"
      ]
     },
     "metadata": {
      "image/png": {
       "height": 547,
       "width": 842
      }
     },
     "output_type": "display_data"
    }
   ],
   "source": [
    "# Group by temperature and prompt, then sum the rewards\n",
    "grouped_df = dfCartPoleLLM.groupby(['promptKey', 'temperature']).mean(numeric_only=True).reset_index()\n",
    "\n",
    "# Plot the data using seaborn\n",
    "plt.figure(figsize=(10, 6))\n",
    "sns.barplot(x='promptKey', y='rewards', hue='temperature', data=grouped_df, palette=sns.color_palette(\"flare\"))\n",
    "plt.title('Average reward for temperature and prompt')\n",
    "plt.xlabel('Prompt')\n",
    "plt.ylabel('Average Reward')\n",
    "\n",
    "plt.legend(title='Temperature')\n",
    "plt.show()"
   ]
  },
  {
   "cell_type": "code",
   "execution_count": 72,
   "id": "598062c5-30a8-452d-923e-3ef693790edf",
   "metadata": {},
   "outputs": [
    {
     "data": {
      "image/png": "[encoded data removed]",
      "text/plain": [
       "<Figure size 1000x600 with 1 Axes>"
      ]
     },
     "metadata": {
      "image/png": {
       "height": 546,
       "width": 842
      }
     },
     "output_type": "display_data"
    }
   ],
   "source": [
    "grouped_df = dfCartPoleLLM[dfCartPoleLLM['promptKey'] != \"Random\"] .groupby(['temperature']).mean(numeric_only=True).reset_index()\n",
    "\n",
    "# Plot the data using seaborn\n",
    "plt.figure(figsize=(10, 6))\n",
    "sns.barplot(x='temperature', y='rewards', data=grouped_df, palette=sns.color_palette(\"flare\"), order=grouped_df['temperature'])\n",
    "plt.title('Average reward for every temperature')\n",
    "plt.xlabel('Temperature')\n",
    "plt.ylabel('Average reward')\n",
    "plt.plot(legend=False)\n",
    "plt.show()"
   ]
  },
  {
   "cell_type": "code",
   "execution_count": null,
   "id": "586477c4-8880-47e8-a62d-72d6e3f81e28",
   "metadata": {},
   "outputs": [],
   "source": []
  }
 ],
 "metadata": {
  "kernelspec": {
   "display_name": "Python 3 (ipykernel)",
   "language": "python",
   "name": "python3"
  },
  "language_info": {
   "codemirror_mode": {
    "name": "ipython",
    "version": 3
   },
   "file_extension": ".py",
   "mimetype": "text/x-python",
   "name": "python",
   "nbconvert_exporter": "python",
   "pygments_lexer": "ipython3",
   "version": "3.8.19"
  }
 },
 "nbformat": 4,
 "nbformat_minor": 5
}
