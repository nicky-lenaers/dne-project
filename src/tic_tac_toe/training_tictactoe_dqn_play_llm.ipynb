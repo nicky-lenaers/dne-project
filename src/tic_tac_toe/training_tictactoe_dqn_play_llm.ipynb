{
  "nbformat": 4,
  "nbformat_minor": 0,
  "metadata": {
    "colab": {
      "provenance": [],
      "gpuType": "A100",
      "machine_shape": "hm"
    },
    "kernelspec": {
      "name": "python3",
      "display_name": "Python 3"
    },
    "language_info": {
      "name": "python"
    },
    "accelerator": "GPU"
  },
  "cells": [
    {
      "cell_type": "markdown",
      "source": [
        "# Training DQN for Tic Tac Toe and play against LLM\n",
        "\n",
        "Based on [RL against random policy opponent with PettingZoo](https://tianshou.org/en/stable/01_tutorials/04_tictactoe.html)."
      ],
      "metadata": {
        "id": "MWc4kcBMGnpg"
      }
    },
    {
      "cell_type": "code",
      "execution_count": null,
      "metadata": {
        "id": "_ixzdtHHYg_a"
      },
      "outputs": [],
      "source": [
        "%load_ext autoreload\n",
        "%autoreload 2\n",
        "%load_ext tensorboard"
      ]
    },
    {
      "cell_type": "markdown",
      "source": [
        "# Install dependencies"
      ],
      "metadata": {
        "id": "y9lmQIv9F9Ke"
      }
    },
    {
      "cell_type": "code",
      "source": [
        "!pip install gymnasium==0.29.1 pygame==2.3.0 pettingzoo==1.24.3 tianshou==0.5.1 transformers==4.39.1 accelerate==0.28.0"
      ],
      "metadata": {
        "colab": {
          "base_uri": "https://localhost:8080/"
        },
        "id": "QSgELpG0YrrI",
        "outputId": "30d1d9c5-7201-44d5-d4e8-9d4bfbdbd6f2"
      },
      "execution_count": null,
      "outputs": [
        {
          "output_type": "stream",
          "name": "stdout",
          "text": [
            "Collecting gymnasium==0.29.1\n",
            "  Downloading gymnasium-0.29.1-py3-none-any.whl (953 kB)\n",
            "\u001b[2K     \u001b[90m━━━━━━━━━━━━━━━━━━━━━━━━━━━━━━━━━━━━━━━━\u001b[0m \u001b[32m953.9/953.9 kB\u001b[0m \u001b[31m18.2 MB/s\u001b[0m eta \u001b[36m0:00:00\u001b[0m\n",
            "\u001b[?25hCollecting pygame==2.3.0\n",
            "  Downloading pygame-2.3.0-cp310-cp310-manylinux_2_17_x86_64.manylinux2014_x86_64.whl (13.8 MB)\n",
            "\u001b[2K     \u001b[90m━━━━━━━━━━━━━━━━━━━━━━━━━━━━━━━━━━━━━━━━\u001b[0m \u001b[32m13.8/13.8 MB\u001b[0m \u001b[31m49.3 MB/s\u001b[0m eta \u001b[36m0:00:00\u001b[0m\n",
            "\u001b[?25hCollecting pettingzoo==1.24.3\n",
            "  Downloading pettingzoo-1.24.3-py3-none-any.whl (847 kB)\n",
            "\u001b[2K     \u001b[90m━━━━━━━━━━━━━━━━━━━━━━━━━━━━━━━━━━━━━━━━\u001b[0m \u001b[32m847.8/847.8 kB\u001b[0m \u001b[31m44.5 MB/s\u001b[0m eta \u001b[36m0:00:00\u001b[0m\n",
            "\u001b[?25hCollecting tianshou==0.5.1\n",
            "  Downloading tianshou-0.5.1-py3-none-any.whl (163 kB)\n",
            "\u001b[2K     \u001b[90m━━━━━━━━━━━━━━━━━━━━━━━━━━━━━━━━━━━━━━━━\u001b[0m \u001b[32m163.1/163.1 kB\u001b[0m \u001b[31m21.4 MB/s\u001b[0m eta \u001b[36m0:00:00\u001b[0m\n",
            "\u001b[?25hCollecting transformers==4.39.1\n",
            "  Downloading transformers-4.39.1-py3-none-any.whl (8.8 MB)\n",
            "\u001b[2K     \u001b[90m━━━━━━━━━━━━━━━━━━━━━━━━━━━━━━━━━━━━━━━━\u001b[0m \u001b[32m8.8/8.8 MB\u001b[0m \u001b[31m92.2 MB/s\u001b[0m eta \u001b[36m0:00:00\u001b[0m\n",
            "\u001b[?25hCollecting accelerate==0.28.0\n",
            "  Downloading accelerate-0.28.0-py3-none-any.whl (290 kB)\n",
            "\u001b[2K     \u001b[90m━━━━━━━━━━━━━━━━━━━━━━━━━━━━━━━━━━━━━━━━\u001b[0m \u001b[32m290.1/290.1 kB\u001b[0m \u001b[31m29.1 MB/s\u001b[0m eta \u001b[36m0:00:00\u001b[0m\n",
            "\u001b[?25hRequirement already satisfied: numpy>=1.21.0 in /usr/local/lib/python3.10/dist-packages (from gymnasium==0.29.1) (1.25.2)\n",
            "Requirement already satisfied: cloudpickle>=1.2.0 in /usr/local/lib/python3.10/dist-packages (from gymnasium==0.29.1) (2.2.1)\n",
            "Requirement already satisfied: typing-extensions>=4.3.0 in /usr/local/lib/python3.10/dist-packages (from gymnasium==0.29.1) (4.11.0)\n",
            "Collecting farama-notifications>=0.0.1 (from gymnasium==0.29.1)\n",
            "  Downloading Farama_Notifications-0.0.4-py3-none-any.whl (2.5 kB)\n",
            "Requirement already satisfied: tqdm in /usr/local/lib/python3.10/dist-packages (from tianshou==0.5.1) (4.66.2)\n",
            "Requirement already satisfied: tensorboard>=2.5.0 in /usr/local/lib/python3.10/dist-packages (from tianshou==0.5.1) (2.15.2)\n",
            "Requirement already satisfied: torch>=1.4.0 in /usr/local/lib/python3.10/dist-packages (from tianshou==0.5.1) (2.2.1+cu121)\n",
            "Requirement already satisfied: numba>=0.51.0 in /usr/local/lib/python3.10/dist-packages (from tianshou==0.5.1) (0.58.1)\n",
            "Requirement already satisfied: h5py>=2.10.0 in /usr/local/lib/python3.10/dist-packages (from tianshou==0.5.1) (3.9.0)\n",
            "Requirement already satisfied: packaging in /usr/local/lib/python3.10/dist-packages (from tianshou==0.5.1) (24.0)\n",
            "Requirement already satisfied: filelock in /usr/local/lib/python3.10/dist-packages (from transformers==4.39.1) (3.13.4)\n",
            "Requirement already satisfied: huggingface-hub<1.0,>=0.19.3 in /usr/local/lib/python3.10/dist-packages (from transformers==4.39.1) (0.20.3)\n",
            "Requirement already satisfied: pyyaml>=5.1 in /usr/local/lib/python3.10/dist-packages (from transformers==4.39.1) (6.0.1)\n",
            "Requirement already satisfied: regex!=2019.12.17 in /usr/local/lib/python3.10/dist-packages (from transformers==4.39.1) (2023.12.25)\n",
            "Requirement already satisfied: requests in /usr/local/lib/python3.10/dist-packages (from transformers==4.39.1) (2.31.0)\n",
            "Collecting tokenizers<0.19,>=0.14 (from transformers==4.39.1)\n",
            "  Downloading tokenizers-0.15.2-cp310-cp310-manylinux_2_17_x86_64.manylinux2014_x86_64.whl (3.6 MB)\n",
            "\u001b[2K     \u001b[90m━━━━━━━━━━━━━━━━━━━━━━━━━━━━━━━━━━━━━━━━\u001b[0m \u001b[32m3.6/3.6 MB\u001b[0m \u001b[31m80.5 MB/s\u001b[0m eta \u001b[36m0:00:00\u001b[0m\n",
            "\u001b[?25hRequirement already satisfied: safetensors>=0.4.1 in /usr/local/lib/python3.10/dist-packages (from transformers==4.39.1) (0.4.3)\n",
            "Requirement already satisfied: psutil in /usr/local/lib/python3.10/dist-packages (from accelerate==0.28.0) (5.9.5)\n",
            "Requirement already satisfied: fsspec>=2023.5.0 in /usr/local/lib/python3.10/dist-packages (from huggingface-hub<1.0,>=0.19.3->transformers==4.39.1) (2023.6.0)\n",
            "Requirement already satisfied: llvmlite<0.42,>=0.41.0dev0 in /usr/local/lib/python3.10/dist-packages (from numba>=0.51.0->tianshou==0.5.1) (0.41.1)\n",
            "Requirement already satisfied: absl-py>=0.4 in /usr/local/lib/python3.10/dist-packages (from tensorboard>=2.5.0->tianshou==0.5.1) (1.4.0)\n",
            "Requirement already satisfied: grpcio>=1.48.2 in /usr/local/lib/python3.10/dist-packages (from tensorboard>=2.5.0->tianshou==0.5.1) (1.62.2)\n",
            "Requirement already satisfied: google-auth<3,>=1.6.3 in /usr/local/lib/python3.10/dist-packages (from tensorboard>=2.5.0->tianshou==0.5.1) (2.27.0)\n",
            "Requirement already satisfied: google-auth-oauthlib<2,>=0.5 in /usr/local/lib/python3.10/dist-packages (from tensorboard>=2.5.0->tianshou==0.5.1) (1.2.0)\n",
            "Requirement already satisfied: markdown>=2.6.8 in /usr/local/lib/python3.10/dist-packages (from tensorboard>=2.5.0->tianshou==0.5.1) (3.6)\n",
            "Requirement already satisfied: protobuf!=4.24.0,>=3.19.6 in /usr/local/lib/python3.10/dist-packages (from tensorboard>=2.5.0->tianshou==0.5.1) (3.20.3)\n",
            "Requirement already satisfied: setuptools>=41.0.0 in /usr/local/lib/python3.10/dist-packages (from tensorboard>=2.5.0->tianshou==0.5.1) (67.7.2)\n",
            "Requirement already satisfied: six>1.9 in /usr/local/lib/python3.10/dist-packages (from tensorboard>=2.5.0->tianshou==0.5.1) (1.16.0)\n",
            "Requirement already satisfied: tensorboard-data-server<0.8.0,>=0.7.0 in /usr/local/lib/python3.10/dist-packages (from tensorboard>=2.5.0->tianshou==0.5.1) (0.7.2)\n",
            "Requirement already satisfied: werkzeug>=1.0.1 in /usr/local/lib/python3.10/dist-packages (from tensorboard>=2.5.0->tianshou==0.5.1) (3.0.2)\n",
            "Requirement already satisfied: charset-normalizer<4,>=2 in /usr/local/lib/python3.10/dist-packages (from requests->transformers==4.39.1) (3.3.2)\n",
            "Requirement already satisfied: idna<4,>=2.5 in /usr/local/lib/python3.10/dist-packages (from requests->transformers==4.39.1) (3.7)\n",
            "Requirement already satisfied: urllib3<3,>=1.21.1 in /usr/local/lib/python3.10/dist-packages (from requests->transformers==4.39.1) (2.0.7)\n",
            "Requirement already satisfied: certifi>=2017.4.17 in /usr/local/lib/python3.10/dist-packages (from requests->transformers==4.39.1) (2024.2.2)\n",
            "Requirement already satisfied: sympy in /usr/local/lib/python3.10/dist-packages (from torch>=1.4.0->tianshou==0.5.1) (1.12)\n",
            "Requirement already satisfied: networkx in /usr/local/lib/python3.10/dist-packages (from torch>=1.4.0->tianshou==0.5.1) (3.3)\n",
            "Requirement already satisfied: jinja2 in /usr/local/lib/python3.10/dist-packages (from torch>=1.4.0->tianshou==0.5.1) (3.1.3)\n",
            "Collecting nvidia-cuda-nvrtc-cu12==12.1.105 (from torch>=1.4.0->tianshou==0.5.1)\n",
            "  Using cached nvidia_cuda_nvrtc_cu12-12.1.105-py3-none-manylinux1_x86_64.whl (23.7 MB)\n",
            "Collecting nvidia-cuda-runtime-cu12==12.1.105 (from torch>=1.4.0->tianshou==0.5.1)\n",
            "  Using cached nvidia_cuda_runtime_cu12-12.1.105-py3-none-manylinux1_x86_64.whl (823 kB)\n",
            "Collecting nvidia-cuda-cupti-cu12==12.1.105 (from torch>=1.4.0->tianshou==0.5.1)\n",
            "  Using cached nvidia_cuda_cupti_cu12-12.1.105-py3-none-manylinux1_x86_64.whl (14.1 MB)\n",
            "Collecting nvidia-cudnn-cu12==8.9.2.26 (from torch>=1.4.0->tianshou==0.5.1)\n",
            "  Using cached nvidia_cudnn_cu12-8.9.2.26-py3-none-manylinux1_x86_64.whl (731.7 MB)\n",
            "Collecting nvidia-cublas-cu12==12.1.3.1 (from torch>=1.4.0->tianshou==0.5.1)\n",
            "  Using cached nvidia_cublas_cu12-12.1.3.1-py3-none-manylinux1_x86_64.whl (410.6 MB)\n",
            "Collecting nvidia-cufft-cu12==11.0.2.54 (from torch>=1.4.0->tianshou==0.5.1)\n",
            "  Using cached nvidia_cufft_cu12-11.0.2.54-py3-none-manylinux1_x86_64.whl (121.6 MB)\n",
            "Collecting nvidia-curand-cu12==10.3.2.106 (from torch>=1.4.0->tianshou==0.5.1)\n",
            "  Using cached nvidia_curand_cu12-10.3.2.106-py3-none-manylinux1_x86_64.whl (56.5 MB)\n",
            "Collecting nvidia-cusolver-cu12==11.4.5.107 (from torch>=1.4.0->tianshou==0.5.1)\n",
            "  Using cached nvidia_cusolver_cu12-11.4.5.107-py3-none-manylinux1_x86_64.whl (124.2 MB)\n",
            "Collecting nvidia-cusparse-cu12==12.1.0.106 (from torch>=1.4.0->tianshou==0.5.1)\n",
            "  Using cached nvidia_cusparse_cu12-12.1.0.106-py3-none-manylinux1_x86_64.whl (196.0 MB)\n",
            "Collecting nvidia-nccl-cu12==2.19.3 (from torch>=1.4.0->tianshou==0.5.1)\n",
            "  Using cached nvidia_nccl_cu12-2.19.3-py3-none-manylinux1_x86_64.whl (166.0 MB)\n",
            "Collecting nvidia-nvtx-cu12==12.1.105 (from torch>=1.4.0->tianshou==0.5.1)\n",
            "  Using cached nvidia_nvtx_cu12-12.1.105-py3-none-manylinux1_x86_64.whl (99 kB)\n",
            "Requirement already satisfied: triton==2.2.0 in /usr/local/lib/python3.10/dist-packages (from torch>=1.4.0->tianshou==0.5.1) (2.2.0)\n",
            "Collecting nvidia-nvjitlink-cu12 (from nvidia-cusolver-cu12==11.4.5.107->torch>=1.4.0->tianshou==0.5.1)\n",
            "  Using cached nvidia_nvjitlink_cu12-12.4.127-py3-none-manylinux2014_x86_64.whl (21.1 MB)\n",
            "Requirement already satisfied: cachetools<6.0,>=2.0.0 in /usr/local/lib/python3.10/dist-packages (from google-auth<3,>=1.6.3->tensorboard>=2.5.0->tianshou==0.5.1) (5.3.3)\n",
            "Requirement already satisfied: pyasn1-modules>=0.2.1 in /usr/local/lib/python3.10/dist-packages (from google-auth<3,>=1.6.3->tensorboard>=2.5.0->tianshou==0.5.1) (0.4.0)\n",
            "Requirement already satisfied: rsa<5,>=3.1.4 in /usr/local/lib/python3.10/dist-packages (from google-auth<3,>=1.6.3->tensorboard>=2.5.0->tianshou==0.5.1) (4.9)\n",
            "Requirement already satisfied: requests-oauthlib>=0.7.0 in /usr/local/lib/python3.10/dist-packages (from google-auth-oauthlib<2,>=0.5->tensorboard>=2.5.0->tianshou==0.5.1) (1.3.1)\n",
            "Requirement already satisfied: MarkupSafe>=2.1.1 in /usr/local/lib/python3.10/dist-packages (from werkzeug>=1.0.1->tensorboard>=2.5.0->tianshou==0.5.1) (2.1.5)\n",
            "Requirement already satisfied: mpmath>=0.19 in /usr/local/lib/python3.10/dist-packages (from sympy->torch>=1.4.0->tianshou==0.5.1) (1.3.0)\n",
            "Requirement already satisfied: pyasn1<0.7.0,>=0.4.6 in /usr/local/lib/python3.10/dist-packages (from pyasn1-modules>=0.2.1->google-auth<3,>=1.6.3->tensorboard>=2.5.0->tianshou==0.5.1) (0.6.0)\n",
            "Requirement already satisfied: oauthlib>=3.0.0 in /usr/local/lib/python3.10/dist-packages (from requests-oauthlib>=0.7.0->google-auth-oauthlib<2,>=0.5->tensorboard>=2.5.0->tianshou==0.5.1) (3.2.2)\n",
            "Installing collected packages: farama-notifications, pygame, nvidia-nvtx-cu12, nvidia-nvjitlink-cu12, nvidia-nccl-cu12, nvidia-curand-cu12, nvidia-cufft-cu12, nvidia-cuda-runtime-cu12, nvidia-cuda-nvrtc-cu12, nvidia-cuda-cupti-cu12, nvidia-cublas-cu12, gymnasium, pettingzoo, nvidia-cusparse-cu12, nvidia-cudnn-cu12, tokenizers, nvidia-cusolver-cu12, transformers, tianshou, accelerate\n",
            "  Attempting uninstall: pygame\n",
            "    Found existing installation: pygame 2.5.2\n",
            "    Uninstalling pygame-2.5.2:\n",
            "      Successfully uninstalled pygame-2.5.2\n",
            "  Attempting uninstall: tokenizers\n",
            "    Found existing installation: tokenizers 0.19.1\n",
            "    Uninstalling tokenizers-0.19.1:\n",
            "      Successfully uninstalled tokenizers-0.19.1\n",
            "  Attempting uninstall: transformers\n",
            "    Found existing installation: transformers 4.40.0\n",
            "    Uninstalling transformers-4.40.0:\n",
            "      Successfully uninstalled transformers-4.40.0\n",
            "Successfully installed accelerate-0.28.0 farama-notifications-0.0.4 gymnasium-0.29.1 nvidia-cublas-cu12-12.1.3.1 nvidia-cuda-cupti-cu12-12.1.105 nvidia-cuda-nvrtc-cu12-12.1.105 nvidia-cuda-runtime-cu12-12.1.105 nvidia-cudnn-cu12-8.9.2.26 nvidia-cufft-cu12-11.0.2.54 nvidia-curand-cu12-10.3.2.106 nvidia-cusolver-cu12-11.4.5.107 nvidia-cusparse-cu12-12.1.0.106 nvidia-nccl-cu12-2.19.3 nvidia-nvjitlink-cu12-12.4.127 nvidia-nvtx-cu12-12.1.105 pettingzoo-1.24.3 pygame-2.3.0 tianshou-0.5.1 tokenizers-0.15.2 transformers-4.39.1\n"
          ]
        }
      ]
    },
    {
      "cell_type": "markdown",
      "source": [
        "# Import needed dependencies"
      ],
      "metadata": {
        "id": "InU12D5lGB5u"
      }
    },
    {
      "cell_type": "code",
      "source": [
        "from typing import Any, Dict\n",
        "import gymnasium as gym\n",
        "from gymnasium.spaces import Discrete, Space\n",
        "import torch\n",
        "from torch import nn\n",
        "import numpy as np\n",
        "import re\n",
        "from pettingzoo.classic import tictactoe_v3\n",
        "from torch.utils.tensorboard import SummaryWriter\n",
        "\n",
        "from tianshou.data import Batch, Collector, VectorReplayBuffer\n",
        "from tianshou.env import DummyVectorEnv\n",
        "from tianshou.env.pettingzoo_env import PettingZooEnv\n",
        "from tianshou.policy import (\n",
        "    BasePolicy,\n",
        "    DQNPolicy,\n",
        "    MultiAgentPolicyManager,\n",
        "    RandomPolicy\n",
        ")\n",
        "from tianshou.trainer import OffpolicyTrainer\n",
        "from tianshou.utils import TensorboardLogger\n",
        "from tianshou.utils.net.common import Net\n",
        "\n",
        "from transformers import AutoModelForCausalLM, AutoTokenizer, pipeline"
      ],
      "metadata": {
        "id": "jAnd4bSUYuJ2"
      },
      "execution_count": null,
      "outputs": []
    },
    {
      "cell_type": "markdown",
      "source": [
        "# Setup environment"
      ],
      "metadata": {
        "id": "GJUqMfTpGHkb"
      }
    },
    {
      "cell_type": "code",
      "source": [
        "def get_env(render_mode=None):\n",
        "  return PettingZooEnv(tictactoe_v3.env(render_mode=render_mode))\n",
        "\n",
        "# create the environment and get the shape of the states and shape of the actions\n",
        "env = get_env()\n",
        "observation_space = env.observation_space['observation'] if isinstance(\n",
        "  env.observation_space, gym.spaces.Dict\n",
        ") else env.observation_space\n",
        "state_shape = observation_space.shape or observation_space.n\n",
        "action_shape = env.action_space.shape or env.action_space.n"
      ],
      "metadata": {
        "id": "LP3tEh8Acfca"
      },
      "execution_count": null,
      "outputs": []
    },
    {
      "cell_type": "markdown",
      "source": [
        "# Setup policies for training DQNPolicy\n",
        "\n",
        "One training policy (DQNPolicy) and the opponent (RandomPolicy)."
      ],
      "metadata": {
        "id": "lB6dVGoGGPl0"
      }
    },
    {
      "cell_type": "code",
      "source": [
        "# Hidden sizes: shape of the MLP\n",
        "hidden_sizes = [128, 128, 128, 128]\n",
        "# device to train on\n",
        "device = torch.device(\"cuda\" if torch.cuda.is_available() else \"cpu\")\n",
        "# the number of steps to look ahead\n",
        "estimation_step = 3\n",
        "# the target network update frequency (0 if you do not use the target network).\n",
        "target_update_freq = 320\n",
        "# learning rate of the Adam optimizer\n",
        "lr = 1e-4"
      ],
      "metadata": {
        "id": "QLfX7sfzzXQ2"
      },
      "execution_count": null,
      "outputs": []
    },
    {
      "cell_type": "code",
      "source": [
        "def get_dqn_policy():\n",
        "  # The deep learning model (MLP) that underpins the behaviour of the agent (it is not the agent itself).\n",
        "  net = Net(\n",
        "    state_shape,\n",
        "    action_shape,\n",
        "    hidden_sizes=hidden_sizes,\n",
        "    device=device\n",
        "  ).to(device)\n",
        "\n",
        "  # Adam optimizer\n",
        "  optim = torch.optim.Adam(net.parameters(), lr=lr)\n",
        "\n",
        "  # Agent to learn\n",
        "  return DQNPolicy(\n",
        "    model=net,\n",
        "    optim=optim,\n",
        "    action_space=env.action_space,\n",
        "    estimation_step=estimation_step,\n",
        "    target_update_freq=target_update_freq\n",
        "  )"
      ],
      "metadata": {
        "id": "RP9APMhYzSeg"
      },
      "execution_count": null,
      "outputs": []
    },
    {
      "cell_type": "markdown",
      "source": [
        "# Train the agent with DQN\n",
        "Using the OffPolicyTrainer."
      ],
      "metadata": {
        "id": "wgZy7_UPJzbJ"
      }
    },
    {
      "cell_type": "code",
      "source": [
        "# path to save the results and the logging\n",
        "path = '/content/tic_tac_toe/dqn'\n",
        "\n",
        "def train_policy(policy, agent_id):\n",
        "  # number of training environments\n",
        "  training_num = 100\n",
        "  # number of testing environments\n",
        "  test_num = 100\n",
        "  # size of the VectorReplayBuffer\n",
        "  buffer_size = 20000\n",
        "  # the batch size of sample data, which is going to feed in the policy network.\n",
        "  batch_size = 64\n",
        "  # the maximum number of epochs for training. The training process might be finished before reaching max_epoch if stop_fn is set.\n",
        "  epoch = 100\n",
        "  # the number of transitions collected per epoch.\n",
        "  step_per_epoch = 1000\n",
        "  # the number of transitions the collector would collect before the network update,\n",
        "  # i.e., trainer will collect \"step_per_collect\" transitions and do some policy network update\n",
        "  # repeatedly in each epoch.\n",
        "  step_per_collect = 10\n",
        "  # used in the stop function when the mean rewards are over this threshold\n",
        "  win_rate = 0.99\n",
        "  # The eps for epsilon-greedy exploration for test and training\n",
        "  eps_test = 0.05\n",
        "  eps_train = 0.1\n",
        "  # the number of times the policy network would be updated per transition after (step_per_collect)\n",
        "  # transitions are collected, e.g., if update_per_step set to 0.3, and step_per_collect is 256,\n",
        "  # policy will be updated round(256 * 0.3 = 76.8) = 77 times after 256 transitions are collected\n",
        "  # by the collector. Default to 1.\n",
        "  update_per_step = 0.1\n",
        "\n",
        "  # Dummy vectorized environment wrapper, implemented in for-loop.\n",
        "  # This has the same interface as true vectorized environment, but the rollout does not happen in parallel.\n",
        "  # So, all workers just wait for each other and the environment is as efficient as using a single environment.\n",
        "  # This can be useful for testing or for demonstration purposes.\n",
        "  train_envs = DummyVectorEnv([get_env for _ in range(training_num)])\n",
        "  test_envs = DummyVectorEnv([get_env for _ in range(test_num)])\n",
        "\n",
        "  # VectorReplayBuffer contains n ReplayBuffer with the same size.\n",
        "  # It is used for storing transition from different environments yet keeping the order of time.\n",
        "  vectorReplayBuffer = VectorReplayBuffer(buffer_size, len(train_envs))\n",
        "\n",
        "  # determine whether the action needs to be modified with corresponding policy’s exploration noise.\n",
        "  # If so, “policy. exploration_noise(act, batch)” will be called automatically to add the\n",
        "  # exploration noise into action.\n",
        "  exploration_noise = True\n",
        "\n",
        "  # Train and test collector\n",
        "  # Collector enables the policy to interact with different types of envs with exact number of steps or episodes.\n",
        "  train_collector = Collector(policy, train_envs, vectorReplayBuffer, exploration_noise=exploration_noise)\n",
        "  test_collector = Collector(policy, test_envs, exploration_noise=exploration_noise)\n",
        "\n",
        "  # Collect a specified number of step or episode.\n",
        "  train_collector.collect(n_step=batch_size * training_num)\n",
        "\n",
        "  # A logger that logs statistics during training/testing/updating\n",
        "  writer = SummaryWriter(path)\n",
        "  logger = TensorboardLogger(writer)\n",
        "\n",
        "  # Functions for the OffpolicyTrainer\n",
        "  # Save the best model\n",
        "  def save_best_fn(policy):\n",
        "    torch.save(policy.policies[agent_id].state_dict(), path + '/policy-' + agent_id + '.pth')\n",
        "\n",
        "  # When to stop training\n",
        "  def stop_fn(mean_rewards):\n",
        "    return mean_rewards >= win_rate\n",
        "\n",
        "  # a hook called at the beginning of training in each epoch. It can be used to perform custom additional operations\n",
        "  def train_fn(epoch, env_step):\n",
        "      # Set the eps for epsilon-greedy exploration.\n",
        "      policy.policies[agent_id].set_eps(eps_train)\n",
        "\n",
        "  def test_fn(epoch, env_step):\n",
        "      # Set the eps for epsilon-greedy exploration.\n",
        "      policy.policies[agent_id].set_eps(eps_test)\n",
        "\n",
        "  # A function with signature used in multi-agent RL.\n",
        "  # We need to return a single scalar for each episode’s result to monitor training in the multi-agent RL setting.\n",
        "  # This function specifies what is the desired metric, e.g., the reward of agent 1 or the average reward over all agents.\n",
        "  def reward_metric(rews):\n",
        "    if agent_id == 'player_2':\n",
        "      return rews[:, 1]\n",
        "    return rews[:, 0]\n",
        "\n",
        "  # Offpolicy trainer, samples mini-batches from buffer and passes them to update.\n",
        "  result = OffpolicyTrainer(\n",
        "    policy,\n",
        "    train_collector,\n",
        "    test_collector,\n",
        "    epoch,\n",
        "    step_per_epoch,\n",
        "    step_per_collect,\n",
        "    test_num,\n",
        "    batch_size,\n",
        "    train_fn=train_fn,\n",
        "    test_fn=test_fn,\n",
        "    stop_fn=stop_fn,\n",
        "    save_best_fn=save_best_fn,\n",
        "    update_per_step=update_per_step,\n",
        "    logger=logger,\n",
        "    test_in_train=False, # whether to test in the training phase.\n",
        "    reward_metric=reward_metric\n",
        "  ).run()"
      ],
      "metadata": {
        "id": "Sb9XhtchcB3G"
      },
      "execution_count": null,
      "outputs": []
    },
    {
      "cell_type": "code",
      "source": [
        "agent_learn_player1 = get_dqn_policy()\n",
        "agent_learn_player2 = get_dqn_policy()\n",
        "agent_random = RandomPolicy()\n",
        "\n",
        "agents_1 = [agent_learn_player1, agent_random]\n",
        "agents_2 = [agent_random, agent_learn_player2]\n",
        "\n",
        "# Multi-agent policy manager for Multi-Agent Reinforcement Learning (https://tianshou.org/en/stable/01_tutorials/07_cheatsheet.html#marl-example)\n",
        "policy_1 = MultiAgentPolicyManager(agents_1, env)\n",
        "policy_2 = MultiAgentPolicyManager(agents_2, env)\n",
        "\n",
        "train_policy(policy_1, 'player_1')\n",
        "train_policy(policy_2, 'player_2')"
      ],
      "metadata": {
        "colab": {
          "base_uri": "https://localhost:8080/"
        },
        "id": "vt7IXWwzc1L0",
        "outputId": "b43e06c2-d3c8-4588-d438-8941ef18fc66"
      },
      "execution_count": null,
      "outputs": [
        {
          "output_type": "stream",
          "name": "stderr",
          "text": [
            "\rEpoch #1:   0%|          | 0/1000 [00:00<?, ?it/s]/usr/local/lib/python3.10/dist-packages/tianshou/data/collector.py:237: UserWarning: n_step=10 is not a multiple of #env (100), which may cause extra transitions collected into the buffer.\n",
            "  warnings.warn(\n",
            "Epoch #1:  10%|#         | 100/1000 [00:02<00:19, 46.99it/s, env_step=100, len=7, n/ep=16, n/st=100, player_1/loss=0.301, rew=0.06]/usr/local/lib/python3.10/dist-packages/tianshou/data/collector.py:237: UserWarning: n_step=10 is not a multiple of #env (100), which may cause extra transitions collected into the buffer.\n",
            "  warnings.warn(\n",
            "Epoch #1: 1001it [00:03, 332.76it/s, env_step=1000, len=7, n/ep=15, n/st=100, player_1/loss=0.296, rew=0.27]                          \n"
          ]
        },
        {
          "output_type": "stream",
          "name": "stdout",
          "text": [
            "Epoch #1: test_reward: 0.850000 ± 0.433013, best_reward: 0.850000 ± 0.433013 in #1\n"
          ]
        },
        {
          "output_type": "stream",
          "name": "stderr",
          "text": [
            "Epoch #2: 1001it [00:00, 1029.49it/s, env_step=2000, len=7, n/ep=12, n/st=100, player_1/loss=0.233, rew=-0.25]                          \n"
          ]
        },
        {
          "output_type": "stream",
          "name": "stdout",
          "text": [
            "Epoch #2: test_reward: 0.410000 ± 0.837795, best_reward: 0.850000 ± 0.433013 in #1\n"
          ]
        },
        {
          "output_type": "stream",
          "name": "stderr",
          "text": [
            "Epoch #3: 1001it [00:00, 1038.55it/s, env_step=3000, len=8, n/ep=12, n/st=100, player_1/loss=0.217, rew=0.50]                          \n"
          ]
        },
        {
          "output_type": "stream",
          "name": "stdout",
          "text": [
            "Epoch #3: test_reward: 0.340000 ± 0.827285, best_reward: 0.850000 ± 0.433013 in #1\n"
          ]
        },
        {
          "output_type": "stream",
          "name": "stderr",
          "text": [
            "Epoch #4: 1001it [00:00, 1013.63it/s, env_step=4000, len=6, n/ep=14, n/st=100, player_1/loss=0.197, rew=0.64]                          \n"
          ]
        },
        {
          "output_type": "stream",
          "name": "stdout",
          "text": [
            "Epoch #4: test_reward: 0.410000 ± 0.884251, best_reward: 0.850000 ± 0.433013 in #1\n"
          ]
        },
        {
          "output_type": "stream",
          "name": "stderr",
          "text": [
            "Epoch #5: 1001it [00:00, 1009.60it/s, env_step=5000, len=6, n/ep=14, n/st=100, player_1/loss=0.190, rew=0.50]                          \n"
          ]
        },
        {
          "output_type": "stream",
          "name": "stdout",
          "text": [
            "Epoch #5: test_reward: 0.390000 ± 0.904378, best_reward: 0.850000 ± 0.433013 in #1\n"
          ]
        },
        {
          "output_type": "stream",
          "name": "stderr",
          "text": [
            "Epoch #6: 1001it [00:00, 1009.32it/s, env_step=6000, len=6, n/ep=21, n/st=100, player_1/loss=0.174, rew=0.43]                          \n"
          ]
        },
        {
          "output_type": "stream",
          "name": "stdout",
          "text": [
            "Epoch #6: test_reward: 0.400000 ± 0.894427, best_reward: 0.850000 ± 0.433013 in #1\n"
          ]
        },
        {
          "output_type": "stream",
          "name": "stderr",
          "text": [
            "Epoch #7: 1001it [00:00, 1020.67it/s, env_step=7000, len=7, n/ep=12, n/st=100, player_1/loss=0.189, rew=0.17]                          \n"
          ]
        },
        {
          "output_type": "stream",
          "name": "stdout",
          "text": [
            "Epoch #7: test_reward: 0.500000 ± 0.818535, best_reward: 0.850000 ± 0.433013 in #1\n"
          ]
        },
        {
          "output_type": "stream",
          "name": "stderr",
          "text": [
            "Epoch #8: 1001it [00:00, 1006.48it/s, env_step=8000, len=6, n/ep=17, n/st=100, player_1/loss=0.176, rew=0.41]                          \n"
          ]
        },
        {
          "output_type": "stream",
          "name": "stdout",
          "text": [
            "Epoch #8: test_reward: 0.610000 ± 0.746927, best_reward: 0.850000 ± 0.433013 in #1\n"
          ]
        },
        {
          "output_type": "stream",
          "name": "stderr",
          "text": [
            "Epoch #9: 1001it [00:01, 995.04it/s, env_step=9000, len=6, n/ep=24, n/st=100, player_1/loss=0.167, rew=0.79]                           \n"
          ]
        },
        {
          "output_type": "stream",
          "name": "stdout",
          "text": [
            "Epoch #9: test_reward: 0.690000 ± 0.673721, best_reward: 0.850000 ± 0.433013 in #1\n"
          ]
        },
        {
          "output_type": "stream",
          "name": "stderr",
          "text": [
            "Epoch #10: 1001it [00:00, 1017.37it/s, env_step=10000, len=5, n/ep=9, n/st=100, player_1/loss=0.164, rew=0.78]                          \n"
          ]
        },
        {
          "output_type": "stream",
          "name": "stdout",
          "text": [
            "Epoch #10: test_reward: 0.760000 ± 0.634350, best_reward: 0.850000 ± 0.433013 in #1\n"
          ]
        },
        {
          "output_type": "stream",
          "name": "stderr",
          "text": [
            "Epoch #11: 1001it [00:00, 1024.29it/s, env_step=11000, len=6, n/ep=13, n/st=100, player_1/loss=0.177, rew=0.54]                          \n"
          ]
        },
        {
          "output_type": "stream",
          "name": "stdout",
          "text": [
            "Epoch #11: test_reward: 0.700000 ± 0.608276, best_reward: 0.850000 ± 0.433013 in #1\n"
          ]
        },
        {
          "output_type": "stream",
          "name": "stderr",
          "text": [
            "Epoch #12: 1001it [00:01, 999.14it/s, env_step=12000, len=6, n/ep=17, n/st=100, player_1/loss=0.177, rew=0.53]                           \n"
          ]
        },
        {
          "output_type": "stream",
          "name": "stdout",
          "text": [
            "Epoch #12: test_reward: 0.850000 ± 0.497494, best_reward: 0.850000 ± 0.433013 in #1\n"
          ]
        },
        {
          "output_type": "stream",
          "name": "stderr",
          "text": [
            "Epoch #13: 1001it [00:00, 1002.37it/s, env_step=13000, len=6, n/ep=17, n/st=100, player_1/loss=0.137, rew=0.71]                          \n"
          ]
        },
        {
          "output_type": "stream",
          "name": "stdout",
          "text": [
            "Epoch #13: test_reward: 0.740000 ± 0.642184, best_reward: 0.850000 ± 0.433013 in #1\n"
          ]
        },
        {
          "output_type": "stream",
          "name": "stderr",
          "text": [
            "Epoch #14: 1001it [00:00, 1014.86it/s, env_step=14000, len=6, n/ep=15, n/st=100, player_1/loss=0.152, rew=0.67]                          \n"
          ]
        },
        {
          "output_type": "stream",
          "name": "stdout",
          "text": [
            "Epoch #14: test_reward: 0.730000 ± 0.645833, best_reward: 0.850000 ± 0.433013 in #1\n"
          ]
        },
        {
          "output_type": "stream",
          "name": "stderr",
          "text": [
            "Epoch #15: 1001it [00:00, 1014.18it/s, env_step=15000, len=6, n/ep=9, n/st=100, player_1/loss=0.157, rew=0.78]                          \n"
          ]
        },
        {
          "output_type": "stream",
          "name": "stdout",
          "text": [
            "Epoch #15: test_reward: 0.470000 ± 0.830120, best_reward: 0.850000 ± 0.433013 in #1\n"
          ]
        },
        {
          "output_type": "stream",
          "name": "stderr",
          "text": [
            "Epoch #16: 1001it [00:00, 1019.89it/s, env_step=16000, len=6, n/ep=16, n/st=100, player_1/loss=0.140, rew=0.69]                          \n"
          ]
        },
        {
          "output_type": "stream",
          "name": "stdout",
          "text": [
            "Epoch #16: test_reward: 0.790000 ± 0.588133, best_reward: 0.850000 ± 0.433013 in #1\n"
          ]
        },
        {
          "output_type": "stream",
          "name": "stderr",
          "text": [
            "Epoch #17: 1001it [00:00, 1021.77it/s, env_step=17000, len=6, n/ep=19, n/st=100, player_1/loss=0.152, rew=0.89]                          \n"
          ]
        },
        {
          "output_type": "stream",
          "name": "stdout",
          "text": [
            "Epoch #17: test_reward: 0.810000 ± 0.542125, best_reward: 0.850000 ± 0.433013 in #1\n"
          ]
        },
        {
          "output_type": "stream",
          "name": "stderr",
          "text": [
            "Epoch #18: 1001it [00:00, 1001.41it/s, env_step=18000, len=6, n/ep=22, n/st=100, player_1/loss=0.149, rew=0.73]                          \n"
          ]
        },
        {
          "output_type": "stream",
          "name": "stdout",
          "text": [
            "Epoch #18: test_reward: 0.500000 ± 0.768115, best_reward: 0.850000 ± 0.433013 in #1\n"
          ]
        },
        {
          "output_type": "stream",
          "name": "stderr",
          "text": [
            "Epoch #19: 1001it [00:00, 1021.83it/s, env_step=19000, len=6, n/ep=11, n/st=100, player_1/loss=0.145, rew=0.73]                          \n"
          ]
        },
        {
          "output_type": "stream",
          "name": "stdout",
          "text": [
            "Epoch #19: test_reward: 0.730000 ± 0.661135, best_reward: 0.850000 ± 0.433013 in #1\n"
          ]
        },
        {
          "output_type": "stream",
          "name": "stderr",
          "text": [
            "Epoch #20: 1001it [00:00, 1034.68it/s, env_step=20000, len=7, n/ep=11, n/st=100, player_1/loss=0.129, rew=0.73]                          \n"
          ]
        },
        {
          "output_type": "stream",
          "name": "stdout",
          "text": [
            "Epoch #20: test_reward: 0.840000 ± 0.440908, best_reward: 0.850000 ± 0.433013 in #1\n"
          ]
        },
        {
          "output_type": "stream",
          "name": "stderr",
          "text": [
            "Epoch #21: 1001it [00:00, 1010.77it/s, env_step=21000, len=5, n/ep=18, n/st=100, player_1/loss=0.127, rew=0.78]                          \n"
          ]
        },
        {
          "output_type": "stream",
          "name": "stdout",
          "text": [
            "Epoch #21: test_reward: 0.870000 ± 0.461628, best_reward: 0.870000 ± 0.461628 in #21\n"
          ]
        },
        {
          "output_type": "stream",
          "name": "stderr",
          "text": [
            "Epoch #22: 1001it [00:00, 1008.24it/s, env_step=22000, len=6, n/ep=16, n/st=100, player_1/loss=0.124, rew=0.81]                          \n"
          ]
        },
        {
          "output_type": "stream",
          "name": "stdout",
          "text": [
            "Epoch #22: test_reward: 0.800000 ± 0.547723, best_reward: 0.870000 ± 0.461628 in #21\n"
          ]
        },
        {
          "output_type": "stream",
          "name": "stderr",
          "text": [
            "Epoch #23: 1001it [00:00, 1011.47it/s, env_step=23000, len=6, n/ep=13, n/st=100, player_1/loss=0.118, rew=0.38]                          \n"
          ]
        },
        {
          "output_type": "stream",
          "name": "stdout",
          "text": [
            "Epoch #23: test_reward: 0.860000 ± 0.469468, best_reward: 0.870000 ± 0.461628 in #21\n"
          ]
        },
        {
          "output_type": "stream",
          "name": "stderr",
          "text": [
            "Epoch #24: 1001it [00:01, 997.72it/s, env_step=24000, len=6, n/ep=17, n/st=100, player_1/loss=0.124, rew=0.76]                           \n"
          ]
        },
        {
          "output_type": "stream",
          "name": "stdout",
          "text": [
            "Epoch #24: test_reward: 0.750000 ± 0.622495, best_reward: 0.870000 ± 0.461628 in #21\n"
          ]
        },
        {
          "output_type": "stream",
          "name": "stderr",
          "text": [
            "Epoch #25: 1001it [00:00, 1011.29it/s, env_step=25000, len=6, n/ep=9, n/st=100, player_1/loss=0.112, rew=0.33]                          \n"
          ]
        },
        {
          "output_type": "stream",
          "name": "stdout",
          "text": [
            "Epoch #25: test_reward: 0.630000 ± 0.743707, best_reward: 0.870000 ± 0.461628 in #21\n"
          ]
        },
        {
          "output_type": "stream",
          "name": "stderr",
          "text": [
            "Epoch #26: 1001it [00:01, 996.61it/s, env_step=26000, len=6, n/ep=20, n/st=100, player_1/loss=0.112, rew=0.55]                           \n"
          ]
        },
        {
          "output_type": "stream",
          "name": "stdout",
          "text": [
            "Epoch #26: test_reward: 0.780000 ± 0.609590, best_reward: 0.870000 ± 0.461628 in #21\n"
          ]
        },
        {
          "output_type": "stream",
          "name": "stderr",
          "text": [
            "Epoch #27: 1001it [00:00, 1034.08it/s, env_step=27000, len=7, n/ep=10, n/st=100, player_1/loss=0.106, rew=0.60]                          \n"
          ]
        },
        {
          "output_type": "stream",
          "name": "stdout",
          "text": [
            "Epoch #27: test_reward: 0.760000 ± 0.618385, best_reward: 0.870000 ± 0.461628 in #21\n"
          ]
        },
        {
          "output_type": "stream",
          "name": "stderr",
          "text": [
            "Epoch #28: 1001it [00:00, 1008.64it/s, env_step=28000, len=6, n/ep=14, n/st=100, player_1/loss=0.114, rew=0.71]                          \n"
          ]
        },
        {
          "output_type": "stream",
          "name": "stdout",
          "text": [
            "Epoch #28: test_reward: 0.800000 ± 0.565685, best_reward: 0.870000 ± 0.461628 in #21\n"
          ]
        },
        {
          "output_type": "stream",
          "name": "stderr",
          "text": [
            "Epoch #29: 1001it [00:00, 1025.25it/s, env_step=29000, len=6, n/ep=15, n/st=100, player_1/loss=0.092, rew=0.60]                          \n"
          ]
        },
        {
          "output_type": "stream",
          "name": "stdout",
          "text": [
            "Epoch #29: test_reward: 0.840000 ± 0.523832, best_reward: 0.870000 ± 0.461628 in #21\n"
          ]
        },
        {
          "output_type": "stream",
          "name": "stderr",
          "text": [
            "Epoch #30: 1001it [00:00, 1002.87it/s, env_step=30000, len=6, n/ep=22, n/st=100, player_1/loss=0.104, rew=0.77]                          \n"
          ]
        },
        {
          "output_type": "stream",
          "name": "stdout",
          "text": [
            "Epoch #30: test_reward: 0.790000 ± 0.588133, best_reward: 0.870000 ± 0.461628 in #21\n"
          ]
        },
        {
          "output_type": "stream",
          "name": "stderr",
          "text": [
            "Epoch #31: 1001it [00:00, 1013.54it/s, env_step=31000, len=5, n/ep=15, n/st=100, player_1/loss=0.096, rew=0.73]                          \n"
          ]
        },
        {
          "output_type": "stream",
          "name": "stdout",
          "text": [
            "Epoch #31: test_reward: 0.910000 ± 0.376696, best_reward: 0.910000 ± 0.376696 in #31\n"
          ]
        },
        {
          "output_type": "stream",
          "name": "stderr",
          "text": [
            "Epoch #32: 1001it [00:00, 1012.39it/s, env_step=32000, len=6, n/ep=24, n/st=100, player_1/loss=0.084, rew=0.79]                          \n"
          ]
        },
        {
          "output_type": "stream",
          "name": "stdout",
          "text": [
            "Epoch #32: test_reward: 0.820000 ± 0.572364, best_reward: 0.910000 ± 0.376696 in #31\n"
          ]
        },
        {
          "output_type": "stream",
          "name": "stderr",
          "text": [
            "Epoch #33: 1001it [00:00, 1007.25it/s, env_step=33000, len=5, n/ep=15, n/st=100, player_1/loss=0.100, rew=0.87]                          \n"
          ]
        },
        {
          "output_type": "stream",
          "name": "stdout",
          "text": [
            "Epoch #33: test_reward: 0.870000 ± 0.482804, best_reward: 0.910000 ± 0.376696 in #31\n"
          ]
        },
        {
          "output_type": "stream",
          "name": "stderr",
          "text": [
            "Epoch #34: 1001it [00:00, 1008.10it/s, env_step=34000, len=6, n/ep=15, n/st=100, player_1/loss=0.089, rew=0.73]                          \n"
          ]
        },
        {
          "output_type": "stream",
          "name": "stdout",
          "text": [
            "Epoch #34: test_reward: 0.900000 ± 0.435890, best_reward: 0.910000 ± 0.376696 in #31\n"
          ]
        },
        {
          "output_type": "stream",
          "name": "stderr",
          "text": [
            "Epoch #35: 1001it [00:00, 1006.52it/s, env_step=35000, len=5, n/ep=18, n/st=100, player_1/loss=0.102, rew=0.83]                          \n"
          ]
        },
        {
          "output_type": "stream",
          "name": "stdout",
          "text": [
            "Epoch #35: test_reward: 0.810000 ± 0.577841, best_reward: 0.910000 ± 0.376696 in #31\n"
          ]
        },
        {
          "output_type": "stream",
          "name": "stderr",
          "text": [
            "Epoch #36: 1001it [00:01, 995.98it/s, env_step=36000, len=5, n/ep=18, n/st=100, player_1/loss=0.101, rew=0.89]                           \n"
          ]
        },
        {
          "output_type": "stream",
          "name": "stdout",
          "text": [
            "Epoch #36: test_reward: 0.810000 ± 0.577841, best_reward: 0.910000 ± 0.376696 in #31\n"
          ]
        },
        {
          "output_type": "stream",
          "name": "stderr",
          "text": [
            "Epoch #37: 1001it [00:00, 1002.01it/s, env_step=37000, len=6, n/ep=7, n/st=100, player_1/loss=0.097, rew=1.00]                          \n"
          ]
        },
        {
          "output_type": "stream",
          "name": "stdout",
          "text": [
            "Epoch #37: test_reward: 0.910000 ± 0.402368, best_reward: 0.910000 ± 0.376696 in #31\n"
          ]
        },
        {
          "output_type": "stream",
          "name": "stderr",
          "text": [
            "Epoch #38: 1001it [00:01, 1000.45it/s, env_step=38000, len=5, n/ep=14, n/st=100, player_1/loss=0.101, rew=0.71]                          \n"
          ]
        },
        {
          "output_type": "stream",
          "name": "stdout",
          "text": [
            "Epoch #38: test_reward: 0.780000 ± 0.609590, best_reward: 0.910000 ± 0.376696 in #31\n"
          ]
        },
        {
          "output_type": "stream",
          "name": "stderr",
          "text": [
            "Epoch #39: 1001it [00:01, 970.01it/s, env_step=39000, len=5, n/ep=12, n/st=100, player_1/loss=0.103, rew=1.00]                           \n"
          ]
        },
        {
          "output_type": "stream",
          "name": "stdout",
          "text": [
            "Epoch #39: test_reward: 0.830000 ± 0.510979, best_reward: 0.910000 ± 0.376696 in #31\n"
          ]
        },
        {
          "output_type": "stream",
          "name": "stderr",
          "text": [
            "Epoch #40: 1001it [00:00, 1013.93it/s, env_step=40000, len=6, n/ep=14, n/st=100, player_1/loss=0.099, rew=1.00]                          \n"
          ]
        },
        {
          "output_type": "stream",
          "name": "stdout",
          "text": [
            "Epoch #40: test_reward: 0.820000 ± 0.572364, best_reward: 0.910000 ± 0.376696 in #31\n"
          ]
        },
        {
          "output_type": "stream",
          "name": "stderr",
          "text": [
            "Epoch #41: 1001it [00:00, 1002.80it/s, env_step=41000, len=5, n/ep=13, n/st=100, player_1/loss=0.091, rew=0.62]                          \n"
          ]
        },
        {
          "output_type": "stream",
          "name": "stdout",
          "text": [
            "Epoch #41: test_reward: 0.920000 ± 0.391918, best_reward: 0.920000 ± 0.391918 in #41\n"
          ]
        },
        {
          "output_type": "stream",
          "name": "stderr",
          "text": [
            "Epoch #42: 1001it [00:00, 1006.78it/s, env_step=42000, len=6, n/ep=13, n/st=100, player_1/loss=0.097, rew=0.69]                          \n"
          ]
        },
        {
          "output_type": "stream",
          "name": "stdout",
          "text": [
            "Epoch #42: test_reward: 0.550000 ± 0.804674, best_reward: 0.920000 ± 0.391918 in #41\n"
          ]
        },
        {
          "output_type": "stream",
          "name": "stderr",
          "text": [
            "Epoch #43: 1001it [00:00, 1021.77it/s, env_step=43000, len=7, n/ep=14, n/st=100, player_1/loss=0.097, rew=-0.07]                          \n"
          ]
        },
        {
          "output_type": "stream",
          "name": "stdout",
          "text": [
            "Epoch #43: test_reward: 0.720000 ± 0.649307, best_reward: 0.920000 ± 0.391918 in #41\n"
          ]
        },
        {
          "output_type": "stream",
          "name": "stderr",
          "text": [
            "Epoch #44: 1001it [00:00, 1006.41it/s, env_step=44000, len=5, n/ep=10, n/st=100, player_1/loss=0.108, rew=0.80]                          \n"
          ]
        },
        {
          "output_type": "stream",
          "name": "stdout",
          "text": [
            "Epoch #44: test_reward: 0.480000 ± 0.830422, best_reward: 0.920000 ± 0.391918 in #41\n"
          ]
        },
        {
          "output_type": "stream",
          "name": "stderr",
          "text": [
            "Epoch #45: 1001it [00:01, 997.95it/s, env_step=45000, len=7, n/ep=18, n/st=100, player_1/loss=0.104, rew=0.28]                           \n"
          ]
        },
        {
          "output_type": "stream",
          "name": "stdout",
          "text": [
            "Epoch #45: test_reward: 0.490000 ± 0.830602, best_reward: 0.920000 ± 0.391918 in #41\n"
          ]
        },
        {
          "output_type": "stream",
          "name": "stderr",
          "text": [
            "Epoch #46: 1001it [00:00, 1044.55it/s, env_step=46000, len=7, n/ep=12, n/st=100, player_1/loss=0.110, rew=0.58]                          \n"
          ]
        },
        {
          "output_type": "stream",
          "name": "stdout",
          "text": [
            "Epoch #46: test_reward: 0.750000 ± 0.638357, best_reward: 0.920000 ± 0.391918 in #41\n"
          ]
        },
        {
          "output_type": "stream",
          "name": "stderr",
          "text": [
            "Epoch #47: 1001it [00:00, 1001.20it/s, env_step=47000, len=6, n/ep=18, n/st=100, player_1/loss=0.108, rew=0.83]                          \n"
          ]
        },
        {
          "output_type": "stream",
          "name": "stdout",
          "text": [
            "Epoch #47: test_reward: 0.440000 ± 0.863944, best_reward: 0.920000 ± 0.391918 in #41\n"
          ]
        },
        {
          "output_type": "stream",
          "name": "stderr",
          "text": [
            "Epoch #48: 1001it [00:00, 1031.12it/s, env_step=48000, len=5, n/ep=12, n/st=100, player_1/loss=0.100, rew=0.83]                          \n"
          ]
        },
        {
          "output_type": "stream",
          "name": "stdout",
          "text": [
            "Epoch #48: test_reward: 0.740000 ± 0.672607, best_reward: 0.920000 ± 0.391918 in #41\n"
          ]
        },
        {
          "output_type": "stream",
          "name": "stderr",
          "text": [
            "Epoch #49: 1001it [00:00, 1010.09it/s, env_step=49000, len=5, n/ep=22, n/st=100, player_1/loss=0.106, rew=0.68]                          \n"
          ]
        },
        {
          "output_type": "stream",
          "name": "stdout",
          "text": [
            "Epoch #49: test_reward: 0.630000 ± 0.743707, best_reward: 0.920000 ± 0.391918 in #41\n"
          ]
        },
        {
          "output_type": "stream",
          "name": "stderr",
          "text": [
            "Epoch #50: 1001it [00:00, 1018.18it/s, env_step=50000, len=6, n/ep=15, n/st=100, player_1/loss=0.107, rew=0.73]                          \n"
          ]
        },
        {
          "output_type": "stream",
          "name": "stdout",
          "text": [
            "Epoch #50: test_reward: 0.570000 ± 0.777882, best_reward: 0.920000 ± 0.391918 in #41\n"
          ]
        },
        {
          "output_type": "stream",
          "name": "stderr",
          "text": [
            "Epoch #51: 1001it [00:00, 1018.46it/s, env_step=51000, len=7, n/ep=18, n/st=100, player_1/loss=0.116, rew=0.28]                          \n"
          ]
        },
        {
          "output_type": "stream",
          "name": "stdout",
          "text": [
            "Epoch #51: test_reward: 0.550000 ± 0.753326, best_reward: 0.920000 ± 0.391918 in #41\n"
          ]
        },
        {
          "output_type": "stream",
          "name": "stderr",
          "text": [
            "Epoch #52: 1001it [00:00, 1038.51it/s, env_step=52000, len=7, n/ep=13, n/st=100, player_1/loss=0.134, rew=0.38]                          \n"
          ]
        },
        {
          "output_type": "stream",
          "name": "stdout",
          "text": [
            "Epoch #52: test_reward: 0.450000 ± 0.852936, best_reward: 0.920000 ± 0.391918 in #41\n"
          ]
        },
        {
          "output_type": "stream",
          "name": "stderr",
          "text": [
            "Epoch #53: 1001it [00:00, 1010.79it/s, env_step=53000, len=6, n/ep=15, n/st=100, player_1/loss=0.126, rew=0.53]                          \n"
          ]
        },
        {
          "output_type": "stream",
          "name": "stdout",
          "text": [
            "Epoch #53: test_reward: 0.740000 ± 0.626418, best_reward: 0.920000 ± 0.391918 in #41\n"
          ]
        },
        {
          "output_type": "stream",
          "name": "stderr",
          "text": [
            "Epoch #54: 1001it [00:00, 1021.50it/s, env_step=54000, len=7, n/ep=14, n/st=100, player_1/loss=0.121, rew=0.43]                          \n"
          ]
        },
        {
          "output_type": "stream",
          "name": "stdout",
          "text": [
            "Epoch #54: test_reward: 0.720000 ± 0.664530, best_reward: 0.920000 ± 0.391918 in #41\n"
          ]
        },
        {
          "output_type": "stream",
          "name": "stderr",
          "text": [
            "Epoch #55: 1001it [00:00, 1027.05it/s, env_step=55000, len=6, n/ep=11, n/st=100, player_1/loss=0.118, rew=0.27]                          \n"
          ]
        },
        {
          "output_type": "stream",
          "name": "stdout",
          "text": [
            "Epoch #55: test_reward: 0.760000 ± 0.618385, best_reward: 0.920000 ± 0.391918 in #41\n"
          ]
        },
        {
          "output_type": "stream",
          "name": "stderr",
          "text": [
            "Epoch #56: 1001it [00:01, 985.71it/s, env_step=56000, len=7, n/ep=11, n/st=100, player_1/loss=0.125, rew=0.45]                           \n"
          ]
        },
        {
          "output_type": "stream",
          "name": "stdout",
          "text": [
            "Epoch #56: test_reward: 0.500000 ± 0.806226, best_reward: 0.920000 ± 0.391918 in #41\n"
          ]
        },
        {
          "output_type": "stream",
          "name": "stderr",
          "text": [
            "Epoch #57: 1001it [00:00, 1014.00it/s, env_step=57000, len=6, n/ep=21, n/st=100, player_1/loss=0.127, rew=0.71]                          \n"
          ]
        },
        {
          "output_type": "stream",
          "name": "stdout",
          "text": [
            "Epoch #57: test_reward: 0.740000 ± 0.657571, best_reward: 0.920000 ± 0.391918 in #41\n"
          ]
        },
        {
          "output_type": "stream",
          "name": "stderr",
          "text": [
            "Epoch #58: 1001it [00:00, 1019.61it/s, env_step=58000, len=5, n/ep=24, n/st=100, player_1/loss=0.124, rew=0.67]                          \n"
          ]
        },
        {
          "output_type": "stream",
          "name": "stdout",
          "text": [
            "Epoch #58: test_reward: 0.820000 ± 0.536284, best_reward: 0.920000 ± 0.391918 in #41\n"
          ]
        },
        {
          "output_type": "stream",
          "name": "stderr",
          "text": [
            "Epoch #59: 1001it [00:00, 1004.87it/s, env_step=59000, len=6, n/ep=19, n/st=100, player_1/loss=0.148, rew=0.68]                          \n"
          ]
        },
        {
          "output_type": "stream",
          "name": "stdout",
          "text": [
            "Epoch #59: test_reward: 0.840000 ± 0.504381, best_reward: 0.920000 ± 0.391918 in #41\n"
          ]
        },
        {
          "output_type": "stream",
          "name": "stderr",
          "text": [
            "Epoch #60: 1001it [00:00, 1006.35it/s, env_step=60000, len=6, n/ep=12, n/st=100, player_1/loss=0.120, rew=0.75]                          \n"
          ]
        },
        {
          "output_type": "stream",
          "name": "stdout",
          "text": [
            "Epoch #60: test_reward: 0.710000 ± 0.682569, best_reward: 0.920000 ± 0.391918 in #41\n"
          ]
        },
        {
          "output_type": "stream",
          "name": "stderr",
          "text": [
            "Epoch #61: 1001it [00:00, 1007.95it/s, env_step=61000, len=5, n/ep=21, n/st=100, player_1/loss=0.119, rew=0.71]                          \n"
          ]
        },
        {
          "output_type": "stream",
          "name": "stdout",
          "text": [
            "Epoch #61: test_reward: 0.720000 ± 0.693974, best_reward: 0.920000 ± 0.391918 in #41\n"
          ]
        },
        {
          "output_type": "stream",
          "name": "stderr",
          "text": [
            "Epoch #62: 1001it [00:00, 1004.56it/s, env_step=62000, len=5, n/ep=21, n/st=100, player_1/loss=0.128, rew=0.90]                          \n"
          ]
        },
        {
          "output_type": "stream",
          "name": "stdout",
          "text": [
            "Epoch #62: test_reward: 0.720000 ± 0.649307, best_reward: 0.920000 ± 0.391918 in #41\n"
          ]
        },
        {
          "output_type": "stream",
          "name": "stderr",
          "text": [
            "Epoch #63: 1001it [00:00, 1010.66it/s, env_step=63000, len=6, n/ep=21, n/st=100, player_1/loss=0.127, rew=0.67]                          \n"
          ]
        },
        {
          "output_type": "stream",
          "name": "stdout",
          "text": [
            "Epoch #63: test_reward: 0.600000 ± 0.787401, best_reward: 0.920000 ± 0.391918 in #41\n"
          ]
        },
        {
          "output_type": "stream",
          "name": "stderr",
          "text": [
            "Epoch #64: 1001it [00:01, 997.64it/s, env_step=64000, len=6, n/ep=11, n/st=100, player_1/loss=0.130, rew=0.82]                           \n"
          ]
        },
        {
          "output_type": "stream",
          "name": "stdout",
          "text": [
            "Epoch #64: test_reward: 0.780000 ± 0.592959, best_reward: 0.920000 ± 0.391918 in #41\n"
          ]
        },
        {
          "output_type": "stream",
          "name": "stderr",
          "text": [
            "Epoch #65: 1001it [00:00, 1017.03it/s, env_step=65000, len=6, n/ep=11, n/st=100, player_1/loss=0.131, rew=0.45]                          \n"
          ]
        },
        {
          "output_type": "stream",
          "name": "stdout",
          "text": [
            "Epoch #65: test_reward: 0.720000 ± 0.679412, best_reward: 0.920000 ± 0.391918 in #41\n"
          ]
        },
        {
          "output_type": "stream",
          "name": "stderr",
          "text": [
            "Epoch #66: 1001it [00:00, 1014.68it/s, env_step=66000, len=7, n/ep=12, n/st=100, player_1/loss=0.129, rew=0.58]                          \n"
          ]
        },
        {
          "output_type": "stream",
          "name": "stdout",
          "text": [
            "Epoch #66: test_reward: 0.560000 ± 0.791454, best_reward: 0.920000 ± 0.391918 in #41\n"
          ]
        },
        {
          "output_type": "stream",
          "name": "stderr",
          "text": [
            "Epoch #67: 1001it [00:00, 1008.30it/s, env_step=67000, len=5, n/ep=11, n/st=100, player_1/loss=0.124, rew=1.00]                          \n"
          ]
        },
        {
          "output_type": "stream",
          "name": "stdout",
          "text": [
            "Epoch #67: test_reward: 0.730000 ± 0.676092, best_reward: 0.920000 ± 0.391918 in #41\n"
          ]
        },
        {
          "output_type": "stream",
          "name": "stderr",
          "text": [
            "Epoch #68: 1001it [00:00, 1012.61it/s, env_step=68000, len=6, n/ep=15, n/st=100, player_1/loss=0.123, rew=0.20]                          \n"
          ]
        },
        {
          "output_type": "stream",
          "name": "stdout",
          "text": [
            "Epoch #68: test_reward: 0.690000 ± 0.688404, best_reward: 0.920000 ± 0.391918 in #41\n"
          ]
        },
        {
          "output_type": "stream",
          "name": "stderr",
          "text": [
            "Epoch #69: 1001it [00:00, 1002.51it/s, env_step=69000, len=6, n/ep=16, n/st=100, player_1/loss=0.129, rew=0.75]                          \n"
          ]
        },
        {
          "output_type": "stream",
          "name": "stdout",
          "text": [
            "Epoch #69: test_reward: 0.770000 ± 0.614085, best_reward: 0.920000 ± 0.391918 in #41\n"
          ]
        },
        {
          "output_type": "stream",
          "name": "stderr",
          "text": [
            "Epoch #70: 1001it [00:00, 1016.47it/s, env_step=70000, len=6, n/ep=15, n/st=100, player_1/loss=0.133, rew=0.60]                          \n"
          ]
        },
        {
          "output_type": "stream",
          "name": "stdout",
          "text": [
            "Epoch #70: test_reward: 0.560000 ± 0.778717, best_reward: 0.920000 ± 0.391918 in #41\n"
          ]
        },
        {
          "output_type": "stream",
          "name": "stderr",
          "text": [
            "Epoch #71: 1001it [00:00, 1007.05it/s, env_step=71000, len=7, n/ep=10, n/st=100, player_1/loss=0.125, rew=0.30]                          \n"
          ]
        },
        {
          "output_type": "stream",
          "name": "stdout",
          "text": [
            "Epoch #71: test_reward: 0.740000 ± 0.657571, best_reward: 0.920000 ± 0.391918 in #41\n"
          ]
        },
        {
          "output_type": "stream",
          "name": "stderr",
          "text": [
            "Epoch #72: 1001it [00:01, 993.33it/s, env_step=72000, len=6, n/ep=16, n/st=100, player_1/loss=0.105, rew=0.50]                           \n"
          ]
        },
        {
          "output_type": "stream",
          "name": "stdout",
          "text": [
            "Epoch #72: test_reward: 0.810000 ± 0.560268, best_reward: 0.920000 ± 0.391918 in #41\n"
          ]
        },
        {
          "output_type": "stream",
          "name": "stderr",
          "text": [
            "Epoch #73: 1001it [00:00, 1001.13it/s, env_step=73000, len=6, n/ep=20, n/st=100, player_1/loss=0.115, rew=0.65]                          \n"
          ]
        },
        {
          "output_type": "stream",
          "name": "stdout",
          "text": [
            "Epoch #73: test_reward: 0.790000 ± 0.604897, best_reward: 0.920000 ± 0.391918 in #41\n"
          ]
        },
        {
          "output_type": "stream",
          "name": "stderr",
          "text": [
            "Epoch #74: 1001it [00:00, 1024.96it/s, env_step=74000, len=6, n/ep=12, n/st=100, player_1/loss=0.126, rew=0.75]                          \n"
          ]
        },
        {
          "output_type": "stream",
          "name": "stdout",
          "text": [
            "Epoch #74: test_reward: 0.520000 ± 0.830422, best_reward: 0.920000 ± 0.391918 in #41\n"
          ]
        },
        {
          "output_type": "stream",
          "name": "stderr",
          "text": [
            "Epoch #75: 1001it [00:00, 1022.18it/s, env_step=75000, len=6, n/ep=12, n/st=100, player_1/loss=0.117, rew=0.33]                          \n"
          ]
        },
        {
          "output_type": "stream",
          "name": "stdout",
          "text": [
            "Epoch #75: test_reward: 0.520000 ± 0.805978, best_reward: 0.920000 ± 0.391918 in #41\n"
          ]
        },
        {
          "output_type": "stream",
          "name": "stderr",
          "text": [
            "Epoch #76: 1001it [00:00, 1026.11it/s, env_step=76000, len=6, n/ep=18, n/st=100, player_1/loss=0.124, rew=0.94]                          \n"
          ]
        },
        {
          "output_type": "stream",
          "name": "stdout",
          "text": [
            "Epoch #76: test_reward: 0.590000 ± 0.736139, best_reward: 0.920000 ± 0.391918 in #41\n"
          ]
        },
        {
          "output_type": "stream",
          "name": "stderr",
          "text": [
            "Epoch #77: 1001it [00:00, 1024.14it/s, env_step=77000, len=6, n/ep=15, n/st=100, player_1/loss=0.124, rew=0.87]                          \n"
          ]
        },
        {
          "output_type": "stream",
          "name": "stdout",
          "text": [
            "Epoch #77: test_reward: 0.450000 ± 0.841130, best_reward: 0.920000 ± 0.391918 in #41\n"
          ]
        },
        {
          "output_type": "stream",
          "name": "stderr",
          "text": [
            "Epoch #78: 1001it [00:00, 1018.98it/s, env_step=78000, len=6, n/ep=13, n/st=100, player_1/loss=0.122, rew=0.85]                          \n"
          ]
        },
        {
          "output_type": "stream",
          "name": "stdout",
          "text": [
            "Epoch #78: test_reward: 0.550000 ± 0.766485, best_reward: 0.920000 ± 0.391918 in #41\n"
          ]
        },
        {
          "output_type": "stream",
          "name": "stderr",
          "text": [
            "Epoch #79: 1001it [00:00, 1024.01it/s, env_step=79000, len=5, n/ep=15, n/st=100, player_1/loss=0.111, rew=1.00]                          \n"
          ]
        },
        {
          "output_type": "stream",
          "name": "stdout",
          "text": [
            "Epoch #79: test_reward: 0.490000 ± 0.806164, best_reward: 0.920000 ± 0.391918 in #41\n"
          ]
        },
        {
          "output_type": "stream",
          "name": "stderr",
          "text": [
            "Epoch #80: 1001it [00:00, 1016.83it/s, env_step=80000, len=7, n/ep=14, n/st=100, player_1/loss=0.134, rew=0.64]                          \n"
          ]
        },
        {
          "output_type": "stream",
          "name": "stdout",
          "text": [
            "Epoch #80: test_reward: 0.750000 ± 0.653835, best_reward: 0.920000 ± 0.391918 in #41\n"
          ]
        },
        {
          "output_type": "stream",
          "name": "stderr",
          "text": [
            "Epoch #81: 1001it [00:00, 1016.87it/s, env_step=81000, len=6, n/ep=14, n/st=100, player_1/loss=0.126, rew=0.14]                          \n"
          ]
        },
        {
          "output_type": "stream",
          "name": "stdout",
          "text": [
            "Epoch #81: test_reward: 0.940000 ± 0.310483, best_reward: 0.940000 ± 0.310483 in #81\n"
          ]
        },
        {
          "output_type": "stream",
          "name": "stderr",
          "text": [
            "Epoch #82: 1001it [00:00, 1024.30it/s, env_step=82000, len=6, n/ep=16, n/st=100, player_1/loss=0.119, rew=0.12]                          \n"
          ]
        },
        {
          "output_type": "stream",
          "name": "stdout",
          "text": [
            "Epoch #82: test_reward: 0.830000 ± 0.548726, best_reward: 0.940000 ± 0.310483 in #81\n"
          ]
        },
        {
          "output_type": "stream",
          "name": "stderr",
          "text": [
            "Epoch #83: 1001it [00:00, 1001.92it/s, env_step=83000, len=6, n/ep=21, n/st=100, player_1/loss=0.133, rew=0.90]                          \n"
          ]
        },
        {
          "output_type": "stream",
          "name": "stdout",
          "text": [
            "Epoch #83: test_reward: 0.770000 ± 0.597578, best_reward: 0.940000 ± 0.310483 in #81\n"
          ]
        },
        {
          "output_type": "stream",
          "name": "stderr",
          "text": [
            "Epoch #84: 1001it [00:00, 1001.44it/s, env_step=84000, len=6, n/ep=17, n/st=100, player_1/loss=0.138, rew=0.47]                          \n"
          ]
        },
        {
          "output_type": "stream",
          "name": "stdout",
          "text": [
            "Epoch #84: test_reward: 0.510000 ± 0.830602, best_reward: 0.940000 ± 0.310483 in #81\n"
          ]
        },
        {
          "output_type": "stream",
          "name": "stderr",
          "text": [
            "Epoch #85: 1001it [00:00, 1013.86it/s, env_step=85000, len=7, n/ep=8, n/st=100, player_1/loss=0.132, rew=0.62]                          \n"
          ]
        },
        {
          "output_type": "stream",
          "name": "stdout",
          "text": [
            "Epoch #85: test_reward: 0.570000 ± 0.710704, best_reward: 0.940000 ± 0.310483 in #81\n"
          ]
        },
        {
          "output_type": "stream",
          "name": "stderr",
          "text": [
            "Epoch #86: 1001it [00:00, 1034.14it/s, env_step=86000, len=6, n/ep=13, n/st=100, player_1/loss=0.129, rew=0.85]                          \n"
          ]
        },
        {
          "output_type": "stream",
          "name": "stdout",
          "text": [
            "Epoch #86: test_reward: 0.510000 ± 0.754917, best_reward: 0.940000 ± 0.310483 in #81\n"
          ]
        },
        {
          "output_type": "stream",
          "name": "stderr",
          "text": [
            "Epoch #87: 1001it [00:00, 1012.18it/s, env_step=87000, len=7, n/ep=11, n/st=100, player_1/loss=0.135, rew=0.91]                          \n"
          ]
        },
        {
          "output_type": "stream",
          "name": "stdout",
          "text": [
            "Epoch #87: test_reward: 0.470000 ± 0.853874, best_reward: 0.940000 ± 0.310483 in #81\n"
          ]
        },
        {
          "output_type": "stream",
          "name": "stderr",
          "text": [
            "Epoch #88: 1001it [00:00, 1012.03it/s, env_step=88000, len=8, n/ep=6, n/st=100, player_1/loss=0.131, rew=0.50]                          \n"
          ]
        },
        {
          "output_type": "stream",
          "name": "stdout",
          "text": [
            "Epoch #88: test_reward: 0.730000 ± 0.614085, best_reward: 0.940000 ± 0.310483 in #81\n"
          ]
        },
        {
          "output_type": "stream",
          "name": "stderr",
          "text": [
            "Epoch #89: 1001it [00:00, 1019.82it/s, env_step=89000, len=7, n/ep=20, n/st=100, player_1/loss=0.143, rew=0.65]                          \n"
          ]
        },
        {
          "output_type": "stream",
          "name": "stdout",
          "text": [
            "Epoch #89: test_reward: 0.670000 ± 0.679043, best_reward: 0.940000 ± 0.310483 in #81\n"
          ]
        },
        {
          "output_type": "stream",
          "name": "stderr",
          "text": [
            "Epoch #90: 1001it [00:00, 1006.07it/s, env_step=90000, len=7, n/ep=16, n/st=100, player_1/loss=0.120, rew=0.44]                          \n"
          ]
        },
        {
          "output_type": "stream",
          "name": "stdout",
          "text": [
            "Epoch #90: test_reward: 0.770000 ± 0.614085, best_reward: 0.940000 ± 0.310483 in #81\n"
          ]
        },
        {
          "output_type": "stream",
          "name": "stderr",
          "text": [
            "Epoch #91: 1001it [00:00, 1005.66it/s, env_step=91000, len=6, n/ep=10, n/st=100, player_1/loss=0.123, rew=1.00]                          \n"
          ]
        },
        {
          "output_type": "stream",
          "name": "stdout",
          "text": [
            "Epoch #91: test_reward: 0.760000 ± 0.634350, best_reward: 0.940000 ± 0.310483 in #81\n"
          ]
        },
        {
          "output_type": "stream",
          "name": "stderr",
          "text": [
            "Epoch #92: 1001it [00:00, 1010.33it/s, env_step=92000, len=6, n/ep=13, n/st=100, player_1/loss=0.138, rew=0.54]                          \n"
          ]
        },
        {
          "output_type": "stream",
          "name": "stdout",
          "text": [
            "Epoch #92: test_reward: 0.780000 ± 0.558211, best_reward: 0.940000 ± 0.310483 in #81\n"
          ]
        },
        {
          "output_type": "stream",
          "name": "stderr",
          "text": [
            "Epoch #93: 1001it [00:01, 1000.62it/s, env_step=93000, len=6, n/ep=14, n/st=100, player_1/loss=0.134, rew=0.86]                          \n"
          ]
        },
        {
          "output_type": "stream",
          "name": "stdout",
          "text": [
            "Epoch #93: test_reward: 0.880000 ± 0.430813, best_reward: 0.940000 ± 0.310483 in #81\n"
          ]
        },
        {
          "output_type": "stream",
          "name": "stderr",
          "text": [
            "Epoch #94: 1001it [00:00, 1011.78it/s, env_step=94000, len=5, n/ep=22, n/st=100, player_1/loss=0.132, rew=0.77]                          \n"
          ]
        },
        {
          "output_type": "stream",
          "name": "stdout",
          "text": [
            "Epoch #94: test_reward: 0.800000 ± 0.583095, best_reward: 0.940000 ± 0.310483 in #81\n"
          ]
        },
        {
          "output_type": "stream",
          "name": "stderr",
          "text": [
            "Epoch #95: 1001it [00:00, 1004.60it/s, env_step=95000, len=6, n/ep=18, n/st=100, player_1/loss=0.134, rew=0.94]                          \n"
          ]
        },
        {
          "output_type": "stream",
          "name": "stdout",
          "text": [
            "Epoch #95: test_reward: 0.870000 ± 0.461628, best_reward: 0.940000 ± 0.310483 in #81\n"
          ]
        },
        {
          "output_type": "stream",
          "name": "stderr",
          "text": [
            "Epoch #96: 1001it [00:00, 1024.22it/s, env_step=96000, len=6, n/ep=13, n/st=100, player_1/loss=0.138, rew=0.62]                          \n"
          ]
        },
        {
          "output_type": "stream",
          "name": "stdout",
          "text": [
            "Epoch #96: test_reward: 0.770000 ± 0.614085, best_reward: 0.940000 ± 0.310483 in #81\n"
          ]
        },
        {
          "output_type": "stream",
          "name": "stderr",
          "text": [
            "Epoch #97: 1001it [00:00, 1013.98it/s, env_step=97000, len=7, n/ep=18, n/st=100, player_1/loss=0.120, rew=0.50]                          \n"
          ]
        },
        {
          "output_type": "stream",
          "name": "stdout",
          "text": [
            "Epoch #97: test_reward: 0.700000 ± 0.700000, best_reward: 0.940000 ± 0.310483 in #81\n"
          ]
        },
        {
          "output_type": "stream",
          "name": "stderr",
          "text": [
            "Epoch #98: 1001it [00:01, 985.95it/s, env_step=98000, len=6, n/ep=10, n/st=100, player_1/loss=0.117, rew=1.00]                           \n"
          ]
        },
        {
          "output_type": "stream",
          "name": "stdout",
          "text": [
            "Epoch #98: test_reward: 0.830000 ± 0.548726, best_reward: 0.940000 ± 0.310483 in #81\n"
          ]
        },
        {
          "output_type": "stream",
          "name": "stderr",
          "text": [
            "Epoch #99: 1001it [00:00, 1004.89it/s, env_step=99000, len=6, n/ep=17, n/st=100, player_1/loss=0.126, rew=0.53]                          \n"
          ]
        },
        {
          "output_type": "stream",
          "name": "stdout",
          "text": [
            "Epoch #99: test_reward: 0.840000 ± 0.542586, best_reward: 0.940000 ± 0.310483 in #81\n"
          ]
        },
        {
          "output_type": "stream",
          "name": "stderr",
          "text": [
            "Epoch #100: 1001it [00:00, 1009.97it/s, env_step=100000, len=6, n/ep=15, n/st=100, player_1/loss=0.127, rew=1.00]                          \n"
          ]
        },
        {
          "output_type": "stream",
          "name": "stdout",
          "text": [
            "Epoch #100: test_reward: 0.830000 ± 0.548726, best_reward: 0.940000 ± 0.310483 in #81\n"
          ]
        },
        {
          "output_type": "stream",
          "name": "stderr",
          "text": [
            "Epoch #1: 1001it [00:00, 1025.84it/s, env_step=1000, len=7, n/ep=13, n/st=100, player_2/loss=0.292, rew=-0.15]                          \n"
          ]
        },
        {
          "output_type": "stream",
          "name": "stdout",
          "text": [
            "Epoch #1: test_reward: -0.140000 ± 0.959375, best_reward: -0.140000 ± 0.872009 in #0\n"
          ]
        },
        {
          "output_type": "stream",
          "name": "stderr",
          "text": [
            "Epoch #2: 1001it [00:00, 1034.34it/s, env_step=2000, len=7, n/ep=10, n/st=100, player_2/loss=0.297, rew=-0.20]                          \n"
          ]
        },
        {
          "output_type": "stream",
          "name": "stdout",
          "text": [
            "Epoch #2: test_reward: -0.200000 ± 0.927362, best_reward: -0.140000 ± 0.872009 in #0\n"
          ]
        },
        {
          "output_type": "stream",
          "name": "stderr",
          "text": [
            "Epoch #3: 1001it [00:00, 1051.98it/s, env_step=3000, len=8, n/ep=10, n/st=100, player_2/loss=0.299, rew=-0.60]                          \n"
          ]
        },
        {
          "output_type": "stream",
          "name": "stdout",
          "text": [
            "Epoch #3: test_reward: -0.210000 ± 0.886510, best_reward: -0.140000 ± 0.872009 in #0\n"
          ]
        },
        {
          "output_type": "stream",
          "name": "stderr",
          "text": [
            "Epoch #4: 1001it [00:00, 1027.17it/s, env_step=4000, len=7, n/ep=11, n/st=100, player_2/loss=0.271, rew=-0.18]                          \n"
          ]
        },
        {
          "output_type": "stream",
          "name": "stdout",
          "text": [
            "Epoch #4: test_reward: -0.200000 ± 0.927362, best_reward: -0.140000 ± 0.872009 in #0\n"
          ]
        },
        {
          "output_type": "stream",
          "name": "stderr",
          "text": [
            "Epoch #5: 1001it [00:00, 1022.61it/s, env_step=5000, len=7, n/ep=23, n/st=100, player_2/loss=0.273, rew=-0.13]                          \n"
          ]
        },
        {
          "output_type": "stream",
          "name": "stdout",
          "text": [
            "Epoch #5: test_reward: 0.070000 ± 0.982395, best_reward: 0.070000 ± 0.982395 in #5\n"
          ]
        },
        {
          "output_type": "stream",
          "name": "stderr",
          "text": [
            "Epoch #6: 1001it [00:00, 1032.38it/s, env_step=6000, len=6, n/ep=20, n/st=100, player_2/loss=0.257, rew=-0.30]                          \n"
          ]
        },
        {
          "output_type": "stream",
          "name": "stdout",
          "text": [
            "Epoch #6: test_reward: 0.060000 ± 0.988130, best_reward: 0.070000 ± 0.982395 in #5\n"
          ]
        },
        {
          "output_type": "stream",
          "name": "stderr",
          "text": [
            "Epoch #7: 1001it [00:00, 1037.73it/s, env_step=7000, len=7, n/ep=9, n/st=100, player_2/loss=0.272, rew=-0.44]                          \n"
          ]
        },
        {
          "output_type": "stream",
          "name": "stdout",
          "text": [
            "Epoch #7: test_reward: 0.150000 ± 0.983616, best_reward: 0.150000 ± 0.983616 in #7\n"
          ]
        },
        {
          "output_type": "stream",
          "name": "stderr",
          "text": [
            "Epoch #8: 1001it [00:00, 1014.09it/s, env_step=8000, len=7, n/ep=17, n/st=100, player_2/loss=0.267, rew=0.06]                          \n"
          ]
        },
        {
          "output_type": "stream",
          "name": "stdout",
          "text": [
            "Epoch #8: test_reward: 0.320000 ± 0.893085, best_reward: 0.320000 ± 0.893085 in #8\n"
          ]
        },
        {
          "output_type": "stream",
          "name": "stderr",
          "text": [
            "Epoch #9: 1001it [00:00, 1034.40it/s, env_step=9000, len=6, n/ep=16, n/st=100, player_2/loss=0.262, rew=0.50]                          \n"
          ]
        },
        {
          "output_type": "stream",
          "name": "stdout",
          "text": [
            "Epoch #9: test_reward: 0.510000 ± 0.854342, best_reward: 0.510000 ± 0.854342 in #9\n"
          ]
        },
        {
          "output_type": "stream",
          "name": "stderr",
          "text": [
            "Epoch #10: 1001it [00:00, 1031.03it/s, env_step=10000, len=7, n/ep=16, n/st=100, player_2/loss=0.269, rew=0.81]                          \n"
          ]
        },
        {
          "output_type": "stream",
          "name": "stdout",
          "text": [
            "Epoch #10: test_reward: 0.340000 ± 0.907965, best_reward: 0.510000 ± 0.854342 in #9\n"
          ]
        },
        {
          "output_type": "stream",
          "name": "stderr",
          "text": [
            "Epoch #11: 1001it [00:00, 1019.13it/s, env_step=11000, len=7, n/ep=11, n/st=100, player_2/loss=0.272, rew=0.09]                          \n"
          ]
        },
        {
          "output_type": "stream",
          "name": "stdout",
          "text": [
            "Epoch #11: test_reward: 0.300000 ± 0.943398, best_reward: 0.510000 ± 0.854342 in #9\n"
          ]
        },
        {
          "output_type": "stream",
          "name": "stderr",
          "text": [
            "Epoch #12: 1001it [00:00, 1018.86it/s, env_step=12000, len=6, n/ep=20, n/st=100, player_2/loss=0.262, rew=0.45]                          \n"
          ]
        },
        {
          "output_type": "stream",
          "name": "stdout",
          "text": [
            "Epoch #12: test_reward: 0.470000 ± 0.853874, best_reward: 0.510000 ± 0.854342 in #9\n"
          ]
        },
        {
          "output_type": "stream",
          "name": "stderr",
          "text": [
            "Epoch #13: 1001it [00:00, 1004.71it/s, env_step=13000, len=6, n/ep=9, n/st=100, player_2/loss=0.258, rew=0.67]                          \n"
          ]
        },
        {
          "output_type": "stream",
          "name": "stdout",
          "text": [
            "Epoch #13: test_reward: 0.400000 ± 0.883176, best_reward: 0.510000 ± 0.854342 in #9\n"
          ]
        },
        {
          "output_type": "stream",
          "name": "stderr",
          "text": [
            "Epoch #14: 1001it [00:00, 1024.93it/s, env_step=14000, len=6, n/ep=16, n/st=100, player_2/loss=0.257, rew=0.50]                          \n"
          ]
        },
        {
          "output_type": "stream",
          "name": "stdout",
          "text": [
            "Epoch #14: test_reward: 0.340000 ± 0.907965, best_reward: 0.510000 ± 0.854342 in #9\n"
          ]
        },
        {
          "output_type": "stream",
          "name": "stderr",
          "text": [
            "Epoch #15: 1001it [00:00, 1025.45it/s, env_step=15000, len=6, n/ep=12, n/st=100, player_2/loss=0.274, rew=0.17]                          \n"
          ]
        },
        {
          "output_type": "stream",
          "name": "stdout",
          "text": [
            "Epoch #15: test_reward: 0.360000 ± 0.900222, best_reward: 0.510000 ± 0.854342 in #9\n"
          ]
        },
        {
          "output_type": "stream",
          "name": "stderr",
          "text": [
            "Epoch #16: 1001it [00:00, 1023.30it/s, env_step=16000, len=6, n/ep=12, n/st=100, player_2/loss=0.270, rew=0.42]                          \n"
          ]
        },
        {
          "output_type": "stream",
          "name": "stdout",
          "text": [
            "Epoch #16: test_reward: 0.360000 ± 0.900222, best_reward: 0.510000 ± 0.854342 in #9\n"
          ]
        },
        {
          "output_type": "stream",
          "name": "stderr",
          "text": [
            "Epoch #17: 1001it [00:00, 1022.91it/s, env_step=17000, len=6, n/ep=16, n/st=100, player_2/loss=0.260, rew=0.44]                          \n"
          ]
        },
        {
          "output_type": "stream",
          "name": "stdout",
          "text": [
            "Epoch #17: test_reward: 0.460000 ± 0.841665, best_reward: 0.510000 ± 0.854342 in #9\n"
          ]
        },
        {
          "output_type": "stream",
          "name": "stderr",
          "text": [
            "Epoch #18: 1001it [00:00, 1038.63it/s, env_step=18000, len=6, n/ep=15, n/st=100, player_2/loss=0.273, rew=0.07]                          \n"
          ]
        },
        {
          "output_type": "stream",
          "name": "stdout",
          "text": [
            "Epoch #18: test_reward: 0.500000 ± 0.842615, best_reward: 0.510000 ± 0.854342 in #9\n"
          ]
        },
        {
          "output_type": "stream",
          "name": "stderr",
          "text": [
            "Epoch #19: 1001it [00:00, 1013.01it/s, env_step=19000, len=6, n/ep=12, n/st=100, player_2/loss=0.277, rew=0.00]                          \n"
          ]
        },
        {
          "output_type": "stream",
          "name": "stdout",
          "text": [
            "Epoch #19: test_reward: 0.300000 ± 0.932738, best_reward: 0.510000 ± 0.854342 in #9\n"
          ]
        },
        {
          "output_type": "stream",
          "name": "stderr",
          "text": [
            "Epoch #20: 1001it [00:00, 1036.95it/s, env_step=20000, len=6, n/ep=19, n/st=100, player_2/loss=0.276, rew=0.95]                          \n"
          ]
        },
        {
          "output_type": "stream",
          "name": "stdout",
          "text": [
            "Epoch #20: test_reward: 0.450000 ± 0.864581, best_reward: 0.510000 ± 0.854342 in #9\n"
          ]
        },
        {
          "output_type": "stream",
          "name": "stderr",
          "text": [
            "Epoch #21: 1001it [00:00, 1019.38it/s, env_step=21000, len=7, n/ep=12, n/st=100, player_2/loss=0.252, rew=-0.33]                          \n"
          ]
        },
        {
          "output_type": "stream",
          "name": "stdout",
          "text": [
            "Epoch #21: test_reward: 0.350000 ± 0.931397, best_reward: 0.510000 ± 0.854342 in #9\n"
          ]
        },
        {
          "output_type": "stream",
          "name": "stderr",
          "text": [
            "Epoch #22: 1001it [00:00, 1009.00it/s, env_step=22000, len=6, n/ep=14, n/st=100, player_2/loss=0.249, rew=-0.29]                          \n"
          ]
        },
        {
          "output_type": "stream",
          "name": "stdout",
          "text": [
            "Epoch #22: test_reward: 0.450000 ± 0.887412, best_reward: 0.510000 ± 0.854342 in #9\n"
          ]
        },
        {
          "output_type": "stream",
          "name": "stderr",
          "text": [
            "Epoch #23: 1001it [00:01, 1000.14it/s, env_step=23000, len=6, n/ep=19, n/st=100, player_2/loss=0.256, rew=0.16]                          \n"
          ]
        },
        {
          "output_type": "stream",
          "name": "stdout",
          "text": [
            "Epoch #23: test_reward: 0.310000 ± 0.945463, best_reward: 0.510000 ± 0.854342 in #9\n"
          ]
        },
        {
          "output_type": "stream",
          "name": "stderr",
          "text": [
            "Epoch #24: 1001it [00:00, 1025.23it/s, env_step=24000, len=5, n/ep=12, n/st=100, player_2/loss=0.231, rew=0.17]                          \n"
          ]
        },
        {
          "output_type": "stream",
          "name": "stdout",
          "text": [
            "Epoch #24: test_reward: 0.510000 ± 0.854342, best_reward: 0.510000 ± 0.854342 in #9\n"
          ]
        },
        {
          "output_type": "stream",
          "name": "stderr",
          "text": [
            "Epoch #25: 1001it [00:00, 1022.39it/s, env_step=25000, len=6, n/ep=19, n/st=100, player_2/loss=0.233, rew=0.63]                          \n"
          ]
        },
        {
          "output_type": "stream",
          "name": "stdout",
          "text": [
            "Epoch #25: test_reward: 0.350000 ± 0.931397, best_reward: 0.510000 ± 0.854342 in #9\n"
          ]
        },
        {
          "output_type": "stream",
          "name": "stderr",
          "text": [
            "Epoch #26: 1001it [00:00, 1023.50it/s, env_step=26000, len=6, n/ep=21, n/st=100, player_2/loss=0.230, rew=0.29]                          \n"
          ]
        },
        {
          "output_type": "stream",
          "name": "stdout",
          "text": [
            "Epoch #26: test_reward: 0.340000 ± 0.940425, best_reward: 0.510000 ± 0.854342 in #9\n"
          ]
        },
        {
          "output_type": "stream",
          "name": "stderr",
          "text": [
            "Epoch #27: 1001it [00:00, 1025.50it/s, env_step=27000, len=6, n/ep=16, n/st=100, player_2/loss=0.234, rew=0.12]                          \n"
          ]
        },
        {
          "output_type": "stream",
          "name": "stdout",
          "text": [
            "Epoch #27: test_reward: 0.560000 ± 0.828493, best_reward: 0.560000 ± 0.828493 in #27\n"
          ]
        },
        {
          "output_type": "stream",
          "name": "stderr",
          "text": [
            "Epoch #28: 1001it [00:00, 1025.31it/s, env_step=28000, len=6, n/ep=14, n/st=100, player_2/loss=0.227, rew=0.29]                          \n"
          ]
        },
        {
          "output_type": "stream",
          "name": "stdout",
          "text": [
            "Epoch #28: test_reward: 0.410000 ± 0.895489, best_reward: 0.560000 ± 0.828493 in #27\n"
          ]
        },
        {
          "output_type": "stream",
          "name": "stderr",
          "text": [
            "Epoch #29: 1001it [00:00, 1009.13it/s, env_step=29000, len=6, n/ep=13, n/st=100, player_2/loss=0.222, rew=-0.23]                          \n"
          ]
        },
        {
          "output_type": "stream",
          "name": "stdout",
          "text": [
            "Epoch #29: test_reward: 0.410000 ± 0.906587, best_reward: 0.560000 ± 0.828493 in #27\n"
          ]
        },
        {
          "output_type": "stream",
          "name": "stderr",
          "text": [
            "Epoch #30: 1001it [00:00, 1010.13it/s, env_step=30000, len=7, n/ep=17, n/st=100, player_2/loss=0.224, rew=0.29]                          \n"
          ]
        },
        {
          "output_type": "stream",
          "name": "stdout",
          "text": [
            "Epoch #30: test_reward: 0.390000 ± 0.915369, best_reward: 0.560000 ± 0.828493 in #27\n"
          ]
        },
        {
          "output_type": "stream",
          "name": "stderr",
          "text": [
            "Epoch #31: 1001it [00:00, 1006.72it/s, env_step=31000, len=7, n/ep=9, n/st=100, player_2/loss=0.224, rew=-0.22]                          \n"
          ]
        },
        {
          "output_type": "stream",
          "name": "stdout",
          "text": [
            "Epoch #31: test_reward: 0.300000 ± 0.943398, best_reward: 0.560000 ± 0.828493 in #27\n"
          ]
        },
        {
          "output_type": "stream",
          "name": "stderr",
          "text": [
            "Epoch #32: 1001it [00:00, 1014.56it/s, env_step=32000, len=6, n/ep=16, n/st=100, player_2/loss=0.221, rew=0.00]                          \n"
          ]
        },
        {
          "output_type": "stream",
          "name": "stdout",
          "text": [
            "Epoch #32: test_reward: 0.320000 ± 0.936803, best_reward: 0.560000 ± 0.828493 in #27\n"
          ]
        },
        {
          "output_type": "stream",
          "name": "stderr",
          "text": [
            "Epoch #33: 1001it [00:00, 1024.36it/s, env_step=33000, len=6, n/ep=11, n/st=100, player_2/loss=0.238, rew=0.73]                          \n"
          ]
        },
        {
          "output_type": "stream",
          "name": "stdout",
          "text": [
            "Epoch #33: test_reward: 0.480000 ± 0.854166, best_reward: 0.560000 ± 0.828493 in #27\n"
          ]
        },
        {
          "output_type": "stream",
          "name": "stderr",
          "text": [
            "Epoch #34: 1001it [00:00, 1018.58it/s, env_step=34000, len=7, n/ep=19, n/st=100, player_2/loss=0.223, rew=0.21]                          \n"
          ]
        },
        {
          "output_type": "stream",
          "name": "stdout",
          "text": [
            "Epoch #34: test_reward: 0.360000 ± 0.932952, best_reward: 0.560000 ± 0.828493 in #27\n"
          ]
        },
        {
          "output_type": "stream",
          "name": "stderr",
          "text": [
            "Epoch #35: 1001it [00:00, 1023.64it/s, env_step=35000, len=6, n/ep=15, n/st=100, player_2/loss=0.223, rew=0.13]                          \n"
          ]
        },
        {
          "output_type": "stream",
          "name": "stdout",
          "text": [
            "Epoch #35: test_reward: 0.400000 ± 0.916515, best_reward: 0.560000 ± 0.828493 in #27\n"
          ]
        },
        {
          "output_type": "stream",
          "name": "stderr",
          "text": [
            "Epoch #36: 1001it [00:00, 1021.87it/s, env_step=36000, len=6, n/ep=20, n/st=100, player_2/loss=0.213, rew=0.40]                          \n"
          ]
        },
        {
          "output_type": "stream",
          "name": "stdout",
          "text": [
            "Epoch #36: test_reward: 0.370000 ± 0.912743, best_reward: 0.560000 ± 0.828493 in #27\n"
          ]
        },
        {
          "output_type": "stream",
          "name": "stderr",
          "text": [
            "Epoch #37: 1001it [00:00, 1016.50it/s, env_step=37000, len=6, n/ep=19, n/st=100, player_2/loss=0.227, rew=0.37]                          \n"
          ]
        },
        {
          "output_type": "stream",
          "name": "stdout",
          "text": [
            "Epoch #37: test_reward: 0.340000 ± 0.929731, best_reward: 0.560000 ± 0.828493 in #27\n"
          ]
        },
        {
          "output_type": "stream",
          "name": "stderr",
          "text": [
            "Epoch #38: 1001it [00:00, 1016.03it/s, env_step=38000, len=6, n/ep=17, n/st=100, player_2/loss=0.231, rew=0.41]                          \n"
          ]
        },
        {
          "output_type": "stream",
          "name": "stdout",
          "text": [
            "Epoch #38: test_reward: 0.280000 ± 0.928224, best_reward: 0.560000 ± 0.828493 in #27\n"
          ]
        },
        {
          "output_type": "stream",
          "name": "stderr",
          "text": [
            "Epoch #39: 1001it [00:01, 994.49it/s, env_step=39000, len=6, n/ep=16, n/st=100, player_2/loss=0.235, rew=0.38]                           \n"
          ]
        },
        {
          "output_type": "stream",
          "name": "stdout",
          "text": [
            "Epoch #39: test_reward: 0.310000 ± 0.945463, best_reward: 0.560000 ± 0.828493 in #27\n"
          ]
        },
        {
          "output_type": "stream",
          "name": "stderr",
          "text": [
            "Epoch #40: 1001it [00:00, 1009.02it/s, env_step=40000, len=6, n/ep=15, n/st=100, player_2/loss=0.230, rew=0.33]                          \n"
          ]
        },
        {
          "output_type": "stream",
          "name": "stdout",
          "text": [
            "Epoch #40: test_reward: 0.470000 ± 0.876983, best_reward: 0.560000 ± 0.828493 in #27\n"
          ]
        },
        {
          "output_type": "stream",
          "name": "stderr",
          "text": [
            "Epoch #41: 1001it [00:00, 1005.37it/s, env_step=41000, len=6, n/ep=21, n/st=100, player_2/loss=0.241, rew=0.19]                          \n"
          ]
        },
        {
          "output_type": "stream",
          "name": "stdout",
          "text": [
            "Epoch #41: test_reward: 0.380000 ± 0.924986, best_reward: 0.560000 ± 0.828493 in #27\n"
          ]
        },
        {
          "output_type": "stream",
          "name": "stderr",
          "text": [
            "Epoch #42: 1001it [00:00, 1024.10it/s, env_step=42000, len=6, n/ep=12, n/st=100, player_2/loss=0.239, rew=0.50]                          \n"
          ]
        },
        {
          "output_type": "stream",
          "name": "stdout",
          "text": [
            "Epoch #42: test_reward: 0.120000 ± 0.982649, best_reward: 0.560000 ± 0.828493 in #27\n"
          ]
        },
        {
          "output_type": "stream",
          "name": "stderr",
          "text": [
            "Epoch #43: 1001it [00:00, 1007.30it/s, env_step=43000, len=6, n/ep=11, n/st=100, player_2/loss=0.228, rew=0.64]                          \n"
          ]
        },
        {
          "output_type": "stream",
          "name": "stdout",
          "text": [
            "Epoch #43: test_reward: 0.260000 ± 0.965609, best_reward: 0.560000 ± 0.828493 in #27\n"
          ]
        },
        {
          "output_type": "stream",
          "name": "stderr",
          "text": [
            "Epoch #44: 1001it [00:00, 1017.31it/s, env_step=44000, len=6, n/ep=17, n/st=100, player_2/loss=0.235, rew=0.35]                          \n"
          ]
        },
        {
          "output_type": "stream",
          "name": "stdout",
          "text": [
            "Epoch #44: test_reward: 0.380000 ± 0.914112, best_reward: 0.560000 ± 0.828493 in #27\n"
          ]
        },
        {
          "output_type": "stream",
          "name": "stderr",
          "text": [
            "Epoch #45: 1001it [00:00, 1007.27it/s, env_step=45000, len=6, n/ep=17, n/st=100, player_2/loss=0.237, rew=0.53]                          \n"
          ]
        },
        {
          "output_type": "stream",
          "name": "stdout",
          "text": [
            "Epoch #45: test_reward: 0.380000 ± 0.924986, best_reward: 0.560000 ± 0.828493 in #27\n"
          ]
        },
        {
          "output_type": "stream",
          "name": "stderr",
          "text": [
            "Epoch #46: 1001it [00:00, 1003.55it/s, env_step=46000, len=6, n/ep=16, n/st=100, player_2/loss=0.261, rew=0.88]                          \n"
          ]
        },
        {
          "output_type": "stream",
          "name": "stdout",
          "text": [
            "Epoch #46: test_reward: 0.500000 ± 0.866025, best_reward: 0.560000 ± 0.828493 in #27\n"
          ]
        },
        {
          "output_type": "stream",
          "name": "stderr",
          "text": [
            "Epoch #47: 1001it [00:01, 994.13it/s, env_step=47000, len=6, n/ep=22, n/st=100, player_2/loss=0.246, rew=0.18]                           \n"
          ]
        },
        {
          "output_type": "stream",
          "name": "stdout",
          "text": [
            "Epoch #47: test_reward: 0.540000 ± 0.841665, best_reward: 0.560000 ± 0.828493 in #27\n"
          ]
        },
        {
          "output_type": "stream",
          "name": "stderr",
          "text": [
            "Epoch #48: 1001it [00:00, 1012.96it/s, env_step=48000, len=6, n/ep=14, n/st=100, player_2/loss=0.243, rew=0.29]                          \n"
          ]
        },
        {
          "output_type": "stream",
          "name": "stdout",
          "text": [
            "Epoch #48: test_reward: 0.430000 ± 0.886059, best_reward: 0.560000 ± 0.828493 in #27\n"
          ]
        },
        {
          "output_type": "stream",
          "name": "stderr",
          "text": [
            "Epoch #49: 1001it [00:00, 1028.22it/s, env_step=49000, len=7, n/ep=13, n/st=100, player_2/loss=0.246, rew=0.31]                          \n"
          ]
        },
        {
          "output_type": "stream",
          "name": "stdout",
          "text": [
            "Epoch #49: test_reward: 0.400000 ± 0.894427, best_reward: 0.560000 ± 0.828493 in #27\n"
          ]
        },
        {
          "output_type": "stream",
          "name": "stderr",
          "text": [
            "Epoch #50: 1001it [00:00, 1015.10it/s, env_step=50000, len=6, n/ep=21, n/st=100, player_2/loss=0.263, rew=0.29]                          \n"
          ]
        },
        {
          "output_type": "stream",
          "name": "stdout",
          "text": [
            "Epoch #50: test_reward: 0.600000 ± 0.800000, best_reward: 0.600000 ± 0.800000 in #50\n"
          ]
        },
        {
          "output_type": "stream",
          "name": "stderr",
          "text": [
            "Epoch #51: 1001it [00:00, 1009.62it/s, env_step=51000, len=6, n/ep=18, n/st=100, player_2/loss=0.239, rew=0.33]                          \n"
          ]
        },
        {
          "output_type": "stream",
          "name": "stdout",
          "text": [
            "Epoch #51: test_reward: 0.370000 ± 0.901721, best_reward: 0.600000 ± 0.800000 in #50\n"
          ]
        },
        {
          "output_type": "stream",
          "name": "stderr",
          "text": [
            "Epoch #52: 1001it [00:00, 1023.03it/s, env_step=52000, len=6, n/ep=8, n/st=100, player_2/loss=0.248, rew=0.75]                          \n"
          ]
        },
        {
          "output_type": "stream",
          "name": "stdout",
          "text": [
            "Epoch #52: test_reward: 0.300000 ± 0.953939, best_reward: 0.600000 ± 0.800000 in #50\n"
          ]
        },
        {
          "output_type": "stream",
          "name": "stderr",
          "text": [
            "Epoch #53: 1001it [00:00, 1016.09it/s, env_step=53000, len=6, n/ep=21, n/st=100, player_2/loss=0.244, rew=0.62]                          \n"
          ]
        },
        {
          "output_type": "stream",
          "name": "stdout",
          "text": [
            "Epoch #53: test_reward: 0.410000 ± 0.895489, best_reward: 0.600000 ± 0.800000 in #50\n"
          ]
        },
        {
          "output_type": "stream",
          "name": "stderr",
          "text": [
            "Epoch #54: 1001it [00:00, 1025.47it/s, env_step=54000, len=7, n/ep=14, n/st=100, player_2/loss=0.248, rew=0.07]                          \n"
          ]
        },
        {
          "output_type": "stream",
          "name": "stdout",
          "text": [
            "Epoch #54: test_reward: 0.200000 ± 0.938083, best_reward: 0.600000 ± 0.800000 in #50\n"
          ]
        },
        {
          "output_type": "stream",
          "name": "stderr",
          "text": [
            "Epoch #55: 1001it [00:00, 1003.74it/s, env_step=55000, len=7, n/ep=17, n/st=100, player_2/loss=0.261, rew=0.06]                          \n"
          ]
        },
        {
          "output_type": "stream",
          "name": "stdout",
          "text": [
            "Epoch #55: test_reward: -0.130000 ± 0.945040, best_reward: 0.600000 ± 0.800000 in #50\n"
          ]
        },
        {
          "output_type": "stream",
          "name": "stderr",
          "text": [
            "Epoch #56: 1001it [00:00, 1001.22it/s, env_step=56000, len=7, n/ep=15, n/st=100, player_2/loss=0.264, rew=-0.07]                          \n"
          ]
        },
        {
          "output_type": "stream",
          "name": "stdout",
          "text": [
            "Epoch #56: test_reward: 0.200000 ± 0.969536, best_reward: 0.600000 ± 0.800000 in #50\n"
          ]
        },
        {
          "output_type": "stream",
          "name": "stderr",
          "text": [
            "Epoch #57: 1001it [00:00, 1014.72it/s, env_step=57000, len=7, n/ep=15, n/st=100, player_2/loss=0.232, rew=0.33]                          \n"
          ]
        },
        {
          "output_type": "stream",
          "name": "stdout",
          "text": [
            "Epoch #57: test_reward: 0.070000 ± 0.992522, best_reward: 0.600000 ± 0.800000 in #50\n"
          ]
        },
        {
          "output_type": "stream",
          "name": "stderr",
          "text": [
            "Epoch #58: 1001it [00:00, 1022.93it/s, env_step=58000, len=6, n/ep=15, n/st=100, player_2/loss=0.253, rew=0.27]                          \n"
          ]
        },
        {
          "output_type": "stream",
          "name": "stdout",
          "text": [
            "Epoch #58: test_reward: 0.140000 ± 0.969742, best_reward: 0.600000 ± 0.800000 in #50\n"
          ]
        },
        {
          "output_type": "stream",
          "name": "stderr",
          "text": [
            "Epoch #59: 1001it [00:00, 1025.90it/s, env_step=59000, len=6, n/ep=16, n/st=100, player_2/loss=0.246, rew=0.50]                          \n"
          ]
        },
        {
          "output_type": "stream",
          "name": "stdout",
          "text": [
            "Epoch #59: test_reward: 0.370000 ± 0.923634, best_reward: 0.600000 ± 0.800000 in #50\n"
          ]
        },
        {
          "output_type": "stream",
          "name": "stderr",
          "text": [
            "Epoch #60: 1001it [00:00, 1014.57it/s, env_step=60000, len=6, n/ep=12, n/st=100, player_2/loss=0.282, rew=0.33]                          \n"
          ]
        },
        {
          "output_type": "stream",
          "name": "stdout",
          "text": [
            "Epoch #60: test_reward: 0.060000 ± 0.977957, best_reward: 0.600000 ± 0.800000 in #50\n"
          ]
        },
        {
          "output_type": "stream",
          "name": "stderr",
          "text": [
            "Epoch #61: 1001it [00:00, 1007.29it/s, env_step=61000, len=7, n/ep=15, n/st=100, player_2/loss=0.257, rew=0.00]                          \n"
          ]
        },
        {
          "output_type": "stream",
          "name": "stdout",
          "text": [
            "Epoch #61: test_reward: -0.050000 ± 0.983616, best_reward: 0.600000 ± 0.800000 in #50\n"
          ]
        },
        {
          "output_type": "stream",
          "name": "stderr",
          "text": [
            "Epoch #62: 1001it [00:00, 1031.24it/s, env_step=62000, len=7, n/ep=13, n/st=100, player_2/loss=0.261, rew=0.38]                          \n"
          ]
        },
        {
          "output_type": "stream",
          "name": "stdout",
          "text": [
            "Epoch #62: test_reward: -0.080000 ± 0.976524, best_reward: 0.600000 ± 0.800000 in #50\n"
          ]
        },
        {
          "output_type": "stream",
          "name": "stderr",
          "text": [
            "Epoch #63: 1001it [00:00, 1030.68it/s, env_step=63000, len=6, n/ep=12, n/st=100, player_2/loss=0.266, rew=-0.17]                          \n"
          ]
        },
        {
          "output_type": "stream",
          "name": "stdout",
          "text": [
            "Epoch #63: test_reward: -0.080000 ± 0.976524, best_reward: 0.600000 ± 0.800000 in #50\n"
          ]
        },
        {
          "output_type": "stream",
          "name": "stderr",
          "text": [
            "Epoch #64: 1001it [00:00, 1017.66it/s, env_step=64000, len=7, n/ep=10, n/st=100, player_2/loss=0.274, rew=-0.40]                          \n"
          ]
        },
        {
          "output_type": "stream",
          "name": "stdout",
          "text": [
            "Epoch #64: test_reward: -0.100000 ± 0.964365, best_reward: 0.600000 ± 0.800000 in #50\n"
          ]
        },
        {
          "output_type": "stream",
          "name": "stderr",
          "text": [
            "Epoch #65: 1001it [00:00, 1006.42it/s, env_step=65000, len=6, n/ep=17, n/st=100, player_2/loss=0.258, rew=-0.06]                          \n"
          ]
        },
        {
          "output_type": "stream",
          "name": "stdout",
          "text": [
            "Epoch #65: test_reward: 0.280000 ± 0.938936, best_reward: 0.600000 ± 0.800000 in #50\n"
          ]
        },
        {
          "output_type": "stream",
          "name": "stderr",
          "text": [
            "Epoch #66: 1001it [00:00, 1021.95it/s, env_step=66000, len=6, n/ep=20, n/st=100, player_2/loss=0.282, rew=0.15]                          \n"
          ]
        },
        {
          "output_type": "stream",
          "name": "stdout",
          "text": [
            "Epoch #66: test_reward: 0.110000 ± 0.968452, best_reward: 0.600000 ± 0.800000 in #50\n"
          ]
        },
        {
          "output_type": "stream",
          "name": "stderr",
          "text": [
            "Epoch #67: 1001it [00:00, 1013.27it/s, env_step=67000, len=7, n/ep=18, n/st=100, player_2/loss=0.271, rew=-0.11]                          \n"
          ]
        },
        {
          "output_type": "stream",
          "name": "stdout",
          "text": [
            "Epoch #67: test_reward: 0.140000 ± 0.959375, best_reward: 0.600000 ± 0.800000 in #50\n"
          ]
        },
        {
          "output_type": "stream",
          "name": "stderr",
          "text": [
            "Epoch #68: 1001it [00:00, 1018.60it/s, env_step=68000, len=7, n/ep=12, n/st=100, player_2/loss=0.277, rew=0.17]                          \n"
          ]
        },
        {
          "output_type": "stream",
          "name": "stdout",
          "text": [
            "Epoch #68: test_reward: 0.280000 ± 0.938936, best_reward: 0.600000 ± 0.800000 in #50\n"
          ]
        },
        {
          "output_type": "stream",
          "name": "stderr",
          "text": [
            "Epoch #69: 1001it [00:00, 1013.22it/s, env_step=69000, len=6, n/ep=16, n/st=100, player_2/loss=0.291, rew=0.12]                          \n"
          ]
        },
        {
          "output_type": "stream",
          "name": "stdout",
          "text": [
            "Epoch #69: test_reward: 0.070000 ± 0.982395, best_reward: 0.600000 ± 0.800000 in #50\n"
          ]
        },
        {
          "output_type": "stream",
          "name": "stderr",
          "text": [
            "Epoch #70: 1001it [00:00, 1013.12it/s, env_step=70000, len=6, n/ep=7, n/st=100, player_2/loss=0.284, rew=0.43]                          \n"
          ]
        },
        {
          "output_type": "stream",
          "name": "stdout",
          "text": [
            "Epoch #70: test_reward: 0.020000 ± 0.979592, best_reward: 0.600000 ± 0.800000 in #50\n"
          ]
        },
        {
          "output_type": "stream",
          "name": "stderr",
          "text": [
            "Epoch #71: 1001it [00:00, 1008.28it/s, env_step=71000, len=6, n/ep=18, n/st=100, player_2/loss=0.285, rew=0.33]                          \n"
          ]
        },
        {
          "output_type": "stream",
          "name": "stdout",
          "text": [
            "Epoch #71: test_reward: 0.380000 ± 0.891964, best_reward: 0.600000 ± 0.800000 in #50\n"
          ]
        },
        {
          "output_type": "stream",
          "name": "stderr",
          "text": [
            "Epoch #72: 1001it [00:00, 1002.77it/s, env_step=72000, len=6, n/ep=12, n/st=100, player_2/loss=0.299, rew=0.58]                          \n"
          ]
        },
        {
          "output_type": "stream",
          "name": "stdout",
          "text": [
            "Epoch #72: test_reward: 0.180000 ± 0.973447, best_reward: 0.600000 ± 0.800000 in #50\n"
          ]
        },
        {
          "output_type": "stream",
          "name": "stderr",
          "text": [
            "Epoch #73: 1001it [00:01, 992.27it/s, env_step=73000, len=6, n/ep=11, n/st=100, player_2/loss=0.265, rew=0.09]                           \n"
          ]
        },
        {
          "output_type": "stream",
          "name": "stdout",
          "text": [
            "Epoch #73: test_reward: 0.350000 ± 0.909670, best_reward: 0.600000 ± 0.800000 in #50\n"
          ]
        },
        {
          "output_type": "stream",
          "name": "stderr",
          "text": [
            "Epoch #74: 1001it [00:00, 1016.04it/s, env_step=74000, len=6, n/ep=15, n/st=100, player_2/loss=0.277, rew=0.00]                          \n"
          ]
        },
        {
          "output_type": "stream",
          "name": "stdout",
          "text": [
            "Epoch #74: test_reward: 0.310000 ± 0.924067, best_reward: 0.600000 ± 0.800000 in #50\n"
          ]
        },
        {
          "output_type": "stream",
          "name": "stderr",
          "text": [
            "Epoch #75: 1001it [00:00, 1012.70it/s, env_step=75000, len=6, n/ep=13, n/st=100, player_2/loss=0.283, rew=-0.08]                          \n"
          ]
        },
        {
          "output_type": "stream",
          "name": "stdout",
          "text": [
            "Epoch #75: test_reward: 0.360000 ± 0.911263, best_reward: 0.600000 ± 0.800000 in #50\n"
          ]
        },
        {
          "output_type": "stream",
          "name": "stderr",
          "text": [
            "Epoch #76: 1001it [00:00, 1015.04it/s, env_step=76000, len=6, n/ep=23, n/st=100, player_2/loss=0.289, rew=0.13]                          \n"
          ]
        },
        {
          "output_type": "stream",
          "name": "stdout",
          "text": [
            "Epoch #76: test_reward: 0.460000 ± 0.876584, best_reward: 0.600000 ± 0.800000 in #50\n"
          ]
        },
        {
          "output_type": "stream",
          "name": "stderr",
          "text": [
            "Epoch #77: 1001it [00:00, 1027.25it/s, env_step=77000, len=6, n/ep=14, n/st=100, player_2/loss=0.299, rew=0.71]                          \n"
          ]
        },
        {
          "output_type": "stream",
          "name": "stdout",
          "text": [
            "Epoch #77: test_reward: 0.250000 ± 0.952628, best_reward: 0.600000 ± 0.800000 in #50\n"
          ]
        },
        {
          "output_type": "stream",
          "name": "stderr",
          "text": [
            "Epoch #78: 1001it [00:00, 1013.94it/s, env_step=78000, len=6, n/ep=21, n/st=100, player_2/loss=0.287, rew=0.29]                          \n"
          ]
        },
        {
          "output_type": "stream",
          "name": "stdout",
          "text": [
            "Epoch #78: test_reward: 0.230000 ± 0.947154, best_reward: 0.600000 ± 0.800000 in #50\n"
          ]
        },
        {
          "output_type": "stream",
          "name": "stderr",
          "text": [
            "Epoch #79: 1001it [00:00, 1018.85it/s, env_step=79000, len=7, n/ep=12, n/st=100, player_2/loss=0.292, rew=0.50]                          \n"
          ]
        },
        {
          "output_type": "stream",
          "name": "stdout",
          "text": [
            "Epoch #79: test_reward: 0.430000 ± 0.886059, best_reward: 0.600000 ± 0.800000 in #50\n"
          ]
        },
        {
          "output_type": "stream",
          "name": "stderr",
          "text": [
            "Epoch #80: 1001it [00:00, 1014.27it/s, env_step=80000, len=7, n/ep=10, n/st=100, player_2/loss=0.278, rew=0.40]                          \n"
          ]
        },
        {
          "output_type": "stream",
          "name": "stdout",
          "text": [
            "Epoch #80: test_reward: 0.290000 ± 0.908790, best_reward: 0.600000 ± 0.800000 in #50\n"
          ]
        },
        {
          "output_type": "stream",
          "name": "stderr",
          "text": [
            "Epoch #81: 1001it [00:01, 996.81it/s, env_step=81000, len=6, n/ep=16, n/st=100, player_2/loss=0.285, rew=0.19]                           \n"
          ]
        },
        {
          "output_type": "stream",
          "name": "stdout",
          "text": [
            "Epoch #81: test_reward: 0.270000 ± 0.925797, best_reward: 0.600000 ± 0.800000 in #50\n"
          ]
        },
        {
          "output_type": "stream",
          "name": "stderr",
          "text": [
            "Epoch #82: 1001it [00:01, 989.99it/s, env_step=82000, len=6, n/ep=20, n/st=100, player_2/loss=0.295, rew=0.45]                           \n"
          ]
        },
        {
          "output_type": "stream",
          "name": "stdout",
          "text": [
            "Epoch #82: test_reward: 0.210000 ± 0.951788, best_reward: 0.600000 ± 0.800000 in #50\n"
          ]
        },
        {
          "output_type": "stream",
          "name": "stderr",
          "text": [
            "Epoch #83: 1001it [00:00, 1031.30it/s, env_step=83000, len=6, n/ep=17, n/st=100, player_2/loss=0.269, rew=0.12]                          \n"
          ]
        },
        {
          "output_type": "stream",
          "name": "stdout",
          "text": [
            "Epoch #83: test_reward: 0.460000 ± 0.887919, best_reward: 0.600000 ± 0.800000 in #50\n"
          ]
        },
        {
          "output_type": "stream",
          "name": "stderr",
          "text": [
            "Epoch #84: 1001it [00:00, 1017.45it/s, env_step=84000, len=6, n/ep=8, n/st=100, player_2/loss=0.274, rew=0.75]                          \n"
          ]
        },
        {
          "output_type": "stream",
          "name": "stdout",
          "text": [
            "Epoch #84: test_reward: 0.510000 ± 0.830602, best_reward: 0.600000 ± 0.800000 in #50\n"
          ]
        },
        {
          "output_type": "stream",
          "name": "stderr",
          "text": [
            "Epoch #85: 1001it [00:00, 1015.17it/s, env_step=85000, len=6, n/ep=20, n/st=100, player_2/loss=0.267, rew=0.00]                          \n"
          ]
        },
        {
          "output_type": "stream",
          "name": "stdout",
          "text": [
            "Epoch #85: test_reward: 0.400000 ± 0.894427, best_reward: 0.600000 ± 0.800000 in #50\n"
          ]
        },
        {
          "output_type": "stream",
          "name": "stderr",
          "text": [
            "Epoch #86: 1001it [00:00, 1030.08it/s, env_step=86000, len=6, n/ep=14, n/st=100, player_2/loss=0.271, rew=0.71]                          \n"
          ]
        },
        {
          "output_type": "stream",
          "name": "stdout",
          "text": [
            "Epoch #86: test_reward: 0.180000 ± 0.963120, best_reward: 0.600000 ± 0.800000 in #50\n"
          ]
        },
        {
          "output_type": "stream",
          "name": "stderr",
          "text": [
            "Epoch #87: 1001it [00:00, 1023.74it/s, env_step=87000, len=6, n/ep=13, n/st=100, player_2/loss=0.268, rew=0.23]                          \n"
          ]
        },
        {
          "output_type": "stream",
          "name": "stdout",
          "text": [
            "Epoch #87: test_reward: 0.070000 ± 0.982395, best_reward: 0.600000 ± 0.800000 in #50\n"
          ]
        },
        {
          "output_type": "stream",
          "name": "stderr",
          "text": [
            "Epoch #88: 1001it [00:00, 1029.27it/s, env_step=88000, len=6, n/ep=18, n/st=100, player_2/loss=0.277, rew=0.22]                          \n"
          ]
        },
        {
          "output_type": "stream",
          "name": "stdout",
          "text": [
            "Epoch #88: test_reward: 0.350000 ± 0.920598, best_reward: 0.600000 ± 0.800000 in #50\n"
          ]
        },
        {
          "output_type": "stream",
          "name": "stderr",
          "text": [
            "Epoch #89: 1001it [00:00, 1018.22it/s, env_step=89000, len=6, n/ep=14, n/st=100, player_2/loss=0.270, rew=0.43]                          \n"
          ]
        },
        {
          "output_type": "stream",
          "name": "stdout",
          "text": [
            "Epoch #89: test_reward: 0.480000 ± 0.865794, best_reward: 0.600000 ± 0.800000 in #50\n"
          ]
        },
        {
          "output_type": "stream",
          "name": "stderr",
          "text": [
            "Epoch #90: 1001it [00:01, 986.65it/s, env_step=90000, len=6, n/ep=14, n/st=100, player_2/loss=0.257, rew=0.50]                           \n"
          ]
        },
        {
          "output_type": "stream",
          "name": "stdout",
          "text": [
            "Epoch #90: test_reward: 0.390000 ± 0.904378, best_reward: 0.600000 ± 0.800000 in #50\n"
          ]
        },
        {
          "output_type": "stream",
          "name": "stderr",
          "text": [
            "Epoch #91: 1001it [00:00, 1024.36it/s, env_step=91000, len=6, n/ep=16, n/st=100, player_2/loss=0.244, rew=0.56]                          \n"
          ]
        },
        {
          "output_type": "stream",
          "name": "stdout",
          "text": [
            "Epoch #91: test_reward: 0.570000 ± 0.815537, best_reward: 0.600000 ± 0.800000 in #50\n"
          ]
        },
        {
          "output_type": "stream",
          "name": "stderr",
          "text": [
            "Epoch #92: 1001it [00:00, 1033.84it/s, env_step=92000, len=6, n/ep=14, n/st=100, player_2/loss=0.263, rew=-0.07]                          \n"
          ]
        },
        {
          "output_type": "stream",
          "name": "stdout",
          "text": [
            "Epoch #92: test_reward: 0.410000 ± 0.895489, best_reward: 0.600000 ± 0.800000 in #50\n"
          ]
        },
        {
          "output_type": "stream",
          "name": "stderr",
          "text": [
            "Epoch #93: 1001it [00:00, 1013.83it/s, env_step=93000, len=7, n/ep=16, n/st=100, player_2/loss=0.258, rew=0.19]                          \n"
          ]
        },
        {
          "output_type": "stream",
          "name": "stdout",
          "text": [
            "Epoch #93: test_reward: 0.430000 ± 0.897274, best_reward: 0.600000 ± 0.800000 in #50\n"
          ]
        },
        {
          "output_type": "stream",
          "name": "stderr",
          "text": [
            "Epoch #94: 1001it [00:00, 1015.41it/s, env_step=94000, len=6, n/ep=15, n/st=100, player_2/loss=0.264, rew=0.47]                          \n"
          ]
        },
        {
          "output_type": "stream",
          "name": "stdout",
          "text": [
            "Epoch #94: test_reward: 0.380000 ± 0.914112, best_reward: 0.600000 ± 0.800000 in #50\n"
          ]
        },
        {
          "output_type": "stream",
          "name": "stderr",
          "text": [
            "Epoch #95: 1001it [00:00, 1022.98it/s, env_step=95000, len=6, n/ep=8, n/st=100, player_2/loss=0.246, rew=0.25]                          \n"
          ]
        },
        {
          "output_type": "stream",
          "name": "stdout",
          "text": [
            "Epoch #95: test_reward: 0.250000 ± 0.942072, best_reward: 0.600000 ± 0.800000 in #50\n"
          ]
        },
        {
          "output_type": "stream",
          "name": "stderr",
          "text": [
            "Epoch #96: 1001it [00:00, 1008.05it/s, env_step=96000, len=6, n/ep=18, n/st=100, player_2/loss=0.246, rew=0.11]                          \n"
          ]
        },
        {
          "output_type": "stream",
          "name": "stdout",
          "text": [
            "Epoch #96: test_reward: 0.390000 ± 0.904378, best_reward: 0.600000 ± 0.800000 in #50\n"
          ]
        },
        {
          "output_type": "stream",
          "name": "stderr",
          "text": [
            "Epoch #97: 1001it [00:00, 1026.65it/s, env_step=97000, len=6, n/ep=18, n/st=100, player_2/loss=0.252, rew=0.44]                          \n"
          ]
        },
        {
          "output_type": "stream",
          "name": "stdout",
          "text": [
            "Epoch #97: test_reward: 0.310000 ± 0.924067, best_reward: 0.600000 ± 0.800000 in #50\n"
          ]
        },
        {
          "output_type": "stream",
          "name": "stderr",
          "text": [
            "Epoch #98: 1001it [00:00, 1024.15it/s, env_step=98000, len=6, n/ep=7, n/st=100, player_2/loss=0.265, rew=0.43]                          \n"
          ]
        },
        {
          "output_type": "stream",
          "name": "stdout",
          "text": [
            "Epoch #98: test_reward: 0.340000 ± 0.918912, best_reward: 0.600000 ± 0.800000 in #50\n"
          ]
        },
        {
          "output_type": "stream",
          "name": "stderr",
          "text": [
            "Epoch #99: 1001it [00:01, 999.56it/s, env_step=99000, len=6, n/ep=14, n/st=100, player_2/loss=0.232, rew=0.29]                           \n"
          ]
        },
        {
          "output_type": "stream",
          "name": "stdout",
          "text": [
            "Epoch #99: test_reward: 0.410000 ± 0.906587, best_reward: 0.600000 ± 0.800000 in #50\n"
          ]
        },
        {
          "output_type": "stream",
          "name": "stderr",
          "text": [
            "Epoch #100: 1001it [00:00, 1016.61it/s, env_step=100000, len=6, n/ep=12, n/st=100, player_2/loss=0.249, rew=0.50]                          \n"
          ]
        },
        {
          "output_type": "stream",
          "name": "stdout",
          "text": [
            "Epoch #100: test_reward: 0.320000 ± 0.947418, best_reward: 0.600000 ± 0.800000 in #50\n"
          ]
        }
      ]
    },
    {
      "cell_type": "code",
      "source": [
        "%tensorboard --logdir /content/tic_tac_toe/dqn"
      ],
      "metadata": {
        "id": "CuAiQM_OTxtg"
      },
      "execution_count": null,
      "outputs": []
    },
    {
      "cell_type": "markdown",
      "source": [
        "Load best trained agents"
      ],
      "metadata": {
        "id": "6ndBZiU7-UYu"
      }
    },
    {
      "cell_type": "code",
      "source": [
        "agent_learn_player1.load_state_dict(torch.load(path + '/policy-player_1.pth'))\n",
        "agent_learn_player2.load_state_dict(torch.load(path + '/policy-player_2.pth'))"
      ],
      "metadata": {
        "colab": {
          "base_uri": "https://localhost:8080/"
        },
        "id": "Juz2aCgK9mqV",
        "outputId": "db2f9e8a-4d54-469c-bc68-eae9bf01eb4f"
      },
      "execution_count": null,
      "outputs": [
        {
          "output_type": "execute_result",
          "data": {
            "text/plain": [
              "<All keys matched successfully>"
            ]
          },
          "metadata": {},
          "execution_count": 13
        }
      ]
    },
    {
      "cell_type": "markdown",
      "source": [
        "# Play agent against agent function\n"
      ],
      "metadata": {
        "id": "nxLtBMTBKNg-"
      }
    },
    {
      "cell_type": "code",
      "source": [
        "def play(agent1, agent2, n_episode=100):\n",
        "  env = get_env(render_mode=None)\n",
        "  policy = MultiAgentPolicyManager([agent1, agent2], env)\n",
        "  dummy_vector_env = DummyVectorEnv([lambda: env])\n",
        "  collector = Collector(policy, dummy_vector_env, exploration_noise=True)\n",
        "  # play number of episodes\n",
        "  result = collector.collect(n_episode=n_episode, render=None)\n",
        "  rews, lens = result[\"rews\"], result[\"lens\"]\n",
        "  print(f\"Final reward: {rews[:, 0].mean()}, length: {lens.mean()}\")\n",
        "\n",
        "  won = 0\n",
        "  draw = 0\n",
        "  lost = 0\n",
        "  for res in result['rews']:\n",
        "    if res[0] == 1:\n",
        "      won += 1\n",
        "    elif res[0] == -1:\n",
        "      lost +=1\n",
        "    else:\n",
        "      draw += 1\n",
        "\n",
        "  print(\"Win: \" + str(won) + \" lost: \" + str(lost) + \" draw: \" + str(draw))\n",
        "\n",
        "  return (won, lost, draw)"
      ],
      "metadata": {
        "id": "azNoG8F235Ch"
      },
      "execution_count": null,
      "outputs": []
    },
    {
      "cell_type": "markdown",
      "source": [
        "# Setup LLM Agent"
      ],
      "metadata": {
        "id": "kJt3lAX1qm4X"
      }
    },
    {
      "cell_type": "code",
      "source": [
        "class LLMAgent(BasePolicy):\n",
        "    def __init__(self, *args, **kwargs):\n",
        "        super().__init__(*args, **kwargs)\n",
        "        models_dict = {\"StableLM Zephyr 3B\": \"stabilityai/stablelm-zephyr-3b\"}\n",
        "        model_id = models_dict[\"StableLM Zephyr 3B\"]\n",
        "        self.tokenizer = AutoTokenizer.from_pretrained(model_id)#, device=0)\n",
        "        self.pipe = pipeline(\"text-generation\", model=model_id, device_map=\"auto\", tokenizer=self.tokenizer, torch_dtype=torch.bfloat16)\n",
        "        self.cache = {}\n",
        "\n",
        "    def field_to_string(self, field, c):\n",
        "      return_value = \"\"\n",
        "      if field[0] == 1:\n",
        "        return_value = \"X \"\n",
        "      elif field[1] == 1:\n",
        "        return_value = \"O \"\n",
        "      else:\n",
        "          return_value = str(c) + \" \"\n",
        "      if c < 6:\n",
        "          return_value += \"| \"\n",
        "      return return_value\n",
        "\n",
        "    def board_to_string(self, batch: Batch) -> str:\n",
        "        rows = batch.obs['obs']\n",
        "        row1 = self.field_to_string(rows[0][0][0], 0) + self.field_to_string(rows[0][1][0], 3) + self.field_to_string(rows[0][2][0], 6)\n",
        "        row2 = self.field_to_string(rows[0][0][1], 1) + self.field_to_string(rows[0][1][1], 4) + self.field_to_string(rows[0][2][1], 7)\n",
        "        row3 = self.field_to_string(rows[0][0][2], 2) + self.field_to_string(rows[0][1][2], 5) + self.field_to_string(rows[0][2][2], 8)\n",
        "        return row1 + '\\n' + row2 + '\\n' + row3\n",
        "\n",
        "    def ask_llm_for_choice(self, board: str, possible_choices) -> int:\n",
        "        job_description = \"You will be provided with a tic tac toe board. There are two players, X and O. An empty board looks likes this:\\n0 | 3 | 6\\n1 | 4 | 7\\n2 | 5 | 8\\nWhen a player made a move a X or O is placed on the board.\\nYou are player X and should choose the best possible option.\"\n",
        "        possible_choices_text = \", \".join(possible_choices)\n",
        "        question = \"The current board is: \\n\" + board + \"\\nThe possible numbers are \" + possible_choices_text + \". Only answer best number to choose, no comments or explanation, just a number.\"\n",
        "        output = self.generate(job_description, question, 0.1, 40)\n",
        "\n",
        "        extracted_choice = [int(i) for i in re.sub(r'[^0-9\\s]', '', output).split() if i.isdigit() and str(i) in possible_choices]\n",
        "        if extracted_choice:\n",
        "          print(\"Choice: \" + str(extracted_choice[0]))\n",
        "          return extracted_choice[0]\n",
        "        else:\n",
        "          print(\"No choice, return -1\")\n",
        "          return -1\n",
        "\n",
        "    def generate(self, job_description, question, temperature=0.7, max_new_tokens=512):\n",
        "        messages = [\n",
        "            {\n",
        "                \"role\": \"system\",\n",
        "                \"content\": job_description,\n",
        "            },\n",
        "        ]\n",
        "        messages.append({\"role\": \"user\", \"content\": question})\n",
        "        prompt = self.pipe.tokenizer.apply_chat_template(messages, tokenize=False, add_generation_prompt=True)\n",
        "        outputs = self.pipe(prompt, max_new_tokens=max_new_tokens, do_sample=True, temperature=temperature, top_k=50, top_p=0.95)\n",
        "        output = outputs[0][\"generated_text\"]\n",
        "        messages.append({\"role\": \"assistant\", \"content\": output})\n",
        "        response_start = output.rfind('<|assistant|>')\n",
        "        text_output = output[response_start + len('<|assistant|>'):]\n",
        "        return text_output\n",
        "\n",
        "    def forward(\n",
        "        self, batch: Batch, state: dict | Batch | np.ndarray | None = None\n",
        "    ) -> Batch:\n",
        "        board = self.board_to_string(batch)\n",
        "\n",
        "        if board in self.cache:\n",
        "          print(\"cache hit:\\n\" + board + \"\\nChoice: \" + str(self.cache[board]))\n",
        "          return Batch(act=[self.cache[board]])\n",
        "\n",
        "        all_choices = np.array(list(range(0,9)))\n",
        "        mask = batch.obs.mask.flatten()\n",
        "        masked_choices = all_choices[mask.astype(bool)].astype(str)\n",
        "\n",
        "        if len(masked_choices) == 1:\n",
        "          return Batch(act=[int(masked_choices[0])])\n",
        "\n",
        "        choice = -1\n",
        "        tries = 3\n",
        "        while str(choice) not in masked_choices and tries > 0:\n",
        "          choice = self.ask_llm_for_choice(board, masked_choices)\n",
        "          tries -= 1\n",
        "\n",
        "        if choice != -1 and str(choice) in masked_choices:\n",
        "          print(\"Add to cache:\\n\" + board + \"\\nChoice: \" + str(choice))\n",
        "          self.cache[board] = choice\n",
        "        else:\n",
        "          print(\"Invalid choice, pick first: \" + masked_choices[0])\n",
        "          return Batch(act=[int(masked_choices[0])])\n",
        "\n",
        "        return Batch(act=[choice])\n",
        "\n",
        "    def learn(self, batch: Batch) -> Dict[str, Any]:\n",
        "        return {}"
      ],
      "metadata": {
        "id": "cMT-wuoGRP2O"
      },
      "execution_count": null,
      "outputs": []
    },
    {
      "cell_type": "markdown",
      "source": [
        "# Play with agents in all possible combinations\n",
        "\n",
        "1. Random - Random\n",
        "1. Random - DQN\n",
        "1. Random - LLM\n",
        "1. DQN - Random\n",
        "1. DQN - DQN\n",
        "1. DQN - LLM\n",
        "1. LLM - Random\n",
        "1. LLM - DQN\n",
        "1. LLM - LLM\n",
        "\n",
        "So every agents plays as player_1 against the other agents"
      ],
      "metadata": {
        "id": "bOgxaGu2sNS0"
      }
    },
    {
      "cell_type": "code",
      "source": [
        "llm_agent_1 = LLMAgent()\n",
        "llm_agent_2 = LLMAgent()"
      ],
      "metadata": {
        "id": "ba6gGX_usEWj",
        "colab": {
          "base_uri": "https://localhost:8080/"
        },
        "outputId": "b9cdb8d8-8a46-4b6f-e727-4e9b6ba401cb"
      },
      "execution_count": null,
      "outputs": [
        {
          "output_type": "stream",
          "name": "stderr",
          "text": [
            "Special tokens have been added in the vocabulary, make sure the associated word embeddings are fine-tuned or trained.\n",
            "Special tokens have been added in the vocabulary, make sure the associated word embeddings are fine-tuned or trained.\n"
          ]
        }
      ]
    },
    {
      "cell_type": "code",
      "source": [
        "random_random = play(RandomPolicy(), RandomPolicy())\n",
        "random_dqn = play(RandomPolicy(), agent_learn_player2)\n",
        "random_llm = play(RandomPolicy(), llm_agent_2)\n",
        "dqn_random = play(agent_learn_player1, RandomPolicy())\n",
        "dqn_dqn = play(agent_learn_player1, agent_learn_player2)\n",
        "dqn_llm = play(agent_learn_player1, llm_agent_2)\n",
        "llm_random = play(llm_agent_1, RandomPolicy())\n",
        "llm_dqn = play(llm_agent_1, agent_learn_player2)\n",
        "llm_llm = play(llm_agent_1, llm_agent_2)"
      ],
      "metadata": {
        "colab": {
          "base_uri": "https://localhost:8080/"
        },
        "id": "zdlNLLY0HCP-",
        "outputId": "a21c12b1-0132-4c0d-e68e-70e341e678f7"
      },
      "execution_count": null,
      "outputs": [
        {
          "output_type": "stream",
          "name": "stdout",
          "text": [
            "\u001b[1;30;43mStreaming output truncated to the last 5000 lines.\u001b[0m\n",
            "cache hit:\n",
            "X | 3 | 6 \n",
            "1 | 4 | O \n",
            "2 | 5 | 8 \n",
            "Choice: 4\n",
            "cache hit:\n",
            "X | 3 | 6 \n",
            "1 | X | O \n",
            "2 | O | 8 \n",
            "Choice: 3\n",
            "cache hit:\n",
            "X | X | 6 \n",
            "1 | X | O \n",
            "2 | O | O \n",
            "Choice: 1\n",
            "cache hit:\n",
            "0 | 3 | 6 \n",
            "1 | 4 | 7 \n",
            "2 | 5 | 8 \n",
            "Choice: 0\n",
            "cache hit:\n",
            "X | 3 | 6 \n",
            "1 | 4 | O \n",
            "2 | 5 | 8 \n",
            "Choice: 4\n",
            "cache hit:\n",
            "X | 3 | 6 \n",
            "1 | X | O \n",
            "2 | O | 8 \n",
            "Choice: 3\n",
            "cache hit:\n",
            "X | X | 6 \n",
            "1 | X | O \n",
            "O | O | 8 \n",
            "Choice: 1\n",
            "cache hit:\n",
            "0 | 3 | 6 \n",
            "1 | 4 | 7 \n",
            "2 | 5 | 8 \n",
            "Choice: 0\n",
            "cache hit:\n",
            "X | 3 | 6 \n",
            "1 | 4 | O \n",
            "2 | 5 | 8 \n",
            "Choice: 4\n",
            "cache hit:\n",
            "X | 3 | 6 \n",
            "1 | X | O \n",
            "2 | O | 8 \n",
            "Choice: 3\n",
            "cache hit:\n",
            "X | X | 6 \n",
            "1 | X | O \n",
            "2 | O | O \n",
            "Choice: 1\n",
            "cache hit:\n",
            "0 | 3 | 6 \n",
            "1 | 4 | 7 \n",
            "2 | 5 | 8 \n",
            "Choice: 0\n",
            "cache hit:\n",
            "X | 3 | 6 \n",
            "1 | 4 | O \n",
            "2 | 5 | 8 \n",
            "Choice: 4\n",
            "cache hit:\n",
            "X | 3 | 6 \n",
            "1 | X | O \n",
            "2 | O | 8 \n",
            "Choice: 3\n",
            "cache hit:\n",
            "X | X | 6 \n",
            "1 | X | O \n",
            "2 | O | O \n",
            "Choice: 1\n",
            "cache hit:\n",
            "0 | 3 | 6 \n",
            "1 | 4 | 7 \n",
            "2 | 5 | 8 \n",
            "Choice: 0\n",
            "cache hit:\n",
            "X | 3 | 6 \n",
            "1 | 4 | O \n",
            "2 | 5 | 8 \n",
            "Choice: 4\n",
            "cache hit:\n",
            "X | 3 | 6 \n",
            "1 | X | O \n",
            "2 | O | 8 \n",
            "Choice: 3\n",
            "cache hit:\n",
            "X | X | 6 \n",
            "1 | X | O \n",
            "2 | O | O \n",
            "Choice: 1\n",
            "cache hit:\n",
            "0 | 3 | 6 \n",
            "1 | 4 | 7 \n",
            "2 | 5 | 8 \n",
            "Choice: 0\n",
            "cache hit:\n",
            "X | 3 | 6 \n",
            "1 | 4 | O \n",
            "2 | 5 | 8 \n",
            "Choice: 4\n",
            "cache hit:\n",
            "X | 3 | 6 \n",
            "1 | X | O \n",
            "2 | O | 8 \n",
            "Choice: 3\n",
            "cache hit:\n",
            "X | X | 6 \n",
            "1 | X | O \n",
            "2 | O | O \n",
            "Choice: 1\n",
            "cache hit:\n",
            "0 | 3 | 6 \n",
            "1 | 4 | 7 \n",
            "2 | 5 | 8 \n",
            "Choice: 0\n",
            "cache hit:\n",
            "X | 3 | 6 \n",
            "1 | 4 | O \n",
            "2 | 5 | 8 \n",
            "Choice: 4\n",
            "cache hit:\n",
            "X | 3 | 6 \n",
            "1 | X | O \n",
            "2 | O | 8 \n",
            "Choice: 3\n",
            "cache hit:\n",
            "X | X | 6 \n",
            "1 | X | O \n",
            "2 | O | O \n",
            "Choice: 1\n",
            "cache hit:\n",
            "0 | 3 | 6 \n",
            "1 | 4 | 7 \n",
            "2 | 5 | 8 \n",
            "Choice: 0\n",
            "cache hit:\n",
            "X | 3 | 6 \n",
            "1 | 4 | O \n",
            "2 | 5 | 8 \n",
            "Choice: 4\n",
            "cache hit:\n",
            "X | 3 | 6 \n",
            "1 | X | O \n",
            "2 | O | 8 \n",
            "Choice: 3\n",
            "cache hit:\n",
            "X | X | 6 \n",
            "1 | X | O \n",
            "2 | O | O \n",
            "Choice: 1\n",
            "cache hit:\n",
            "0 | 3 | 6 \n",
            "1 | 4 | 7 \n",
            "2 | 5 | 8 \n",
            "Choice: 0\n",
            "cache hit:\n",
            "X | 3 | 6 \n",
            "1 | 4 | O \n",
            "2 | 5 | 8 \n",
            "Choice: 4\n",
            "cache hit:\n",
            "X | 3 | 6 \n",
            "1 | X | O \n",
            "2 | O | 8 \n",
            "Choice: 3\n",
            "cache hit:\n",
            "X | X | 6 \n",
            "1 | X | O \n",
            "2 | O | O \n",
            "Choice: 1\n",
            "cache hit:\n",
            "0 | 3 | 6 \n",
            "1 | 4 | 7 \n",
            "2 | 5 | 8 \n",
            "Choice: 0\n",
            "cache hit:\n",
            "X | 3 | 6 \n",
            "1 | 4 | O \n",
            "2 | 5 | 8 \n",
            "Choice: 4\n",
            "cache hit:\n",
            "X | 3 | 6 \n",
            "1 | X | O \n",
            "2 | O | 8 \n",
            "Choice: 3\n",
            "cache hit:\n",
            "X | X | 6 \n",
            "1 | X | O \n",
            "2 | O | O \n",
            "Choice: 1\n",
            "cache hit:\n",
            "0 | 3 | 6 \n",
            "1 | 4 | 7 \n",
            "2 | 5 | 8 \n",
            "Choice: 0\n",
            "cache hit:\n",
            "X | 3 | 6 \n",
            "1 | 4 | O \n",
            "2 | 5 | 8 \n",
            "Choice: 4\n",
            "cache hit:\n",
            "X | 3 | 6 \n",
            "1 | X | O \n",
            "2 | O | 8 \n",
            "Choice: 3\n",
            "cache hit:\n",
            "X | X | 6 \n",
            "1 | X | O \n",
            "2 | O | O \n",
            "Choice: 1\n",
            "cache hit:\n",
            "0 | 3 | 6 \n",
            "1 | 4 | 7 \n",
            "2 | 5 | 8 \n",
            "Choice: 0\n",
            "cache hit:\n",
            "X | 3 | 6 \n",
            "1 | 4 | O \n",
            "2 | 5 | 8 \n",
            "Choice: 4\n",
            "cache hit:\n",
            "X | 3 | 6 \n",
            "1 | X | O \n",
            "2 | O | 8 \n",
            "Choice: 3\n",
            "cache hit:\n",
            "X | X | 6 \n",
            "1 | X | O \n",
            "2 | O | O \n",
            "Choice: 1\n",
            "cache hit:\n",
            "0 | 3 | 6 \n",
            "1 | 4 | 7 \n",
            "2 | 5 | 8 \n",
            "Choice: 0\n",
            "cache hit:\n",
            "X | 3 | 6 \n",
            "1 | 4 | O \n",
            "2 | 5 | 8 \n",
            "Choice: 4\n",
            "cache hit:\n",
            "X | 3 | 6 \n",
            "1 | X | O \n",
            "2 | O | 8 \n",
            "Choice: 3\n",
            "cache hit:\n",
            "X | X | 6 \n",
            "1 | X | O \n",
            "2 | O | O \n",
            "Choice: 1\n",
            "cache hit:\n",
            "0 | 3 | 6 \n",
            "1 | 4 | 7 \n",
            "2 | 5 | 8 \n",
            "Choice: 0\n",
            "cache hit:\n",
            "X | 3 | 6 \n",
            "1 | 4 | O \n",
            "2 | 5 | 8 \n",
            "Choice: 4\n",
            "cache hit:\n",
            "X | 3 | 6 \n",
            "1 | X | O \n",
            "2 | O | 8 \n",
            "Choice: 3\n",
            "cache hit:\n",
            "X | X | 6 \n",
            "1 | X | O \n",
            "2 | O | O \n",
            "Choice: 1\n",
            "cache hit:\n",
            "0 | 3 | 6 \n",
            "1 | 4 | 7 \n",
            "2 | 5 | 8 \n",
            "Choice: 0\n",
            "cache hit:\n",
            "X | 3 | 6 \n",
            "1 | 4 | O \n",
            "2 | 5 | 8 \n",
            "Choice: 4\n",
            "cache hit:\n",
            "X | 3 | 6 \n",
            "1 | X | O \n",
            "2 | O | 8 \n",
            "Choice: 3\n",
            "cache hit:\n",
            "X | X | 6 \n",
            "1 | X | O \n",
            "2 | O | O \n",
            "Choice: 1\n",
            "cache hit:\n",
            "0 | 3 | 6 \n",
            "1 | 4 | 7 \n",
            "2 | 5 | 8 \n",
            "Choice: 0\n",
            "cache hit:\n",
            "X | 3 | 6 \n",
            "1 | 4 | O \n",
            "2 | 5 | 8 \n",
            "Choice: 4\n",
            "cache hit:\n",
            "X | 3 | 6 \n",
            "1 | X | O \n",
            "2 | O | 8 \n",
            "Choice: 3\n",
            "cache hit:\n",
            "X | X | 6 \n",
            "1 | X | O \n",
            "2 | O | O \n",
            "Choice: 1\n",
            "cache hit:\n",
            "0 | 3 | 6 \n",
            "1 | 4 | 7 \n",
            "2 | 5 | 8 \n",
            "Choice: 0\n",
            "cache hit:\n",
            "X | 3 | 6 \n",
            "1 | 4 | O \n",
            "2 | 5 | 8 \n",
            "Choice: 4\n",
            "cache hit:\n",
            "X | 3 | 6 \n",
            "1 | X | O \n",
            "2 | O | 8 \n",
            "Choice: 3\n",
            "cache hit:\n",
            "X | X | 6 \n",
            "1 | X | O \n",
            "2 | O | O \n",
            "Choice: 1\n",
            "cache hit:\n",
            "0 | 3 | 6 \n",
            "1 | 4 | 7 \n",
            "2 | 5 | 8 \n",
            "Choice: 0\n",
            "cache hit:\n",
            "X | 3 | 6 \n",
            "1 | 4 | O \n",
            "2 | 5 | 8 \n",
            "Choice: 4\n",
            "cache hit:\n",
            "X | 3 | 6 \n",
            "1 | X | O \n",
            "2 | O | 8 \n",
            "Choice: 3\n",
            "cache hit:\n",
            "X | X | 6 \n",
            "1 | X | O \n",
            "2 | O | O \n",
            "Choice: 1\n",
            "cache hit:\n",
            "0 | 3 | 6 \n",
            "1 | 4 | 7 \n",
            "2 | 5 | 8 \n",
            "Choice: 0\n",
            "cache hit:\n",
            "X | 3 | 6 \n",
            "1 | 4 | O \n",
            "2 | 5 | 8 \n",
            "Choice: 4\n",
            "cache hit:\n",
            "X | 3 | 6 \n",
            "1 | X | O \n",
            "2 | O | 8 \n",
            "Choice: 3\n",
            "cache hit:\n",
            "X | X | 6 \n",
            "1 | X | O \n",
            "2 | O | O \n",
            "Choice: 1\n",
            "cache hit:\n",
            "0 | 3 | 6 \n",
            "1 | 4 | 7 \n",
            "2 | 5 | 8 \n",
            "Choice: 0\n",
            "cache hit:\n",
            "X | 3 | 6 \n",
            "1 | 4 | O \n",
            "2 | 5 | 8 \n",
            "Choice: 4\n",
            "cache hit:\n",
            "X | 3 | 6 \n",
            "1 | X | O \n",
            "2 | O | 8 \n",
            "Choice: 3\n",
            "cache hit:\n",
            "X | X | 6 \n",
            "1 | X | O \n",
            "2 | O | O \n",
            "Choice: 1\n",
            "cache hit:\n",
            "0 | 3 | 6 \n",
            "1 | 4 | 7 \n",
            "2 | 5 | 8 \n",
            "Choice: 0\n",
            "cache hit:\n",
            "X | 3 | 6 \n",
            "1 | 4 | O \n",
            "2 | 5 | 8 \n",
            "Choice: 4\n",
            "cache hit:\n",
            "X | 3 | 6 \n",
            "1 | X | O \n",
            "2 | O | 8 \n",
            "Choice: 3\n",
            "cache hit:\n",
            "X | X | 6 \n",
            "1 | X | O \n",
            "2 | O | O \n",
            "Choice: 1\n",
            "cache hit:\n",
            "0 | 3 | 6 \n",
            "1 | 4 | 7 \n",
            "2 | 5 | 8 \n",
            "Choice: 0\n",
            "cache hit:\n",
            "X | 3 | 6 \n",
            "1 | 4 | O \n",
            "2 | 5 | 8 \n",
            "Choice: 4\n",
            "cache hit:\n",
            "X | 3 | 6 \n",
            "1 | X | O \n",
            "O | 5 | 8 \n",
            "Choice: 3\n",
            "cache hit:\n",
            "X | X | 6 \n",
            "1 | X | O \n",
            "O | O | 8 \n",
            "Choice: 1\n",
            "cache hit:\n",
            "0 | 3 | 6 \n",
            "1 | 4 | 7 \n",
            "2 | 5 | 8 \n",
            "Choice: 0\n",
            "cache hit:\n",
            "X | 3 | 6 \n",
            "1 | 4 | O \n",
            "2 | 5 | 8 \n",
            "Choice: 4\n",
            "cache hit:\n",
            "X | 3 | 6 \n",
            "1 | X | O \n",
            "2 | O | 8 \n",
            "Choice: 3\n",
            "cache hit:\n",
            "X | X | 6 \n",
            "1 | X | O \n",
            "2 | O | O \n",
            "Choice: 1\n",
            "cache hit:\n",
            "0 | 3 | 6 \n",
            "1 | 4 | 7 \n",
            "2 | 5 | 8 \n",
            "Choice: 0\n",
            "cache hit:\n",
            "X | 3 | 6 \n",
            "1 | 4 | O \n",
            "2 | 5 | 8 \n",
            "Choice: 4\n",
            "cache hit:\n",
            "X | 3 | 6 \n",
            "1 | X | O \n",
            "2 | O | 8 \n",
            "Choice: 3\n",
            "cache hit:\n",
            "X | X | 6 \n",
            "1 | X | O \n",
            "2 | O | O \n",
            "Choice: 1\n",
            "cache hit:\n",
            "0 | 3 | 6 \n",
            "1 | 4 | 7 \n",
            "2 | 5 | 8 \n",
            "Choice: 0\n",
            "cache hit:\n",
            "X | 3 | 6 \n",
            "1 | 4 | O \n",
            "2 | 5 | 8 \n",
            "Choice: 4\n",
            "cache hit:\n",
            "X | 3 | 6 \n",
            "1 | X | O \n",
            "2 | O | 8 \n",
            "Choice: 3\n",
            "cache hit:\n",
            "X | X | 6 \n",
            "1 | X | O \n",
            "2 | O | O \n",
            "Choice: 1\n",
            "cache hit:\n",
            "0 | 3 | 6 \n",
            "1 | 4 | 7 \n",
            "2 | 5 | 8 \n",
            "Choice: 0\n",
            "cache hit:\n",
            "X | 3 | 6 \n",
            "1 | 4 | O \n",
            "2 | 5 | 8 \n",
            "Choice: 4\n",
            "cache hit:\n",
            "X | 3 | 6 \n",
            "1 | X | O \n",
            "2 | O | 8 \n",
            "Choice: 3\n",
            "cache hit:\n",
            "X | X | 6 \n",
            "1 | X | O \n",
            "2 | O | O \n",
            "Choice: 1\n",
            "cache hit:\n",
            "0 | 3 | 6 \n",
            "1 | 4 | 7 \n",
            "2 | 5 | 8 \n",
            "Choice: 0\n",
            "cache hit:\n",
            "X | 3 | 6 \n",
            "1 | 4 | O \n",
            "2 | 5 | 8 \n",
            "Choice: 4\n",
            "cache hit:\n",
            "X | 3 | 6 \n",
            "1 | X | O \n",
            "2 | O | 8 \n",
            "Choice: 3\n",
            "cache hit:\n",
            "X | X | 6 \n",
            "1 | X | O \n",
            "2 | O | O \n",
            "Choice: 1\n",
            "cache hit:\n",
            "0 | 3 | 6 \n",
            "1 | 4 | 7 \n",
            "2 | 5 | 8 \n",
            "Choice: 0\n",
            "cache hit:\n",
            "X | 3 | 6 \n",
            "1 | 4 | O \n",
            "2 | 5 | 8 \n",
            "Choice: 4\n",
            "cache hit:\n",
            "X | 3 | 6 \n",
            "1 | X | O \n",
            "2 | O | 8 \n",
            "Choice: 3\n",
            "cache hit:\n",
            "X | X | 6 \n",
            "1 | X | O \n",
            "2 | O | O \n",
            "Choice: 1\n",
            "cache hit:\n",
            "0 | 3 | 6 \n",
            "1 | 4 | 7 \n",
            "2 | 5 | 8 \n",
            "Choice: 0\n",
            "cache hit:\n",
            "X | 3 | 6 \n",
            "1 | 4 | O \n",
            "2 | 5 | 8 \n",
            "Choice: 4\n",
            "cache hit:\n",
            "X | 3 | 6 \n",
            "1 | X | O \n",
            "2 | O | 8 \n",
            "Choice: 3\n",
            "cache hit:\n",
            "X | X | 6 \n",
            "1 | X | O \n",
            "2 | O | O \n",
            "Choice: 1\n",
            "cache hit:\n",
            "0 | 3 | 6 \n",
            "1 | 4 | 7 \n",
            "2 | 5 | 8 \n",
            "Choice: 0\n",
            "cache hit:\n",
            "X | 3 | 6 \n",
            "1 | 4 | O \n",
            "2 | 5 | 8 \n",
            "Choice: 4\n",
            "cache hit:\n",
            "X | 3 | 6 \n",
            "1 | X | O \n",
            "2 | O | 8 \n",
            "Choice: 3\n",
            "cache hit:\n",
            "X | X | 6 \n",
            "1 | X | O \n",
            "2 | O | O \n",
            "Choice: 1\n",
            "cache hit:\n",
            "0 | 3 | 6 \n",
            "1 | 4 | 7 \n",
            "2 | 5 | 8 \n",
            "Choice: 0\n",
            "cache hit:\n",
            "X | 3 | 6 \n",
            "1 | 4 | O \n",
            "2 | 5 | 8 \n",
            "Choice: 4\n",
            "cache hit:\n",
            "X | 3 | 6 \n",
            "1 | X | O \n",
            "2 | O | 8 \n",
            "Choice: 3\n",
            "cache hit:\n",
            "X | X | 6 \n",
            "1 | X | O \n",
            "2 | O | O \n",
            "Choice: 1\n",
            "cache hit:\n",
            "0 | 3 | 6 \n",
            "1 | 4 | 7 \n",
            "2 | 5 | 8 \n",
            "Choice: 0\n",
            "cache hit:\n",
            "X | 3 | 6 \n",
            "1 | 4 | O \n",
            "2 | 5 | 8 \n",
            "Choice: 4\n",
            "cache hit:\n",
            "X | 3 | 6 \n",
            "1 | X | O \n",
            "2 | O | 8 \n",
            "Choice: 3\n",
            "cache hit:\n",
            "X | X | 6 \n",
            "1 | X | O \n",
            "2 | O | O \n",
            "Choice: 1\n",
            "cache hit:\n",
            "0 | 3 | 6 \n",
            "1 | 4 | 7 \n",
            "2 | 5 | 8 \n",
            "Choice: 0\n",
            "cache hit:\n",
            "X | 3 | 6 \n",
            "1 | 4 | O \n",
            "2 | 5 | 8 \n",
            "Choice: 4\n",
            "cache hit:\n",
            "X | 3 | 6 \n",
            "1 | X | O \n",
            "2 | O | 8 \n",
            "Choice: 3\n",
            "cache hit:\n",
            "X | X | 6 \n",
            "1 | X | O \n",
            "2 | O | O \n",
            "Choice: 1\n",
            "cache hit:\n",
            "0 | 3 | 6 \n",
            "1 | 4 | 7 \n",
            "2 | 5 | 8 \n",
            "Choice: 0\n",
            "cache hit:\n",
            "X | 3 | 6 \n",
            "1 | 4 | O \n",
            "2 | 5 | 8 \n",
            "Choice: 4\n",
            "cache hit:\n",
            "X | 3 | 6 \n",
            "1 | X | O \n",
            "2 | O | 8 \n",
            "Choice: 3\n",
            "cache hit:\n",
            "X | X | 6 \n",
            "1 | X | O \n",
            "2 | O | O \n",
            "Choice: 1\n",
            "cache hit:\n",
            "0 | 3 | 6 \n",
            "1 | 4 | 7 \n",
            "2 | 5 | 8 \n",
            "Choice: 0\n",
            "cache hit:\n",
            "X | 3 | 6 \n",
            "1 | 4 | O \n",
            "2 | 5 | 8 \n",
            "Choice: 4\n",
            "cache hit:\n",
            "X | 3 | 6 \n",
            "1 | X | O \n",
            "2 | O | 8 \n",
            "Choice: 3\n",
            "cache hit:\n",
            "X | X | 6 \n",
            "1 | X | O \n",
            "2 | O | O \n",
            "Choice: 1\n",
            "cache hit:\n",
            "0 | 3 | 6 \n",
            "1 | 4 | 7 \n",
            "2 | 5 | 8 \n",
            "Choice: 0\n",
            "cache hit:\n",
            "X | 3 | 6 \n",
            "1 | 4 | O \n",
            "2 | 5 | 8 \n",
            "Choice: 4\n",
            "cache hit:\n",
            "X | 3 | 6 \n",
            "1 | X | O \n",
            "2 | O | 8 \n",
            "Choice: 3\n",
            "cache hit:\n",
            "X | X | 6 \n",
            "1 | X | O \n",
            "2 | O | O \n",
            "Choice: 1\n",
            "cache hit:\n",
            "0 | 3 | 6 \n",
            "1 | 4 | 7 \n",
            "2 | 5 | 8 \n",
            "Choice: 0\n",
            "cache hit:\n",
            "X | 3 | 6 \n",
            "1 | 4 | O \n",
            "2 | 5 | 8 \n",
            "Choice: 4\n",
            "cache hit:\n",
            "X | 3 | 6 \n",
            "1 | X | O \n",
            "2 | O | 8 \n",
            "Choice: 3\n",
            "cache hit:\n",
            "X | X | 6 \n",
            "1 | X | O \n",
            "2 | O | O \n",
            "Choice: 1\n",
            "cache hit:\n",
            "0 | 3 | 6 \n",
            "1 | 4 | 7 \n",
            "2 | 5 | 8 \n",
            "Choice: 0\n",
            "cache hit:\n",
            "X | 3 | 6 \n",
            "1 | 4 | O \n",
            "2 | 5 | 8 \n",
            "Choice: 4\n",
            "cache hit:\n",
            "X | 3 | 6 \n",
            "1 | X | O \n",
            "2 | O | 8 \n",
            "Choice: 3\n",
            "cache hit:\n",
            "X | X | 6 \n",
            "1 | X | O \n",
            "2 | O | O \n",
            "Choice: 1\n",
            "cache hit:\n",
            "0 | 3 | 6 \n",
            "1 | 4 | 7 \n",
            "2 | 5 | 8 \n",
            "Choice: 0\n",
            "cache hit:\n",
            "X | 3 | 6 \n",
            "1 | 4 | O \n",
            "2 | 5 | 8 \n",
            "Choice: 4\n",
            "cache hit:\n",
            "X | 3 | 6 \n",
            "1 | X | O \n",
            "2 | O | 8 \n",
            "Choice: 3\n",
            "cache hit:\n",
            "X | X | 6 \n",
            "1 | X | O \n",
            "2 | O | O \n",
            "Choice: 1\n",
            "cache hit:\n",
            "0 | 3 | 6 \n",
            "1 | 4 | 7 \n",
            "2 | 5 | 8 \n",
            "Choice: 0\n",
            "cache hit:\n",
            "X | 3 | 6 \n",
            "1 | 4 | O \n",
            "2 | 5 | 8 \n",
            "Choice: 4\n",
            "cache hit:\n",
            "X | 3 | 6 \n",
            "1 | X | O \n",
            "2 | O | 8 \n",
            "Choice: 3\n",
            "cache hit:\n",
            "X | X | 6 \n",
            "1 | X | O \n",
            "2 | O | O \n",
            "Choice: 1\n",
            "cache hit:\n",
            "0 | 3 | 6 \n",
            "1 | 4 | 7 \n",
            "2 | 5 | 8 \n",
            "Choice: 0\n",
            "cache hit:\n",
            "X | 3 | 6 \n",
            "1 | 4 | O \n",
            "2 | 5 | 8 \n",
            "Choice: 4\n",
            "cache hit:\n",
            "X | 3 | 6 \n",
            "1 | X | O \n",
            "2 | O | 8 \n",
            "Choice: 3\n",
            "cache hit:\n",
            "X | X | 6 \n",
            "1 | X | O \n",
            "2 | O | O \n",
            "Choice: 1\n",
            "cache hit:\n",
            "0 | 3 | 6 \n",
            "1 | 4 | 7 \n",
            "2 | 5 | 8 \n",
            "Choice: 0\n",
            "cache hit:\n",
            "X | 3 | 6 \n",
            "1 | 4 | O \n",
            "2 | 5 | 8 \n",
            "Choice: 4\n",
            "cache hit:\n",
            "X | 3 | 6 \n",
            "1 | X | O \n",
            "2 | O | 8 \n",
            "Choice: 3\n",
            "cache hit:\n",
            "X | X | 6 \n",
            "1 | X | O \n",
            "2 | O | O \n",
            "Choice: 1\n",
            "cache hit:\n",
            "0 | 3 | 6 \n",
            "1 | 4 | 7 \n",
            "2 | 5 | 8 \n",
            "Choice: 0\n",
            "cache hit:\n",
            "X | 3 | 6 \n",
            "1 | 4 | O \n",
            "2 | 5 | 8 \n",
            "Choice: 4\n",
            "cache hit:\n",
            "X | 3 | 6 \n",
            "1 | X | O \n",
            "2 | O | 8 \n",
            "Choice: 3\n",
            "cache hit:\n",
            "X | X | 6 \n",
            "1 | X | O \n",
            "2 | O | O \n",
            "Choice: 1\n",
            "cache hit:\n",
            "0 | 3 | 6 \n",
            "1 | 4 | 7 \n",
            "2 | 5 | 8 \n",
            "Choice: 0\n",
            "cache hit:\n",
            "X | 3 | 6 \n",
            "1 | 4 | O \n",
            "2 | 5 | 8 \n",
            "Choice: 4\n",
            "cache hit:\n",
            "X | 3 | 6 \n",
            "1 | X | O \n",
            "2 | O | 8 \n",
            "Choice: 3\n",
            "cache hit:\n",
            "X | X | 6 \n",
            "1 | X | O \n",
            "2 | O | O \n",
            "Choice: 1\n",
            "cache hit:\n",
            "0 | 3 | 6 \n",
            "1 | 4 | 7 \n",
            "2 | 5 | 8 \n",
            "Choice: 0\n",
            "cache hit:\n",
            "X | 3 | 6 \n",
            "1 | 4 | O \n",
            "2 | 5 | 8 \n",
            "Choice: 4\n",
            "cache hit:\n",
            "X | 3 | 6 \n",
            "1 | X | O \n",
            "2 | O | 8 \n",
            "Choice: 3\n",
            "cache hit:\n",
            "X | X | 6 \n",
            "1 | X | O \n",
            "2 | O | O \n",
            "Choice: 1\n",
            "cache hit:\n",
            "0 | 3 | 6 \n",
            "1 | 4 | 7 \n",
            "2 | 5 | 8 \n",
            "Choice: 0\n",
            "cache hit:\n",
            "X | 3 | 6 \n",
            "1 | 4 | O \n",
            "2 | 5 | 8 \n",
            "Choice: 4\n",
            "cache hit:\n",
            "X | 3 | 6 \n",
            "1 | X | O \n",
            "2 | O | 8 \n",
            "Choice: 3\n",
            "cache hit:\n",
            "X | X | 6 \n",
            "1 | X | O \n",
            "2 | O | O \n",
            "Choice: 1\n",
            "cache hit:\n",
            "0 | 3 | 6 \n",
            "1 | 4 | 7 \n",
            "2 | 5 | 8 \n",
            "Choice: 0\n",
            "cache hit:\n",
            "X | 3 | 6 \n",
            "1 | 4 | O \n",
            "2 | 5 | 8 \n",
            "Choice: 4\n",
            "cache hit:\n",
            "X | 3 | 6 \n",
            "1 | X | O \n",
            "2 | O | 8 \n",
            "Choice: 3\n",
            "cache hit:\n",
            "X | X | 6 \n",
            "1 | X | O \n",
            "2 | O | O \n",
            "Choice: 1\n",
            "cache hit:\n",
            "0 | 3 | 6 \n",
            "1 | 4 | 7 \n",
            "2 | 5 | 8 \n",
            "Choice: 0\n",
            "cache hit:\n",
            "X | 3 | 6 \n",
            "1 | 4 | O \n",
            "2 | 5 | 8 \n",
            "Choice: 4\n",
            "cache hit:\n",
            "X | 3 | 6 \n",
            "1 | X | O \n",
            "2 | O | 8 \n",
            "Choice: 3\n",
            "cache hit:\n",
            "X | X | 6 \n",
            "1 | X | O \n",
            "2 | O | O \n",
            "Choice: 1\n",
            "cache hit:\n",
            "0 | 3 | 6 \n",
            "1 | 4 | 7 \n",
            "2 | 5 | 8 \n",
            "Choice: 0\n",
            "cache hit:\n",
            "X | 3 | 6 \n",
            "1 | 4 | O \n",
            "2 | 5 | 8 \n",
            "Choice: 4\n",
            "cache hit:\n",
            "X | 3 | 6 \n",
            "1 | X | O \n",
            "2 | O | 8 \n",
            "Choice: 3\n",
            "cache hit:\n",
            "X | X | 6 \n",
            "1 | X | O \n",
            "2 | O | O \n",
            "Choice: 1\n",
            "cache hit:\n",
            "0 | 3 | 6 \n",
            "1 | 4 | 7 \n",
            "2 | 5 | 8 \n",
            "Choice: 0\n",
            "cache hit:\n",
            "X | 3 | 6 \n",
            "1 | 4 | O \n",
            "2 | 5 | 8 \n",
            "Choice: 4\n",
            "cache hit:\n",
            "X | 3 | 6 \n",
            "1 | X | O \n",
            "2 | O | 8 \n",
            "Choice: 3\n",
            "cache hit:\n",
            "X | X | 6 \n",
            "1 | X | O \n",
            "2 | O | O \n",
            "Choice: 1\n",
            "Final reward: -0.94, length: 7.93\n",
            "Win: 3 lost: 97 draw: 0\n",
            "cache hit:\n",
            "0 | 3 | 6 \n",
            "1 | 4 | 7 \n",
            "2 | 5 | 8 \n",
            "Choice: 0\n",
            "cache hit:\n",
            "O | 3 | 6 \n",
            "1 | 4 | 7 \n",
            "2 | 5 | 8 \n",
            "Choice: 3\n",
            "cache hit:\n",
            "X | O | 6 \n",
            "1 | 4 | 7 \n",
            "2 | 5 | 8 \n",
            "Choice: 6\n",
            "cache hit:\n",
            "O | X | O \n",
            "1 | 4 | 7 \n",
            "2 | 5 | 8 \n",
            "Choice: 1\n",
            "cache hit:\n",
            "X | O | X \n",
            "O | 4 | 7 \n",
            "2 | 5 | 8 \n",
            "Choice: 5\n",
            "cache hit:\n",
            "O | X | O \n",
            "X | 4 | 7 \n",
            "2 | O | 8 \n",
            "Choice: 7\n",
            "Choice: 8\n",
            "Add to cache:\n",
            "X | O | X \n",
            "O | 4 | O \n",
            "2 | X | 8 \n",
            "Choice: 8\n",
            "cache hit:\n",
            "O | X | O \n",
            "X | 4 | X \n",
            "2 | O | O \n",
            "Choice: 4\n",
            "cache hit:\n",
            "0 | 3 | 6 \n",
            "1 | 4 | 7 \n",
            "2 | 5 | 8 \n",
            "Choice: 0\n",
            "cache hit:\n",
            "O | 3 | 6 \n",
            "1 | 4 | 7 \n",
            "2 | 5 | 8 \n",
            "Choice: 3\n",
            "cache hit:\n",
            "X | O | 6 \n",
            "1 | 4 | 7 \n",
            "2 | 5 | 8 \n",
            "Choice: 6\n",
            "cache hit:\n",
            "O | X | O \n",
            "1 | 4 | 7 \n",
            "2 | 5 | 8 \n",
            "Choice: 1\n",
            "cache hit:\n",
            "X | O | X \n",
            "O | 4 | 7 \n",
            "2 | 5 | 8 \n",
            "Choice: 5\n",
            "cache hit:\n",
            "O | X | O \n",
            "X | 4 | 7 \n",
            "2 | O | 8 \n",
            "Choice: 7\n",
            "cache hit:\n",
            "X | O | X \n",
            "O | 4 | O \n",
            "2 | X | 8 \n",
            "Choice: 8\n",
            "cache hit:\n",
            "O | X | O \n",
            "X | 4 | X \n",
            "2 | O | O \n",
            "Choice: 4\n",
            "cache hit:\n",
            "0 | 3 | 6 \n",
            "1 | 4 | 7 \n",
            "2 | 5 | 8 \n",
            "Choice: 0\n",
            "cache hit:\n",
            "O | 3 | 6 \n",
            "1 | 4 | 7 \n",
            "2 | 5 | 8 \n",
            "Choice: 3\n",
            "cache hit:\n",
            "X | O | 6 \n",
            "1 | 4 | 7 \n",
            "2 | 5 | 8 \n",
            "Choice: 6\n",
            "cache hit:\n",
            "O | X | O \n",
            "1 | 4 | 7 \n",
            "2 | 5 | 8 \n",
            "Choice: 1\n",
            "cache hit:\n",
            "X | O | X \n",
            "O | 4 | 7 \n",
            "2 | 5 | 8 \n",
            "Choice: 5\n",
            "cache hit:\n",
            "O | X | O \n",
            "X | 4 | 7 \n",
            "2 | O | 8 \n",
            "Choice: 7\n",
            "cache hit:\n",
            "X | O | X \n",
            "O | 4 | O \n",
            "2 | X | 8 \n",
            "Choice: 8\n",
            "cache hit:\n",
            "O | X | O \n",
            "X | 4 | X \n",
            "2 | O | O \n",
            "Choice: 4\n",
            "cache hit:\n",
            "0 | 3 | 6 \n",
            "1 | 4 | 7 \n",
            "2 | 5 | 8 \n",
            "Choice: 0\n",
            "cache hit:\n",
            "O | 3 | 6 \n",
            "1 | 4 | 7 \n",
            "2 | 5 | 8 \n",
            "Choice: 3\n",
            "cache hit:\n",
            "X | O | 6 \n",
            "1 | 4 | 7 \n",
            "2 | 5 | 8 \n",
            "Choice: 6\n",
            "cache hit:\n",
            "O | X | O \n",
            "1 | 4 | 7 \n",
            "2 | 5 | 8 \n",
            "Choice: 1\n",
            "cache hit:\n",
            "X | O | X \n",
            "O | 4 | 7 \n",
            "2 | 5 | 8 \n",
            "Choice: 5\n",
            "cache hit:\n",
            "O | X | O \n",
            "X | 4 | 7 \n",
            "2 | O | 8 \n",
            "Choice: 7\n",
            "cache hit:\n",
            "X | O | X \n",
            "O | 4 | O \n",
            "2 | X | 8 \n",
            "Choice: 8\n",
            "cache hit:\n",
            "O | X | O \n",
            "X | 4 | X \n",
            "2 | O | O \n",
            "Choice: 4\n",
            "cache hit:\n",
            "0 | 3 | 6 \n",
            "1 | 4 | 7 \n",
            "2 | 5 | 8 \n",
            "Choice: 0\n",
            "cache hit:\n",
            "O | 3 | 6 \n",
            "1 | 4 | 7 \n",
            "2 | 5 | 8 \n",
            "Choice: 3\n",
            "cache hit:\n",
            "X | O | 6 \n",
            "1 | 4 | 7 \n",
            "2 | 5 | 8 \n",
            "Choice: 6\n",
            "cache hit:\n",
            "O | X | O \n",
            "1 | 4 | 7 \n",
            "2 | 5 | 8 \n",
            "Choice: 1\n",
            "cache hit:\n",
            "X | O | X \n",
            "O | 4 | 7 \n",
            "2 | 5 | 8 \n",
            "Choice: 5\n",
            "cache hit:\n",
            "O | X | O \n",
            "X | 4 | 7 \n",
            "2 | O | 8 \n",
            "Choice: 7\n",
            "cache hit:\n",
            "X | O | X \n",
            "O | 4 | O \n",
            "2 | X | 8 \n",
            "Choice: 8\n",
            "cache hit:\n",
            "O | X | O \n",
            "X | 4 | X \n",
            "2 | O | O \n",
            "Choice: 4\n",
            "cache hit:\n",
            "0 | 3 | 6 \n",
            "1 | 4 | 7 \n",
            "2 | 5 | 8 \n",
            "Choice: 0\n",
            "cache hit:\n",
            "O | 3 | 6 \n",
            "1 | 4 | 7 \n",
            "2 | 5 | 8 \n",
            "Choice: 3\n",
            "cache hit:\n",
            "X | O | 6 \n",
            "1 | 4 | 7 \n",
            "2 | 5 | 8 \n",
            "Choice: 6\n",
            "cache hit:\n",
            "O | X | O \n",
            "1 | 4 | 7 \n",
            "2 | 5 | 8 \n",
            "Choice: 1\n",
            "cache hit:\n",
            "X | O | X \n",
            "O | 4 | 7 \n",
            "2 | 5 | 8 \n",
            "Choice: 5\n",
            "cache hit:\n",
            "O | X | O \n",
            "X | 4 | 7 \n",
            "2 | O | 8 \n",
            "Choice: 7\n",
            "cache hit:\n",
            "X | O | X \n",
            "O | 4 | O \n",
            "2 | X | 8 \n",
            "Choice: 8\n",
            "cache hit:\n",
            "O | X | O \n",
            "X | 4 | X \n",
            "2 | O | O \n",
            "Choice: 4\n",
            "cache hit:\n",
            "0 | 3 | 6 \n",
            "1 | 4 | 7 \n",
            "2 | 5 | 8 \n",
            "Choice: 0\n",
            "cache hit:\n",
            "O | 3 | 6 \n",
            "1 | 4 | 7 \n",
            "2 | 5 | 8 \n",
            "Choice: 3\n",
            "cache hit:\n",
            "X | O | 6 \n",
            "1 | 4 | 7 \n",
            "2 | 5 | 8 \n",
            "Choice: 6\n",
            "cache hit:\n",
            "O | X | O \n",
            "1 | 4 | 7 \n",
            "2 | 5 | 8 \n",
            "Choice: 1\n",
            "cache hit:\n",
            "X | O | X \n",
            "O | 4 | 7 \n",
            "2 | 5 | 8 \n",
            "Choice: 5\n",
            "cache hit:\n",
            "O | X | O \n",
            "X | 4 | 7 \n",
            "2 | O | 8 \n",
            "Choice: 7\n",
            "cache hit:\n",
            "X | O | X \n",
            "O | 4 | O \n",
            "2 | X | 8 \n",
            "Choice: 8\n",
            "cache hit:\n",
            "O | X | O \n",
            "X | 4 | X \n",
            "2 | O | O \n",
            "Choice: 4\n",
            "cache hit:\n",
            "0 | 3 | 6 \n",
            "1 | 4 | 7 \n",
            "2 | 5 | 8 \n",
            "Choice: 0\n",
            "cache hit:\n",
            "O | 3 | 6 \n",
            "1 | 4 | 7 \n",
            "2 | 5 | 8 \n",
            "Choice: 3\n",
            "cache hit:\n",
            "X | O | 6 \n",
            "1 | 4 | 7 \n",
            "2 | 5 | 8 \n",
            "Choice: 6\n",
            "cache hit:\n",
            "O | X | O \n",
            "1 | 4 | 7 \n",
            "2 | 5 | 8 \n",
            "Choice: 1\n",
            "cache hit:\n",
            "X | O | X \n",
            "O | 4 | 7 \n",
            "2 | 5 | 8 \n",
            "Choice: 5\n",
            "cache hit:\n",
            "O | X | O \n",
            "X | 4 | 7 \n",
            "2 | O | 8 \n",
            "Choice: 7\n",
            "cache hit:\n",
            "X | O | X \n",
            "O | 4 | O \n",
            "2 | X | 8 \n",
            "Choice: 8\n",
            "cache hit:\n",
            "O | X | O \n",
            "X | 4 | X \n",
            "2 | O | O \n",
            "Choice: 4\n",
            "cache hit:\n",
            "0 | 3 | 6 \n",
            "1 | 4 | 7 \n",
            "2 | 5 | 8 \n",
            "Choice: 0\n",
            "cache hit:\n",
            "O | 3 | 6 \n",
            "1 | 4 | 7 \n",
            "2 | 5 | 8 \n",
            "Choice: 3\n",
            "cache hit:\n",
            "X | O | 6 \n",
            "1 | 4 | 7 \n",
            "2 | 5 | 8 \n",
            "Choice: 6\n",
            "cache hit:\n",
            "O | X | O \n",
            "1 | 4 | 7 \n",
            "2 | 5 | 8 \n",
            "Choice: 1\n",
            "cache hit:\n",
            "X | O | X \n",
            "O | 4 | 7 \n",
            "2 | 5 | 8 \n",
            "Choice: 5\n",
            "cache hit:\n",
            "O | X | O \n",
            "X | 4 | 7 \n",
            "2 | O | 8 \n",
            "Choice: 7\n",
            "cache hit:\n",
            "X | O | X \n",
            "O | 4 | O \n",
            "2 | X | 8 \n",
            "Choice: 8\n",
            "cache hit:\n",
            "O | X | O \n",
            "X | 4 | X \n",
            "2 | O | O \n",
            "Choice: 4\n",
            "cache hit:\n",
            "0 | 3 | 6 \n",
            "1 | 4 | 7 \n",
            "2 | 5 | 8 \n",
            "Choice: 0\n",
            "cache hit:\n",
            "O | 3 | 6 \n",
            "1 | 4 | 7 \n",
            "2 | 5 | 8 \n",
            "Choice: 3\n",
            "cache hit:\n",
            "X | O | 6 \n",
            "1 | 4 | 7 \n",
            "2 | 5 | 8 \n",
            "Choice: 6\n",
            "cache hit:\n",
            "O | X | O \n",
            "1 | 4 | 7 \n",
            "2 | 5 | 8 \n",
            "Choice: 1\n",
            "cache hit:\n",
            "X | O | X \n",
            "O | 4 | 7 \n",
            "2 | 5 | 8 \n",
            "Choice: 5\n",
            "cache hit:\n",
            "O | X | O \n",
            "X | 4 | 7 \n",
            "2 | O | 8 \n",
            "Choice: 7\n",
            "cache hit:\n",
            "X | O | X \n",
            "O | 4 | O \n",
            "2 | X | 8 \n",
            "Choice: 8\n",
            "cache hit:\n",
            "O | X | O \n",
            "X | 4 | X \n",
            "2 | O | O \n",
            "Choice: 4\n",
            "cache hit:\n",
            "0 | 3 | 6 \n",
            "1 | 4 | 7 \n",
            "2 | 5 | 8 \n",
            "Choice: 0\n",
            "cache hit:\n",
            "O | 3 | 6 \n",
            "1 | 4 | 7 \n",
            "2 | 5 | 8 \n",
            "Choice: 3\n",
            "cache hit:\n",
            "X | O | 6 \n",
            "1 | 4 | 7 \n",
            "2 | 5 | 8 \n",
            "Choice: 6\n",
            "cache hit:\n",
            "O | X | O \n",
            "1 | 4 | 7 \n",
            "2 | 5 | 8 \n",
            "Choice: 1\n",
            "cache hit:\n",
            "X | O | X \n",
            "O | 4 | 7 \n",
            "2 | 5 | 8 \n",
            "Choice: 5\n",
            "cache hit:\n",
            "O | X | O \n",
            "X | 4 | 7 \n",
            "2 | O | 8 \n",
            "Choice: 7\n",
            "cache hit:\n",
            "X | O | X \n",
            "O | 4 | O \n",
            "2 | X | 8 \n",
            "Choice: 8\n",
            "cache hit:\n",
            "O | X | O \n",
            "X | 4 | X \n",
            "2 | O | O \n",
            "Choice: 4\n",
            "cache hit:\n",
            "0 | 3 | 6 \n",
            "1 | 4 | 7 \n",
            "2 | 5 | 8 \n",
            "Choice: 0\n",
            "cache hit:\n",
            "O | 3 | 6 \n",
            "1 | 4 | 7 \n",
            "2 | 5 | 8 \n",
            "Choice: 3\n",
            "cache hit:\n",
            "X | O | 6 \n",
            "1 | 4 | 7 \n",
            "2 | 5 | 8 \n",
            "Choice: 6\n",
            "cache hit:\n",
            "O | X | O \n",
            "1 | 4 | 7 \n",
            "2 | 5 | 8 \n",
            "Choice: 1\n",
            "cache hit:\n",
            "X | O | X \n",
            "O | 4 | 7 \n",
            "2 | 5 | 8 \n",
            "Choice: 5\n",
            "cache hit:\n",
            "O | X | O \n",
            "X | 4 | 7 \n",
            "2 | O | 8 \n",
            "Choice: 7\n",
            "cache hit:\n",
            "X | O | X \n",
            "O | 4 | O \n",
            "2 | X | 8 \n",
            "Choice: 8\n",
            "cache hit:\n",
            "O | X | O \n",
            "X | 4 | X \n",
            "2 | O | O \n",
            "Choice: 4\n",
            "cache hit:\n",
            "0 | 3 | 6 \n",
            "1 | 4 | 7 \n",
            "2 | 5 | 8 \n",
            "Choice: 0\n",
            "cache hit:\n",
            "O | 3 | 6 \n",
            "1 | 4 | 7 \n",
            "2 | 5 | 8 \n",
            "Choice: 3\n",
            "cache hit:\n",
            "X | O | 6 \n",
            "1 | 4 | 7 \n",
            "2 | 5 | 8 \n",
            "Choice: 6\n",
            "cache hit:\n",
            "O | X | O \n",
            "1 | 4 | 7 \n",
            "2 | 5 | 8 \n",
            "Choice: 1\n",
            "cache hit:\n",
            "X | O | X \n",
            "O | 4 | 7 \n",
            "2 | 5 | 8 \n",
            "Choice: 5\n",
            "cache hit:\n",
            "O | X | O \n",
            "X | 4 | 7 \n",
            "2 | O | 8 \n",
            "Choice: 7\n",
            "cache hit:\n",
            "X | O | X \n",
            "O | 4 | O \n",
            "2 | X | 8 \n",
            "Choice: 8\n",
            "cache hit:\n",
            "O | X | O \n",
            "X | 4 | X \n",
            "2 | O | O \n",
            "Choice: 4\n",
            "cache hit:\n",
            "0 | 3 | 6 \n",
            "1 | 4 | 7 \n",
            "2 | 5 | 8 \n",
            "Choice: 0\n",
            "cache hit:\n",
            "O | 3 | 6 \n",
            "1 | 4 | 7 \n",
            "2 | 5 | 8 \n",
            "Choice: 3\n",
            "cache hit:\n",
            "X | O | 6 \n",
            "1 | 4 | 7 \n",
            "2 | 5 | 8 \n",
            "Choice: 6\n",
            "cache hit:\n",
            "O | X | O \n",
            "1 | 4 | 7 \n",
            "2 | 5 | 8 \n",
            "Choice: 1\n",
            "cache hit:\n",
            "X | O | X \n",
            "O | 4 | 7 \n",
            "2 | 5 | 8 \n",
            "Choice: 5\n",
            "cache hit:\n",
            "O | X | O \n",
            "X | 4 | 7 \n",
            "2 | O | 8 \n",
            "Choice: 7\n",
            "cache hit:\n",
            "X | O | X \n",
            "O | 4 | O \n",
            "2 | X | 8 \n",
            "Choice: 8\n",
            "cache hit:\n",
            "O | X | O \n",
            "X | 4 | X \n",
            "2 | O | O \n",
            "Choice: 4\n",
            "cache hit:\n",
            "0 | 3 | 6 \n",
            "1 | 4 | 7 \n",
            "2 | 5 | 8 \n",
            "Choice: 0\n",
            "cache hit:\n",
            "O | 3 | 6 \n",
            "1 | 4 | 7 \n",
            "2 | 5 | 8 \n",
            "Choice: 3\n",
            "cache hit:\n",
            "X | O | 6 \n",
            "1 | 4 | 7 \n",
            "2 | 5 | 8 \n",
            "Choice: 6\n",
            "cache hit:\n",
            "O | X | O \n",
            "1 | 4 | 7 \n",
            "2 | 5 | 8 \n",
            "Choice: 1\n",
            "cache hit:\n",
            "X | O | X \n",
            "O | 4 | 7 \n",
            "2 | 5 | 8 \n",
            "Choice: 5\n",
            "cache hit:\n",
            "O | X | O \n",
            "X | 4 | 7 \n",
            "2 | O | 8 \n",
            "Choice: 7\n",
            "cache hit:\n",
            "X | O | X \n",
            "O | 4 | O \n",
            "2 | X | 8 \n",
            "Choice: 8\n",
            "cache hit:\n",
            "O | X | O \n",
            "X | 4 | X \n",
            "2 | O | O \n",
            "Choice: 4\n",
            "cache hit:\n",
            "0 | 3 | 6 \n",
            "1 | 4 | 7 \n",
            "2 | 5 | 8 \n",
            "Choice: 0\n",
            "cache hit:\n",
            "O | 3 | 6 \n",
            "1 | 4 | 7 \n",
            "2 | 5 | 8 \n",
            "Choice: 3\n",
            "cache hit:\n",
            "X | O | 6 \n",
            "1 | 4 | 7 \n",
            "2 | 5 | 8 \n",
            "Choice: 6\n",
            "cache hit:\n",
            "O | X | O \n",
            "1 | 4 | 7 \n",
            "2 | 5 | 8 \n",
            "Choice: 1\n",
            "cache hit:\n",
            "X | O | X \n",
            "O | 4 | 7 \n",
            "2 | 5 | 8 \n",
            "Choice: 5\n",
            "cache hit:\n",
            "O | X | O \n",
            "X | 4 | 7 \n",
            "2 | O | 8 \n",
            "Choice: 7\n",
            "cache hit:\n",
            "X | O | X \n",
            "O | 4 | O \n",
            "2 | X | 8 \n",
            "Choice: 8\n",
            "cache hit:\n",
            "O | X | O \n",
            "X | 4 | X \n",
            "2 | O | O \n",
            "Choice: 4\n",
            "cache hit:\n",
            "0 | 3 | 6 \n",
            "1 | 4 | 7 \n",
            "2 | 5 | 8 \n",
            "Choice: 0\n",
            "cache hit:\n",
            "O | 3 | 6 \n",
            "1 | 4 | 7 \n",
            "2 | 5 | 8 \n",
            "Choice: 3\n",
            "cache hit:\n",
            "X | O | 6 \n",
            "1 | 4 | 7 \n",
            "2 | 5 | 8 \n",
            "Choice: 6\n",
            "cache hit:\n",
            "O | X | O \n",
            "1 | 4 | 7 \n",
            "2 | 5 | 8 \n",
            "Choice: 1\n",
            "cache hit:\n",
            "X | O | X \n",
            "O | 4 | 7 \n",
            "2 | 5 | 8 \n",
            "Choice: 5\n",
            "cache hit:\n",
            "O | X | O \n",
            "X | 4 | 7 \n",
            "2 | O | 8 \n",
            "Choice: 7\n",
            "cache hit:\n",
            "X | O | X \n",
            "O | 4 | O \n",
            "2 | X | 8 \n",
            "Choice: 8\n",
            "cache hit:\n",
            "O | X | O \n",
            "X | 4 | X \n",
            "2 | O | O \n",
            "Choice: 4\n",
            "cache hit:\n",
            "0 | 3 | 6 \n",
            "1 | 4 | 7 \n",
            "2 | 5 | 8 \n",
            "Choice: 0\n",
            "cache hit:\n",
            "O | 3 | 6 \n",
            "1 | 4 | 7 \n",
            "2 | 5 | 8 \n",
            "Choice: 3\n",
            "cache hit:\n",
            "X | O | 6 \n",
            "1 | 4 | 7 \n",
            "2 | 5 | 8 \n",
            "Choice: 6\n",
            "cache hit:\n",
            "O | X | O \n",
            "1 | 4 | 7 \n",
            "2 | 5 | 8 \n",
            "Choice: 1\n",
            "cache hit:\n",
            "X | O | X \n",
            "O | 4 | 7 \n",
            "2 | 5 | 8 \n",
            "Choice: 5\n",
            "cache hit:\n",
            "O | X | O \n",
            "X | 4 | 7 \n",
            "2 | O | 8 \n",
            "Choice: 7\n",
            "cache hit:\n",
            "X | O | X \n",
            "O | 4 | O \n",
            "2 | X | 8 \n",
            "Choice: 8\n",
            "cache hit:\n",
            "O | X | O \n",
            "X | 4 | X \n",
            "2 | O | O \n",
            "Choice: 4\n",
            "cache hit:\n",
            "0 | 3 | 6 \n",
            "1 | 4 | 7 \n",
            "2 | 5 | 8 \n",
            "Choice: 0\n",
            "cache hit:\n",
            "O | 3 | 6 \n",
            "1 | 4 | 7 \n",
            "2 | 5 | 8 \n",
            "Choice: 3\n",
            "cache hit:\n",
            "X | O | 6 \n",
            "1 | 4 | 7 \n",
            "2 | 5 | 8 \n",
            "Choice: 6\n",
            "cache hit:\n",
            "O | X | O \n",
            "1 | 4 | 7 \n",
            "2 | 5 | 8 \n",
            "Choice: 1\n",
            "cache hit:\n",
            "X | O | X \n",
            "O | 4 | 7 \n",
            "2 | 5 | 8 \n",
            "Choice: 5\n",
            "cache hit:\n",
            "O | X | O \n",
            "X | 4 | 7 \n",
            "2 | O | 8 \n",
            "Choice: 7\n",
            "cache hit:\n",
            "X | O | X \n",
            "O | 4 | O \n",
            "2 | X | 8 \n",
            "Choice: 8\n",
            "cache hit:\n",
            "O | X | O \n",
            "X | 4 | X \n",
            "2 | O | O \n",
            "Choice: 4\n",
            "cache hit:\n",
            "0 | 3 | 6 \n",
            "1 | 4 | 7 \n",
            "2 | 5 | 8 \n",
            "Choice: 0\n",
            "cache hit:\n",
            "O | 3 | 6 \n",
            "1 | 4 | 7 \n",
            "2 | 5 | 8 \n",
            "Choice: 3\n",
            "cache hit:\n",
            "X | O | 6 \n",
            "1 | 4 | 7 \n",
            "2 | 5 | 8 \n",
            "Choice: 6\n",
            "cache hit:\n",
            "O | X | O \n",
            "1 | 4 | 7 \n",
            "2 | 5 | 8 \n",
            "Choice: 1\n",
            "cache hit:\n",
            "X | O | X \n",
            "O | 4 | 7 \n",
            "2 | 5 | 8 \n",
            "Choice: 5\n",
            "cache hit:\n",
            "O | X | O \n",
            "X | 4 | 7 \n",
            "2 | O | 8 \n",
            "Choice: 7\n",
            "cache hit:\n",
            "X | O | X \n",
            "O | 4 | O \n",
            "2 | X | 8 \n",
            "Choice: 8\n",
            "cache hit:\n",
            "O | X | O \n",
            "X | 4 | X \n",
            "2 | O | O \n",
            "Choice: 4\n",
            "cache hit:\n",
            "0 | 3 | 6 \n",
            "1 | 4 | 7 \n",
            "2 | 5 | 8 \n",
            "Choice: 0\n",
            "cache hit:\n",
            "O | 3 | 6 \n",
            "1 | 4 | 7 \n",
            "2 | 5 | 8 \n",
            "Choice: 3\n",
            "cache hit:\n",
            "X | O | 6 \n",
            "1 | 4 | 7 \n",
            "2 | 5 | 8 \n",
            "Choice: 6\n",
            "cache hit:\n",
            "O | X | O \n",
            "1 | 4 | 7 \n",
            "2 | 5 | 8 \n",
            "Choice: 1\n",
            "cache hit:\n",
            "X | O | X \n",
            "O | 4 | 7 \n",
            "2 | 5 | 8 \n",
            "Choice: 5\n",
            "cache hit:\n",
            "O | X | O \n",
            "X | 4 | 7 \n",
            "2 | O | 8 \n",
            "Choice: 7\n",
            "cache hit:\n",
            "X | O | X \n",
            "O | 4 | O \n",
            "2 | X | 8 \n",
            "Choice: 8\n",
            "cache hit:\n",
            "O | X | O \n",
            "X | 4 | X \n",
            "2 | O | O \n",
            "Choice: 4\n",
            "cache hit:\n",
            "0 | 3 | 6 \n",
            "1 | 4 | 7 \n",
            "2 | 5 | 8 \n",
            "Choice: 0\n",
            "cache hit:\n",
            "O | 3 | 6 \n",
            "1 | 4 | 7 \n",
            "2 | 5 | 8 \n",
            "Choice: 3\n",
            "cache hit:\n",
            "X | O | 6 \n",
            "1 | 4 | 7 \n",
            "2 | 5 | 8 \n",
            "Choice: 6\n",
            "cache hit:\n",
            "O | X | O \n",
            "1 | 4 | 7 \n",
            "2 | 5 | 8 \n",
            "Choice: 1\n",
            "cache hit:\n",
            "X | O | X \n",
            "O | 4 | 7 \n",
            "2 | 5 | 8 \n",
            "Choice: 5\n",
            "cache hit:\n",
            "O | X | O \n",
            "X | 4 | 7 \n",
            "2 | O | 8 \n",
            "Choice: 7\n",
            "cache hit:\n",
            "X | O | X \n",
            "O | 4 | O \n",
            "2 | X | 8 \n",
            "Choice: 8\n",
            "cache hit:\n",
            "O | X | O \n",
            "X | 4 | X \n",
            "2 | O | O \n",
            "Choice: 4\n",
            "cache hit:\n",
            "0 | 3 | 6 \n",
            "1 | 4 | 7 \n",
            "2 | 5 | 8 \n",
            "Choice: 0\n",
            "cache hit:\n",
            "O | 3 | 6 \n",
            "1 | 4 | 7 \n",
            "2 | 5 | 8 \n",
            "Choice: 3\n",
            "cache hit:\n",
            "X | O | 6 \n",
            "1 | 4 | 7 \n",
            "2 | 5 | 8 \n",
            "Choice: 6\n",
            "cache hit:\n",
            "O | X | O \n",
            "1 | 4 | 7 \n",
            "2 | 5 | 8 \n",
            "Choice: 1\n",
            "cache hit:\n",
            "X | O | X \n",
            "O | 4 | 7 \n",
            "2 | 5 | 8 \n",
            "Choice: 5\n",
            "cache hit:\n",
            "O | X | O \n",
            "X | 4 | 7 \n",
            "2 | O | 8 \n",
            "Choice: 7\n",
            "cache hit:\n",
            "X | O | X \n",
            "O | 4 | O \n",
            "2 | X | 8 \n",
            "Choice: 8\n",
            "cache hit:\n",
            "O | X | O \n",
            "X | 4 | X \n",
            "2 | O | O \n",
            "Choice: 4\n",
            "cache hit:\n",
            "0 | 3 | 6 \n",
            "1 | 4 | 7 \n",
            "2 | 5 | 8 \n",
            "Choice: 0\n",
            "cache hit:\n",
            "O | 3 | 6 \n",
            "1 | 4 | 7 \n",
            "2 | 5 | 8 \n",
            "Choice: 3\n",
            "cache hit:\n",
            "X | O | 6 \n",
            "1 | 4 | 7 \n",
            "2 | 5 | 8 \n",
            "Choice: 6\n",
            "cache hit:\n",
            "O | X | O \n",
            "1 | 4 | 7 \n",
            "2 | 5 | 8 \n",
            "Choice: 1\n",
            "cache hit:\n",
            "X | O | X \n",
            "O | 4 | 7 \n",
            "2 | 5 | 8 \n",
            "Choice: 5\n",
            "cache hit:\n",
            "O | X | O \n",
            "X | 4 | 7 \n",
            "2 | O | 8 \n",
            "Choice: 7\n",
            "cache hit:\n",
            "X | O | X \n",
            "O | 4 | O \n",
            "2 | X | 8 \n",
            "Choice: 8\n",
            "cache hit:\n",
            "O | X | O \n",
            "X | 4 | X \n",
            "2 | O | O \n",
            "Choice: 4\n",
            "cache hit:\n",
            "0 | 3 | 6 \n",
            "1 | 4 | 7 \n",
            "2 | 5 | 8 \n",
            "Choice: 0\n",
            "cache hit:\n",
            "O | 3 | 6 \n",
            "1 | 4 | 7 \n",
            "2 | 5 | 8 \n",
            "Choice: 3\n",
            "cache hit:\n",
            "X | O | 6 \n",
            "1 | 4 | 7 \n",
            "2 | 5 | 8 \n",
            "Choice: 6\n",
            "cache hit:\n",
            "O | X | O \n",
            "1 | 4 | 7 \n",
            "2 | 5 | 8 \n",
            "Choice: 1\n",
            "cache hit:\n",
            "X | O | X \n",
            "O | 4 | 7 \n",
            "2 | 5 | 8 \n",
            "Choice: 5\n",
            "cache hit:\n",
            "O | X | O \n",
            "X | 4 | 7 \n",
            "2 | O | 8 \n",
            "Choice: 7\n",
            "cache hit:\n",
            "X | O | X \n",
            "O | 4 | O \n",
            "2 | X | 8 \n",
            "Choice: 8\n",
            "cache hit:\n",
            "O | X | O \n",
            "X | 4 | X \n",
            "2 | O | O \n",
            "Choice: 4\n",
            "cache hit:\n",
            "0 | 3 | 6 \n",
            "1 | 4 | 7 \n",
            "2 | 5 | 8 \n",
            "Choice: 0\n",
            "cache hit:\n",
            "O | 3 | 6 \n",
            "1 | 4 | 7 \n",
            "2 | 5 | 8 \n",
            "Choice: 3\n",
            "cache hit:\n",
            "X | O | 6 \n",
            "1 | 4 | 7 \n",
            "2 | 5 | 8 \n",
            "Choice: 6\n",
            "cache hit:\n",
            "O | X | O \n",
            "1 | 4 | 7 \n",
            "2 | 5 | 8 \n",
            "Choice: 1\n",
            "cache hit:\n",
            "X | O | X \n",
            "O | 4 | 7 \n",
            "2 | 5 | 8 \n",
            "Choice: 5\n",
            "cache hit:\n",
            "O | X | O \n",
            "X | 4 | 7 \n",
            "2 | O | 8 \n",
            "Choice: 7\n",
            "cache hit:\n",
            "X | O | X \n",
            "O | 4 | O \n",
            "2 | X | 8 \n",
            "Choice: 8\n",
            "cache hit:\n",
            "O | X | O \n",
            "X | 4 | X \n",
            "2 | O | O \n",
            "Choice: 4\n",
            "cache hit:\n",
            "0 | 3 | 6 \n",
            "1 | 4 | 7 \n",
            "2 | 5 | 8 \n",
            "Choice: 0\n",
            "cache hit:\n",
            "O | 3 | 6 \n",
            "1 | 4 | 7 \n",
            "2 | 5 | 8 \n",
            "Choice: 3\n",
            "cache hit:\n",
            "X | O | 6 \n",
            "1 | 4 | 7 \n",
            "2 | 5 | 8 \n",
            "Choice: 6\n",
            "cache hit:\n",
            "O | X | O \n",
            "1 | 4 | 7 \n",
            "2 | 5 | 8 \n",
            "Choice: 1\n",
            "cache hit:\n",
            "X | O | X \n",
            "O | 4 | 7 \n",
            "2 | 5 | 8 \n",
            "Choice: 5\n",
            "cache hit:\n",
            "O | X | O \n",
            "X | 4 | 7 \n",
            "2 | O | 8 \n",
            "Choice: 7\n",
            "cache hit:\n",
            "X | O | X \n",
            "O | 4 | O \n",
            "2 | X | 8 \n",
            "Choice: 8\n",
            "cache hit:\n",
            "O | X | O \n",
            "X | 4 | X \n",
            "2 | O | O \n",
            "Choice: 4\n",
            "cache hit:\n",
            "0 | 3 | 6 \n",
            "1 | 4 | 7 \n",
            "2 | 5 | 8 \n",
            "Choice: 0\n",
            "cache hit:\n",
            "O | 3 | 6 \n",
            "1 | 4 | 7 \n",
            "2 | 5 | 8 \n",
            "Choice: 3\n",
            "cache hit:\n",
            "X | O | 6 \n",
            "1 | 4 | 7 \n",
            "2 | 5 | 8 \n",
            "Choice: 6\n",
            "cache hit:\n",
            "O | X | O \n",
            "1 | 4 | 7 \n",
            "2 | 5 | 8 \n",
            "Choice: 1\n",
            "cache hit:\n",
            "X | O | X \n",
            "O | 4 | 7 \n",
            "2 | 5 | 8 \n",
            "Choice: 5\n",
            "cache hit:\n",
            "O | X | O \n",
            "X | 4 | 7 \n",
            "2 | O | 8 \n",
            "Choice: 7\n",
            "cache hit:\n",
            "X | O | X \n",
            "O | 4 | O \n",
            "2 | X | 8 \n",
            "Choice: 8\n",
            "cache hit:\n",
            "O | X | O \n",
            "X | 4 | X \n",
            "2 | O | O \n",
            "Choice: 4\n",
            "cache hit:\n",
            "0 | 3 | 6 \n",
            "1 | 4 | 7 \n",
            "2 | 5 | 8 \n",
            "Choice: 0\n",
            "cache hit:\n",
            "O | 3 | 6 \n",
            "1 | 4 | 7 \n",
            "2 | 5 | 8 \n",
            "Choice: 3\n",
            "cache hit:\n",
            "X | O | 6 \n",
            "1 | 4 | 7 \n",
            "2 | 5 | 8 \n",
            "Choice: 6\n",
            "cache hit:\n",
            "O | X | O \n",
            "1 | 4 | 7 \n",
            "2 | 5 | 8 \n",
            "Choice: 1\n",
            "cache hit:\n",
            "X | O | X \n",
            "O | 4 | 7 \n",
            "2 | 5 | 8 \n",
            "Choice: 5\n",
            "cache hit:\n",
            "O | X | O \n",
            "X | 4 | 7 \n",
            "2 | O | 8 \n",
            "Choice: 7\n",
            "cache hit:\n",
            "X | O | X \n",
            "O | 4 | O \n",
            "2 | X | 8 \n",
            "Choice: 8\n",
            "cache hit:\n",
            "O | X | O \n",
            "X | 4 | X \n",
            "2 | O | O \n",
            "Choice: 4\n",
            "cache hit:\n",
            "0 | 3 | 6 \n",
            "1 | 4 | 7 \n",
            "2 | 5 | 8 \n",
            "Choice: 0\n",
            "cache hit:\n",
            "O | 3 | 6 \n",
            "1 | 4 | 7 \n",
            "2 | 5 | 8 \n",
            "Choice: 3\n",
            "cache hit:\n",
            "X | O | 6 \n",
            "1 | 4 | 7 \n",
            "2 | 5 | 8 \n",
            "Choice: 6\n",
            "cache hit:\n",
            "O | X | O \n",
            "1 | 4 | 7 \n",
            "2 | 5 | 8 \n",
            "Choice: 1\n",
            "cache hit:\n",
            "X | O | X \n",
            "O | 4 | 7 \n",
            "2 | 5 | 8 \n",
            "Choice: 5\n",
            "cache hit:\n",
            "O | X | O \n",
            "X | 4 | 7 \n",
            "2 | O | 8 \n",
            "Choice: 7\n",
            "cache hit:\n",
            "X | O | X \n",
            "O | 4 | O \n",
            "2 | X | 8 \n",
            "Choice: 8\n",
            "cache hit:\n",
            "O | X | O \n",
            "X | 4 | X \n",
            "2 | O | O \n",
            "Choice: 4\n",
            "cache hit:\n",
            "0 | 3 | 6 \n",
            "1 | 4 | 7 \n",
            "2 | 5 | 8 \n",
            "Choice: 0\n",
            "cache hit:\n",
            "O | 3 | 6 \n",
            "1 | 4 | 7 \n",
            "2 | 5 | 8 \n",
            "Choice: 3\n",
            "cache hit:\n",
            "X | O | 6 \n",
            "1 | 4 | 7 \n",
            "2 | 5 | 8 \n",
            "Choice: 6\n",
            "cache hit:\n",
            "O | X | O \n",
            "1 | 4 | 7 \n",
            "2 | 5 | 8 \n",
            "Choice: 1\n",
            "cache hit:\n",
            "X | O | X \n",
            "O | 4 | 7 \n",
            "2 | 5 | 8 \n",
            "Choice: 5\n",
            "cache hit:\n",
            "O | X | O \n",
            "X | 4 | 7 \n",
            "2 | O | 8 \n",
            "Choice: 7\n",
            "cache hit:\n",
            "X | O | X \n",
            "O | 4 | O \n",
            "2 | X | 8 \n",
            "Choice: 8\n",
            "cache hit:\n",
            "O | X | O \n",
            "X | 4 | X \n",
            "2 | O | O \n",
            "Choice: 4\n",
            "cache hit:\n",
            "0 | 3 | 6 \n",
            "1 | 4 | 7 \n",
            "2 | 5 | 8 \n",
            "Choice: 0\n",
            "cache hit:\n",
            "O | 3 | 6 \n",
            "1 | 4 | 7 \n",
            "2 | 5 | 8 \n",
            "Choice: 3\n",
            "cache hit:\n",
            "X | O | 6 \n",
            "1 | 4 | 7 \n",
            "2 | 5 | 8 \n",
            "Choice: 6\n",
            "cache hit:\n",
            "O | X | O \n",
            "1 | 4 | 7 \n",
            "2 | 5 | 8 \n",
            "Choice: 1\n",
            "cache hit:\n",
            "X | O | X \n",
            "O | 4 | 7 \n",
            "2 | 5 | 8 \n",
            "Choice: 5\n",
            "cache hit:\n",
            "O | X | O \n",
            "X | 4 | 7 \n",
            "2 | O | 8 \n",
            "Choice: 7\n",
            "cache hit:\n",
            "X | O | X \n",
            "O | 4 | O \n",
            "2 | X | 8 \n",
            "Choice: 8\n",
            "cache hit:\n",
            "O | X | O \n",
            "X | 4 | X \n",
            "2 | O | O \n",
            "Choice: 4\n",
            "cache hit:\n",
            "0 | 3 | 6 \n",
            "1 | 4 | 7 \n",
            "2 | 5 | 8 \n",
            "Choice: 0\n",
            "cache hit:\n",
            "O | 3 | 6 \n",
            "1 | 4 | 7 \n",
            "2 | 5 | 8 \n",
            "Choice: 3\n",
            "cache hit:\n",
            "X | O | 6 \n",
            "1 | 4 | 7 \n",
            "2 | 5 | 8 \n",
            "Choice: 6\n",
            "cache hit:\n",
            "O | X | O \n",
            "1 | 4 | 7 \n",
            "2 | 5 | 8 \n",
            "Choice: 1\n",
            "cache hit:\n",
            "X | O | X \n",
            "O | 4 | 7 \n",
            "2 | 5 | 8 \n",
            "Choice: 5\n",
            "cache hit:\n",
            "O | X | O \n",
            "X | 4 | 7 \n",
            "2 | O | 8 \n",
            "Choice: 7\n",
            "cache hit:\n",
            "X | O | X \n",
            "O | 4 | O \n",
            "2 | X | 8 \n",
            "Choice: 8\n",
            "cache hit:\n",
            "O | X | O \n",
            "X | 4 | X \n",
            "2 | O | O \n",
            "Choice: 4\n",
            "cache hit:\n",
            "0 | 3 | 6 \n",
            "1 | 4 | 7 \n",
            "2 | 5 | 8 \n",
            "Choice: 0\n",
            "cache hit:\n",
            "O | 3 | 6 \n",
            "1 | 4 | 7 \n",
            "2 | 5 | 8 \n",
            "Choice: 3\n",
            "cache hit:\n",
            "X | O | 6 \n",
            "1 | 4 | 7 \n",
            "2 | 5 | 8 \n",
            "Choice: 6\n",
            "cache hit:\n",
            "O | X | O \n",
            "1 | 4 | 7 \n",
            "2 | 5 | 8 \n",
            "Choice: 1\n",
            "cache hit:\n",
            "X | O | X \n",
            "O | 4 | 7 \n",
            "2 | 5 | 8 \n",
            "Choice: 5\n",
            "cache hit:\n",
            "O | X | O \n",
            "X | 4 | 7 \n",
            "2 | O | 8 \n",
            "Choice: 7\n",
            "cache hit:\n",
            "X | O | X \n",
            "O | 4 | O \n",
            "2 | X | 8 \n",
            "Choice: 8\n",
            "cache hit:\n",
            "O | X | O \n",
            "X | 4 | X \n",
            "2 | O | O \n",
            "Choice: 4\n",
            "cache hit:\n",
            "0 | 3 | 6 \n",
            "1 | 4 | 7 \n",
            "2 | 5 | 8 \n",
            "Choice: 0\n",
            "cache hit:\n",
            "O | 3 | 6 \n",
            "1 | 4 | 7 \n",
            "2 | 5 | 8 \n",
            "Choice: 3\n",
            "cache hit:\n",
            "X | O | 6 \n",
            "1 | 4 | 7 \n",
            "2 | 5 | 8 \n",
            "Choice: 6\n",
            "cache hit:\n",
            "O | X | O \n",
            "1 | 4 | 7 \n",
            "2 | 5 | 8 \n",
            "Choice: 1\n",
            "cache hit:\n",
            "X | O | X \n",
            "O | 4 | 7 \n",
            "2 | 5 | 8 \n",
            "Choice: 5\n",
            "cache hit:\n",
            "O | X | O \n",
            "X | 4 | 7 \n",
            "2 | O | 8 \n",
            "Choice: 7\n",
            "cache hit:\n",
            "X | O | X \n",
            "O | 4 | O \n",
            "2 | X | 8 \n",
            "Choice: 8\n",
            "cache hit:\n",
            "O | X | O \n",
            "X | 4 | X \n",
            "2 | O | O \n",
            "Choice: 4\n",
            "cache hit:\n",
            "0 | 3 | 6 \n",
            "1 | 4 | 7 \n",
            "2 | 5 | 8 \n",
            "Choice: 0\n",
            "cache hit:\n",
            "O | 3 | 6 \n",
            "1 | 4 | 7 \n",
            "2 | 5 | 8 \n",
            "Choice: 3\n",
            "cache hit:\n",
            "X | O | 6 \n",
            "1 | 4 | 7 \n",
            "2 | 5 | 8 \n",
            "Choice: 6\n",
            "cache hit:\n",
            "O | X | O \n",
            "1 | 4 | 7 \n",
            "2 | 5 | 8 \n",
            "Choice: 1\n",
            "cache hit:\n",
            "X | O | X \n",
            "O | 4 | 7 \n",
            "2 | 5 | 8 \n",
            "Choice: 5\n",
            "cache hit:\n",
            "O | X | O \n",
            "X | 4 | 7 \n",
            "2 | O | 8 \n",
            "Choice: 7\n",
            "cache hit:\n",
            "X | O | X \n",
            "O | 4 | O \n",
            "2 | X | 8 \n",
            "Choice: 8\n",
            "cache hit:\n",
            "O | X | O \n",
            "X | 4 | X \n",
            "2 | O | O \n",
            "Choice: 4\n",
            "cache hit:\n",
            "0 | 3 | 6 \n",
            "1 | 4 | 7 \n",
            "2 | 5 | 8 \n",
            "Choice: 0\n",
            "cache hit:\n",
            "O | 3 | 6 \n",
            "1 | 4 | 7 \n",
            "2 | 5 | 8 \n",
            "Choice: 3\n",
            "cache hit:\n",
            "X | O | 6 \n",
            "1 | 4 | 7 \n",
            "2 | 5 | 8 \n",
            "Choice: 6\n",
            "cache hit:\n",
            "O | X | O \n",
            "1 | 4 | 7 \n",
            "2 | 5 | 8 \n",
            "Choice: 1\n",
            "cache hit:\n",
            "X | O | X \n",
            "O | 4 | 7 \n",
            "2 | 5 | 8 \n",
            "Choice: 5\n",
            "cache hit:\n",
            "O | X | O \n",
            "X | 4 | 7 \n",
            "2 | O | 8 \n",
            "Choice: 7\n",
            "cache hit:\n",
            "X | O | X \n",
            "O | 4 | O \n",
            "2 | X | 8 \n",
            "Choice: 8\n",
            "cache hit:\n",
            "O | X | O \n",
            "X | 4 | X \n",
            "2 | O | O \n",
            "Choice: 4\n",
            "cache hit:\n",
            "0 | 3 | 6 \n",
            "1 | 4 | 7 \n",
            "2 | 5 | 8 \n",
            "Choice: 0\n",
            "cache hit:\n",
            "O | 3 | 6 \n",
            "1 | 4 | 7 \n",
            "2 | 5 | 8 \n",
            "Choice: 3\n",
            "cache hit:\n",
            "X | O | 6 \n",
            "1 | 4 | 7 \n",
            "2 | 5 | 8 \n",
            "Choice: 6\n",
            "cache hit:\n",
            "O | X | O \n",
            "1 | 4 | 7 \n",
            "2 | 5 | 8 \n",
            "Choice: 1\n",
            "cache hit:\n",
            "X | O | X \n",
            "O | 4 | 7 \n",
            "2 | 5 | 8 \n",
            "Choice: 5\n",
            "cache hit:\n",
            "O | X | O \n",
            "X | 4 | 7 \n",
            "2 | O | 8 \n",
            "Choice: 7\n",
            "cache hit:\n",
            "X | O | X \n",
            "O | 4 | O \n",
            "2 | X | 8 \n",
            "Choice: 8\n",
            "cache hit:\n",
            "O | X | O \n",
            "X | 4 | X \n",
            "2 | O | O \n",
            "Choice: 4\n",
            "cache hit:\n",
            "0 | 3 | 6 \n",
            "1 | 4 | 7 \n",
            "2 | 5 | 8 \n",
            "Choice: 0\n",
            "cache hit:\n",
            "O | 3 | 6 \n",
            "1 | 4 | 7 \n",
            "2 | 5 | 8 \n",
            "Choice: 3\n",
            "cache hit:\n",
            "X | O | 6 \n",
            "1 | 4 | 7 \n",
            "2 | 5 | 8 \n",
            "Choice: 6\n",
            "cache hit:\n",
            "O | X | O \n",
            "1 | 4 | 7 \n",
            "2 | 5 | 8 \n",
            "Choice: 1\n",
            "cache hit:\n",
            "X | O | X \n",
            "O | 4 | 7 \n",
            "2 | 5 | 8 \n",
            "Choice: 5\n",
            "cache hit:\n",
            "O | X | O \n",
            "X | 4 | 7 \n",
            "2 | O | 8 \n",
            "Choice: 7\n",
            "cache hit:\n",
            "X | O | X \n",
            "O | 4 | O \n",
            "2 | X | 8 \n",
            "Choice: 8\n",
            "cache hit:\n",
            "O | X | O \n",
            "X | 4 | X \n",
            "2 | O | O \n",
            "Choice: 4\n",
            "cache hit:\n",
            "0 | 3 | 6 \n",
            "1 | 4 | 7 \n",
            "2 | 5 | 8 \n",
            "Choice: 0\n",
            "cache hit:\n",
            "O | 3 | 6 \n",
            "1 | 4 | 7 \n",
            "2 | 5 | 8 \n",
            "Choice: 3\n",
            "cache hit:\n",
            "X | O | 6 \n",
            "1 | 4 | 7 \n",
            "2 | 5 | 8 \n",
            "Choice: 6\n",
            "cache hit:\n",
            "O | X | O \n",
            "1 | 4 | 7 \n",
            "2 | 5 | 8 \n",
            "Choice: 1\n",
            "cache hit:\n",
            "X | O | X \n",
            "O | 4 | 7 \n",
            "2 | 5 | 8 \n",
            "Choice: 5\n",
            "cache hit:\n",
            "O | X | O \n",
            "X | 4 | 7 \n",
            "2 | O | 8 \n",
            "Choice: 7\n",
            "cache hit:\n",
            "X | O | X \n",
            "O | 4 | O \n",
            "2 | X | 8 \n",
            "Choice: 8\n",
            "cache hit:\n",
            "O | X | O \n",
            "X | 4 | X \n",
            "2 | O | O \n",
            "Choice: 4\n",
            "cache hit:\n",
            "0 | 3 | 6 \n",
            "1 | 4 | 7 \n",
            "2 | 5 | 8 \n",
            "Choice: 0\n",
            "cache hit:\n",
            "O | 3 | 6 \n",
            "1 | 4 | 7 \n",
            "2 | 5 | 8 \n",
            "Choice: 3\n",
            "cache hit:\n",
            "X | O | 6 \n",
            "1 | 4 | 7 \n",
            "2 | 5 | 8 \n",
            "Choice: 6\n",
            "cache hit:\n",
            "O | X | O \n",
            "1 | 4 | 7 \n",
            "2 | 5 | 8 \n",
            "Choice: 1\n",
            "cache hit:\n",
            "X | O | X \n",
            "O | 4 | 7 \n",
            "2 | 5 | 8 \n",
            "Choice: 5\n",
            "cache hit:\n",
            "O | X | O \n",
            "X | 4 | 7 \n",
            "2 | O | 8 \n",
            "Choice: 7\n",
            "cache hit:\n",
            "X | O | X \n",
            "O | 4 | O \n",
            "2 | X | 8 \n",
            "Choice: 8\n",
            "cache hit:\n",
            "O | X | O \n",
            "X | 4 | X \n",
            "2 | O | O \n",
            "Choice: 4\n",
            "cache hit:\n",
            "0 | 3 | 6 \n",
            "1 | 4 | 7 \n",
            "2 | 5 | 8 \n",
            "Choice: 0\n",
            "cache hit:\n",
            "O | 3 | 6 \n",
            "1 | 4 | 7 \n",
            "2 | 5 | 8 \n",
            "Choice: 3\n",
            "cache hit:\n",
            "X | O | 6 \n",
            "1 | 4 | 7 \n",
            "2 | 5 | 8 \n",
            "Choice: 6\n",
            "cache hit:\n",
            "O | X | O \n",
            "1 | 4 | 7 \n",
            "2 | 5 | 8 \n",
            "Choice: 1\n",
            "cache hit:\n",
            "X | O | X \n",
            "O | 4 | 7 \n",
            "2 | 5 | 8 \n",
            "Choice: 5\n",
            "cache hit:\n",
            "O | X | O \n",
            "X | 4 | 7 \n",
            "2 | O | 8 \n",
            "Choice: 7\n",
            "cache hit:\n",
            "X | O | X \n",
            "O | 4 | O \n",
            "2 | X | 8 \n",
            "Choice: 8\n",
            "cache hit:\n",
            "O | X | O \n",
            "X | 4 | X \n",
            "2 | O | O \n",
            "Choice: 4\n",
            "cache hit:\n",
            "0 | 3 | 6 \n",
            "1 | 4 | 7 \n",
            "2 | 5 | 8 \n",
            "Choice: 0\n",
            "cache hit:\n",
            "O | 3 | 6 \n",
            "1 | 4 | 7 \n",
            "2 | 5 | 8 \n",
            "Choice: 3\n",
            "cache hit:\n",
            "X | O | 6 \n",
            "1 | 4 | 7 \n",
            "2 | 5 | 8 \n",
            "Choice: 6\n",
            "cache hit:\n",
            "O | X | O \n",
            "1 | 4 | 7 \n",
            "2 | 5 | 8 \n",
            "Choice: 1\n",
            "cache hit:\n",
            "X | O | X \n",
            "O | 4 | 7 \n",
            "2 | 5 | 8 \n",
            "Choice: 5\n",
            "cache hit:\n",
            "O | X | O \n",
            "X | 4 | 7 \n",
            "2 | O | 8 \n",
            "Choice: 7\n",
            "cache hit:\n",
            "X | O | X \n",
            "O | 4 | O \n",
            "2 | X | 8 \n",
            "Choice: 8\n",
            "cache hit:\n",
            "O | X | O \n",
            "X | 4 | X \n",
            "2 | O | O \n",
            "Choice: 4\n",
            "cache hit:\n",
            "0 | 3 | 6 \n",
            "1 | 4 | 7 \n",
            "2 | 5 | 8 \n",
            "Choice: 0\n",
            "cache hit:\n",
            "O | 3 | 6 \n",
            "1 | 4 | 7 \n",
            "2 | 5 | 8 \n",
            "Choice: 3\n",
            "cache hit:\n",
            "X | O | 6 \n",
            "1 | 4 | 7 \n",
            "2 | 5 | 8 \n",
            "Choice: 6\n",
            "cache hit:\n",
            "O | X | O \n",
            "1 | 4 | 7 \n",
            "2 | 5 | 8 \n",
            "Choice: 1\n",
            "cache hit:\n",
            "X | O | X \n",
            "O | 4 | 7 \n",
            "2 | 5 | 8 \n",
            "Choice: 5\n",
            "cache hit:\n",
            "O | X | O \n",
            "X | 4 | 7 \n",
            "2 | O | 8 \n",
            "Choice: 7\n",
            "cache hit:\n",
            "X | O | X \n",
            "O | 4 | O \n",
            "2 | X | 8 \n",
            "Choice: 8\n",
            "cache hit:\n",
            "O | X | O \n",
            "X | 4 | X \n",
            "2 | O | O \n",
            "Choice: 4\n",
            "cache hit:\n",
            "0 | 3 | 6 \n",
            "1 | 4 | 7 \n",
            "2 | 5 | 8 \n",
            "Choice: 0\n",
            "cache hit:\n",
            "O | 3 | 6 \n",
            "1 | 4 | 7 \n",
            "2 | 5 | 8 \n",
            "Choice: 3\n",
            "cache hit:\n",
            "X | O | 6 \n",
            "1 | 4 | 7 \n",
            "2 | 5 | 8 \n",
            "Choice: 6\n",
            "cache hit:\n",
            "O | X | O \n",
            "1 | 4 | 7 \n",
            "2 | 5 | 8 \n",
            "Choice: 1\n",
            "cache hit:\n",
            "X | O | X \n",
            "O | 4 | 7 \n",
            "2 | 5 | 8 \n",
            "Choice: 5\n",
            "cache hit:\n",
            "O | X | O \n",
            "X | 4 | 7 \n",
            "2 | O | 8 \n",
            "Choice: 7\n",
            "cache hit:\n",
            "X | O | X \n",
            "O | 4 | O \n",
            "2 | X | 8 \n",
            "Choice: 8\n",
            "cache hit:\n",
            "O | X | O \n",
            "X | 4 | X \n",
            "2 | O | O \n",
            "Choice: 4\n",
            "cache hit:\n",
            "0 | 3 | 6 \n",
            "1 | 4 | 7 \n",
            "2 | 5 | 8 \n",
            "Choice: 0\n",
            "cache hit:\n",
            "O | 3 | 6 \n",
            "1 | 4 | 7 \n",
            "2 | 5 | 8 \n",
            "Choice: 3\n",
            "cache hit:\n",
            "X | O | 6 \n",
            "1 | 4 | 7 \n",
            "2 | 5 | 8 \n",
            "Choice: 6\n",
            "cache hit:\n",
            "O | X | O \n",
            "1 | 4 | 7 \n",
            "2 | 5 | 8 \n",
            "Choice: 1\n",
            "cache hit:\n",
            "X | O | X \n",
            "O | 4 | 7 \n",
            "2 | 5 | 8 \n",
            "Choice: 5\n",
            "cache hit:\n",
            "O | X | O \n",
            "X | 4 | 7 \n",
            "2 | O | 8 \n",
            "Choice: 7\n",
            "cache hit:\n",
            "X | O | X \n",
            "O | 4 | O \n",
            "2 | X | 8 \n",
            "Choice: 8\n",
            "cache hit:\n",
            "O | X | O \n",
            "X | 4 | X \n",
            "2 | O | O \n",
            "Choice: 4\n",
            "cache hit:\n",
            "0 | 3 | 6 \n",
            "1 | 4 | 7 \n",
            "2 | 5 | 8 \n",
            "Choice: 0\n",
            "cache hit:\n",
            "O | 3 | 6 \n",
            "1 | 4 | 7 \n",
            "2 | 5 | 8 \n",
            "Choice: 3\n",
            "cache hit:\n",
            "X | O | 6 \n",
            "1 | 4 | 7 \n",
            "2 | 5 | 8 \n",
            "Choice: 6\n",
            "cache hit:\n",
            "O | X | O \n",
            "1 | 4 | 7 \n",
            "2 | 5 | 8 \n",
            "Choice: 1\n",
            "cache hit:\n",
            "X | O | X \n",
            "O | 4 | 7 \n",
            "2 | 5 | 8 \n",
            "Choice: 5\n",
            "cache hit:\n",
            "O | X | O \n",
            "X | 4 | 7 \n",
            "2 | O | 8 \n",
            "Choice: 7\n",
            "cache hit:\n",
            "X | O | X \n",
            "O | 4 | O \n",
            "2 | X | 8 \n",
            "Choice: 8\n",
            "cache hit:\n",
            "O | X | O \n",
            "X | 4 | X \n",
            "2 | O | O \n",
            "Choice: 4\n",
            "cache hit:\n",
            "0 | 3 | 6 \n",
            "1 | 4 | 7 \n",
            "2 | 5 | 8 \n",
            "Choice: 0\n",
            "cache hit:\n",
            "O | 3 | 6 \n",
            "1 | 4 | 7 \n",
            "2 | 5 | 8 \n",
            "Choice: 3\n",
            "cache hit:\n",
            "X | O | 6 \n",
            "1 | 4 | 7 \n",
            "2 | 5 | 8 \n",
            "Choice: 6\n",
            "cache hit:\n",
            "O | X | O \n",
            "1 | 4 | 7 \n",
            "2 | 5 | 8 \n",
            "Choice: 1\n",
            "cache hit:\n",
            "X | O | X \n",
            "O | 4 | 7 \n",
            "2 | 5 | 8 \n",
            "Choice: 5\n",
            "cache hit:\n",
            "O | X | O \n",
            "X | 4 | 7 \n",
            "2 | O | 8 \n",
            "Choice: 7\n",
            "cache hit:\n",
            "X | O | X \n",
            "O | 4 | O \n",
            "2 | X | 8 \n",
            "Choice: 8\n",
            "cache hit:\n",
            "O | X | O \n",
            "X | 4 | X \n",
            "2 | O | O \n",
            "Choice: 4\n",
            "cache hit:\n",
            "0 | 3 | 6 \n",
            "1 | 4 | 7 \n",
            "2 | 5 | 8 \n",
            "Choice: 0\n",
            "cache hit:\n",
            "O | 3 | 6 \n",
            "1 | 4 | 7 \n",
            "2 | 5 | 8 \n",
            "Choice: 3\n",
            "cache hit:\n",
            "X | O | 6 \n",
            "1 | 4 | 7 \n",
            "2 | 5 | 8 \n",
            "Choice: 6\n",
            "cache hit:\n",
            "O | X | O \n",
            "1 | 4 | 7 \n",
            "2 | 5 | 8 \n",
            "Choice: 1\n",
            "cache hit:\n",
            "X | O | X \n",
            "O | 4 | 7 \n",
            "2 | 5 | 8 \n",
            "Choice: 5\n",
            "cache hit:\n",
            "O | X | O \n",
            "X | 4 | 7 \n",
            "2 | O | 8 \n",
            "Choice: 7\n",
            "cache hit:\n",
            "X | O | X \n",
            "O | 4 | O \n",
            "2 | X | 8 \n",
            "Choice: 8\n",
            "cache hit:\n",
            "O | X | O \n",
            "X | 4 | X \n",
            "2 | O | O \n",
            "Choice: 4\n",
            "cache hit:\n",
            "0 | 3 | 6 \n",
            "1 | 4 | 7 \n",
            "2 | 5 | 8 \n",
            "Choice: 0\n",
            "cache hit:\n",
            "O | 3 | 6 \n",
            "1 | 4 | 7 \n",
            "2 | 5 | 8 \n",
            "Choice: 3\n",
            "cache hit:\n",
            "X | O | 6 \n",
            "1 | 4 | 7 \n",
            "2 | 5 | 8 \n",
            "Choice: 6\n",
            "cache hit:\n",
            "O | X | O \n",
            "1 | 4 | 7 \n",
            "2 | 5 | 8 \n",
            "Choice: 1\n",
            "cache hit:\n",
            "X | O | X \n",
            "O | 4 | 7 \n",
            "2 | 5 | 8 \n",
            "Choice: 5\n",
            "cache hit:\n",
            "O | X | O \n",
            "X | 4 | 7 \n",
            "2 | O | 8 \n",
            "Choice: 7\n",
            "cache hit:\n",
            "X | O | X \n",
            "O | 4 | O \n",
            "2 | X | 8 \n",
            "Choice: 8\n",
            "cache hit:\n",
            "O | X | O \n",
            "X | 4 | X \n",
            "2 | O | O \n",
            "Choice: 4\n",
            "cache hit:\n",
            "0 | 3 | 6 \n",
            "1 | 4 | 7 \n",
            "2 | 5 | 8 \n",
            "Choice: 0\n",
            "cache hit:\n",
            "O | 3 | 6 \n",
            "1 | 4 | 7 \n",
            "2 | 5 | 8 \n",
            "Choice: 3\n",
            "cache hit:\n",
            "X | O | 6 \n",
            "1 | 4 | 7 \n",
            "2 | 5 | 8 \n",
            "Choice: 6\n",
            "cache hit:\n",
            "O | X | O \n",
            "1 | 4 | 7 \n",
            "2 | 5 | 8 \n",
            "Choice: 1\n",
            "cache hit:\n",
            "X | O | X \n",
            "O | 4 | 7 \n",
            "2 | 5 | 8 \n",
            "Choice: 5\n",
            "cache hit:\n",
            "O | X | O \n",
            "X | 4 | 7 \n",
            "2 | O | 8 \n",
            "Choice: 7\n",
            "cache hit:\n",
            "X | O | X \n",
            "O | 4 | O \n",
            "2 | X | 8 \n",
            "Choice: 8\n",
            "cache hit:\n",
            "O | X | O \n",
            "X | 4 | X \n",
            "2 | O | O \n",
            "Choice: 4\n",
            "cache hit:\n",
            "0 | 3 | 6 \n",
            "1 | 4 | 7 \n",
            "2 | 5 | 8 \n",
            "Choice: 0\n",
            "cache hit:\n",
            "O | 3 | 6 \n",
            "1 | 4 | 7 \n",
            "2 | 5 | 8 \n",
            "Choice: 3\n",
            "cache hit:\n",
            "X | O | 6 \n",
            "1 | 4 | 7 \n",
            "2 | 5 | 8 \n",
            "Choice: 6\n",
            "cache hit:\n",
            "O | X | O \n",
            "1 | 4 | 7 \n",
            "2 | 5 | 8 \n",
            "Choice: 1\n",
            "cache hit:\n",
            "X | O | X \n",
            "O | 4 | 7 \n",
            "2 | 5 | 8 \n",
            "Choice: 5\n",
            "cache hit:\n",
            "O | X | O \n",
            "X | 4 | 7 \n",
            "2 | O | 8 \n",
            "Choice: 7\n",
            "cache hit:\n",
            "X | O | X \n",
            "O | 4 | O \n",
            "2 | X | 8 \n",
            "Choice: 8\n",
            "cache hit:\n",
            "O | X | O \n",
            "X | 4 | X \n",
            "2 | O | O \n",
            "Choice: 4\n",
            "cache hit:\n",
            "0 | 3 | 6 \n",
            "1 | 4 | 7 \n",
            "2 | 5 | 8 \n",
            "Choice: 0\n",
            "cache hit:\n",
            "O | 3 | 6 \n",
            "1 | 4 | 7 \n",
            "2 | 5 | 8 \n",
            "Choice: 3\n",
            "cache hit:\n",
            "X | O | 6 \n",
            "1 | 4 | 7 \n",
            "2 | 5 | 8 \n",
            "Choice: 6\n",
            "cache hit:\n",
            "O | X | O \n",
            "1 | 4 | 7 \n",
            "2 | 5 | 8 \n",
            "Choice: 1\n",
            "cache hit:\n",
            "X | O | X \n",
            "O | 4 | 7 \n",
            "2 | 5 | 8 \n",
            "Choice: 5\n",
            "cache hit:\n",
            "O | X | O \n",
            "X | 4 | 7 \n",
            "2 | O | 8 \n",
            "Choice: 7\n",
            "cache hit:\n",
            "X | O | X \n",
            "O | 4 | O \n",
            "2 | X | 8 \n",
            "Choice: 8\n",
            "cache hit:\n",
            "O | X | O \n",
            "X | 4 | X \n",
            "2 | O | O \n",
            "Choice: 4\n",
            "cache hit:\n",
            "0 | 3 | 6 \n",
            "1 | 4 | 7 \n",
            "2 | 5 | 8 \n",
            "Choice: 0\n",
            "cache hit:\n",
            "O | 3 | 6 \n",
            "1 | 4 | 7 \n",
            "2 | 5 | 8 \n",
            "Choice: 3\n",
            "cache hit:\n",
            "X | O | 6 \n",
            "1 | 4 | 7 \n",
            "2 | 5 | 8 \n",
            "Choice: 6\n",
            "cache hit:\n",
            "O | X | O \n",
            "1 | 4 | 7 \n",
            "2 | 5 | 8 \n",
            "Choice: 1\n",
            "cache hit:\n",
            "X | O | X \n",
            "O | 4 | 7 \n",
            "2 | 5 | 8 \n",
            "Choice: 5\n",
            "cache hit:\n",
            "O | X | O \n",
            "X | 4 | 7 \n",
            "2 | O | 8 \n",
            "Choice: 7\n",
            "cache hit:\n",
            "X | O | X \n",
            "O | 4 | O \n",
            "2 | X | 8 \n",
            "Choice: 8\n",
            "cache hit:\n",
            "O | X | O \n",
            "X | 4 | X \n",
            "2 | O | O \n",
            "Choice: 4\n",
            "cache hit:\n",
            "0 | 3 | 6 \n",
            "1 | 4 | 7 \n",
            "2 | 5 | 8 \n",
            "Choice: 0\n",
            "cache hit:\n",
            "O | 3 | 6 \n",
            "1 | 4 | 7 \n",
            "2 | 5 | 8 \n",
            "Choice: 3\n",
            "cache hit:\n",
            "X | O | 6 \n",
            "1 | 4 | 7 \n",
            "2 | 5 | 8 \n",
            "Choice: 6\n",
            "cache hit:\n",
            "O | X | O \n",
            "1 | 4 | 7 \n",
            "2 | 5 | 8 \n",
            "Choice: 1\n",
            "cache hit:\n",
            "X | O | X \n",
            "O | 4 | 7 \n",
            "2 | 5 | 8 \n",
            "Choice: 5\n",
            "cache hit:\n",
            "O | X | O \n",
            "X | 4 | 7 \n",
            "2 | O | 8 \n",
            "Choice: 7\n",
            "cache hit:\n",
            "X | O | X \n",
            "O | 4 | O \n",
            "2 | X | 8 \n",
            "Choice: 8\n",
            "cache hit:\n",
            "O | X | O \n",
            "X | 4 | X \n",
            "2 | O | O \n",
            "Choice: 4\n",
            "cache hit:\n",
            "0 | 3 | 6 \n",
            "1 | 4 | 7 \n",
            "2 | 5 | 8 \n",
            "Choice: 0\n",
            "cache hit:\n",
            "O | 3 | 6 \n",
            "1 | 4 | 7 \n",
            "2 | 5 | 8 \n",
            "Choice: 3\n",
            "cache hit:\n",
            "X | O | 6 \n",
            "1 | 4 | 7 \n",
            "2 | 5 | 8 \n",
            "Choice: 6\n",
            "cache hit:\n",
            "O | X | O \n",
            "1 | 4 | 7 \n",
            "2 | 5 | 8 \n",
            "Choice: 1\n",
            "cache hit:\n",
            "X | O | X \n",
            "O | 4 | 7 \n",
            "2 | 5 | 8 \n",
            "Choice: 5\n",
            "cache hit:\n",
            "O | X | O \n",
            "X | 4 | 7 \n",
            "2 | O | 8 \n",
            "Choice: 7\n",
            "cache hit:\n",
            "X | O | X \n",
            "O | 4 | O \n",
            "2 | X | 8 \n",
            "Choice: 8\n",
            "cache hit:\n",
            "O | X | O \n",
            "X | 4 | X \n",
            "2 | O | O \n",
            "Choice: 4\n",
            "cache hit:\n",
            "0 | 3 | 6 \n",
            "1 | 4 | 7 \n",
            "2 | 5 | 8 \n",
            "Choice: 0\n",
            "cache hit:\n",
            "O | 3 | 6 \n",
            "1 | 4 | 7 \n",
            "2 | 5 | 8 \n",
            "Choice: 3\n",
            "cache hit:\n",
            "X | O | 6 \n",
            "1 | 4 | 7 \n",
            "2 | 5 | 8 \n",
            "Choice: 6\n",
            "cache hit:\n",
            "O | X | O \n",
            "1 | 4 | 7 \n",
            "2 | 5 | 8 \n",
            "Choice: 1\n",
            "cache hit:\n",
            "X | O | X \n",
            "O | 4 | 7 \n",
            "2 | 5 | 8 \n",
            "Choice: 5\n",
            "cache hit:\n",
            "O | X | O \n",
            "X | 4 | 7 \n",
            "2 | O | 8 \n",
            "Choice: 7\n",
            "cache hit:\n",
            "X | O | X \n",
            "O | 4 | O \n",
            "2 | X | 8 \n",
            "Choice: 8\n",
            "cache hit:\n",
            "O | X | O \n",
            "X | 4 | X \n",
            "2 | O | O \n",
            "Choice: 4\n",
            "cache hit:\n",
            "0 | 3 | 6 \n",
            "1 | 4 | 7 \n",
            "2 | 5 | 8 \n",
            "Choice: 0\n",
            "cache hit:\n",
            "O | 3 | 6 \n",
            "1 | 4 | 7 \n",
            "2 | 5 | 8 \n",
            "Choice: 3\n",
            "cache hit:\n",
            "X | O | 6 \n",
            "1 | 4 | 7 \n",
            "2 | 5 | 8 \n",
            "Choice: 6\n",
            "cache hit:\n",
            "O | X | O \n",
            "1 | 4 | 7 \n",
            "2 | 5 | 8 \n",
            "Choice: 1\n",
            "cache hit:\n",
            "X | O | X \n",
            "O | 4 | 7 \n",
            "2 | 5 | 8 \n",
            "Choice: 5\n",
            "cache hit:\n",
            "O | X | O \n",
            "X | 4 | 7 \n",
            "2 | O | 8 \n",
            "Choice: 7\n",
            "cache hit:\n",
            "X | O | X \n",
            "O | 4 | O \n",
            "2 | X | 8 \n",
            "Choice: 8\n",
            "cache hit:\n",
            "O | X | O \n",
            "X | 4 | X \n",
            "2 | O | O \n",
            "Choice: 4\n",
            "cache hit:\n",
            "0 | 3 | 6 \n",
            "1 | 4 | 7 \n",
            "2 | 5 | 8 \n",
            "Choice: 0\n",
            "cache hit:\n",
            "O | 3 | 6 \n",
            "1 | 4 | 7 \n",
            "2 | 5 | 8 \n",
            "Choice: 3\n",
            "cache hit:\n",
            "X | O | 6 \n",
            "1 | 4 | 7 \n",
            "2 | 5 | 8 \n",
            "Choice: 6\n",
            "cache hit:\n",
            "O | X | O \n",
            "1 | 4 | 7 \n",
            "2 | 5 | 8 \n",
            "Choice: 1\n",
            "cache hit:\n",
            "X | O | X \n",
            "O | 4 | 7 \n",
            "2 | 5 | 8 \n",
            "Choice: 5\n",
            "cache hit:\n",
            "O | X | O \n",
            "X | 4 | 7 \n",
            "2 | O | 8 \n",
            "Choice: 7\n",
            "cache hit:\n",
            "X | O | X \n",
            "O | 4 | O \n",
            "2 | X | 8 \n",
            "Choice: 8\n",
            "cache hit:\n",
            "O | X | O \n",
            "X | 4 | X \n",
            "2 | O | O \n",
            "Choice: 4\n",
            "cache hit:\n",
            "0 | 3 | 6 \n",
            "1 | 4 | 7 \n",
            "2 | 5 | 8 \n",
            "Choice: 0\n",
            "cache hit:\n",
            "O | 3 | 6 \n",
            "1 | 4 | 7 \n",
            "2 | 5 | 8 \n",
            "Choice: 3\n",
            "cache hit:\n",
            "X | O | 6 \n",
            "1 | 4 | 7 \n",
            "2 | 5 | 8 \n",
            "Choice: 6\n",
            "cache hit:\n",
            "O | X | O \n",
            "1 | 4 | 7 \n",
            "2 | 5 | 8 \n",
            "Choice: 1\n",
            "cache hit:\n",
            "X | O | X \n",
            "O | 4 | 7 \n",
            "2 | 5 | 8 \n",
            "Choice: 5\n",
            "cache hit:\n",
            "O | X | O \n",
            "X | 4 | 7 \n",
            "2 | O | 8 \n",
            "Choice: 7\n",
            "cache hit:\n",
            "X | O | X \n",
            "O | 4 | O \n",
            "2 | X | 8 \n",
            "Choice: 8\n",
            "cache hit:\n",
            "O | X | O \n",
            "X | 4 | X \n",
            "2 | O | O \n",
            "Choice: 4\n",
            "cache hit:\n",
            "0 | 3 | 6 \n",
            "1 | 4 | 7 \n",
            "2 | 5 | 8 \n",
            "Choice: 0\n",
            "cache hit:\n",
            "O | 3 | 6 \n",
            "1 | 4 | 7 \n",
            "2 | 5 | 8 \n",
            "Choice: 3\n",
            "cache hit:\n",
            "X | O | 6 \n",
            "1 | 4 | 7 \n",
            "2 | 5 | 8 \n",
            "Choice: 6\n",
            "cache hit:\n",
            "O | X | O \n",
            "1 | 4 | 7 \n",
            "2 | 5 | 8 \n",
            "Choice: 1\n",
            "cache hit:\n",
            "X | O | X \n",
            "O | 4 | 7 \n",
            "2 | 5 | 8 \n",
            "Choice: 5\n",
            "cache hit:\n",
            "O | X | O \n",
            "X | 4 | 7 \n",
            "2 | O | 8 \n",
            "Choice: 7\n",
            "cache hit:\n",
            "X | O | X \n",
            "O | 4 | O \n",
            "2 | X | 8 \n",
            "Choice: 8\n",
            "cache hit:\n",
            "O | X | O \n",
            "X | 4 | X \n",
            "2 | O | O \n",
            "Choice: 4\n",
            "cache hit:\n",
            "0 | 3 | 6 \n",
            "1 | 4 | 7 \n",
            "2 | 5 | 8 \n",
            "Choice: 0\n",
            "cache hit:\n",
            "O | 3 | 6 \n",
            "1 | 4 | 7 \n",
            "2 | 5 | 8 \n",
            "Choice: 3\n",
            "cache hit:\n",
            "X | O | 6 \n",
            "1 | 4 | 7 \n",
            "2 | 5 | 8 \n",
            "Choice: 6\n",
            "cache hit:\n",
            "O | X | O \n",
            "1 | 4 | 7 \n",
            "2 | 5 | 8 \n",
            "Choice: 1\n",
            "cache hit:\n",
            "X | O | X \n",
            "O | 4 | 7 \n",
            "2 | 5 | 8 \n",
            "Choice: 5\n",
            "cache hit:\n",
            "O | X | O \n",
            "X | 4 | 7 \n",
            "2 | O | 8 \n",
            "Choice: 7\n",
            "cache hit:\n",
            "X | O | X \n",
            "O | 4 | O \n",
            "2 | X | 8 \n",
            "Choice: 8\n",
            "cache hit:\n",
            "O | X | O \n",
            "X | 4 | X \n",
            "2 | O | O \n",
            "Choice: 4\n",
            "cache hit:\n",
            "0 | 3 | 6 \n",
            "1 | 4 | 7 \n",
            "2 | 5 | 8 \n",
            "Choice: 0\n",
            "cache hit:\n",
            "O | 3 | 6 \n",
            "1 | 4 | 7 \n",
            "2 | 5 | 8 \n",
            "Choice: 3\n",
            "cache hit:\n",
            "X | O | 6 \n",
            "1 | 4 | 7 \n",
            "2 | 5 | 8 \n",
            "Choice: 6\n",
            "cache hit:\n",
            "O | X | O \n",
            "1 | 4 | 7 \n",
            "2 | 5 | 8 \n",
            "Choice: 1\n",
            "cache hit:\n",
            "X | O | X \n",
            "O | 4 | 7 \n",
            "2 | 5 | 8 \n",
            "Choice: 5\n",
            "cache hit:\n",
            "O | X | O \n",
            "X | 4 | 7 \n",
            "2 | O | 8 \n",
            "Choice: 7\n",
            "cache hit:\n",
            "X | O | X \n",
            "O | 4 | O \n",
            "2 | X | 8 \n",
            "Choice: 8\n",
            "cache hit:\n",
            "O | X | O \n",
            "X | 4 | X \n",
            "2 | O | O \n",
            "Choice: 4\n",
            "cache hit:\n",
            "0 | 3 | 6 \n",
            "1 | 4 | 7 \n",
            "2 | 5 | 8 \n",
            "Choice: 0\n",
            "cache hit:\n",
            "O | 3 | 6 \n",
            "1 | 4 | 7 \n",
            "2 | 5 | 8 \n",
            "Choice: 3\n",
            "cache hit:\n",
            "X | O | 6 \n",
            "1 | 4 | 7 \n",
            "2 | 5 | 8 \n",
            "Choice: 6\n",
            "cache hit:\n",
            "O | X | O \n",
            "1 | 4 | 7 \n",
            "2 | 5 | 8 \n",
            "Choice: 1\n",
            "cache hit:\n",
            "X | O | X \n",
            "O | 4 | 7 \n",
            "2 | 5 | 8 \n",
            "Choice: 5\n",
            "cache hit:\n",
            "O | X | O \n",
            "X | 4 | 7 \n",
            "2 | O | 8 \n",
            "Choice: 7\n",
            "cache hit:\n",
            "X | O | X \n",
            "O | 4 | O \n",
            "2 | X | 8 \n",
            "Choice: 8\n",
            "cache hit:\n",
            "O | X | O \n",
            "X | 4 | X \n",
            "2 | O | O \n",
            "Choice: 4\n",
            "cache hit:\n",
            "0 | 3 | 6 \n",
            "1 | 4 | 7 \n",
            "2 | 5 | 8 \n",
            "Choice: 0\n",
            "cache hit:\n",
            "O | 3 | 6 \n",
            "1 | 4 | 7 \n",
            "2 | 5 | 8 \n",
            "Choice: 3\n",
            "cache hit:\n",
            "X | O | 6 \n",
            "1 | 4 | 7 \n",
            "2 | 5 | 8 \n",
            "Choice: 6\n",
            "cache hit:\n",
            "O | X | O \n",
            "1 | 4 | 7 \n",
            "2 | 5 | 8 \n",
            "Choice: 1\n",
            "cache hit:\n",
            "X | O | X \n",
            "O | 4 | 7 \n",
            "2 | 5 | 8 \n",
            "Choice: 5\n",
            "cache hit:\n",
            "O | X | O \n",
            "X | 4 | 7 \n",
            "2 | O | 8 \n",
            "Choice: 7\n",
            "cache hit:\n",
            "X | O | X \n",
            "O | 4 | O \n",
            "2 | X | 8 \n",
            "Choice: 8\n",
            "cache hit:\n",
            "O | X | O \n",
            "X | 4 | X \n",
            "2 | O | O \n",
            "Choice: 4\n",
            "cache hit:\n",
            "0 | 3 | 6 \n",
            "1 | 4 | 7 \n",
            "2 | 5 | 8 \n",
            "Choice: 0\n",
            "cache hit:\n",
            "O | 3 | 6 \n",
            "1 | 4 | 7 \n",
            "2 | 5 | 8 \n",
            "Choice: 3\n",
            "cache hit:\n",
            "X | O | 6 \n",
            "1 | 4 | 7 \n",
            "2 | 5 | 8 \n",
            "Choice: 6\n",
            "cache hit:\n",
            "O | X | O \n",
            "1 | 4 | 7 \n",
            "2 | 5 | 8 \n",
            "Choice: 1\n",
            "cache hit:\n",
            "X | O | X \n",
            "O | 4 | 7 \n",
            "2 | 5 | 8 \n",
            "Choice: 5\n",
            "cache hit:\n",
            "O | X | O \n",
            "X | 4 | 7 \n",
            "2 | O | 8 \n",
            "Choice: 7\n",
            "cache hit:\n",
            "X | O | X \n",
            "O | 4 | O \n",
            "2 | X | 8 \n",
            "Choice: 8\n",
            "cache hit:\n",
            "O | X | O \n",
            "X | 4 | X \n",
            "2 | O | O \n",
            "Choice: 4\n",
            "cache hit:\n",
            "0 | 3 | 6 \n",
            "1 | 4 | 7 \n",
            "2 | 5 | 8 \n",
            "Choice: 0\n",
            "cache hit:\n",
            "O | 3 | 6 \n",
            "1 | 4 | 7 \n",
            "2 | 5 | 8 \n",
            "Choice: 3\n",
            "cache hit:\n",
            "X | O | 6 \n",
            "1 | 4 | 7 \n",
            "2 | 5 | 8 \n",
            "Choice: 6\n",
            "cache hit:\n",
            "O | X | O \n",
            "1 | 4 | 7 \n",
            "2 | 5 | 8 \n",
            "Choice: 1\n",
            "cache hit:\n",
            "X | O | X \n",
            "O | 4 | 7 \n",
            "2 | 5 | 8 \n",
            "Choice: 5\n",
            "cache hit:\n",
            "O | X | O \n",
            "X | 4 | 7 \n",
            "2 | O | 8 \n",
            "Choice: 7\n",
            "cache hit:\n",
            "X | O | X \n",
            "O | 4 | O \n",
            "2 | X | 8 \n",
            "Choice: 8\n",
            "cache hit:\n",
            "O | X | O \n",
            "X | 4 | X \n",
            "2 | O | O \n",
            "Choice: 4\n",
            "cache hit:\n",
            "0 | 3 | 6 \n",
            "1 | 4 | 7 \n",
            "2 | 5 | 8 \n",
            "Choice: 0\n",
            "cache hit:\n",
            "O | 3 | 6 \n",
            "1 | 4 | 7 \n",
            "2 | 5 | 8 \n",
            "Choice: 3\n",
            "cache hit:\n",
            "X | O | 6 \n",
            "1 | 4 | 7 \n",
            "2 | 5 | 8 \n",
            "Choice: 6\n",
            "cache hit:\n",
            "O | X | O \n",
            "1 | 4 | 7 \n",
            "2 | 5 | 8 \n",
            "Choice: 1\n",
            "cache hit:\n",
            "X | O | X \n",
            "O | 4 | 7 \n",
            "2 | 5 | 8 \n",
            "Choice: 5\n",
            "cache hit:\n",
            "O | X | O \n",
            "X | 4 | 7 \n",
            "2 | O | 8 \n",
            "Choice: 7\n",
            "cache hit:\n",
            "X | O | X \n",
            "O | 4 | O \n",
            "2 | X | 8 \n",
            "Choice: 8\n",
            "cache hit:\n",
            "O | X | O \n",
            "X | 4 | X \n",
            "2 | O | O \n",
            "Choice: 4\n",
            "cache hit:\n",
            "0 | 3 | 6 \n",
            "1 | 4 | 7 \n",
            "2 | 5 | 8 \n",
            "Choice: 0\n",
            "cache hit:\n",
            "O | 3 | 6 \n",
            "1 | 4 | 7 \n",
            "2 | 5 | 8 \n",
            "Choice: 3\n",
            "cache hit:\n",
            "X | O | 6 \n",
            "1 | 4 | 7 \n",
            "2 | 5 | 8 \n",
            "Choice: 6\n",
            "cache hit:\n",
            "O | X | O \n",
            "1 | 4 | 7 \n",
            "2 | 5 | 8 \n",
            "Choice: 1\n",
            "cache hit:\n",
            "X | O | X \n",
            "O | 4 | 7 \n",
            "2 | 5 | 8 \n",
            "Choice: 5\n",
            "cache hit:\n",
            "O | X | O \n",
            "X | 4 | 7 \n",
            "2 | O | 8 \n",
            "Choice: 7\n",
            "cache hit:\n",
            "X | O | X \n",
            "O | 4 | O \n",
            "2 | X | 8 \n",
            "Choice: 8\n",
            "cache hit:\n",
            "O | X | O \n",
            "X | 4 | X \n",
            "2 | O | O \n",
            "Choice: 4\n",
            "cache hit:\n",
            "0 | 3 | 6 \n",
            "1 | 4 | 7 \n",
            "2 | 5 | 8 \n",
            "Choice: 0\n",
            "cache hit:\n",
            "O | 3 | 6 \n",
            "1 | 4 | 7 \n",
            "2 | 5 | 8 \n",
            "Choice: 3\n",
            "cache hit:\n",
            "X | O | 6 \n",
            "1 | 4 | 7 \n",
            "2 | 5 | 8 \n",
            "Choice: 6\n",
            "cache hit:\n",
            "O | X | O \n",
            "1 | 4 | 7 \n",
            "2 | 5 | 8 \n",
            "Choice: 1\n",
            "cache hit:\n",
            "X | O | X \n",
            "O | 4 | 7 \n",
            "2 | 5 | 8 \n",
            "Choice: 5\n",
            "cache hit:\n",
            "O | X | O \n",
            "X | 4 | 7 \n",
            "2 | O | 8 \n",
            "Choice: 7\n",
            "cache hit:\n",
            "X | O | X \n",
            "O | 4 | O \n",
            "2 | X | 8 \n",
            "Choice: 8\n",
            "cache hit:\n",
            "O | X | O \n",
            "X | 4 | X \n",
            "2 | O | O \n",
            "Choice: 4\n",
            "cache hit:\n",
            "0 | 3 | 6 \n",
            "1 | 4 | 7 \n",
            "2 | 5 | 8 \n",
            "Choice: 0\n",
            "cache hit:\n",
            "O | 3 | 6 \n",
            "1 | 4 | 7 \n",
            "2 | 5 | 8 \n",
            "Choice: 3\n",
            "cache hit:\n",
            "X | O | 6 \n",
            "1 | 4 | 7 \n",
            "2 | 5 | 8 \n",
            "Choice: 6\n",
            "cache hit:\n",
            "O | X | O \n",
            "1 | 4 | 7 \n",
            "2 | 5 | 8 \n",
            "Choice: 1\n",
            "cache hit:\n",
            "X | O | X \n",
            "O | 4 | 7 \n",
            "2 | 5 | 8 \n",
            "Choice: 5\n",
            "cache hit:\n",
            "O | X | O \n",
            "X | 4 | 7 \n",
            "2 | O | 8 \n",
            "Choice: 7\n",
            "cache hit:\n",
            "X | O | X \n",
            "O | 4 | O \n",
            "2 | X | 8 \n",
            "Choice: 8\n",
            "cache hit:\n",
            "O | X | O \n",
            "X | 4 | X \n",
            "2 | O | O \n",
            "Choice: 4\n",
            "cache hit:\n",
            "0 | 3 | 6 \n",
            "1 | 4 | 7 \n",
            "2 | 5 | 8 \n",
            "Choice: 0\n",
            "cache hit:\n",
            "O | 3 | 6 \n",
            "1 | 4 | 7 \n",
            "2 | 5 | 8 \n",
            "Choice: 3\n",
            "cache hit:\n",
            "X | O | 6 \n",
            "1 | 4 | 7 \n",
            "2 | 5 | 8 \n",
            "Choice: 6\n",
            "cache hit:\n",
            "O | X | O \n",
            "1 | 4 | 7 \n",
            "2 | 5 | 8 \n",
            "Choice: 1\n",
            "cache hit:\n",
            "X | O | X \n",
            "O | 4 | 7 \n",
            "2 | 5 | 8 \n",
            "Choice: 5\n",
            "cache hit:\n",
            "O | X | O \n",
            "X | 4 | 7 \n",
            "2 | O | 8 \n",
            "Choice: 7\n",
            "cache hit:\n",
            "X | O | X \n",
            "O | 4 | O \n",
            "2 | X | 8 \n",
            "Choice: 8\n",
            "cache hit:\n",
            "O | X | O \n",
            "X | 4 | X \n",
            "2 | O | O \n",
            "Choice: 4\n",
            "cache hit:\n",
            "0 | 3 | 6 \n",
            "1 | 4 | 7 \n",
            "2 | 5 | 8 \n",
            "Choice: 0\n",
            "cache hit:\n",
            "O | 3 | 6 \n",
            "1 | 4 | 7 \n",
            "2 | 5 | 8 \n",
            "Choice: 3\n",
            "cache hit:\n",
            "X | O | 6 \n",
            "1 | 4 | 7 \n",
            "2 | 5 | 8 \n",
            "Choice: 6\n",
            "cache hit:\n",
            "O | X | O \n",
            "1 | 4 | 7 \n",
            "2 | 5 | 8 \n",
            "Choice: 1\n",
            "cache hit:\n",
            "X | O | X \n",
            "O | 4 | 7 \n",
            "2 | 5 | 8 \n",
            "Choice: 5\n",
            "cache hit:\n",
            "O | X | O \n",
            "X | 4 | 7 \n",
            "2 | O | 8 \n",
            "Choice: 7\n",
            "cache hit:\n",
            "X | O | X \n",
            "O | 4 | O \n",
            "2 | X | 8 \n",
            "Choice: 8\n",
            "cache hit:\n",
            "O | X | O \n",
            "X | 4 | X \n",
            "2 | O | O \n",
            "Choice: 4\n",
            "cache hit:\n",
            "0 | 3 | 6 \n",
            "1 | 4 | 7 \n",
            "2 | 5 | 8 \n",
            "Choice: 0\n",
            "cache hit:\n",
            "O | 3 | 6 \n",
            "1 | 4 | 7 \n",
            "2 | 5 | 8 \n",
            "Choice: 3\n",
            "cache hit:\n",
            "X | O | 6 \n",
            "1 | 4 | 7 \n",
            "2 | 5 | 8 \n",
            "Choice: 6\n",
            "cache hit:\n",
            "O | X | O \n",
            "1 | 4 | 7 \n",
            "2 | 5 | 8 \n",
            "Choice: 1\n",
            "cache hit:\n",
            "X | O | X \n",
            "O | 4 | 7 \n",
            "2 | 5 | 8 \n",
            "Choice: 5\n",
            "cache hit:\n",
            "O | X | O \n",
            "X | 4 | 7 \n",
            "2 | O | 8 \n",
            "Choice: 7\n",
            "cache hit:\n",
            "X | O | X \n",
            "O | 4 | O \n",
            "2 | X | 8 \n",
            "Choice: 8\n",
            "cache hit:\n",
            "O | X | O \n",
            "X | 4 | X \n",
            "2 | O | O \n",
            "Choice: 4\n",
            "cache hit:\n",
            "0 | 3 | 6 \n",
            "1 | 4 | 7 \n",
            "2 | 5 | 8 \n",
            "Choice: 0\n",
            "cache hit:\n",
            "O | 3 | 6 \n",
            "1 | 4 | 7 \n",
            "2 | 5 | 8 \n",
            "Choice: 3\n",
            "cache hit:\n",
            "X | O | 6 \n",
            "1 | 4 | 7 \n",
            "2 | 5 | 8 \n",
            "Choice: 6\n",
            "cache hit:\n",
            "O | X | O \n",
            "1 | 4 | 7 \n",
            "2 | 5 | 8 \n",
            "Choice: 1\n",
            "cache hit:\n",
            "X | O | X \n",
            "O | 4 | 7 \n",
            "2 | 5 | 8 \n",
            "Choice: 5\n",
            "cache hit:\n",
            "O | X | O \n",
            "X | 4 | 7 \n",
            "2 | O | 8 \n",
            "Choice: 7\n",
            "cache hit:\n",
            "X | O | X \n",
            "O | 4 | O \n",
            "2 | X | 8 \n",
            "Choice: 8\n",
            "cache hit:\n",
            "O | X | O \n",
            "X | 4 | X \n",
            "2 | O | O \n",
            "Choice: 4\n",
            "cache hit:\n",
            "0 | 3 | 6 \n",
            "1 | 4 | 7 \n",
            "2 | 5 | 8 \n",
            "Choice: 0\n",
            "cache hit:\n",
            "O | 3 | 6 \n",
            "1 | 4 | 7 \n",
            "2 | 5 | 8 \n",
            "Choice: 3\n",
            "cache hit:\n",
            "X | O | 6 \n",
            "1 | 4 | 7 \n",
            "2 | 5 | 8 \n",
            "Choice: 6\n",
            "cache hit:\n",
            "O | X | O \n",
            "1 | 4 | 7 \n",
            "2 | 5 | 8 \n",
            "Choice: 1\n",
            "cache hit:\n",
            "X | O | X \n",
            "O | 4 | 7 \n",
            "2 | 5 | 8 \n",
            "Choice: 5\n",
            "cache hit:\n",
            "O | X | O \n",
            "X | 4 | 7 \n",
            "2 | O | 8 \n",
            "Choice: 7\n",
            "cache hit:\n",
            "X | O | X \n",
            "O | 4 | O \n",
            "2 | X | 8 \n",
            "Choice: 8\n",
            "cache hit:\n",
            "O | X | O \n",
            "X | 4 | X \n",
            "2 | O | O \n",
            "Choice: 4\n",
            "cache hit:\n",
            "0 | 3 | 6 \n",
            "1 | 4 | 7 \n",
            "2 | 5 | 8 \n",
            "Choice: 0\n",
            "cache hit:\n",
            "O | 3 | 6 \n",
            "1 | 4 | 7 \n",
            "2 | 5 | 8 \n",
            "Choice: 3\n",
            "cache hit:\n",
            "X | O | 6 \n",
            "1 | 4 | 7 \n",
            "2 | 5 | 8 \n",
            "Choice: 6\n",
            "cache hit:\n",
            "O | X | O \n",
            "1 | 4 | 7 \n",
            "2 | 5 | 8 \n",
            "Choice: 1\n",
            "cache hit:\n",
            "X | O | X \n",
            "O | 4 | 7 \n",
            "2 | 5 | 8 \n",
            "Choice: 5\n",
            "cache hit:\n",
            "O | X | O \n",
            "X | 4 | 7 \n",
            "2 | O | 8 \n",
            "Choice: 7\n",
            "cache hit:\n",
            "X | O | X \n",
            "O | 4 | O \n",
            "2 | X | 8 \n",
            "Choice: 8\n",
            "cache hit:\n",
            "O | X | O \n",
            "X | 4 | X \n",
            "2 | O | O \n",
            "Choice: 4\n",
            "cache hit:\n",
            "0 | 3 | 6 \n",
            "1 | 4 | 7 \n",
            "2 | 5 | 8 \n",
            "Choice: 0\n",
            "cache hit:\n",
            "O | 3 | 6 \n",
            "1 | 4 | 7 \n",
            "2 | 5 | 8 \n",
            "Choice: 3\n",
            "cache hit:\n",
            "X | O | 6 \n",
            "1 | 4 | 7 \n",
            "2 | 5 | 8 \n",
            "Choice: 6\n",
            "cache hit:\n",
            "O | X | O \n",
            "1 | 4 | 7 \n",
            "2 | 5 | 8 \n",
            "Choice: 1\n",
            "cache hit:\n",
            "X | O | X \n",
            "O | 4 | 7 \n",
            "2 | 5 | 8 \n",
            "Choice: 5\n",
            "cache hit:\n",
            "O | X | O \n",
            "X | 4 | 7 \n",
            "2 | O | 8 \n",
            "Choice: 7\n",
            "cache hit:\n",
            "X | O | X \n",
            "O | 4 | O \n",
            "2 | X | 8 \n",
            "Choice: 8\n",
            "cache hit:\n",
            "O | X | O \n",
            "X | 4 | X \n",
            "2 | O | O \n",
            "Choice: 4\n",
            "cache hit:\n",
            "0 | 3 | 6 \n",
            "1 | 4 | 7 \n",
            "2 | 5 | 8 \n",
            "Choice: 0\n",
            "cache hit:\n",
            "O | 3 | 6 \n",
            "1 | 4 | 7 \n",
            "2 | 5 | 8 \n",
            "Choice: 3\n",
            "cache hit:\n",
            "X | O | 6 \n",
            "1 | 4 | 7 \n",
            "2 | 5 | 8 \n",
            "Choice: 6\n",
            "cache hit:\n",
            "O | X | O \n",
            "1 | 4 | 7 \n",
            "2 | 5 | 8 \n",
            "Choice: 1\n",
            "cache hit:\n",
            "X | O | X \n",
            "O | 4 | 7 \n",
            "2 | 5 | 8 \n",
            "Choice: 5\n",
            "cache hit:\n",
            "O | X | O \n",
            "X | 4 | 7 \n",
            "2 | O | 8 \n",
            "Choice: 7\n",
            "cache hit:\n",
            "X | O | X \n",
            "O | 4 | O \n",
            "2 | X | 8 \n",
            "Choice: 8\n",
            "cache hit:\n",
            "O | X | O \n",
            "X | 4 | X \n",
            "2 | O | O \n",
            "Choice: 4\n",
            "cache hit:\n",
            "0 | 3 | 6 \n",
            "1 | 4 | 7 \n",
            "2 | 5 | 8 \n",
            "Choice: 0\n",
            "cache hit:\n",
            "O | 3 | 6 \n",
            "1 | 4 | 7 \n",
            "2 | 5 | 8 \n",
            "Choice: 3\n",
            "cache hit:\n",
            "X | O | 6 \n",
            "1 | 4 | 7 \n",
            "2 | 5 | 8 \n",
            "Choice: 6\n",
            "cache hit:\n",
            "O | X | O \n",
            "1 | 4 | 7 \n",
            "2 | 5 | 8 \n",
            "Choice: 1\n",
            "cache hit:\n",
            "X | O | X \n",
            "O | 4 | 7 \n",
            "2 | 5 | 8 \n",
            "Choice: 5\n",
            "cache hit:\n",
            "O | X | O \n",
            "X | 4 | 7 \n",
            "2 | O | 8 \n",
            "Choice: 7\n",
            "cache hit:\n",
            "X | O | X \n",
            "O | 4 | O \n",
            "2 | X | 8 \n",
            "Choice: 8\n",
            "cache hit:\n",
            "O | X | O \n",
            "X | 4 | X \n",
            "2 | O | O \n",
            "Choice: 4\n",
            "cache hit:\n",
            "0 | 3 | 6 \n",
            "1 | 4 | 7 \n",
            "2 | 5 | 8 \n",
            "Choice: 0\n",
            "cache hit:\n",
            "O | 3 | 6 \n",
            "1 | 4 | 7 \n",
            "2 | 5 | 8 \n",
            "Choice: 3\n",
            "cache hit:\n",
            "X | O | 6 \n",
            "1 | 4 | 7 \n",
            "2 | 5 | 8 \n",
            "Choice: 6\n",
            "cache hit:\n",
            "O | X | O \n",
            "1 | 4 | 7 \n",
            "2 | 5 | 8 \n",
            "Choice: 1\n",
            "cache hit:\n",
            "X | O | X \n",
            "O | 4 | 7 \n",
            "2 | 5 | 8 \n",
            "Choice: 5\n",
            "cache hit:\n",
            "O | X | O \n",
            "X | 4 | 7 \n",
            "2 | O | 8 \n",
            "Choice: 7\n",
            "cache hit:\n",
            "X | O | X \n",
            "O | 4 | O \n",
            "2 | X | 8 \n",
            "Choice: 8\n",
            "cache hit:\n",
            "O | X | O \n",
            "X | 4 | X \n",
            "2 | O | O \n",
            "Choice: 4\n",
            "cache hit:\n",
            "0 | 3 | 6 \n",
            "1 | 4 | 7 \n",
            "2 | 5 | 8 \n",
            "Choice: 0\n",
            "cache hit:\n",
            "O | 3 | 6 \n",
            "1 | 4 | 7 \n",
            "2 | 5 | 8 \n",
            "Choice: 3\n",
            "cache hit:\n",
            "X | O | 6 \n",
            "1 | 4 | 7 \n",
            "2 | 5 | 8 \n",
            "Choice: 6\n",
            "cache hit:\n",
            "O | X | O \n",
            "1 | 4 | 7 \n",
            "2 | 5 | 8 \n",
            "Choice: 1\n",
            "cache hit:\n",
            "X | O | X \n",
            "O | 4 | 7 \n",
            "2 | 5 | 8 \n",
            "Choice: 5\n",
            "cache hit:\n",
            "O | X | O \n",
            "X | 4 | 7 \n",
            "2 | O | 8 \n",
            "Choice: 7\n",
            "cache hit:\n",
            "X | O | X \n",
            "O | 4 | O \n",
            "2 | X | 8 \n",
            "Choice: 8\n",
            "cache hit:\n",
            "O | X | O \n",
            "X | 4 | X \n",
            "2 | O | O \n",
            "Choice: 4\n",
            "cache hit:\n",
            "0 | 3 | 6 \n",
            "1 | 4 | 7 \n",
            "2 | 5 | 8 \n",
            "Choice: 0\n",
            "cache hit:\n",
            "O | 3 | 6 \n",
            "1 | 4 | 7 \n",
            "2 | 5 | 8 \n",
            "Choice: 3\n",
            "cache hit:\n",
            "X | O | 6 \n",
            "1 | 4 | 7 \n",
            "2 | 5 | 8 \n",
            "Choice: 6\n",
            "cache hit:\n",
            "O | X | O \n",
            "1 | 4 | 7 \n",
            "2 | 5 | 8 \n",
            "Choice: 1\n",
            "cache hit:\n",
            "X | O | X \n",
            "O | 4 | 7 \n",
            "2 | 5 | 8 \n",
            "Choice: 5\n",
            "cache hit:\n",
            "O | X | O \n",
            "X | 4 | 7 \n",
            "2 | O | 8 \n",
            "Choice: 7\n",
            "cache hit:\n",
            "X | O | X \n",
            "O | 4 | O \n",
            "2 | X | 8 \n",
            "Choice: 8\n",
            "cache hit:\n",
            "O | X | O \n",
            "X | 4 | X \n",
            "2 | O | O \n",
            "Choice: 4\n",
            "cache hit:\n",
            "0 | 3 | 6 \n",
            "1 | 4 | 7 \n",
            "2 | 5 | 8 \n",
            "Choice: 0\n",
            "cache hit:\n",
            "O | 3 | 6 \n",
            "1 | 4 | 7 \n",
            "2 | 5 | 8 \n",
            "Choice: 3\n",
            "cache hit:\n",
            "X | O | 6 \n",
            "1 | 4 | 7 \n",
            "2 | 5 | 8 \n",
            "Choice: 6\n",
            "cache hit:\n",
            "O | X | O \n",
            "1 | 4 | 7 \n",
            "2 | 5 | 8 \n",
            "Choice: 1\n",
            "cache hit:\n",
            "X | O | X \n",
            "O | 4 | 7 \n",
            "2 | 5 | 8 \n",
            "Choice: 5\n",
            "cache hit:\n",
            "O | X | O \n",
            "X | 4 | 7 \n",
            "2 | O | 8 \n",
            "Choice: 7\n",
            "cache hit:\n",
            "X | O | X \n",
            "O | 4 | O \n",
            "2 | X | 8 \n",
            "Choice: 8\n",
            "cache hit:\n",
            "O | X | O \n",
            "X | 4 | X \n",
            "2 | O | O \n",
            "Choice: 4\n",
            "cache hit:\n",
            "0 | 3 | 6 \n",
            "1 | 4 | 7 \n",
            "2 | 5 | 8 \n",
            "Choice: 0\n",
            "cache hit:\n",
            "O | 3 | 6 \n",
            "1 | 4 | 7 \n",
            "2 | 5 | 8 \n",
            "Choice: 3\n",
            "cache hit:\n",
            "X | O | 6 \n",
            "1 | 4 | 7 \n",
            "2 | 5 | 8 \n",
            "Choice: 6\n",
            "cache hit:\n",
            "O | X | O \n",
            "1 | 4 | 7 \n",
            "2 | 5 | 8 \n",
            "Choice: 1\n",
            "cache hit:\n",
            "X | O | X \n",
            "O | 4 | 7 \n",
            "2 | 5 | 8 \n",
            "Choice: 5\n",
            "cache hit:\n",
            "O | X | O \n",
            "X | 4 | 7 \n",
            "2 | O | 8 \n",
            "Choice: 7\n",
            "cache hit:\n",
            "X | O | X \n",
            "O | 4 | O \n",
            "2 | X | 8 \n",
            "Choice: 8\n",
            "cache hit:\n",
            "O | X | O \n",
            "X | 4 | X \n",
            "2 | O | O \n",
            "Choice: 4\n",
            "cache hit:\n",
            "0 | 3 | 6 \n",
            "1 | 4 | 7 \n",
            "2 | 5 | 8 \n",
            "Choice: 0\n",
            "cache hit:\n",
            "O | 3 | 6 \n",
            "1 | 4 | 7 \n",
            "2 | 5 | 8 \n",
            "Choice: 3\n",
            "cache hit:\n",
            "X | O | 6 \n",
            "1 | 4 | 7 \n",
            "2 | 5 | 8 \n",
            "Choice: 6\n",
            "cache hit:\n",
            "O | X | O \n",
            "1 | 4 | 7 \n",
            "2 | 5 | 8 \n",
            "Choice: 1\n",
            "cache hit:\n",
            "X | O | X \n",
            "O | 4 | 7 \n",
            "2 | 5 | 8 \n",
            "Choice: 5\n",
            "cache hit:\n",
            "O | X | O \n",
            "X | 4 | 7 \n",
            "2 | O | 8 \n",
            "Choice: 7\n",
            "cache hit:\n",
            "X | O | X \n",
            "O | 4 | O \n",
            "2 | X | 8 \n",
            "Choice: 8\n",
            "cache hit:\n",
            "O | X | O \n",
            "X | 4 | X \n",
            "2 | O | O \n",
            "Choice: 4\n",
            "cache hit:\n",
            "0 | 3 | 6 \n",
            "1 | 4 | 7 \n",
            "2 | 5 | 8 \n",
            "Choice: 0\n",
            "cache hit:\n",
            "O | 3 | 6 \n",
            "1 | 4 | 7 \n",
            "2 | 5 | 8 \n",
            "Choice: 3\n",
            "cache hit:\n",
            "X | O | 6 \n",
            "1 | 4 | 7 \n",
            "2 | 5 | 8 \n",
            "Choice: 6\n",
            "cache hit:\n",
            "O | X | O \n",
            "1 | 4 | 7 \n",
            "2 | 5 | 8 \n",
            "Choice: 1\n",
            "cache hit:\n",
            "X | O | X \n",
            "O | 4 | 7 \n",
            "2 | 5 | 8 \n",
            "Choice: 5\n",
            "cache hit:\n",
            "O | X | O \n",
            "X | 4 | 7 \n",
            "2 | O | 8 \n",
            "Choice: 7\n",
            "cache hit:\n",
            "X | O | X \n",
            "O | 4 | O \n",
            "2 | X | 8 \n",
            "Choice: 8\n",
            "cache hit:\n",
            "O | X | O \n",
            "X | 4 | X \n",
            "2 | O | O \n",
            "Choice: 4\n",
            "cache hit:\n",
            "0 | 3 | 6 \n",
            "1 | 4 | 7 \n",
            "2 | 5 | 8 \n",
            "Choice: 0\n",
            "cache hit:\n",
            "O | 3 | 6 \n",
            "1 | 4 | 7 \n",
            "2 | 5 | 8 \n",
            "Choice: 3\n",
            "cache hit:\n",
            "X | O | 6 \n",
            "1 | 4 | 7 \n",
            "2 | 5 | 8 \n",
            "Choice: 6\n",
            "cache hit:\n",
            "O | X | O \n",
            "1 | 4 | 7 \n",
            "2 | 5 | 8 \n",
            "Choice: 1\n",
            "cache hit:\n",
            "X | O | X \n",
            "O | 4 | 7 \n",
            "2 | 5 | 8 \n",
            "Choice: 5\n",
            "cache hit:\n",
            "O | X | O \n",
            "X | 4 | 7 \n",
            "2 | O | 8 \n",
            "Choice: 7\n",
            "cache hit:\n",
            "X | O | X \n",
            "O | 4 | O \n",
            "2 | X | 8 \n",
            "Choice: 8\n",
            "cache hit:\n",
            "O | X | O \n",
            "X | 4 | X \n",
            "2 | O | O \n",
            "Choice: 4\n",
            "cache hit:\n",
            "0 | 3 | 6 \n",
            "1 | 4 | 7 \n",
            "2 | 5 | 8 \n",
            "Choice: 0\n",
            "cache hit:\n",
            "O | 3 | 6 \n",
            "1 | 4 | 7 \n",
            "2 | 5 | 8 \n",
            "Choice: 3\n",
            "cache hit:\n",
            "X | O | 6 \n",
            "1 | 4 | 7 \n",
            "2 | 5 | 8 \n",
            "Choice: 6\n",
            "cache hit:\n",
            "O | X | O \n",
            "1 | 4 | 7 \n",
            "2 | 5 | 8 \n",
            "Choice: 1\n",
            "cache hit:\n",
            "X | O | X \n",
            "O | 4 | 7 \n",
            "2 | 5 | 8 \n",
            "Choice: 5\n",
            "cache hit:\n",
            "O | X | O \n",
            "X | 4 | 7 \n",
            "2 | O | 8 \n",
            "Choice: 7\n",
            "cache hit:\n",
            "X | O | X \n",
            "O | 4 | O \n",
            "2 | X | 8 \n",
            "Choice: 8\n",
            "cache hit:\n",
            "O | X | O \n",
            "X | 4 | X \n",
            "2 | O | O \n",
            "Choice: 4\n",
            "cache hit:\n",
            "0 | 3 | 6 \n",
            "1 | 4 | 7 \n",
            "2 | 5 | 8 \n",
            "Choice: 0\n",
            "cache hit:\n",
            "O | 3 | 6 \n",
            "1 | 4 | 7 \n",
            "2 | 5 | 8 \n",
            "Choice: 3\n",
            "cache hit:\n",
            "X | O | 6 \n",
            "1 | 4 | 7 \n",
            "2 | 5 | 8 \n",
            "Choice: 6\n",
            "cache hit:\n",
            "O | X | O \n",
            "1 | 4 | 7 \n",
            "2 | 5 | 8 \n",
            "Choice: 1\n",
            "cache hit:\n",
            "X | O | X \n",
            "O | 4 | 7 \n",
            "2 | 5 | 8 \n",
            "Choice: 5\n",
            "cache hit:\n",
            "O | X | O \n",
            "X | 4 | 7 \n",
            "2 | O | 8 \n",
            "Choice: 7\n",
            "cache hit:\n",
            "X | O | X \n",
            "O | 4 | O \n",
            "2 | X | 8 \n",
            "Choice: 8\n",
            "cache hit:\n",
            "O | X | O \n",
            "X | 4 | X \n",
            "2 | O | O \n",
            "Choice: 4\n",
            "cache hit:\n",
            "0 | 3 | 6 \n",
            "1 | 4 | 7 \n",
            "2 | 5 | 8 \n",
            "Choice: 0\n",
            "cache hit:\n",
            "O | 3 | 6 \n",
            "1 | 4 | 7 \n",
            "2 | 5 | 8 \n",
            "Choice: 3\n",
            "cache hit:\n",
            "X | O | 6 \n",
            "1 | 4 | 7 \n",
            "2 | 5 | 8 \n",
            "Choice: 6\n",
            "cache hit:\n",
            "O | X | O \n",
            "1 | 4 | 7 \n",
            "2 | 5 | 8 \n",
            "Choice: 1\n",
            "cache hit:\n",
            "X | O | X \n",
            "O | 4 | 7 \n",
            "2 | 5 | 8 \n",
            "Choice: 5\n",
            "cache hit:\n",
            "O | X | O \n",
            "X | 4 | 7 \n",
            "2 | O | 8 \n",
            "Choice: 7\n",
            "cache hit:\n",
            "X | O | X \n",
            "O | 4 | O \n",
            "2 | X | 8 \n",
            "Choice: 8\n",
            "cache hit:\n",
            "O | X | O \n",
            "X | 4 | X \n",
            "2 | O | O \n",
            "Choice: 4\n",
            "cache hit:\n",
            "0 | 3 | 6 \n",
            "1 | 4 | 7 \n",
            "2 | 5 | 8 \n",
            "Choice: 0\n",
            "cache hit:\n",
            "O | 3 | 6 \n",
            "1 | 4 | 7 \n",
            "2 | 5 | 8 \n",
            "Choice: 3\n",
            "cache hit:\n",
            "X | O | 6 \n",
            "1 | 4 | 7 \n",
            "2 | 5 | 8 \n",
            "Choice: 6\n",
            "cache hit:\n",
            "O | X | O \n",
            "1 | 4 | 7 \n",
            "2 | 5 | 8 \n",
            "Choice: 1\n",
            "cache hit:\n",
            "X | O | X \n",
            "O | 4 | 7 \n",
            "2 | 5 | 8 \n",
            "Choice: 5\n",
            "cache hit:\n",
            "O | X | O \n",
            "X | 4 | 7 \n",
            "2 | O | 8 \n",
            "Choice: 7\n",
            "cache hit:\n",
            "X | O | X \n",
            "O | 4 | O \n",
            "2 | X | 8 \n",
            "Choice: 8\n",
            "cache hit:\n",
            "O | X | O \n",
            "X | 4 | X \n",
            "2 | O | O \n",
            "Choice: 4\n",
            "cache hit:\n",
            "0 | 3 | 6 \n",
            "1 | 4 | 7 \n",
            "2 | 5 | 8 \n",
            "Choice: 0\n",
            "cache hit:\n",
            "O | 3 | 6 \n",
            "1 | 4 | 7 \n",
            "2 | 5 | 8 \n",
            "Choice: 3\n",
            "cache hit:\n",
            "X | O | 6 \n",
            "1 | 4 | 7 \n",
            "2 | 5 | 8 \n",
            "Choice: 6\n",
            "cache hit:\n",
            "O | X | O \n",
            "1 | 4 | 7 \n",
            "2 | 5 | 8 \n",
            "Choice: 1\n",
            "cache hit:\n",
            "X | O | X \n",
            "O | 4 | 7 \n",
            "2 | 5 | 8 \n",
            "Choice: 5\n",
            "cache hit:\n",
            "O | X | O \n",
            "X | 4 | 7 \n",
            "2 | O | 8 \n",
            "Choice: 7\n",
            "cache hit:\n",
            "X | O | X \n",
            "O | 4 | O \n",
            "2 | X | 8 \n",
            "Choice: 8\n",
            "cache hit:\n",
            "O | X | O \n",
            "X | 4 | X \n",
            "2 | O | O \n",
            "Choice: 4\n",
            "cache hit:\n",
            "0 | 3 | 6 \n",
            "1 | 4 | 7 \n",
            "2 | 5 | 8 \n",
            "Choice: 0\n",
            "cache hit:\n",
            "O | 3 | 6 \n",
            "1 | 4 | 7 \n",
            "2 | 5 | 8 \n",
            "Choice: 3\n",
            "cache hit:\n",
            "X | O | 6 \n",
            "1 | 4 | 7 \n",
            "2 | 5 | 8 \n",
            "Choice: 6\n",
            "cache hit:\n",
            "O | X | O \n",
            "1 | 4 | 7 \n",
            "2 | 5 | 8 \n",
            "Choice: 1\n",
            "cache hit:\n",
            "X | O | X \n",
            "O | 4 | 7 \n",
            "2 | 5 | 8 \n",
            "Choice: 5\n",
            "cache hit:\n",
            "O | X | O \n",
            "X | 4 | 7 \n",
            "2 | O | 8 \n",
            "Choice: 7\n",
            "cache hit:\n",
            "X | O | X \n",
            "O | 4 | O \n",
            "2 | X | 8 \n",
            "Choice: 8\n",
            "cache hit:\n",
            "O | X | O \n",
            "X | 4 | X \n",
            "2 | O | O \n",
            "Choice: 4\n",
            "cache hit:\n",
            "0 | 3 | 6 \n",
            "1 | 4 | 7 \n",
            "2 | 5 | 8 \n",
            "Choice: 0\n",
            "cache hit:\n",
            "O | 3 | 6 \n",
            "1 | 4 | 7 \n",
            "2 | 5 | 8 \n",
            "Choice: 3\n",
            "cache hit:\n",
            "X | O | 6 \n",
            "1 | 4 | 7 \n",
            "2 | 5 | 8 \n",
            "Choice: 6\n",
            "cache hit:\n",
            "O | X | O \n",
            "1 | 4 | 7 \n",
            "2 | 5 | 8 \n",
            "Choice: 1\n",
            "cache hit:\n",
            "X | O | X \n",
            "O | 4 | 7 \n",
            "2 | 5 | 8 \n",
            "Choice: 5\n",
            "cache hit:\n",
            "O | X | O \n",
            "X | 4 | 7 \n",
            "2 | O | 8 \n",
            "Choice: 7\n",
            "cache hit:\n",
            "X | O | X \n",
            "O | 4 | O \n",
            "2 | X | 8 \n",
            "Choice: 8\n",
            "cache hit:\n",
            "O | X | O \n",
            "X | 4 | X \n",
            "2 | O | O \n",
            "Choice: 4\n",
            "cache hit:\n",
            "0 | 3 | 6 \n",
            "1 | 4 | 7 \n",
            "2 | 5 | 8 \n",
            "Choice: 0\n",
            "cache hit:\n",
            "O | 3 | 6 \n",
            "1 | 4 | 7 \n",
            "2 | 5 | 8 \n",
            "Choice: 3\n",
            "cache hit:\n",
            "X | O | 6 \n",
            "1 | 4 | 7 \n",
            "2 | 5 | 8 \n",
            "Choice: 6\n",
            "cache hit:\n",
            "O | X | O \n",
            "1 | 4 | 7 \n",
            "2 | 5 | 8 \n",
            "Choice: 1\n",
            "cache hit:\n",
            "X | O | X \n",
            "O | 4 | 7 \n",
            "2 | 5 | 8 \n",
            "Choice: 5\n",
            "cache hit:\n",
            "O | X | O \n",
            "X | 4 | 7 \n",
            "2 | O | 8 \n",
            "Choice: 7\n",
            "cache hit:\n",
            "X | O | X \n",
            "O | 4 | O \n",
            "2 | X | 8 \n",
            "Choice: 8\n",
            "cache hit:\n",
            "O | X | O \n",
            "X | 4 | X \n",
            "2 | O | O \n",
            "Choice: 4\n",
            "cache hit:\n",
            "0 | 3 | 6 \n",
            "1 | 4 | 7 \n",
            "2 | 5 | 8 \n",
            "Choice: 0\n",
            "cache hit:\n",
            "O | 3 | 6 \n",
            "1 | 4 | 7 \n",
            "2 | 5 | 8 \n",
            "Choice: 3\n",
            "cache hit:\n",
            "X | O | 6 \n",
            "1 | 4 | 7 \n",
            "2 | 5 | 8 \n",
            "Choice: 6\n",
            "cache hit:\n",
            "O | X | O \n",
            "1 | 4 | 7 \n",
            "2 | 5 | 8 \n",
            "Choice: 1\n",
            "cache hit:\n",
            "X | O | X \n",
            "O | 4 | 7 \n",
            "2 | 5 | 8 \n",
            "Choice: 5\n",
            "cache hit:\n",
            "O | X | O \n",
            "X | 4 | 7 \n",
            "2 | O | 8 \n",
            "Choice: 7\n",
            "cache hit:\n",
            "X | O | X \n",
            "O | 4 | O \n",
            "2 | X | 8 \n",
            "Choice: 8\n",
            "cache hit:\n",
            "O | X | O \n",
            "X | 4 | X \n",
            "2 | O | O \n",
            "Choice: 4\n",
            "cache hit:\n",
            "0 | 3 | 6 \n",
            "1 | 4 | 7 \n",
            "2 | 5 | 8 \n",
            "Choice: 0\n",
            "cache hit:\n",
            "O | 3 | 6 \n",
            "1 | 4 | 7 \n",
            "2 | 5 | 8 \n",
            "Choice: 3\n",
            "cache hit:\n",
            "X | O | 6 \n",
            "1 | 4 | 7 \n",
            "2 | 5 | 8 \n",
            "Choice: 6\n",
            "cache hit:\n",
            "O | X | O \n",
            "1 | 4 | 7 \n",
            "2 | 5 | 8 \n",
            "Choice: 1\n",
            "cache hit:\n",
            "X | O | X \n",
            "O | 4 | 7 \n",
            "2 | 5 | 8 \n",
            "Choice: 5\n",
            "cache hit:\n",
            "O | X | O \n",
            "X | 4 | 7 \n",
            "2 | O | 8 \n",
            "Choice: 7\n",
            "cache hit:\n",
            "X | O | X \n",
            "O | 4 | O \n",
            "2 | X | 8 \n",
            "Choice: 8\n",
            "cache hit:\n",
            "O | X | O \n",
            "X | 4 | X \n",
            "2 | O | O \n",
            "Choice: 4\n",
            "cache hit:\n",
            "0 | 3 | 6 \n",
            "1 | 4 | 7 \n",
            "2 | 5 | 8 \n",
            "Choice: 0\n",
            "cache hit:\n",
            "O | 3 | 6 \n",
            "1 | 4 | 7 \n",
            "2 | 5 | 8 \n",
            "Choice: 3\n",
            "cache hit:\n",
            "X | O | 6 \n",
            "1 | 4 | 7 \n",
            "2 | 5 | 8 \n",
            "Choice: 6\n",
            "cache hit:\n",
            "O | X | O \n",
            "1 | 4 | 7 \n",
            "2 | 5 | 8 \n",
            "Choice: 1\n",
            "cache hit:\n",
            "X | O | X \n",
            "O | 4 | 7 \n",
            "2 | 5 | 8 \n",
            "Choice: 5\n",
            "cache hit:\n",
            "O | X | O \n",
            "X | 4 | 7 \n",
            "2 | O | 8 \n",
            "Choice: 7\n",
            "cache hit:\n",
            "X | O | X \n",
            "O | 4 | O \n",
            "2 | X | 8 \n",
            "Choice: 8\n",
            "cache hit:\n",
            "O | X | O \n",
            "X | 4 | X \n",
            "2 | O | O \n",
            "Choice: 4\n",
            "cache hit:\n",
            "0 | 3 | 6 \n",
            "1 | 4 | 7 \n",
            "2 | 5 | 8 \n",
            "Choice: 0\n",
            "cache hit:\n",
            "O | 3 | 6 \n",
            "1 | 4 | 7 \n",
            "2 | 5 | 8 \n",
            "Choice: 3\n",
            "cache hit:\n",
            "X | O | 6 \n",
            "1 | 4 | 7 \n",
            "2 | 5 | 8 \n",
            "Choice: 6\n",
            "cache hit:\n",
            "O | X | O \n",
            "1 | 4 | 7 \n",
            "2 | 5 | 8 \n",
            "Choice: 1\n",
            "cache hit:\n",
            "X | O | X \n",
            "O | 4 | 7 \n",
            "2 | 5 | 8 \n",
            "Choice: 5\n",
            "cache hit:\n",
            "O | X | O \n",
            "X | 4 | 7 \n",
            "2 | O | 8 \n",
            "Choice: 7\n",
            "cache hit:\n",
            "X | O | X \n",
            "O | 4 | O \n",
            "2 | X | 8 \n",
            "Choice: 8\n",
            "cache hit:\n",
            "O | X | O \n",
            "X | 4 | X \n",
            "2 | O | O \n",
            "Choice: 4\n",
            "Final reward: -1.0, length: 8.0\n",
            "Win: 0 lost: 100 draw: 0\n"
          ]
        }
      ]
    },
    {
      "cell_type": "code",
      "source": [
        "print(\"Random - random: \" + str(random_random[0]/100))\n",
        "print(\"Random - DQN: \" + str(random_dqn[0]/100))\n",
        "print(\"Random - LLM: \" + str(random_llm[0]/100))\n",
        "print(\"DQN - random: \" + str(dqn_random[0]/100))\n",
        "print(\"DQN - DQN: \" + str(dqn_dqn[0]/100))\n",
        "print(\"DQN - LLM: \" + str(dqn_llm[0]/100))\n",
        "print(\"LLM - random: \" + str(llm_random[0]/100))\n",
        "print(\"LLM - DQN: \" + str(llm_dqn[0]/100))\n",
        "print(\"LLM - LLM: \" + str(llm_llm[0]/100))"
      ],
      "metadata": {
        "id": "5PoosEu-sc4G",
        "colab": {
          "base_uri": "https://localhost:8080/"
        },
        "outputId": "5b6da852-a725-4f54-a097-ab2a9076f004"
      },
      "execution_count": null,
      "outputs": [
        {
          "output_type": "stream",
          "name": "stdout",
          "text": [
            "Random - random: 0.62\n",
            "Random - DQN: 0.32\n",
            "Random - LLM: 0.68\n",
            "DQN - random: 0.86\n",
            "DQN - DQN: 0.94\n",
            "DQN - LLM: 1.0\n",
            "LLM - random: 0.57\n",
            "LLM - DQN: 0.03\n",
            "LLM - LLM: 0.0\n"
          ]
        }
      ]
    },
    {
      "cell_type": "code",
      "source": [],
      "metadata": {
        "id": "14nI4IlX-abs"
      },
      "execution_count": null,
      "outputs": []
    }
  ]
}