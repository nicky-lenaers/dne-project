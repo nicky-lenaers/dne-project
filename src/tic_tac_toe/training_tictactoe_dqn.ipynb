{
  "nbformat": 4,
  "nbformat_minor": 0,
  "metadata": {
    "colab": {
      "provenance": [],
      "gpuType": "T4"
    },
    "kernelspec": {
      "name": "python3",
      "display_name": "Python 3"
    },
    "language_info": {
      "name": "python"
    },
    "accelerator": "GPU"
  },
  "cells": [
    {
      "cell_type": "markdown",
      "source": [
        "# Training DNQ for Tic Tac Toe\n",
        "\n",
        "Based on [RL against random policy opponent with PettingZoo](https://tianshou.org/en/stable/01_tutorials/04_tictactoe.html)."
      ],
      "metadata": {
        "id": "MWc4kcBMGnpg"
      }
    },
    {
      "cell_type": "code",
      "execution_count": null,
      "metadata": {
        "id": "_ixzdtHHYg_a"
      },
      "outputs": [],
      "source": [
        "%load_ext autoreload\n",
        "%autoreload 2"
      ]
    },
    {
      "cell_type": "markdown",
      "source": [
        "# Install dependencies"
      ],
      "metadata": {
        "id": "y9lmQIv9F9Ke"
      }
    },
    {
      "cell_type": "code",
      "source": [
        "!pip install gymnasium==0.29.1 pygame==2.3.0 pettingzoo==1.24.3 tianshou==0.5.1 transformers==4.39.1 accelerate==0.28.0 openai"
      ],
      "metadata": {
        "colab": {
          "base_uri": "https://localhost:8080/"
        },
        "id": "QSgELpG0YrrI",
        "outputId": "a0a1e882-de19-4bf1-8c4e-68deff488683"
      },
      "execution_count": null,
      "outputs": [
        {
          "output_type": "stream",
          "name": "stdout",
          "text": [
            "Collecting gymnasium==0.29.1\n",
            "  Downloading gymnasium-0.29.1-py3-none-any.whl (953 kB)\n",
            "\u001b[2K     \u001b[90m━━━━━━━━━━━━━━━━━━━━━━━━━━━━━━━━━━━━━━━━\u001b[0m \u001b[32m953.9/953.9 kB\u001b[0m \u001b[31m10.8 MB/s\u001b[0m eta \u001b[36m0:00:00\u001b[0m\n",
            "\u001b[?25hCollecting pygame==2.3.0\n",
            "  Downloading pygame-2.3.0-cp310-cp310-manylinux_2_17_x86_64.manylinux2014_x86_64.whl (13.8 MB)\n",
            "\u001b[2K     \u001b[90m━━━━━━━━━━━━━━━━━━━━━━━━━━━━━━━━━━━━━━━━\u001b[0m \u001b[32m13.8/13.8 MB\u001b[0m \u001b[31m23.4 MB/s\u001b[0m eta \u001b[36m0:00:00\u001b[0m\n",
            "\u001b[?25hCollecting pettingzoo==1.24.3\n",
            "  Downloading pettingzoo-1.24.3-py3-none-any.whl (847 kB)\n",
            "\u001b[2K     \u001b[90m━━━━━━━━━━━━━━━━━━━━━━━━━━━━━━━━━━━━━━━━\u001b[0m \u001b[32m847.8/847.8 kB\u001b[0m \u001b[31m30.4 MB/s\u001b[0m eta \u001b[36m0:00:00\u001b[0m\n",
            "\u001b[?25hCollecting tianshou==0.5.1\n",
            "  Downloading tianshou-0.5.1-py3-none-any.whl (163 kB)\n",
            "\u001b[2K     \u001b[90m━━━━━━━━━━━━━━━━━━━━━━━━━━━━━━━━━━━━━━━━\u001b[0m \u001b[32m163.1/163.1 kB\u001b[0m \u001b[31m10.9 MB/s\u001b[0m eta \u001b[36m0:00:00\u001b[0m\n",
            "\u001b[?25hCollecting transformers==4.39.1\n",
            "  Downloading transformers-4.39.1-py3-none-any.whl (8.8 MB)\n",
            "\u001b[2K     \u001b[90m━━━━━━━━━━━━━━━━━━━━━━━━━━━━━━━━━━━━━━━━\u001b[0m \u001b[32m8.8/8.8 MB\u001b[0m \u001b[31m36.5 MB/s\u001b[0m eta \u001b[36m0:00:00\u001b[0m\n",
            "\u001b[?25hCollecting accelerate==0.28.0\n",
            "  Downloading accelerate-0.28.0-py3-none-any.whl (290 kB)\n",
            "\u001b[2K     \u001b[90m━━━━━━━━━━━━━━━━━━━━━━━━━━━━━━━━━━━━━━━━\u001b[0m \u001b[32m290.1/290.1 kB\u001b[0m \u001b[31m23.8 MB/s\u001b[0m eta \u001b[36m0:00:00\u001b[0m\n",
            "\u001b[?25hCollecting openai\n",
            "  Downloading openai-1.17.1-py3-none-any.whl (268 kB)\n",
            "\u001b[2K     \u001b[90m━━━━━━━━━━━━━━━━━━━━━━━━━━━━━━━━━━━━━━━━\u001b[0m \u001b[32m268.3/268.3 kB\u001b[0m \u001b[31m4.2 MB/s\u001b[0m eta \u001b[36m0:00:00\u001b[0m\n",
            "\u001b[?25hRequirement already satisfied: numpy>=1.21.0 in /usr/local/lib/python3.10/dist-packages (from gymnasium==0.29.1) (1.25.2)\n",
            "Requirement already satisfied: cloudpickle>=1.2.0 in /usr/local/lib/python3.10/dist-packages (from gymnasium==0.29.1) (2.2.1)\n",
            "Requirement already satisfied: typing-extensions>=4.3.0 in /usr/local/lib/python3.10/dist-packages (from gymnasium==0.29.1) (4.11.0)\n",
            "Collecting farama-notifications>=0.0.1 (from gymnasium==0.29.1)\n",
            "  Downloading Farama_Notifications-0.0.4-py3-none-any.whl (2.5 kB)\n",
            "Requirement already satisfied: tqdm in /usr/local/lib/python3.10/dist-packages (from tianshou==0.5.1) (4.66.2)\n",
            "Requirement already satisfied: tensorboard>=2.5.0 in /usr/local/lib/python3.10/dist-packages (from tianshou==0.5.1) (2.15.2)\n",
            "Requirement already satisfied: torch>=1.4.0 in /usr/local/lib/python3.10/dist-packages (from tianshou==0.5.1) (2.2.1+cu121)\n",
            "Requirement already satisfied: numba>=0.51.0 in /usr/local/lib/python3.10/dist-packages (from tianshou==0.5.1) (0.58.1)\n",
            "Requirement already satisfied: h5py>=2.10.0 in /usr/local/lib/python3.10/dist-packages (from tianshou==0.5.1) (3.9.0)\n",
            "Requirement already satisfied: packaging in /usr/local/lib/python3.10/dist-packages (from tianshou==0.5.1) (24.0)\n",
            "Requirement already satisfied: filelock in /usr/local/lib/python3.10/dist-packages (from transformers==4.39.1) (3.13.4)\n",
            "Requirement already satisfied: huggingface-hub<1.0,>=0.19.3 in /usr/local/lib/python3.10/dist-packages (from transformers==4.39.1) (0.20.3)\n",
            "Requirement already satisfied: pyyaml>=5.1 in /usr/local/lib/python3.10/dist-packages (from transformers==4.39.1) (6.0.1)\n",
            "Requirement already satisfied: regex!=2019.12.17 in /usr/local/lib/python3.10/dist-packages (from transformers==4.39.1) (2023.12.25)\n",
            "Requirement already satisfied: requests in /usr/local/lib/python3.10/dist-packages (from transformers==4.39.1) (2.31.0)\n",
            "Requirement already satisfied: tokenizers<0.19,>=0.14 in /usr/local/lib/python3.10/dist-packages (from transformers==4.39.1) (0.15.2)\n",
            "Requirement already satisfied: safetensors>=0.4.1 in /usr/local/lib/python3.10/dist-packages (from transformers==4.39.1) (0.4.2)\n",
            "Requirement already satisfied: psutil in /usr/local/lib/python3.10/dist-packages (from accelerate==0.28.0) (5.9.5)\n",
            "Requirement already satisfied: anyio<5,>=3.5.0 in /usr/local/lib/python3.10/dist-packages (from openai) (3.7.1)\n",
            "Requirement already satisfied: distro<2,>=1.7.0 in /usr/lib/python3/dist-packages (from openai) (1.7.0)\n",
            "Collecting httpx<1,>=0.23.0 (from openai)\n",
            "  Downloading httpx-0.27.0-py3-none-any.whl (75 kB)\n",
            "\u001b[2K     \u001b[90m━━━━━━━━━━━━━━━━━━━━━━━━━━━━━━━━━━━━━━━━\u001b[0m \u001b[32m75.6/75.6 kB\u001b[0m \u001b[31m11.2 MB/s\u001b[0m eta \u001b[36m0:00:00\u001b[0m\n",
            "\u001b[?25hRequirement already satisfied: pydantic<3,>=1.9.0 in /usr/local/lib/python3.10/dist-packages (from openai) (2.6.4)\n",
            "Requirement already satisfied: sniffio in /usr/local/lib/python3.10/dist-packages (from openai) (1.3.1)\n",
            "Requirement already satisfied: idna>=2.8 in /usr/local/lib/python3.10/dist-packages (from anyio<5,>=3.5.0->openai) (3.6)\n",
            "Requirement already satisfied: exceptiongroup in /usr/local/lib/python3.10/dist-packages (from anyio<5,>=3.5.0->openai) (1.2.0)\n",
            "Requirement already satisfied: certifi in /usr/local/lib/python3.10/dist-packages (from httpx<1,>=0.23.0->openai) (2024.2.2)\n",
            "Collecting httpcore==1.* (from httpx<1,>=0.23.0->openai)\n",
            "  Downloading httpcore-1.0.5-py3-none-any.whl (77 kB)\n",
            "\u001b[2K     \u001b[90m━━━━━━━━━━━━━━━━━━━━━━━━━━━━━━━━━━━━━━━━\u001b[0m \u001b[32m77.9/77.9 kB\u001b[0m \u001b[31m11.0 MB/s\u001b[0m eta \u001b[36m0:00:00\u001b[0m\n",
            "\u001b[?25hCollecting h11<0.15,>=0.13 (from httpcore==1.*->httpx<1,>=0.23.0->openai)\n",
            "  Downloading h11-0.14.0-py3-none-any.whl (58 kB)\n",
            "\u001b[2K     \u001b[90m━━━━━━━━━━━━━━━━━━━━━━━━━━━━━━━━━━━━━━━━\u001b[0m \u001b[32m58.3/58.3 kB\u001b[0m \u001b[31m7.9 MB/s\u001b[0m eta \u001b[36m0:00:00\u001b[0m\n",
            "\u001b[?25hRequirement already satisfied: fsspec>=2023.5.0 in /usr/local/lib/python3.10/dist-packages (from huggingface-hub<1.0,>=0.19.3->transformers==4.39.1) (2023.6.0)\n",
            "Requirement already satisfied: llvmlite<0.42,>=0.41.0dev0 in /usr/local/lib/python3.10/dist-packages (from numba>=0.51.0->tianshou==0.5.1) (0.41.1)\n",
            "Requirement already satisfied: annotated-types>=0.4.0 in /usr/local/lib/python3.10/dist-packages (from pydantic<3,>=1.9.0->openai) (0.6.0)\n",
            "Requirement already satisfied: pydantic-core==2.16.3 in /usr/local/lib/python3.10/dist-packages (from pydantic<3,>=1.9.0->openai) (2.16.3)\n",
            "Requirement already satisfied: absl-py>=0.4 in /usr/local/lib/python3.10/dist-packages (from tensorboard>=2.5.0->tianshou==0.5.1) (1.4.0)\n",
            "Requirement already satisfied: grpcio>=1.48.2 in /usr/local/lib/python3.10/dist-packages (from tensorboard>=2.5.0->tianshou==0.5.1) (1.62.1)\n",
            "Requirement already satisfied: google-auth<3,>=1.6.3 in /usr/local/lib/python3.10/dist-packages (from tensorboard>=2.5.0->tianshou==0.5.1) (2.27.0)\n",
            "Requirement already satisfied: google-auth-oauthlib<2,>=0.5 in /usr/local/lib/python3.10/dist-packages (from tensorboard>=2.5.0->tianshou==0.5.1) (1.2.0)\n",
            "Requirement already satisfied: markdown>=2.6.8 in /usr/local/lib/python3.10/dist-packages (from tensorboard>=2.5.0->tianshou==0.5.1) (3.6)\n",
            "Requirement already satisfied: protobuf!=4.24.0,>=3.19.6 in /usr/local/lib/python3.10/dist-packages (from tensorboard>=2.5.0->tianshou==0.5.1) (3.20.3)\n",
            "Requirement already satisfied: setuptools>=41.0.0 in /usr/local/lib/python3.10/dist-packages (from tensorboard>=2.5.0->tianshou==0.5.1) (67.7.2)\n",
            "Requirement already satisfied: six>1.9 in /usr/local/lib/python3.10/dist-packages (from tensorboard>=2.5.0->tianshou==0.5.1) (1.16.0)\n",
            "Requirement already satisfied: tensorboard-data-server<0.8.0,>=0.7.0 in /usr/local/lib/python3.10/dist-packages (from tensorboard>=2.5.0->tianshou==0.5.1) (0.7.2)\n",
            "Requirement already satisfied: werkzeug>=1.0.1 in /usr/local/lib/python3.10/dist-packages (from tensorboard>=2.5.0->tianshou==0.5.1) (3.0.2)\n",
            "Requirement already satisfied: charset-normalizer<4,>=2 in /usr/local/lib/python3.10/dist-packages (from requests->transformers==4.39.1) (3.3.2)\n",
            "Requirement already satisfied: urllib3<3,>=1.21.1 in /usr/local/lib/python3.10/dist-packages (from requests->transformers==4.39.1) (2.0.7)\n",
            "Requirement already satisfied: sympy in /usr/local/lib/python3.10/dist-packages (from torch>=1.4.0->tianshou==0.5.1) (1.12)\n",
            "Requirement already satisfied: networkx in /usr/local/lib/python3.10/dist-packages (from torch>=1.4.0->tianshou==0.5.1) (3.3)\n",
            "Requirement already satisfied: jinja2 in /usr/local/lib/python3.10/dist-packages (from torch>=1.4.0->tianshou==0.5.1) (3.1.3)\n",
            "Collecting nvidia-cuda-nvrtc-cu12==12.1.105 (from torch>=1.4.0->tianshou==0.5.1)\n",
            "  Using cached nvidia_cuda_nvrtc_cu12-12.1.105-py3-none-manylinux1_x86_64.whl (23.7 MB)\n",
            "Collecting nvidia-cuda-runtime-cu12==12.1.105 (from torch>=1.4.0->tianshou==0.5.1)\n",
            "  Using cached nvidia_cuda_runtime_cu12-12.1.105-py3-none-manylinux1_x86_64.whl (823 kB)\n",
            "Collecting nvidia-cuda-cupti-cu12==12.1.105 (from torch>=1.4.0->tianshou==0.5.1)\n",
            "  Using cached nvidia_cuda_cupti_cu12-12.1.105-py3-none-manylinux1_x86_64.whl (14.1 MB)\n",
            "Collecting nvidia-cudnn-cu12==8.9.2.26 (from torch>=1.4.0->tianshou==0.5.1)\n",
            "  Using cached nvidia_cudnn_cu12-8.9.2.26-py3-none-manylinux1_x86_64.whl (731.7 MB)\n",
            "Collecting nvidia-cublas-cu12==12.1.3.1 (from torch>=1.4.0->tianshou==0.5.1)\n",
            "  Using cached nvidia_cublas_cu12-12.1.3.1-py3-none-manylinux1_x86_64.whl (410.6 MB)\n",
            "Collecting nvidia-cufft-cu12==11.0.2.54 (from torch>=1.4.0->tianshou==0.5.1)\n",
            "  Using cached nvidia_cufft_cu12-11.0.2.54-py3-none-manylinux1_x86_64.whl (121.6 MB)\n",
            "Collecting nvidia-curand-cu12==10.3.2.106 (from torch>=1.4.0->tianshou==0.5.1)\n",
            "  Using cached nvidia_curand_cu12-10.3.2.106-py3-none-manylinux1_x86_64.whl (56.5 MB)\n",
            "Collecting nvidia-cusolver-cu12==11.4.5.107 (from torch>=1.4.0->tianshou==0.5.1)\n",
            "  Using cached nvidia_cusolver_cu12-11.4.5.107-py3-none-manylinux1_x86_64.whl (124.2 MB)\n",
            "Collecting nvidia-cusparse-cu12==12.1.0.106 (from torch>=1.4.0->tianshou==0.5.1)\n",
            "  Using cached nvidia_cusparse_cu12-12.1.0.106-py3-none-manylinux1_x86_64.whl (196.0 MB)\n",
            "Collecting nvidia-nccl-cu12==2.19.3 (from torch>=1.4.0->tianshou==0.5.1)\n",
            "  Using cached nvidia_nccl_cu12-2.19.3-py3-none-manylinux1_x86_64.whl (166.0 MB)\n",
            "Collecting nvidia-nvtx-cu12==12.1.105 (from torch>=1.4.0->tianshou==0.5.1)\n",
            "  Using cached nvidia_nvtx_cu12-12.1.105-py3-none-manylinux1_x86_64.whl (99 kB)\n",
            "Requirement already satisfied: triton==2.2.0 in /usr/local/lib/python3.10/dist-packages (from torch>=1.4.0->tianshou==0.5.1) (2.2.0)\n",
            "Collecting nvidia-nvjitlink-cu12 (from nvidia-cusolver-cu12==11.4.5.107->torch>=1.4.0->tianshou==0.5.1)\n",
            "  Using cached nvidia_nvjitlink_cu12-12.4.127-py3-none-manylinux2014_x86_64.whl (21.1 MB)\n",
            "Requirement already satisfied: cachetools<6.0,>=2.0.0 in /usr/local/lib/python3.10/dist-packages (from google-auth<3,>=1.6.3->tensorboard>=2.5.0->tianshou==0.5.1) (5.3.3)\n",
            "Requirement already satisfied: pyasn1-modules>=0.2.1 in /usr/local/lib/python3.10/dist-packages (from google-auth<3,>=1.6.3->tensorboard>=2.5.0->tianshou==0.5.1) (0.4.0)\n",
            "Requirement already satisfied: rsa<5,>=3.1.4 in /usr/local/lib/python3.10/dist-packages (from google-auth<3,>=1.6.3->tensorboard>=2.5.0->tianshou==0.5.1) (4.9)\n",
            "Requirement already satisfied: requests-oauthlib>=0.7.0 in /usr/local/lib/python3.10/dist-packages (from google-auth-oauthlib<2,>=0.5->tensorboard>=2.5.0->tianshou==0.5.1) (1.3.1)\n",
            "Requirement already satisfied: MarkupSafe>=2.1.1 in /usr/local/lib/python3.10/dist-packages (from werkzeug>=1.0.1->tensorboard>=2.5.0->tianshou==0.5.1) (2.1.5)\n",
            "Requirement already satisfied: mpmath>=0.19 in /usr/local/lib/python3.10/dist-packages (from sympy->torch>=1.4.0->tianshou==0.5.1) (1.3.0)\n",
            "Requirement already satisfied: pyasn1<0.7.0,>=0.4.6 in /usr/local/lib/python3.10/dist-packages (from pyasn1-modules>=0.2.1->google-auth<3,>=1.6.3->tensorboard>=2.5.0->tianshou==0.5.1) (0.6.0)\n",
            "Requirement already satisfied: oauthlib>=3.0.0 in /usr/local/lib/python3.10/dist-packages (from requests-oauthlib>=0.7.0->google-auth-oauthlib<2,>=0.5->tensorboard>=2.5.0->tianshou==0.5.1) (3.2.2)\n",
            "Installing collected packages: farama-notifications, pygame, nvidia-nvtx-cu12, nvidia-nvjitlink-cu12, nvidia-nccl-cu12, nvidia-curand-cu12, nvidia-cufft-cu12, nvidia-cuda-runtime-cu12, nvidia-cuda-nvrtc-cu12, nvidia-cuda-cupti-cu12, nvidia-cublas-cu12, h11, gymnasium, pettingzoo, nvidia-cusparse-cu12, nvidia-cudnn-cu12, httpcore, nvidia-cusolver-cu12, httpx, transformers, openai, tianshou, accelerate\n",
            "  Attempting uninstall: pygame\n",
            "    Found existing installation: pygame 2.5.2\n",
            "    Uninstalling pygame-2.5.2:\n",
            "      Successfully uninstalled pygame-2.5.2\n",
            "  Attempting uninstall: transformers\n",
            "    Found existing installation: transformers 4.38.2\n",
            "    Uninstalling transformers-4.38.2:\n",
            "      Successfully uninstalled transformers-4.38.2\n",
            "Successfully installed accelerate-0.28.0 farama-notifications-0.0.4 gymnasium-0.29.1 h11-0.14.0 httpcore-1.0.5 httpx-0.27.0 nvidia-cublas-cu12-12.1.3.1 nvidia-cuda-cupti-cu12-12.1.105 nvidia-cuda-nvrtc-cu12-12.1.105 nvidia-cuda-runtime-cu12-12.1.105 nvidia-cudnn-cu12-8.9.2.26 nvidia-cufft-cu12-11.0.2.54 nvidia-curand-cu12-10.3.2.106 nvidia-cusolver-cu12-11.4.5.107 nvidia-cusparse-cu12-12.1.0.106 nvidia-nccl-cu12-2.19.3 nvidia-nvjitlink-cu12-12.4.127 nvidia-nvtx-cu12-12.1.105 openai-1.17.1 pettingzoo-1.24.3 pygame-2.3.0 tianshou-0.5.1 transformers-4.39.1\n"
          ]
        }
      ]
    },
    {
      "cell_type": "markdown",
      "source": [
        "# Import needed dependencies"
      ],
      "metadata": {
        "id": "InU12D5lGB5u"
      }
    },
    {
      "cell_type": "code",
      "source": [
        "import gymnasium as gym\n",
        "import torch\n",
        "from pettingzoo.classic import tictactoe_v3\n",
        "from torch.utils.tensorboard import SummaryWriter\n",
        "\n",
        "from tianshou.data import Collector, VectorReplayBuffer\n",
        "from tianshou.env import DummyVectorEnv\n",
        "from tianshou.env.pettingzoo_env import PettingZooEnv\n",
        "from tianshou.policy import (\n",
        "    BasePolicy,\n",
        "    DQNPolicy,\n",
        "    MultiAgentPolicyManager,\n",
        "    RandomPolicy,\n",
        ")\n",
        "from tianshou.trainer import OffpolicyTrainer\n",
        "from tianshou.utils import TensorboardLogger\n",
        "from tianshou.utils.net.common import Net"
      ],
      "metadata": {
        "id": "jAnd4bSUYuJ2"
      },
      "execution_count": null,
      "outputs": []
    },
    {
      "cell_type": "markdown",
      "source": [
        "# Setup environment"
      ],
      "metadata": {
        "id": "GJUqMfTpGHkb"
      }
    },
    {
      "cell_type": "code",
      "source": [
        "def get_env(render_mode=None):\n",
        "  return PettingZooEnv(tictactoe_v3.env(render_mode=render_mode))\n",
        "\n",
        "# create the environment and get the shape of the states and shape of the actions\n",
        "env = get_env()\n",
        "observation_space = env.observation_space['observation'] if isinstance(\n",
        "  env.observation_space, gym.spaces.Dict\n",
        ") else env.observation_space\n",
        "state_shape = observation_space.shape or observation_space.n\n",
        "action_shape = env.action_space.shape or env.action_space.n"
      ],
      "metadata": {
        "id": "LP3tEh8Acfca"
      },
      "execution_count": null,
      "outputs": []
    },
    {
      "cell_type": "markdown",
      "source": [
        "# Setup policies\n",
        "\n",
        "One training policy (DNQPolicy) and the opponent (RandomPolicy)."
      ],
      "metadata": {
        "id": "lB6dVGoGGPl0"
      }
    },
    {
      "cell_type": "code",
      "source": [
        "# Hidden sizes: shape of the MLP\n",
        "hidden_sizes = [128, 128, 128, 128]\n",
        "# device to train on\n",
        "device = torch.device(\"cuda\" if torch.cuda.is_available() else \"cpu\")\n",
        "# the number of steps to look ahead\n",
        "estimation_step = 3\n",
        "# the target network update frequency (0 if you do not use the target network).\n",
        "target_update_freq = 320\n",
        "# learning rate of the Adam optimizer\n",
        "lr = 1e-4\n",
        "\n",
        "# The deep learning model (MLP) that underpins the behaviour of the agent (it is not the agent itself).\n",
        "net = Net(\n",
        "  state_shape,\n",
        "  action_shape,\n",
        "  hidden_sizes=hidden_sizes,\n",
        "  device=device\n",
        ").to(device)\n",
        "\n",
        "# Adam optimizer\n",
        "optim = torch.optim.Adam(net.parameters(), lr=lr)\n",
        "\n",
        "# Agent to learn\n",
        "agent_learn = DQNPolicy(\n",
        "  model=net,\n",
        "  optim=optim,\n",
        "  action_space=env.action_space,\n",
        "  estimation_step=estimation_step,\n",
        "  target_update_freq=target_update_freq\n",
        ")\n",
        "\n",
        "# A2CPolicy(\n",
        "#         actor, critic, optim, dist, args.gamma, vf_coef=args.vf_coef,\n",
        "#         ent_coef=args.ent_coef, max_grad_norm=args.max_grad_norm)\n",
        "\n",
        "# opponent for the learning agent\n",
        "agent_opponent = RandomPolicy(action_space=env.action_space)\n",
        "\n",
        "agents = [agent_learn, agent_opponent]\n",
        "\n",
        "# Multi-agent policy manager for Multi-Agent Reinforcement Learning (https://tianshou.org/en/stable/01_tutorials/07_cheatsheet.html#marl-example)\n",
        "policy = MultiAgentPolicyManager(agents, env)"
      ],
      "metadata": {
        "id": "FSDEGYrcZUO2"
      },
      "execution_count": null,
      "outputs": []
    },
    {
      "cell_type": "markdown",
      "source": [
        "# Train the agent\n",
        "Using the OffPolicyTrainer."
      ],
      "metadata": {
        "id": "wgZy7_UPJzbJ"
      }
    },
    {
      "cell_type": "code",
      "source": [
        "# number of training environments\n",
        "training_num = 10\n",
        "# number of testing environments\n",
        "test_num = 10\n",
        "# size of the VectorReplayBuffer\n",
        "buffer_size = 20000\n",
        "# the batch size of sample data, which is going to feed in the policy network.\n",
        "batch_size = 64\n",
        "# the maximum number of epochs for training. The training process might be finished before reaching max_epoch if stop_fn is set.\n",
        "epoch = 50\n",
        "# the number of transitions collected per epoch.\n",
        "step_per_epoch = 1000\n",
        "# the number of transitions the collector would collect before the network update,\n",
        "# i.e., trainer will collect \"step_per_collect\" transitions and do some policy network update\n",
        "# repeatedly in each epoch.\n",
        "step_per_collect = 10\n",
        "# used in the stop function when the mean rewards are over this threshold\n",
        "win_rate = 0.6\n",
        "# The eps for epsilon-greedy exploration for test and training\n",
        "eps_test = 0.05\n",
        "eps_train = 0.1\n",
        "# the number of times the policy network would be updated per transition after (step_per_collect)\n",
        "# transitions are collected, e.g., if update_per_step set to 0.3, and step_per_collect is 256,\n",
        "# policy will be updated round(256 * 0.3 = 76.8) = 77 times after 256 transitions are collected\n",
        "# by the collector. Default to 1.\n",
        "update_per_step = 0.1\n",
        "# path to save the results and the logging\n",
        "path = '/content/tic_tac_toe/dnq'\n",
        "\n",
        "# Dummy vectorized environment wrapper, implemented in for-loop.\n",
        "# This has the same interface as true vectorized environment, but the rollout does not happen in parallel.\n",
        "# So, all workers just wait for each other and the environment is as efficient as using a single environment.\n",
        "# This can be useful for testing or for demonstration purposes.\n",
        "train_envs = DummyVectorEnv([get_env for _ in range(training_num)])\n",
        "test_envs = DummyVectorEnv([get_env for _ in range(test_num)])\n",
        "\n",
        "# VectorReplayBuffer contains n ReplayBuffer with the same size.\n",
        "# It is used for storing transition from different environments yet keeping the order of time.\n",
        "vectorReplayBuffer = VectorReplayBuffer(buffer_size, len(train_envs))\n",
        "\n",
        "# determine whether the action needs to be modified with corresponding policy’s exploration noise.\n",
        "# If so, “policy. exploration_noise(act, batch)” will be called automatically to add the\n",
        "# exploration noise into action.\n",
        "exploration_noise = True\n",
        "\n",
        "# Train and test collector\n",
        "# Collector enables the policy to interact with different types of envs with exact number of steps or episodes.\n",
        "train_collector = Collector(policy, train_envs, vectorReplayBuffer, exploration_noise=exploration_noise)\n",
        "test_collector = Collector(policy, test_envs, exploration_noise=exploration_noise)\n",
        "\n",
        "# Collect a specified number of step or episode.\n",
        "train_collector.collect(n_step=batch_size * training_num)\n",
        "\n",
        "# A logger that logs statistics during training/testing/updating\n",
        "writer = SummaryWriter(path)\n",
        "logger = TensorboardLogger(writer)\n",
        "\n",
        "# ID of the agent that we are training\n",
        "agent_id = 'player_1'\n",
        "\n",
        "# Functions for the OffpolicyTrainer\n",
        "# Save the best model\n",
        "def save_best_fn(policy):\n",
        "  torch.save(policy.policies[agent_id].state_dict(), path + '/policy.pth')\n",
        "\n",
        "# When to stop training\n",
        "def stop_fn(mean_rewards):\n",
        "    return mean_rewards >= win_rate\n",
        "\n",
        "# a hook called at the beginning of training in each epoch. It can be used to perform custom additional operations\n",
        "def train_fn(epoch, env_step):\n",
        "    # Set the eps for epsilon-greedy exploration.\n",
        "    policy.policies[agent_id].set_eps(eps_train)\n",
        "\n",
        "def test_fn(epoch, env_step):\n",
        "    # Set the eps for epsilon-greedy exploration.\n",
        "    policy.policies[agent_id].set_eps(eps_test)\n",
        "\n",
        "# A function with signature used in multi-agent RL.\n",
        "# We need to return a single scalar for each episode’s result to monitor training in the multi-agent RL setting.\n",
        "# This function specifies what is the desired metric, e.g., the reward of agent 1 or the average reward over all agents.\n",
        "def reward_metric(rews):\n",
        "    return rews[:, 0]\n",
        "\n",
        "# Offpolicy trainer, samples mini-batches from buffer and passes them to update.\n",
        "result = OffpolicyTrainer(\n",
        "  policy,\n",
        "  train_collector,\n",
        "  test_collector,\n",
        "  epoch,\n",
        "  step_per_epoch,\n",
        "  step_per_collect,\n",
        "  test_num,\n",
        "  batch_size,\n",
        "  train_fn=train_fn,\n",
        "  test_fn=test_fn,\n",
        "  stop_fn=stop_fn,\n",
        "  save_best_fn=save_best_fn,\n",
        "  update_per_step=update_per_step,\n",
        "  logger=logger,\n",
        "  test_in_train=False, # whether to test in the training phase.\n",
        "  reward_metric=reward_metric\n",
        ").run()"
      ],
      "metadata": {
        "colab": {
          "base_uri": "https://localhost:8080/"
        },
        "id": "Sb9XhtchcB3G",
        "outputId": "3499fe6b-4357-4e94-f6a9-cd8f10b59fbd"
      },
      "execution_count": null,
      "outputs": [
        {
          "output_type": "stream",
          "name": "stderr",
          "text": [
            "Epoch #1: 1001it [00:04, 246.53it/s, env_step=1000, len=5, n/ep=1, n/st=10, player_1/loss=0.303, rew=1.00]                          \n"
          ]
        },
        {
          "output_type": "stream",
          "name": "stdout",
          "text": [
            "Epoch #1: test_reward: 0.300000 ± 0.781025, best_reward: 0.300000 ± 0.781025 in #1\n"
          ]
        },
        {
          "output_type": "stream",
          "name": "stderr",
          "text": [
            "Epoch #2: 1001it [00:01, 549.43it/s, env_step=2000, len=5, n/ep=1, n/st=10, player_1/loss=0.290, rew=1.00]                          \n"
          ]
        },
        {
          "output_type": "stream",
          "name": "stdout",
          "text": [
            "Epoch #2: test_reward: 1.000000 ± 0.000000, best_reward: 1.000000 ± 0.000000 in #2\n"
          ]
        }
      ]
    },
    {
      "cell_type": "markdown",
      "source": [
        "# Play\n",
        "\n",
        "Play with the trained agent to the opponent a number of episodes and print the results"
      ],
      "metadata": {
        "id": "nxLtBMTBKNg-"
      }
    },
    {
      "cell_type": "code",
      "source": [
        "env = get_env(render_mode=None)\n",
        "env = DummyVectorEnv([lambda: env])\n",
        "collector = Collector(policy, env, exploration_noise=True)\n",
        "# play number of episodes\n",
        "result = collector.collect(n_episode=100, render=None)\n",
        "rews, lens = result[\"rews\"], result[\"lens\"]\n",
        "print(f\"Final reward: {rews[:, 0].mean()}, length: {lens.mean()}\")\n",
        "\n",
        "won = 0\n",
        "draw = 0\n",
        "lost = 0\n",
        "for res in result['rews']:\n",
        "  if res[0] == 1:\n",
        "    won += 1\n",
        "  elif res[0] == -1:\n",
        "    lost +=1\n",
        "  else:\n",
        "    draw += 1\n",
        "\n",
        "print(\"Win: \" + str(won) + \" lost: \" + str(lost) + \" draw: \" + str(draw))"
      ],
      "metadata": {
        "colab": {
          "base_uri": "https://localhost:8080/"
        },
        "id": "MAhLVoCMctbb",
        "outputId": "9e8d9273-7b56-464b-e4c6-776565c787f3"
      },
      "execution_count": 13,
      "outputs": [
        {
          "output_type": "stream",
          "name": "stdout",
          "text": [
            "Final reward: 0.88, length: 5.54\n",
            "Win: 94 lost: 6 draw: 0\n"
          ]
        }
      ]
    },
    {
      "cell_type": "code",
      "source": [],
      "metadata": {
        "id": "cMT-wuoGRP2O"
      },
      "execution_count": null,
      "outputs": []
    }
  ]
}