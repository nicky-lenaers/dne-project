{
  "nbformat": 4,
  "nbformat_minor": 0,
  "metadata": {
    "colab": {
      "provenance": [],
      "gpuType": "A100",
      "machine_shape": "hm"
    },
    "kernelspec": {
      "name": "python3",
      "display_name": "Python 3"
    },
    "language_info": {
      "name": "python"
    },
    "accelerator": "GPU"
  },
  "cells": [
    {
      "cell_type": "markdown",
      "source": [
        "# Training DNQ for CartPole\n",
        "\n",
        "Based on [Deep Q-Network from Tianshou](https://tianshou.org/en/stable/01_tutorials/00_dqn.html)."
      ],
      "metadata": {
        "id": "MWc4kcBMGnpg"
      }
    },
    {
      "cell_type": "code",
      "execution_count": 1,
      "metadata": {
        "id": "_ixzdtHHYg_a"
      },
      "outputs": [],
      "source": [
        "%load_ext autoreload\n",
        "%autoreload 2"
      ]
    },
    {
      "cell_type": "markdown",
      "source": [
        "# Install dependencies"
      ],
      "metadata": {
        "id": "y9lmQIv9F9Ke"
      }
    },
    {
      "cell_type": "code",
      "source": [
        "!pip install gymnasium==0.29.1 pygame==2.3.0 pettingzoo==1.24.3 tianshou==0.5.1"
      ],
      "metadata": {
        "id": "QSgELpG0YrrI",
        "colab": {
          "base_uri": "https://localhost:8080/"
        },
        "outputId": "01ce89a1-d6a9-4e0e-bdfd-38d184dc6aaa"
      },
      "execution_count": 2,
      "outputs": [
        {
          "output_type": "stream",
          "name": "stdout",
          "text": [
            "Collecting gymnasium==0.29.1\n",
            "  Downloading gymnasium-0.29.1-py3-none-any.whl (953 kB)\n",
            "\u001b[2K     \u001b[90m━━━━━━━━━━━━━━━━━━━━━━━━━━━━━━━━━━━━━━━━\u001b[0m \u001b[32m953.9/953.9 kB\u001b[0m \u001b[31m1.5 MB/s\u001b[0m eta \u001b[36m0:00:00\u001b[0m\n",
            "\u001b[?25hCollecting pygame==2.3.0\n",
            "  Downloading pygame-2.3.0-cp310-cp310-manylinux_2_17_x86_64.manylinux2014_x86_64.whl (13.8 MB)\n",
            "\u001b[2K     \u001b[90m━━━━━━━━━━━━━━━━━━━━━━━━━━━━━━━━━━━━━━━━\u001b[0m \u001b[32m13.8/13.8 MB\u001b[0m \u001b[31m2.2 MB/s\u001b[0m eta \u001b[36m0:00:00\u001b[0m\n",
            "\u001b[?25hCollecting pettingzoo==1.24.3\n",
            "  Downloading pettingzoo-1.24.3-py3-none-any.whl (847 kB)\n",
            "\u001b[2K     \u001b[90m━━━━━━━━━━━━━━━━━━━━━━━━━━━━━━━━━━━━━━━━\u001b[0m \u001b[32m847.8/847.8 kB\u001b[0m \u001b[31m3.3 MB/s\u001b[0m eta \u001b[36m0:00:00\u001b[0m\n",
            "\u001b[?25hCollecting tianshou==0.5.1\n",
            "  Downloading tianshou-0.5.1-py3-none-any.whl (163 kB)\n",
            "\u001b[2K     \u001b[90m━━━━━━━━━━━━━━━━━━━━━━━━━━━━━━━━━━━━━━━━\u001b[0m \u001b[32m163.1/163.1 kB\u001b[0m \u001b[31m3.1 MB/s\u001b[0m eta \u001b[36m0:00:00\u001b[0m\n",
            "\u001b[?25hRequirement already satisfied: numpy>=1.21.0 in /usr/local/lib/python3.10/dist-packages (from gymnasium==0.29.1) (1.25.2)\n",
            "Requirement already satisfied: cloudpickle>=1.2.0 in /usr/local/lib/python3.10/dist-packages (from gymnasium==0.29.1) (2.2.1)\n",
            "Requirement already satisfied: typing-extensions>=4.3.0 in /usr/local/lib/python3.10/dist-packages (from gymnasium==0.29.1) (4.11.0)\n",
            "Collecting farama-notifications>=0.0.1 (from gymnasium==0.29.1)\n",
            "  Downloading Farama_Notifications-0.0.4-py3-none-any.whl (2.5 kB)\n",
            "Requirement already satisfied: tqdm in /usr/local/lib/python3.10/dist-packages (from tianshou==0.5.1) (4.66.2)\n",
            "Requirement already satisfied: tensorboard>=2.5.0 in /usr/local/lib/python3.10/dist-packages (from tianshou==0.5.1) (2.15.2)\n",
            "Requirement already satisfied: torch>=1.4.0 in /usr/local/lib/python3.10/dist-packages (from tianshou==0.5.1) (2.2.1+cu121)\n",
            "Requirement already satisfied: numba>=0.51.0 in /usr/local/lib/python3.10/dist-packages (from tianshou==0.5.1) (0.58.1)\n",
            "Requirement already satisfied: h5py>=2.10.0 in /usr/local/lib/python3.10/dist-packages (from tianshou==0.5.1) (3.9.0)\n",
            "Requirement already satisfied: packaging in /usr/local/lib/python3.10/dist-packages (from tianshou==0.5.1) (24.0)\n",
            "Requirement already satisfied: llvmlite<0.42,>=0.41.0dev0 in /usr/local/lib/python3.10/dist-packages (from numba>=0.51.0->tianshou==0.5.1) (0.41.1)\n",
            "Requirement already satisfied: absl-py>=0.4 in /usr/local/lib/python3.10/dist-packages (from tensorboard>=2.5.0->tianshou==0.5.1) (1.4.0)\n",
            "Requirement already satisfied: grpcio>=1.48.2 in /usr/local/lib/python3.10/dist-packages (from tensorboard>=2.5.0->tianshou==0.5.1) (1.62.2)\n",
            "Requirement already satisfied: google-auth<3,>=1.6.3 in /usr/local/lib/python3.10/dist-packages (from tensorboard>=2.5.0->tianshou==0.5.1) (2.27.0)\n",
            "Requirement already satisfied: google-auth-oauthlib<2,>=0.5 in /usr/local/lib/python3.10/dist-packages (from tensorboard>=2.5.0->tianshou==0.5.1) (1.2.0)\n",
            "Requirement already satisfied: markdown>=2.6.8 in /usr/local/lib/python3.10/dist-packages (from tensorboard>=2.5.0->tianshou==0.5.1) (3.6)\n",
            "Requirement already satisfied: protobuf!=4.24.0,>=3.19.6 in /usr/local/lib/python3.10/dist-packages (from tensorboard>=2.5.0->tianshou==0.5.1) (3.20.3)\n",
            "Requirement already satisfied: requests<3,>=2.21.0 in /usr/local/lib/python3.10/dist-packages (from tensorboard>=2.5.0->tianshou==0.5.1) (2.31.0)\n",
            "Requirement already satisfied: setuptools>=41.0.0 in /usr/local/lib/python3.10/dist-packages (from tensorboard>=2.5.0->tianshou==0.5.1) (67.7.2)\n",
            "Requirement already satisfied: six>1.9 in /usr/local/lib/python3.10/dist-packages (from tensorboard>=2.5.0->tianshou==0.5.1) (1.16.0)\n",
            "Requirement already satisfied: tensorboard-data-server<0.8.0,>=0.7.0 in /usr/local/lib/python3.10/dist-packages (from tensorboard>=2.5.0->tianshou==0.5.1) (0.7.2)\n",
            "Requirement already satisfied: werkzeug>=1.0.1 in /usr/local/lib/python3.10/dist-packages (from tensorboard>=2.5.0->tianshou==0.5.1) (3.0.2)\n",
            "Requirement already satisfied: filelock in /usr/local/lib/python3.10/dist-packages (from torch>=1.4.0->tianshou==0.5.1) (3.13.4)\n",
            "Requirement already satisfied: sympy in /usr/local/lib/python3.10/dist-packages (from torch>=1.4.0->tianshou==0.5.1) (1.12)\n",
            "Requirement already satisfied: networkx in /usr/local/lib/python3.10/dist-packages (from torch>=1.4.0->tianshou==0.5.1) (3.3)\n",
            "Requirement already satisfied: jinja2 in /usr/local/lib/python3.10/dist-packages (from torch>=1.4.0->tianshou==0.5.1) (3.1.3)\n",
            "Requirement already satisfied: fsspec in /usr/local/lib/python3.10/dist-packages (from torch>=1.4.0->tianshou==0.5.1) (2023.6.0)\n",
            "Collecting nvidia-cuda-nvrtc-cu12==12.1.105 (from torch>=1.4.0->tianshou==0.5.1)\n",
            "  Using cached nvidia_cuda_nvrtc_cu12-12.1.105-py3-none-manylinux1_x86_64.whl (23.7 MB)\n",
            "Collecting nvidia-cuda-runtime-cu12==12.1.105 (from torch>=1.4.0->tianshou==0.5.1)\n",
            "  Using cached nvidia_cuda_runtime_cu12-12.1.105-py3-none-manylinux1_x86_64.whl (823 kB)\n",
            "Collecting nvidia-cuda-cupti-cu12==12.1.105 (from torch>=1.4.0->tianshou==0.5.1)\n",
            "  Using cached nvidia_cuda_cupti_cu12-12.1.105-py3-none-manylinux1_x86_64.whl (14.1 MB)\n",
            "Collecting nvidia-cudnn-cu12==8.9.2.26 (from torch>=1.4.0->tianshou==0.5.1)\n",
            "  Using cached nvidia_cudnn_cu12-8.9.2.26-py3-none-manylinux1_x86_64.whl (731.7 MB)\n",
            "Collecting nvidia-cublas-cu12==12.1.3.1 (from torch>=1.4.0->tianshou==0.5.1)\n",
            "  Using cached nvidia_cublas_cu12-12.1.3.1-py3-none-manylinux1_x86_64.whl (410.6 MB)\n",
            "Collecting nvidia-cufft-cu12==11.0.2.54 (from torch>=1.4.0->tianshou==0.5.1)\n",
            "  Using cached nvidia_cufft_cu12-11.0.2.54-py3-none-manylinux1_x86_64.whl (121.6 MB)\n",
            "Collecting nvidia-curand-cu12==10.3.2.106 (from torch>=1.4.0->tianshou==0.5.1)\n",
            "  Using cached nvidia_curand_cu12-10.3.2.106-py3-none-manylinux1_x86_64.whl (56.5 MB)\n",
            "Collecting nvidia-cusolver-cu12==11.4.5.107 (from torch>=1.4.0->tianshou==0.5.1)\n",
            "  Using cached nvidia_cusolver_cu12-11.4.5.107-py3-none-manylinux1_x86_64.whl (124.2 MB)\n",
            "Collecting nvidia-cusparse-cu12==12.1.0.106 (from torch>=1.4.0->tianshou==0.5.1)\n",
            "  Using cached nvidia_cusparse_cu12-12.1.0.106-py3-none-manylinux1_x86_64.whl (196.0 MB)\n",
            "Collecting nvidia-nccl-cu12==2.19.3 (from torch>=1.4.0->tianshou==0.5.1)\n",
            "  Using cached nvidia_nccl_cu12-2.19.3-py3-none-manylinux1_x86_64.whl (166.0 MB)\n",
            "Collecting nvidia-nvtx-cu12==12.1.105 (from torch>=1.4.0->tianshou==0.5.1)\n",
            "  Using cached nvidia_nvtx_cu12-12.1.105-py3-none-manylinux1_x86_64.whl (99 kB)\n",
            "Requirement already satisfied: triton==2.2.0 in /usr/local/lib/python3.10/dist-packages (from torch>=1.4.0->tianshou==0.5.1) (2.2.0)\n",
            "Collecting nvidia-nvjitlink-cu12 (from nvidia-cusolver-cu12==11.4.5.107->torch>=1.4.0->tianshou==0.5.1)\n",
            "  Using cached nvidia_nvjitlink_cu12-12.4.127-py3-none-manylinux2014_x86_64.whl (21.1 MB)\n",
            "Requirement already satisfied: cachetools<6.0,>=2.0.0 in /usr/local/lib/python3.10/dist-packages (from google-auth<3,>=1.6.3->tensorboard>=2.5.0->tianshou==0.5.1) (5.3.3)\n",
            "Requirement already satisfied: pyasn1-modules>=0.2.1 in /usr/local/lib/python3.10/dist-packages (from google-auth<3,>=1.6.3->tensorboard>=2.5.0->tianshou==0.5.1) (0.4.0)\n",
            "Requirement already satisfied: rsa<5,>=3.1.4 in /usr/local/lib/python3.10/dist-packages (from google-auth<3,>=1.6.3->tensorboard>=2.5.0->tianshou==0.5.1) (4.9)\n",
            "Requirement already satisfied: requests-oauthlib>=0.7.0 in /usr/local/lib/python3.10/dist-packages (from google-auth-oauthlib<2,>=0.5->tensorboard>=2.5.0->tianshou==0.5.1) (1.3.1)\n",
            "Requirement already satisfied: charset-normalizer<4,>=2 in /usr/local/lib/python3.10/dist-packages (from requests<3,>=2.21.0->tensorboard>=2.5.0->tianshou==0.5.1) (3.3.2)\n",
            "Requirement already satisfied: idna<4,>=2.5 in /usr/local/lib/python3.10/dist-packages (from requests<3,>=2.21.0->tensorboard>=2.5.0->tianshou==0.5.1) (3.7)\n",
            "Requirement already satisfied: urllib3<3,>=1.21.1 in /usr/local/lib/python3.10/dist-packages (from requests<3,>=2.21.0->tensorboard>=2.5.0->tianshou==0.5.1) (2.0.7)\n",
            "Requirement already satisfied: certifi>=2017.4.17 in /usr/local/lib/python3.10/dist-packages (from requests<3,>=2.21.0->tensorboard>=2.5.0->tianshou==0.5.1) (2024.2.2)\n",
            "Requirement already satisfied: MarkupSafe>=2.1.1 in /usr/local/lib/python3.10/dist-packages (from werkzeug>=1.0.1->tensorboard>=2.5.0->tianshou==0.5.1) (2.1.5)\n",
            "Requirement already satisfied: mpmath>=0.19 in /usr/local/lib/python3.10/dist-packages (from sympy->torch>=1.4.0->tianshou==0.5.1) (1.3.0)\n",
            "Requirement already satisfied: pyasn1<0.7.0,>=0.4.6 in /usr/local/lib/python3.10/dist-packages (from pyasn1-modules>=0.2.1->google-auth<3,>=1.6.3->tensorboard>=2.5.0->tianshou==0.5.1) (0.6.0)\n",
            "Requirement already satisfied: oauthlib>=3.0.0 in /usr/local/lib/python3.10/dist-packages (from requests-oauthlib>=0.7.0->google-auth-oauthlib<2,>=0.5->tensorboard>=2.5.0->tianshou==0.5.1) (3.2.2)\n",
            "Installing collected packages: farama-notifications, pygame, nvidia-nvtx-cu12, nvidia-nvjitlink-cu12, nvidia-nccl-cu12, nvidia-curand-cu12, nvidia-cufft-cu12, nvidia-cuda-runtime-cu12, nvidia-cuda-nvrtc-cu12, nvidia-cuda-cupti-cu12, nvidia-cublas-cu12, gymnasium, pettingzoo, nvidia-cusparse-cu12, nvidia-cudnn-cu12, nvidia-cusolver-cu12, tianshou\n",
            "  Attempting uninstall: pygame\n",
            "    Found existing installation: pygame 2.5.2\n",
            "    Uninstalling pygame-2.5.2:\n",
            "      Successfully uninstalled pygame-2.5.2\n",
            "Successfully installed farama-notifications-0.0.4 gymnasium-0.29.1 nvidia-cublas-cu12-12.1.3.1 nvidia-cuda-cupti-cu12-12.1.105 nvidia-cuda-nvrtc-cu12-12.1.105 nvidia-cuda-runtime-cu12-12.1.105 nvidia-cudnn-cu12-8.9.2.26 nvidia-cufft-cu12-11.0.2.54 nvidia-curand-cu12-10.3.2.106 nvidia-cusolver-cu12-11.4.5.107 nvidia-cusparse-cu12-12.1.0.106 nvidia-nccl-cu12-2.19.3 nvidia-nvjitlink-cu12-12.4.127 nvidia-nvtx-cu12-12.1.105 pettingzoo-1.24.3 pygame-2.3.0 tianshou-0.5.1\n"
          ]
        }
      ]
    },
    {
      "cell_type": "markdown",
      "source": [
        "# Setup environment"
      ],
      "metadata": {
        "id": "GJUqMfTpGHkb"
      }
    },
    {
      "cell_type": "code",
      "source": [
        "import gymnasium as gym\n",
        "import tianshou as ts\n",
        "\n",
        "def get_env(render_mode=None):\n",
        "  return gym.make(\"CartPole-v1\", render_mode=render_mode)\n",
        "\n",
        "env = get_env()"
      ],
      "metadata": {
        "id": "8eNTgrS7Qozg"
      },
      "execution_count": 25,
      "outputs": []
    },
    {
      "cell_type": "code",
      "source": [
        "train_envs = ts.env.DummyVectorEnv([get_env for _ in range(10)])\n",
        "test_envs = ts.env.DummyVectorEnv([get_env for _ in range(100)])"
      ],
      "metadata": {
        "id": "LP3tEh8Acfca"
      },
      "execution_count": 26,
      "outputs": []
    },
    {
      "cell_type": "markdown",
      "source": [
        "# Setup PyTorch Network"
      ],
      "metadata": {
        "id": "lB6dVGoGGPl0"
      }
    },
    {
      "cell_type": "code",
      "source": [
        "import torch\n",
        "import numpy as np\n",
        "from torch import nn\n",
        "\n",
        "\n",
        "class Net(nn.Module):\n",
        "    def __init__(self, state_shape, action_shape):\n",
        "        super().__init__()\n",
        "        self.model = nn.Sequential(\n",
        "            nn.Linear(np.prod(state_shape), 128),\n",
        "            nn.ReLU(inplace=True),\n",
        "            nn.Linear(128, 128),\n",
        "            nn.ReLU(inplace=True),\n",
        "            nn.Linear(128, 128),\n",
        "            nn.ReLU(inplace=True),\n",
        "            nn.Linear(128, np.prod(action_shape)),\n",
        "        )\n",
        "\n",
        "    def forward(self, obs, state=None, info={}):\n",
        "        if not isinstance(obs, torch.Tensor):\n",
        "            obs = torch.tensor(obs, dtype=torch.float)\n",
        "        batch = obs.shape[0]\n",
        "        logits = self.model(obs.view(batch, -1))\n",
        "        return logits, state\n",
        "\n",
        "\n",
        "state_shape = env.observation_space.shape or env.observation_space.n\n",
        "action_shape = env.action_space.shape or env.action_space.n\n",
        "\n",
        "net = Net(state_shape, action_shape)\n",
        "optim = torch.optim.Adam(net.parameters(), lr=1e-3)"
      ],
      "metadata": {
        "id": "FSDEGYrcZUO2"
      },
      "execution_count": 27,
      "outputs": []
    },
    {
      "cell_type": "markdown",
      "source": [
        "# Create Policy"
      ],
      "metadata": {
        "id": "T4_YveVRRC87"
      }
    },
    {
      "cell_type": "code",
      "source": [
        "policy = ts.policy.DQNPolicy(\n",
        "    model=net,\n",
        "    optim=optim,\n",
        "    action_space=env.action_space,\n",
        "    discount_factor=0.9,\n",
        "    estimation_step=3,\n",
        "    target_update_freq=320,\n",
        ")"
      ],
      "metadata": {
        "id": "KJ-3vuAuREa8"
      },
      "execution_count": 28,
      "outputs": []
    },
    {
      "cell_type": "code",
      "source": [
        "train_collector = ts.data.Collector(\n",
        "    policy, train_envs, ts.data.VectorReplayBuffer(20000, 10), exploration_noise=True\n",
        ")\n",
        "test_collector = ts.data.Collector(policy, test_envs, exploration_noise=True)"
      ],
      "metadata": {
        "id": "5YDAB_hZRGR8"
      },
      "execution_count": 29,
      "outputs": []
    },
    {
      "cell_type": "markdown",
      "source": [
        "# Train the agent\n",
        "Using the OffPolicyTrainer."
      ],
      "metadata": {
        "id": "wgZy7_UPJzbJ"
      }
    },
    {
      "cell_type": "code",
      "source": [
        "result = ts.trainer.OffpolicyTrainer(\n",
        "    policy=policy,\n",
        "    train_collector=train_collector,\n",
        "    test_collector=test_collector,\n",
        "    max_epoch=10,\n",
        "    step_per_epoch=50000,\n",
        "    step_per_collect=2000,\n",
        "    update_per_step=0.1,\n",
        "    episode_per_test=100,\n",
        "    batch_size=256,\n",
        "    train_fn=lambda epoch, env_step: policy.set_eps(0.1),\n",
        "    test_fn=lambda epoch, env_step: policy.set_eps(0.05),\n",
        "    stop_fn=lambda mean_rewards: mean_rewards >= 500,\n",
        ").run()\n",
        "print(f'Finished training! Use {result[\"duration\"]}')\n",
        "\n",
        "result"
      ],
      "metadata": {
        "id": "Sb9XhtchcB3G",
        "colab": {
          "base_uri": "https://localhost:8080/"
        },
        "outputId": "9f7b96cb-d909-434f-8b86-5feedadaee92"
      },
      "execution_count": 31,
      "outputs": [
        {
          "output_type": "stream",
          "name": "stderr",
          "text": [
            "Epoch #1: 50001it [00:27, 1792.95it/s, env_step=50000, len=165, loss=0.016, n/ep=12, n/st=2000, rew=165.92]                           \n"
          ]
        },
        {
          "output_type": "stream",
          "name": "stdout",
          "text": [
            "Epoch #1: test_reward: 129.220000 ± 5.369506, best_reward: 129.220000 ± 5.369506 in #1\n"
          ]
        },
        {
          "output_type": "stream",
          "name": "stderr",
          "text": [
            "Epoch #2: 50001it [00:33, 1512.59it/s, env_step=100000, len=472, loss=0.008, n/ep=8, n/st=2000, rew=472.75]                           \n"
          ]
        },
        {
          "output_type": "stream",
          "name": "stdout",
          "text": [
            "Epoch #2: test_reward: 500.000000 ± 0.000000, best_reward: 500.000000 ± 0.000000 in #2\n",
            "Finished training! Use 63.38s\n"
          ]
        },
        {
          "output_type": "execute_result",
          "data": {
            "text/plain": [
              "{'duration': '63.38s',\n",
              " 'train_time/model': '45.43s',\n",
              " 'test_step': 178156,\n",
              " 'test_episode': 600,\n",
              " 'test_time': '6.93s',\n",
              " 'test_speed': '25693.27 step/s',\n",
              " 'best_reward': 500.0,\n",
              " 'best_result': '500.00 ± 0.00',\n",
              " 'train_step': 100000,\n",
              " 'train_episode': 1158,\n",
              " 'train_time/collector': '11.02s',\n",
              " 'train_speed': '1771.57 step/s'}"
            ]
          },
          "metadata": {},
          "execution_count": 31
        }
      ]
    },
    {
      "cell_type": "markdown",
      "source": [
        "# Play\n",
        "\n",
        "Play with the trained agent to the opponent a number of episodes and print the results"
      ],
      "metadata": {
        "id": "nxLtBMTBKNg-"
      }
    },
    {
      "cell_type": "code",
      "source": [
        "policy.eval()\n",
        "\n",
        "env = get_env(render_mode=None)\n",
        "env = ts.env.DummyVectorEnv([lambda: env])\n",
        "collector = ts.data.Collector(policy, env, exploration_noise=True)\n",
        "result = collector.collect(n_episode=100, render=None)\n",
        "rews, lens = result[\"rews\"], result[\"lens\"]\n",
        "\n",
        "display(rews.mean())"
      ],
      "metadata": {
        "id": "MAhLVoCMctbb",
        "colab": {
          "base_uri": "https://localhost:8080/",
          "height": 35
        },
        "outputId": "fef5585c-e414-4a52-8e6a-14c5175153c9"
      },
      "execution_count": 32,
      "outputs": [
        {
          "output_type": "display_data",
          "data": {
            "text/plain": [
              "490.97"
            ]
          },
          "metadata": {}
        }
      ]
    },
    {
      "cell_type": "markdown",
      "source": [
        "Plot Result"
      ],
      "metadata": {
        "id": "lPwVK7sUZ7H7"
      }
    },
    {
      "cell_type": "code",
      "source": [
        "import plotly.figure_factory as ff\n",
        "\n",
        "fig = ff.create_distplot([result['rews']], ['reward'])\n",
        "fig.update_layout(title_text='CartPole DQN Result')\n",
        "fig.show()"
      ],
      "metadata": {
        "id": "77RNG1EUUA-P",
        "colab": {
          "base_uri": "https://localhost:8080/",
          "height": 542
        },
        "outputId": "9f546d53-5f89-4f6d-c36b-134026c5d092"
      },
      "execution_count": 33,
      "outputs": [
        {
          "output_type": "display_data",
          "data": {
            "text/html": [
              "<html>\n",
              "<head><meta charset=\"utf-8\" /></head>\n",
              "<body>\n",
              "    <div>            <script src=\"https://cdnjs.cloudflare.com/ajax/libs/mathjax/2.7.5/MathJax.js?config=TeX-AMS-MML_SVG\"></script><script type=\"text/javascript\">if (window.MathJax && window.MathJax.Hub && window.MathJax.Hub.Config) {window.MathJax.Hub.Config({SVG: {font: \"STIX-Web\"}});}</script>                <script type=\"text/javascript\">window.PlotlyConfig = {MathJaxConfig: 'local'};</script>\n",
              "        <script charset=\"utf-8\" src=\"https://cdn.plot.ly/plotly-2.24.1.min.js\"></script>                <div id=\"3d9504e8-f7fa-4cc9-b891-fff4d5c4224c\" class=\"plotly-graph-div\" style=\"height:525px; width:100%;\"></div>            <script type=\"text/javascript\">                                    window.PLOTLYENV=window.PLOTLYENV || {};                                    if (document.getElementById(\"3d9504e8-f7fa-4cc9-b891-fff4d5c4224c\")) {                    Plotly.newPlot(                        \"3d9504e8-f7fa-4cc9-b891-fff4d5c4224c\",                        [{\"autobinx\":false,\"histnorm\":\"probability density\",\"legendgroup\":\"reward\",\"marker\":{\"color\":\"rgb(31, 119, 180)\"},\"name\":\"reward\",\"opacity\":0.7,\"x\":[500.0,500.0,500.0,500.0,500.0,500.0,500.0,500.0,500.0,500.0,500.0,500.0,500.0,500.0,500.0,500.0,500.0,500.0,500.0,500.0,500.0,500.0,500.0,500.0,500.0,500.0,500.0,500.0,65.0,500.0,500.0,500.0,500.0,500.0,500.0,500.0,500.0,500.0,500.0,500.0,500.0,500.0,32.0,500.0,500.0,500.0,500.0,500.0,500.0,500.0,500.0,500.0,500.0,500.0,500.0,500.0,500.0,500.0,500.0,500.0,500.0,500.0,500.0,500.0,500.0,500.0,500.0,500.0,500.0,500.0,500.0,500.0,500.0,500.0,500.0,500.0,500.0,500.0,500.0,500.0,500.0,500.0,500.0,500.0,500.0,500.0,500.0,500.0,500.0,500.0,500.0,500.0,500.0,500.0,500.0,500.0,500.0,500.0,500.0,500.0],\"xaxis\":\"x\",\"xbins\":{\"end\":500.0,\"size\":1.0,\"start\":32.0},\"yaxis\":\"y\",\"type\":\"histogram\"},{\"legendgroup\":\"reward\",\"marker\":{\"color\":\"rgb(31, 119, 180)\"},\"mode\":\"lines\",\"name\":\"reward\",\"showlegend\":false,\"x\":[32.0,32.936,33.872,34.808,35.744,36.68,37.616,38.552,39.488,40.424,41.36,42.296,43.232,44.168,45.104,46.04,46.976,47.912,48.848,49.784,50.72,51.656,52.592,53.528,54.464,55.4,56.336,57.272,58.208,59.144,60.08,61.016,61.952,62.888000000000005,63.824,64.75999999999999,65.696,66.632,67.568,68.50399999999999,69.44,70.376,71.312,72.24799999999999,73.184,74.12,75.056,75.99199999999999,76.928,77.864,78.8,79.73599999999999,80.672,81.608,82.544,83.47999999999999,84.416,85.352,86.288,87.22399999999999,88.16,89.096,90.032,90.968,91.904,92.84,93.77600000000001,94.712,95.648,96.584,97.52,98.456,99.392,100.328,101.264,102.2,103.136,104.072,105.008,105.944,106.88,107.816,108.752,109.688,110.624,111.56,112.496,113.432,114.368,115.304,116.24,117.176,118.112,119.048,119.984,120.92,121.856,122.792,123.728,124.664,125.6,126.536,127.472,128.40800000000002,129.344,130.28,131.216,132.152,133.088,134.024,134.95999999999998,135.89600000000002,136.832,137.768,138.704,139.64,140.576,141.512,142.44799999999998,143.38400000000001,144.32,145.256,146.192,147.128,148.064,149.0,149.936,150.872,151.808,152.744,153.68,154.61599999999999,155.55200000000002,156.488,157.424,158.36,159.296,160.232,161.168,162.104,163.04,163.976,164.912,165.848,166.784,167.72,168.656,169.592,170.528,171.464,172.4,173.336,174.272,175.208,176.144,177.08,178.016,178.952,179.888,180.824,181.76,182.696,183.632,184.568,185.504,186.44,187.376,188.312,189.248,190.184,191.12,192.056,192.992,193.928,194.864,195.8,196.736,197.672,198.608,199.544,200.48,201.416,202.352,203.288,204.224,205.16,206.096,207.032,207.968,208.904,209.84,210.776,211.712,212.648,213.584,214.52,215.456,216.392,217.328,218.264,219.2,220.136,221.072,222.008,222.944,223.88,224.816,225.752,226.688,227.624,228.56,229.496,230.432,231.368,232.304,233.24,234.176,235.112,236.048,236.984,237.92,238.856,239.792,240.728,241.664,242.6,243.536,244.472,245.408,246.344,247.28,248.216,249.152,250.088,251.024,251.96,252.896,253.832,254.768,255.704,256.64,257.576,258.512,259.448,260.384,261.32,262.256,263.192,264.128,265.06399999999996,266.0,266.93600000000004,267.872,268.808,269.744,270.68,271.616,272.552,273.488,274.424,275.36,276.296,277.23199999999997,278.168,279.10400000000004,280.03999999999996,280.976,281.91200000000003,282.848,283.784,284.72,285.656,286.592,287.528,288.464,289.4,290.336,291.272,292.208,293.144,294.08,295.016,295.952,296.888,297.824,298.76,299.696,300.632,301.568,302.504,303.44,304.376,305.312,306.248,307.184,308.12,309.056,309.992,310.928,311.864,312.8,313.736,314.672,315.608,316.544,317.48,318.416,319.352,320.288,321.224,322.16,323.096,324.032,324.968,325.904,326.84,327.776,328.712,329.648,330.584,331.52,332.456,333.392,334.328,335.264,336.2,337.136,338.072,339.008,339.944,340.88,341.816,342.752,343.688,344.624,345.56,346.496,347.432,348.368,349.304,350.24,351.176,352.112,353.048,353.984,354.92,355.856,356.792,357.728,358.664,359.6,360.536,361.472,362.408,363.344,364.28,365.216,366.152,367.088,368.024,368.96,369.896,370.832,371.768,372.704,373.64,374.576,375.512,376.448,377.384,378.32,379.256,380.192,381.128,382.064,383.0,383.936,384.872,385.808,386.744,387.68,388.616,389.552,390.488,391.424,392.36,393.296,394.232,395.168,396.104,397.04,397.976,398.912,399.848,400.784,401.72,402.656,403.592,404.528,405.464,406.4,407.336,408.272,409.208,410.144,411.08,412.016,412.952,413.888,414.824,415.76,416.696,417.632,418.568,419.504,420.44,421.376,422.312,423.248,424.184,425.12,426.056,426.992,427.928,428.864,429.8,430.736,431.672,432.608,433.544,434.48,435.416,436.352,437.288,438.224,439.16,440.096,441.032,441.968,442.904,443.84,444.776,445.712,446.648,447.584,448.52,449.456,450.392,451.328,452.264,453.2,454.136,455.072,456.008,456.944,457.88,458.816,459.752,460.688,461.624,462.56,463.496,464.432,465.368,466.304,467.24,468.176,469.112,470.048,470.984,471.92,472.856,473.792,474.728,475.664,476.6,477.536,478.472,479.408,480.344,481.28,482.216,483.152,484.088,485.024,485.96,486.896,487.832,488.768,489.704,490.64,491.576,492.512,493.448,494.384,495.32,496.256,497.192,498.128,499.064],\"xaxis\":\"x\",\"y\":[0.00022500044265603872,0.0002281726846844082,0.00023118826128669287,0.00023404191405831232,0.0002367287326248897,0.0002392441554247596,0.00024158396896882035,0.00024374430579617734,0.00024572164135531745,0.00024751279004728516,0.0002491149006693717,0.0002505254514951682,0.00025174224521951906,0.0002527634039851104,0.0002535873646913612,0.0002542128747662841,0.00025463898855843374,0.0002548650644794287,0.00025489076299834833,0.00025471604555812617,0.00025434117445151454,0.000253766713660908,0.0002529935306329418,0.0002520227989259827,0.0002508560016370399,0.0002494949354848729,0.00024794171539873125,0.00024619877943777804,0.0002442688938452967,0.000242155158024671,0.0002398610092112083,0.00023739022660539116,0.00023474693472928093,0.0002319356057686303,0.00022896106066879764,0.00022582846876269378,0.00022254334572356264,0.00021911154965413538,0.0002155392751462708,0.00021183304517120237,0.0002079997006894842,0.00020404638790115775,0.00019998054308998378,0.00019580987505022485,0.00019154234511981505,0.00018718614487920308,0.0001827496716101056,0.00017824150164226716,0.00017367036174852768,0.00016904509877852618,0.000164374647748742,0.00015966799863085824,0.00015493416210127106,0.0001501821345316516,0.00014542086251356808,0.0001406592072191358,0.00013590590890438903,0.00013116955186255472,0.00012645853013070192,0.0001217810142454746,0.00011714491933197707,0.00011255787479460774,0.00010802719586004425,0.00010355985720100406,9.916246884522742e-05,9.484125454776636e-05,9.060203277655503e-05,8.645020043182257e-05,8.239071938965619e-05,7.84281059293738e-05,7.456642307376892e-05,7.080927584116757e-05,6.71598093789972e-05,6.362070992057314e-05,6.0194208480406495e-05,5.68820871788235e-05,5.368568806432365e-05,5.0605924282097034e-05,4.7643293419659044e-05,4.479789284573857e-05,4.206943684648465e-05,3.945727535373997e-05,3.696041405358098e-05,3.457753565948202e-05,3.230702213324429e-05,3.0146977638118042e-05,2.8095252012189662e-05,2.6149464555926903e-05,2.430702793558487e-05,2.256517201374803e-05,2.0920967429410584e-05,1.9371348762425062e-05,1.7913137130659634e-05,1.6543062082544255e-05,1.5257782662631373e-05,1.4053907543117199e-05,1.2928014129749639e-05,1.187666656598512e-05,1.0896432574461064e-05,9.983899089650435e-06,9.135686649810024e-06,8.348462529884509e-06,7.618952609777817e-06,6.943951984249246e-06,6.320334331565833e-06,5.745060067885282e-06,5.215183323121565e-06,4.727857781735861e-06,4.280341438498872e-06,3.8700003247974495e-06,3.4943112655339135e-06,3.1508637301298e-06,2.8373608436440738e-06,2.551619625604149e-06,2.2915705248936617e-06,2.0552563190080926e-06,1.8408304452547848e-06,1.6465548301109987e-06,1.4707972810385156e-06,1.3120285026634891e-06,1.168818796439518e-06,1.0398344997931747e-06,9.238342173749462e-07,8.196648934692563e-07,7.262577709179323e-07,6.42624278137843e-07,5.678518820177141e-07,5.010999407078758e-07,4.415955866103957e-07,3.886296662720776e-07,3.4155276040901034e-07,2.997713039742457e-07,2.6274382304016814e-07,2.299773023197287e-07,2.010236944074582e-07,1.75476579289631e-07,1.529679803565895e-07,1.331653410500619e-07,1.1576866439181443e-07,1.0050781596253847e-07,8.713998942473603e-08,7.544733240195894e-08,6.523472942915985e-08,5.6327737764144783e-08,4.857067108641224e-08,4.182482549467875e-08,3.59668417356203e-08,3.088719724111605e-08,2.6488821307096823e-08,2.2685826601735908e-08,1.9402350132360707e-08,1.6571496817827072e-08,1.4134378895516444e-08,1.2039244529556594e-08,1.0240689170068505e-08,8.698943433636395e-09,7.3792315250147925e-09,6.251194492276298e-09,5.288372895892698e-09,4.467743771047012e-09,3.7693070669310115e-09,3.1757170526632417e-09,2.6719544831657924e-09,2.2450356168307885e-09,1.8837544675870018e-09,1.578454955015121e-09,1.3208298858703386e-09,1.1037439575482927e-09,9.210782178176425e-10,7.675936449816519e-10,6.388117282261474e-10,5.309101291872735e-10,4.406316928451297e-10,3.6520524898787675e-10,3.022768050922166e-10,2.498498780273883e-10,2.0623384608506597e-10,1.6999932509664783e-10,1.3993968349149083e-10,1.1503791176535304e-10,9.443815266889565e-11,7.742128019046473e-11,6.338398878409896e-11,5.182091995309822e-11,4.23094118878842e-11,3.449650999219248e-11,2.8087922400077767e-11,2.2838645540134053e-11,1.854502095987399e-11,1.5038016463745226e-11,1.2177552588494252e-11,9.847719950122944e-12,7.952754423995405e-12,6.4136558074057076e-12,5.1653518745226015e-12,4.154323849905203e-12,3.3366215538407135e-12,2.6762070398091133e-12,2.1435746566947053e-12,1.7146033091104664e-12,1.3696034213075495e-12,1.0925268780653969e-12,8.703131473852586e-13,6.923489972669229e-13,5.500228012112377e-13,4.36357470988944e-13,3.4570863634705974e-13,2.7351687564253687e-13,2.1610464622208097e-13,1.7051011838950315e-13,1.3435142497365906e-13,1.0571593687426069e-13,8.307009538662013e-14,6.518610193624179e-14,5.108240850192049e-14,3.9975487466795247e-14,3.1240804948506525e-14,2.4381291306671334e-14,1.9001908794062734e-14,1.478916960466995e-14,1.149466665726419e-14,8.921851735048092e-15,6.915437300326486e-15,5.352914636060563e-15,4.137776302280336e-15,3.194108884180354e-15,2.4622856929595245e-15,1.8955409913866213e-15,1.457249555368367e-15,1.11876969185061e-15,8.577356521693934e-16,6.567078968463627e-16,5.021078615430393e-16,3.8337854899210575e-16,2.9232408825453356e-16,2.2259090105465114e-16,1.6926073688859213e-16,1.2853194433521398e-16,9.747022880621213e-17,7.381404516513488e-17,5.582288050430951e-17,4.215915435839726e-17,3.179642717931405e-17,2.3948164964526814e-17,1.8012540605107967e-17,1.352972676276266e-17,1.0148903804856196e-17,7.60281188542509e-18,5.6881525161080824e-18,4.250518937626554e-18,3.1728277961967883e-18,2.366454160019812e-18,1.764451364203568e-18,1.3163773209820275e-18,9.843583101401318e-19,7.401066301216141e-19,5.626751976038008e-19,4.367844832621586e-19,3.515984547318349e-19,2.998591930222545e-19,2.7731678558807487e-19,2.8241384583585812e-19,3.1620418964788073e-19,3.825043024617829e-19,4.88295708048491e-19,6.444177215091245e-19,8.666150294115726e-19,1.1770350848655285e-18,1.6063088773441966e-18,2.1963983057740624e-18,3.0044580698072373e-18,4.108044754770617e-18,5.612117174990312e-18,7.658418574580029e-18,1.0438024038656406e-17,1.420808983796934e-17,1.9314174116194643e-17,2.6219934592835246e-17,3.554658022801386e-17,4.8125200739550794e-17,6.506607299391532e-17,8.78503143276936e-17,1.1845090696728244e-16,1.5949226692925703e-16,2.1446031882891338e-16,2.879786489797332e-16,3.8617097839124075e-16,5.171362251708613e-16,6.915701951716653e-16,9.23577937357455e-16,1.2317336444589427e-15,1.6404614536194685e-15,2.1818315972951272e-15,2.8978933239057032e-15,3.84370042947127e-15,5.091229102823016e-15,6.734443584454838e-15,8.895836003533468e-15,1.1734856608357882e-14,1.545876434019622e-14,2.0336571427690072e-14,2.6716937004616936e-14,3.505109312977439e-14,4.592217373912723e-14,6.008267750490275e-14,7.850224725603119e-14,1.0242851366212959e-13,1.3346445654997744e-13,1.7366661699633608e-13,2.2566958830136941e-13,2.9284357438102105e-13,3.7949349147024094e-13,4.911101782363041e-13,6.346868616660168e-13,8.191172122018601e-13,1.055695245872826e-12,1.3587421561020178e-12,1.7463910797008404e-12,2.24156805673473e-12,2.8732163168253945e-12,3.6778218562976855e-12,4.701311470072443e-12,6.001410457771395e-12,7.650566717608562e-12,9.739571567428272e-12,1.23820362127822e-11,1.5719917292398507e-11,1.9930326524672013e-11,2.5233909514821197e-11,3.1905138861572024e-11,4.0284938703961814e-11,5.079614397461924e-11,6.396240044860559e-11,8.043123419645264e-11,1.0100216475541209e-10,1.2666090927205464e-10,1.586209297270306e-10,1.983738175364302e-10,2.4775029555978674e-10,3.089939539811927e-10,3.8485023185328406e-10,4.786736196527971e-10,5.945566006356828e-10,7.374844821849376e-10,9.135210063976256e-10,1.1300304872954347e-09,1.3959432176351553e-09,1.72207204081089e-09,2.1214893145377204e-09,2.60997502711223e-09,3.206548590935424e-09,3.934098861356436e-09,4.820129244446932e-09,5.897637400873032e-09,7.206152063697612e-09,8.79295290818346e-09,1.0714503287358099e-08,1.3038130027573042e-08,1.5843989416224568e-08,1.922736406516456e-08,2.3301341557114885e-08,2.8199932740323795e-08,3.4081695292821665e-08,4.113393679770783e-08,4.9577581121708e-08,5.967279243775234e-08,7.172546284448064e-08,8.609468227513429e-08,1.0320132331530427e-07,1.2353788871784586e-07,1.476797858610275e-07,1.7629821017970214e-07,2.101748387336347e-07,2.5021855557160046e-07,2.9748445239535214e-07,3.531953711928412e-07,4.187662799388067e-07,4.958317980660625e-07,5.862772150723885e-07,6.922733731869469e-07,8.163158132739878e-07,9.612686118515584e-07,1.130413365945338e-06,1.327503811124041e-06,1.5568265860512164e-06,1.8232686837516932e-06,2.132392154972038e-06,2.490516651884421e-06,2.904810420234671e-06,3.383390364088497e-06,3.9354318187213736e-06,4.5712886729937934e-06,5.302624481741377e-06,6.142555200205355e-06,7.105804155190275e-06,8.208869840256228e-06,9.470207083580365e-06,1.0910422085882849e-05,1.2552481760688494e-05,1.442193772890343e-05,1.6547165222929955e-05,1.8959617041095054e-05,2.1694092559860986e-05,2.4789021658062916e-05,2.8286763233329266e-05,3.2233917795161784e-05,3.66816534012768e-05,4.1686043963473745e-05,4.730841868643458e-05,5.3615721117786355e-05,6.0680875981120725e-05,6.858316163655108e-05,7.740858566725277e-05,8.725026072735459e-05,9.8208777408903e-05,0.00011039257049658329,0.00012391827458191812,0.00013891106460808673,0.00015550497651690954,0.00017384320277648242,0.00019407835718708133,0.0002163727030010281,0.00024089833805584376,0.0002678373303170076,0.00029738179696453364,0.0003297339199445306,0.00036510589075153726,0.00040371977711784477,0.00044580730427098476,0.000491609543488347,0.0005413765008363836,0.0005953665992389876,0.000653846047382215,0.0007170880894366244,0.0007853721301698134,0.0008589827307340644,0.0009382084712499918,0.001023340677268647,0.0011146720082805667,0.0012124949076490158,0.0013170999146721544,0.0014287738409181274,0.0015477978145207417,0.0016744451977603037,0.0018089793849709673,0.0019516514895991331,0.0021026979310675878,0.002262337933959504,0.002430770953902681,0.0026081740463847723,0.0027946991965393437,0.0029904706296850964,0.0031955821240476413,0.003410094348619568,0.0036340322504883177,0.003867382517158413,0.004110091140383726,0.004362061108783219,0.004623150257012093,0.004893169299479391,0.005171880076518768,0.005458994040518343,0.005754171008778406,0.006057018208787022,0.0063670896401750625,0.006683885775829341,0.007006853622515795,0.007335387158893942,0.007668828166008798,0.008006467462243197,0.008347546551325932,0.008691259688349093,0.009036756364886274,0.009383144210256825,0.009729492301799068,0.010074834872738421,0.01041817540191613,0.010758491065336339,0.011094737525242484,0.011425854028308431,0.01175076878057854,0.012068404563069415,0.012377684548510908,0.012677538276600706,0.012966907742431394,0.013244753550458782,0.013510061084561244,0.013761846643419909,0.013999163489664445,0.014221107760991825,0.014426824191798731,0.014615511594772779,0.014786428053363986,0.014938895778099762,0.015072305582295175,0.015186120935819301,0.015279881559178938,0.015353206524235776,0.015405796832326284,0.015437437445370827],\"yaxis\":\"y\",\"type\":\"scatter\"},{\"legendgroup\":\"reward\",\"marker\":{\"color\":\"rgb(31, 119, 180)\",\"symbol\":\"line-ns-open\"},\"mode\":\"markers\",\"name\":\"reward\",\"showlegend\":false,\"x\":[500.0,500.0,500.0,500.0,500.0,500.0,500.0,500.0,500.0,500.0,500.0,500.0,500.0,500.0,500.0,500.0,500.0,500.0,500.0,500.0,500.0,500.0,500.0,500.0,500.0,500.0,500.0,500.0,65.0,500.0,500.0,500.0,500.0,500.0,500.0,500.0,500.0,500.0,500.0,500.0,500.0,500.0,32.0,500.0,500.0,500.0,500.0,500.0,500.0,500.0,500.0,500.0,500.0,500.0,500.0,500.0,500.0,500.0,500.0,500.0,500.0,500.0,500.0,500.0,500.0,500.0,500.0,500.0,500.0,500.0,500.0,500.0,500.0,500.0,500.0,500.0,500.0,500.0,500.0,500.0,500.0,500.0,500.0,500.0,500.0,500.0,500.0,500.0,500.0,500.0,500.0,500.0,500.0,500.0,500.0,500.0,500.0,500.0,500.0,500.0],\"xaxis\":\"x\",\"y\":[\"reward\",\"reward\",\"reward\",\"reward\",\"reward\",\"reward\",\"reward\",\"reward\",\"reward\",\"reward\",\"reward\",\"reward\",\"reward\",\"reward\",\"reward\",\"reward\",\"reward\",\"reward\",\"reward\",\"reward\",\"reward\",\"reward\",\"reward\",\"reward\",\"reward\",\"reward\",\"reward\",\"reward\",\"reward\",\"reward\",\"reward\",\"reward\",\"reward\",\"reward\",\"reward\",\"reward\",\"reward\",\"reward\",\"reward\",\"reward\",\"reward\",\"reward\",\"reward\",\"reward\",\"reward\",\"reward\",\"reward\",\"reward\",\"reward\",\"reward\",\"reward\",\"reward\",\"reward\",\"reward\",\"reward\",\"reward\",\"reward\",\"reward\",\"reward\",\"reward\",\"reward\",\"reward\",\"reward\",\"reward\",\"reward\",\"reward\",\"reward\",\"reward\",\"reward\",\"reward\",\"reward\",\"reward\",\"reward\",\"reward\",\"reward\",\"reward\",\"reward\",\"reward\",\"reward\",\"reward\",\"reward\",\"reward\",\"reward\",\"reward\",\"reward\",\"reward\",\"reward\",\"reward\",\"reward\",\"reward\",\"reward\",\"reward\",\"reward\",\"reward\",\"reward\",\"reward\",\"reward\",\"reward\",\"reward\",\"reward\"],\"yaxis\":\"y2\",\"type\":\"scatter\"}],                        {\"barmode\":\"overlay\",\"hovermode\":\"closest\",\"legend\":{\"traceorder\":\"reversed\"},\"xaxis\":{\"anchor\":\"y2\",\"domain\":[0.0,1.0],\"zeroline\":false},\"yaxis\":{\"anchor\":\"free\",\"domain\":[0.35,1],\"position\":0.0},\"yaxis2\":{\"anchor\":\"x\",\"domain\":[0,0.25],\"dtick\":1,\"showticklabels\":false},\"template\":{\"data\":{\"histogram2dcontour\":[{\"type\":\"histogram2dcontour\",\"colorbar\":{\"outlinewidth\":0,\"ticks\":\"\"},\"colorscale\":[[0.0,\"#0d0887\"],[0.1111111111111111,\"#46039f\"],[0.2222222222222222,\"#7201a8\"],[0.3333333333333333,\"#9c179e\"],[0.4444444444444444,\"#bd3786\"],[0.5555555555555556,\"#d8576b\"],[0.6666666666666666,\"#ed7953\"],[0.7777777777777778,\"#fb9f3a\"],[0.8888888888888888,\"#fdca26\"],[1.0,\"#f0f921\"]]}],\"choropleth\":[{\"type\":\"choropleth\",\"colorbar\":{\"outlinewidth\":0,\"ticks\":\"\"}}],\"histogram2d\":[{\"type\":\"histogram2d\",\"colorbar\":{\"outlinewidth\":0,\"ticks\":\"\"},\"colorscale\":[[0.0,\"#0d0887\"],[0.1111111111111111,\"#46039f\"],[0.2222222222222222,\"#7201a8\"],[0.3333333333333333,\"#9c179e\"],[0.4444444444444444,\"#bd3786\"],[0.5555555555555556,\"#d8576b\"],[0.6666666666666666,\"#ed7953\"],[0.7777777777777778,\"#fb9f3a\"],[0.8888888888888888,\"#fdca26\"],[1.0,\"#f0f921\"]]}],\"heatmap\":[{\"type\":\"heatmap\",\"colorbar\":{\"outlinewidth\":0,\"ticks\":\"\"},\"colorscale\":[[0.0,\"#0d0887\"],[0.1111111111111111,\"#46039f\"],[0.2222222222222222,\"#7201a8\"],[0.3333333333333333,\"#9c179e\"],[0.4444444444444444,\"#bd3786\"],[0.5555555555555556,\"#d8576b\"],[0.6666666666666666,\"#ed7953\"],[0.7777777777777778,\"#fb9f3a\"],[0.8888888888888888,\"#fdca26\"],[1.0,\"#f0f921\"]]}],\"heatmapgl\":[{\"type\":\"heatmapgl\",\"colorbar\":{\"outlinewidth\":0,\"ticks\":\"\"},\"colorscale\":[[0.0,\"#0d0887\"],[0.1111111111111111,\"#46039f\"],[0.2222222222222222,\"#7201a8\"],[0.3333333333333333,\"#9c179e\"],[0.4444444444444444,\"#bd3786\"],[0.5555555555555556,\"#d8576b\"],[0.6666666666666666,\"#ed7953\"],[0.7777777777777778,\"#fb9f3a\"],[0.8888888888888888,\"#fdca26\"],[1.0,\"#f0f921\"]]}],\"contourcarpet\":[{\"type\":\"contourcarpet\",\"colorbar\":{\"outlinewidth\":0,\"ticks\":\"\"}}],\"contour\":[{\"type\":\"contour\",\"colorbar\":{\"outlinewidth\":0,\"ticks\":\"\"},\"colorscale\":[[0.0,\"#0d0887\"],[0.1111111111111111,\"#46039f\"],[0.2222222222222222,\"#7201a8\"],[0.3333333333333333,\"#9c179e\"],[0.4444444444444444,\"#bd3786\"],[0.5555555555555556,\"#d8576b\"],[0.6666666666666666,\"#ed7953\"],[0.7777777777777778,\"#fb9f3a\"],[0.8888888888888888,\"#fdca26\"],[1.0,\"#f0f921\"]]}],\"surface\":[{\"type\":\"surface\",\"colorbar\":{\"outlinewidth\":0,\"ticks\":\"\"},\"colorscale\":[[0.0,\"#0d0887\"],[0.1111111111111111,\"#46039f\"],[0.2222222222222222,\"#7201a8\"],[0.3333333333333333,\"#9c179e\"],[0.4444444444444444,\"#bd3786\"],[0.5555555555555556,\"#d8576b\"],[0.6666666666666666,\"#ed7953\"],[0.7777777777777778,\"#fb9f3a\"],[0.8888888888888888,\"#fdca26\"],[1.0,\"#f0f921\"]]}],\"mesh3d\":[{\"type\":\"mesh3d\",\"colorbar\":{\"outlinewidth\":0,\"ticks\":\"\"}}],\"scatter\":[{\"fillpattern\":{\"fillmode\":\"overlay\",\"size\":10,\"solidity\":0.2},\"type\":\"scatter\"}],\"parcoords\":[{\"type\":\"parcoords\",\"line\":{\"colorbar\":{\"outlinewidth\":0,\"ticks\":\"\"}}}],\"scatterpolargl\":[{\"type\":\"scatterpolargl\",\"marker\":{\"colorbar\":{\"outlinewidth\":0,\"ticks\":\"\"}}}],\"bar\":[{\"error_x\":{\"color\":\"#2a3f5f\"},\"error_y\":{\"color\":\"#2a3f5f\"},\"marker\":{\"line\":{\"color\":\"#E5ECF6\",\"width\":0.5},\"pattern\":{\"fillmode\":\"overlay\",\"size\":10,\"solidity\":0.2}},\"type\":\"bar\"}],\"scattergeo\":[{\"type\":\"scattergeo\",\"marker\":{\"colorbar\":{\"outlinewidth\":0,\"ticks\":\"\"}}}],\"scatterpolar\":[{\"type\":\"scatterpolar\",\"marker\":{\"colorbar\":{\"outlinewidth\":0,\"ticks\":\"\"}}}],\"histogram\":[{\"marker\":{\"pattern\":{\"fillmode\":\"overlay\",\"size\":10,\"solidity\":0.2}},\"type\":\"histogram\"}],\"scattergl\":[{\"type\":\"scattergl\",\"marker\":{\"colorbar\":{\"outlinewidth\":0,\"ticks\":\"\"}}}],\"scatter3d\":[{\"type\":\"scatter3d\",\"line\":{\"colorbar\":{\"outlinewidth\":0,\"ticks\":\"\"}},\"marker\":{\"colorbar\":{\"outlinewidth\":0,\"ticks\":\"\"}}}],\"scattermapbox\":[{\"type\":\"scattermapbox\",\"marker\":{\"colorbar\":{\"outlinewidth\":0,\"ticks\":\"\"}}}],\"scatterternary\":[{\"type\":\"scatterternary\",\"marker\":{\"colorbar\":{\"outlinewidth\":0,\"ticks\":\"\"}}}],\"scattercarpet\":[{\"type\":\"scattercarpet\",\"marker\":{\"colorbar\":{\"outlinewidth\":0,\"ticks\":\"\"}}}],\"carpet\":[{\"aaxis\":{\"endlinecolor\":\"#2a3f5f\",\"gridcolor\":\"white\",\"linecolor\":\"white\",\"minorgridcolor\":\"white\",\"startlinecolor\":\"#2a3f5f\"},\"baxis\":{\"endlinecolor\":\"#2a3f5f\",\"gridcolor\":\"white\",\"linecolor\":\"white\",\"minorgridcolor\":\"white\",\"startlinecolor\":\"#2a3f5f\"},\"type\":\"carpet\"}],\"table\":[{\"cells\":{\"fill\":{\"color\":\"#EBF0F8\"},\"line\":{\"color\":\"white\"}},\"header\":{\"fill\":{\"color\":\"#C8D4E3\"},\"line\":{\"color\":\"white\"}},\"type\":\"table\"}],\"barpolar\":[{\"marker\":{\"line\":{\"color\":\"#E5ECF6\",\"width\":0.5},\"pattern\":{\"fillmode\":\"overlay\",\"size\":10,\"solidity\":0.2}},\"type\":\"barpolar\"}],\"pie\":[{\"automargin\":true,\"type\":\"pie\"}]},\"layout\":{\"autotypenumbers\":\"strict\",\"colorway\":[\"#636efa\",\"#EF553B\",\"#00cc96\",\"#ab63fa\",\"#FFA15A\",\"#19d3f3\",\"#FF6692\",\"#B6E880\",\"#FF97FF\",\"#FECB52\"],\"font\":{\"color\":\"#2a3f5f\"},\"hovermode\":\"closest\",\"hoverlabel\":{\"align\":\"left\"},\"paper_bgcolor\":\"white\",\"plot_bgcolor\":\"#E5ECF6\",\"polar\":{\"bgcolor\":\"#E5ECF6\",\"angularaxis\":{\"gridcolor\":\"white\",\"linecolor\":\"white\",\"ticks\":\"\"},\"radialaxis\":{\"gridcolor\":\"white\",\"linecolor\":\"white\",\"ticks\":\"\"}},\"ternary\":{\"bgcolor\":\"#E5ECF6\",\"aaxis\":{\"gridcolor\":\"white\",\"linecolor\":\"white\",\"ticks\":\"\"},\"baxis\":{\"gridcolor\":\"white\",\"linecolor\":\"white\",\"ticks\":\"\"},\"caxis\":{\"gridcolor\":\"white\",\"linecolor\":\"white\",\"ticks\":\"\"}},\"coloraxis\":{\"colorbar\":{\"outlinewidth\":0,\"ticks\":\"\"}},\"colorscale\":{\"sequential\":[[0.0,\"#0d0887\"],[0.1111111111111111,\"#46039f\"],[0.2222222222222222,\"#7201a8\"],[0.3333333333333333,\"#9c179e\"],[0.4444444444444444,\"#bd3786\"],[0.5555555555555556,\"#d8576b\"],[0.6666666666666666,\"#ed7953\"],[0.7777777777777778,\"#fb9f3a\"],[0.8888888888888888,\"#fdca26\"],[1.0,\"#f0f921\"]],\"sequentialminus\":[[0.0,\"#0d0887\"],[0.1111111111111111,\"#46039f\"],[0.2222222222222222,\"#7201a8\"],[0.3333333333333333,\"#9c179e\"],[0.4444444444444444,\"#bd3786\"],[0.5555555555555556,\"#d8576b\"],[0.6666666666666666,\"#ed7953\"],[0.7777777777777778,\"#fb9f3a\"],[0.8888888888888888,\"#fdca26\"],[1.0,\"#f0f921\"]],\"diverging\":[[0,\"#8e0152\"],[0.1,\"#c51b7d\"],[0.2,\"#de77ae\"],[0.3,\"#f1b6da\"],[0.4,\"#fde0ef\"],[0.5,\"#f7f7f7\"],[0.6,\"#e6f5d0\"],[0.7,\"#b8e186\"],[0.8,\"#7fbc41\"],[0.9,\"#4d9221\"],[1,\"#276419\"]]},\"xaxis\":{\"gridcolor\":\"white\",\"linecolor\":\"white\",\"ticks\":\"\",\"title\":{\"standoff\":15},\"zerolinecolor\":\"white\",\"automargin\":true,\"zerolinewidth\":2},\"yaxis\":{\"gridcolor\":\"white\",\"linecolor\":\"white\",\"ticks\":\"\",\"title\":{\"standoff\":15},\"zerolinecolor\":\"white\",\"automargin\":true,\"zerolinewidth\":2},\"scene\":{\"xaxis\":{\"backgroundcolor\":\"#E5ECF6\",\"gridcolor\":\"white\",\"linecolor\":\"white\",\"showbackground\":true,\"ticks\":\"\",\"zerolinecolor\":\"white\",\"gridwidth\":2},\"yaxis\":{\"backgroundcolor\":\"#E5ECF6\",\"gridcolor\":\"white\",\"linecolor\":\"white\",\"showbackground\":true,\"ticks\":\"\",\"zerolinecolor\":\"white\",\"gridwidth\":2},\"zaxis\":{\"backgroundcolor\":\"#E5ECF6\",\"gridcolor\":\"white\",\"linecolor\":\"white\",\"showbackground\":true,\"ticks\":\"\",\"zerolinecolor\":\"white\",\"gridwidth\":2}},\"shapedefaults\":{\"line\":{\"color\":\"#2a3f5f\"}},\"annotationdefaults\":{\"arrowcolor\":\"#2a3f5f\",\"arrowhead\":0,\"arrowwidth\":1},\"geo\":{\"bgcolor\":\"white\",\"landcolor\":\"#E5ECF6\",\"subunitcolor\":\"white\",\"showland\":true,\"showlakes\":true,\"lakecolor\":\"white\"},\"title\":{\"x\":0.05},\"mapbox\":{\"style\":\"light\"}}},\"title\":{\"text\":\"CartPole DQN Result\"}},                        {\"responsive\": true}                    ).then(function(){\n",
              "                            \n",
              "var gd = document.getElementById('3d9504e8-f7fa-4cc9-b891-fff4d5c4224c');\n",
              "var x = new MutationObserver(function (mutations, observer) {{\n",
              "        var display = window.getComputedStyle(gd).display;\n",
              "        if (!display || display === 'none') {{\n",
              "            console.log([gd, 'removed!']);\n",
              "            Plotly.purge(gd);\n",
              "            observer.disconnect();\n",
              "        }}\n",
              "}});\n",
              "\n",
              "// Listen for the removal of the full notebook cells\n",
              "var notebookContainer = gd.closest('#notebook-container');\n",
              "if (notebookContainer) {{\n",
              "    x.observe(notebookContainer, {childList: true});\n",
              "}}\n",
              "\n",
              "// Listen for the clearing of the current output cell\n",
              "var outputEl = gd.closest('.output');\n",
              "if (outputEl) {{\n",
              "    x.observe(outputEl, {childList: true});\n",
              "}}\n",
              "\n",
              "                        })                };                            </script>        </div>\n",
              "</body>\n",
              "</html>"
            ]
          },
          "metadata": {}
        }
      ]
    },
    {
      "cell_type": "code",
      "source": [],
      "metadata": {
        "id": "wX5mHWKuUvjf"
      },
      "execution_count": null,
      "outputs": []
    }
  ]
}