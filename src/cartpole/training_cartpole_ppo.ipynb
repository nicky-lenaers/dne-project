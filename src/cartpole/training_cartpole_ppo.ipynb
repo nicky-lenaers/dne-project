{
  "nbformat": 4,
  "nbformat_minor": 0,
  "metadata": {
    "colab": {
      "provenance": [],
      "gpuType": "T4"
    },
    "kernelspec": {
      "name": "python3",
      "display_name": "Python 3"
    },
    "language_info": {
      "name": "python"
    },
    "accelerator": "GPU"
  },
  "cells": [
    {
      "cell_type": "markdown",
      "source": [
        "# Training PPO for CartPole\n",
        "\n",
        "Used [PPOPolicy from Tianshou](https://tianshou.org/en/stable/03_api/policy/modelfree/ppo.html)."
      ],
      "metadata": {
        "id": "MWc4kcBMGnpg"
      }
    },
    {
      "cell_type": "code",
      "execution_count": 1,
      "metadata": {
        "id": "_ixzdtHHYg_a"
      },
      "outputs": [],
      "source": [
        "%load_ext autoreload\n",
        "%autoreload 2"
      ]
    },
    {
      "cell_type": "markdown",
      "source": [
        "# Install dependencies"
      ],
      "metadata": {
        "id": "y9lmQIv9F9Ke"
      }
    },
    {
      "cell_type": "code",
      "source": [
        "!pip install gymnasium==0.29.1 pygame==2.3.0 pettingzoo==1.24.3 tianshou==0.5.1"
      ],
      "metadata": {
        "id": "QSgELpG0YrrI",
        "colab": {
          "base_uri": "https://localhost:8080/"
        },
        "outputId": "b0ecbb1f-afb7-4e23-a2b4-929e126a4f54"
      },
      "execution_count": 2,
      "outputs": [
        {
          "output_type": "stream",
          "name": "stdout",
          "text": [
            "Collecting gymnasium==0.29.1\n",
            "  Downloading gymnasium-0.29.1-py3-none-any.whl (953 kB)\n",
            "\u001b[2K     \u001b[90m━━━━━━━━━━━━━━━━━━━━━━━━━━━━━━━━━━━━━━━━\u001b[0m \u001b[32m953.9/953.9 kB\u001b[0m \u001b[31m5.6 MB/s\u001b[0m eta \u001b[36m0:00:00\u001b[0m\n",
            "\u001b[?25hCollecting pygame==2.3.0\n",
            "  Downloading pygame-2.3.0-cp310-cp310-manylinux_2_17_x86_64.manylinux2014_x86_64.whl (13.8 MB)\n",
            "\u001b[2K     \u001b[90m━━━━━━━━━━━━━━━━━━━━━━━━━━━━━━━━━━━━━━━━\u001b[0m \u001b[32m13.8/13.8 MB\u001b[0m \u001b[31m51.1 MB/s\u001b[0m eta \u001b[36m0:00:00\u001b[0m\n",
            "\u001b[?25hCollecting pettingzoo==1.24.3\n",
            "  Downloading pettingzoo-1.24.3-py3-none-any.whl (847 kB)\n",
            "\u001b[2K     \u001b[90m━━━━━━━━━━━━━━━━━━━━━━━━━━━━━━━━━━━━━━━━\u001b[0m \u001b[32m847.8/847.8 kB\u001b[0m \u001b[31m60.9 MB/s\u001b[0m eta \u001b[36m0:00:00\u001b[0m\n",
            "\u001b[?25hCollecting tianshou==0.5.1\n",
            "  Downloading tianshou-0.5.1-py3-none-any.whl (163 kB)\n",
            "\u001b[2K     \u001b[90m━━━━━━━━━━━━━━━━━━━━━━━━━━━━━━━━━━━━━━━━\u001b[0m \u001b[32m163.1/163.1 kB\u001b[0m \u001b[31m19.2 MB/s\u001b[0m eta \u001b[36m0:00:00\u001b[0m\n",
            "\u001b[?25hRequirement already satisfied: numpy>=1.21.0 in /usr/local/lib/python3.10/dist-packages (from gymnasium==0.29.1) (1.25.2)\n",
            "Requirement already satisfied: cloudpickle>=1.2.0 in /usr/local/lib/python3.10/dist-packages (from gymnasium==0.29.1) (2.2.1)\n",
            "Requirement already satisfied: typing-extensions>=4.3.0 in /usr/local/lib/python3.10/dist-packages (from gymnasium==0.29.1) (4.11.0)\n",
            "Collecting farama-notifications>=0.0.1 (from gymnasium==0.29.1)\n",
            "  Downloading Farama_Notifications-0.0.4-py3-none-any.whl (2.5 kB)\n",
            "Requirement already satisfied: tqdm in /usr/local/lib/python3.10/dist-packages (from tianshou==0.5.1) (4.66.2)\n",
            "Requirement already satisfied: tensorboard>=2.5.0 in /usr/local/lib/python3.10/dist-packages (from tianshou==0.5.1) (2.15.2)\n",
            "Requirement already satisfied: torch>=1.4.0 in /usr/local/lib/python3.10/dist-packages (from tianshou==0.5.1) (2.2.1+cu121)\n",
            "Requirement already satisfied: numba>=0.51.0 in /usr/local/lib/python3.10/dist-packages (from tianshou==0.5.1) (0.58.1)\n",
            "Requirement already satisfied: h5py>=2.10.0 in /usr/local/lib/python3.10/dist-packages (from tianshou==0.5.1) (3.9.0)\n",
            "Requirement already satisfied: packaging in /usr/local/lib/python3.10/dist-packages (from tianshou==0.5.1) (24.0)\n",
            "Requirement already satisfied: llvmlite<0.42,>=0.41.0dev0 in /usr/local/lib/python3.10/dist-packages (from numba>=0.51.0->tianshou==0.5.1) (0.41.1)\n",
            "Requirement already satisfied: absl-py>=0.4 in /usr/local/lib/python3.10/dist-packages (from tensorboard>=2.5.0->tianshou==0.5.1) (1.4.0)\n",
            "Requirement already satisfied: grpcio>=1.48.2 in /usr/local/lib/python3.10/dist-packages (from tensorboard>=2.5.0->tianshou==0.5.1) (1.62.2)\n",
            "Requirement already satisfied: google-auth<3,>=1.6.3 in /usr/local/lib/python3.10/dist-packages (from tensorboard>=2.5.0->tianshou==0.5.1) (2.27.0)\n",
            "Requirement already satisfied: google-auth-oauthlib<2,>=0.5 in /usr/local/lib/python3.10/dist-packages (from tensorboard>=2.5.0->tianshou==0.5.1) (1.2.0)\n",
            "Requirement already satisfied: markdown>=2.6.8 in /usr/local/lib/python3.10/dist-packages (from tensorboard>=2.5.0->tianshou==0.5.1) (3.6)\n",
            "Requirement already satisfied: protobuf!=4.24.0,>=3.19.6 in /usr/local/lib/python3.10/dist-packages (from tensorboard>=2.5.0->tianshou==0.5.1) (3.20.3)\n",
            "Requirement already satisfied: requests<3,>=2.21.0 in /usr/local/lib/python3.10/dist-packages (from tensorboard>=2.5.0->tianshou==0.5.1) (2.31.0)\n",
            "Requirement already satisfied: setuptools>=41.0.0 in /usr/local/lib/python3.10/dist-packages (from tensorboard>=2.5.0->tianshou==0.5.1) (67.7.2)\n",
            "Requirement already satisfied: six>1.9 in /usr/local/lib/python3.10/dist-packages (from tensorboard>=2.5.0->tianshou==0.5.1) (1.16.0)\n",
            "Requirement already satisfied: tensorboard-data-server<0.8.0,>=0.7.0 in /usr/local/lib/python3.10/dist-packages (from tensorboard>=2.5.0->tianshou==0.5.1) (0.7.2)\n",
            "Requirement already satisfied: werkzeug>=1.0.1 in /usr/local/lib/python3.10/dist-packages (from tensorboard>=2.5.0->tianshou==0.5.1) (3.0.2)\n",
            "Requirement already satisfied: filelock in /usr/local/lib/python3.10/dist-packages (from torch>=1.4.0->tianshou==0.5.1) (3.13.4)\n",
            "Requirement already satisfied: sympy in /usr/local/lib/python3.10/dist-packages (from torch>=1.4.0->tianshou==0.5.1) (1.12)\n",
            "Requirement already satisfied: networkx in /usr/local/lib/python3.10/dist-packages (from torch>=1.4.0->tianshou==0.5.1) (3.3)\n",
            "Requirement already satisfied: jinja2 in /usr/local/lib/python3.10/dist-packages (from torch>=1.4.0->tianshou==0.5.1) (3.1.3)\n",
            "Requirement already satisfied: fsspec in /usr/local/lib/python3.10/dist-packages (from torch>=1.4.0->tianshou==0.5.1) (2023.6.0)\n",
            "Collecting nvidia-cuda-nvrtc-cu12==12.1.105 (from torch>=1.4.0->tianshou==0.5.1)\n",
            "  Using cached nvidia_cuda_nvrtc_cu12-12.1.105-py3-none-manylinux1_x86_64.whl (23.7 MB)\n",
            "Collecting nvidia-cuda-runtime-cu12==12.1.105 (from torch>=1.4.0->tianshou==0.5.1)\n",
            "  Using cached nvidia_cuda_runtime_cu12-12.1.105-py3-none-manylinux1_x86_64.whl (823 kB)\n",
            "Collecting nvidia-cuda-cupti-cu12==12.1.105 (from torch>=1.4.0->tianshou==0.5.1)\n",
            "  Using cached nvidia_cuda_cupti_cu12-12.1.105-py3-none-manylinux1_x86_64.whl (14.1 MB)\n",
            "Collecting nvidia-cudnn-cu12==8.9.2.26 (from torch>=1.4.0->tianshou==0.5.1)\n",
            "  Using cached nvidia_cudnn_cu12-8.9.2.26-py3-none-manylinux1_x86_64.whl (731.7 MB)\n",
            "Collecting nvidia-cublas-cu12==12.1.3.1 (from torch>=1.4.0->tianshou==0.5.1)\n",
            "  Using cached nvidia_cublas_cu12-12.1.3.1-py3-none-manylinux1_x86_64.whl (410.6 MB)\n",
            "Collecting nvidia-cufft-cu12==11.0.2.54 (from torch>=1.4.0->tianshou==0.5.1)\n",
            "  Using cached nvidia_cufft_cu12-11.0.2.54-py3-none-manylinux1_x86_64.whl (121.6 MB)\n",
            "Collecting nvidia-curand-cu12==10.3.2.106 (from torch>=1.4.0->tianshou==0.5.1)\n",
            "  Using cached nvidia_curand_cu12-10.3.2.106-py3-none-manylinux1_x86_64.whl (56.5 MB)\n",
            "Collecting nvidia-cusolver-cu12==11.4.5.107 (from torch>=1.4.0->tianshou==0.5.1)\n",
            "  Using cached nvidia_cusolver_cu12-11.4.5.107-py3-none-manylinux1_x86_64.whl (124.2 MB)\n",
            "Collecting nvidia-cusparse-cu12==12.1.0.106 (from torch>=1.4.0->tianshou==0.5.1)\n",
            "  Using cached nvidia_cusparse_cu12-12.1.0.106-py3-none-manylinux1_x86_64.whl (196.0 MB)\n",
            "Collecting nvidia-nccl-cu12==2.19.3 (from torch>=1.4.0->tianshou==0.5.1)\n",
            "  Using cached nvidia_nccl_cu12-2.19.3-py3-none-manylinux1_x86_64.whl (166.0 MB)\n",
            "Collecting nvidia-nvtx-cu12==12.1.105 (from torch>=1.4.0->tianshou==0.5.1)\n",
            "  Using cached nvidia_nvtx_cu12-12.1.105-py3-none-manylinux1_x86_64.whl (99 kB)\n",
            "Requirement already satisfied: triton==2.2.0 in /usr/local/lib/python3.10/dist-packages (from torch>=1.4.0->tianshou==0.5.1) (2.2.0)\n",
            "Collecting nvidia-nvjitlink-cu12 (from nvidia-cusolver-cu12==11.4.5.107->torch>=1.4.0->tianshou==0.5.1)\n",
            "  Using cached nvidia_nvjitlink_cu12-12.4.127-py3-none-manylinux2014_x86_64.whl (21.1 MB)\n",
            "Requirement already satisfied: cachetools<6.0,>=2.0.0 in /usr/local/lib/python3.10/dist-packages (from google-auth<3,>=1.6.3->tensorboard>=2.5.0->tianshou==0.5.1) (5.3.3)\n",
            "Requirement already satisfied: pyasn1-modules>=0.2.1 in /usr/local/lib/python3.10/dist-packages (from google-auth<3,>=1.6.3->tensorboard>=2.5.0->tianshou==0.5.1) (0.4.0)\n",
            "Requirement already satisfied: rsa<5,>=3.1.4 in /usr/local/lib/python3.10/dist-packages (from google-auth<3,>=1.6.3->tensorboard>=2.5.0->tianshou==0.5.1) (4.9)\n",
            "Requirement already satisfied: requests-oauthlib>=0.7.0 in /usr/local/lib/python3.10/dist-packages (from google-auth-oauthlib<2,>=0.5->tensorboard>=2.5.0->tianshou==0.5.1) (1.3.1)\n",
            "Requirement already satisfied: charset-normalizer<4,>=2 in /usr/local/lib/python3.10/dist-packages (from requests<3,>=2.21.0->tensorboard>=2.5.0->tianshou==0.5.1) (3.3.2)\n",
            "Requirement already satisfied: idna<4,>=2.5 in /usr/local/lib/python3.10/dist-packages (from requests<3,>=2.21.0->tensorboard>=2.5.0->tianshou==0.5.1) (3.7)\n",
            "Requirement already satisfied: urllib3<3,>=1.21.1 in /usr/local/lib/python3.10/dist-packages (from requests<3,>=2.21.0->tensorboard>=2.5.0->tianshou==0.5.1) (2.0.7)\n",
            "Requirement already satisfied: certifi>=2017.4.17 in /usr/local/lib/python3.10/dist-packages (from requests<3,>=2.21.0->tensorboard>=2.5.0->tianshou==0.5.1) (2024.2.2)\n",
            "Requirement already satisfied: MarkupSafe>=2.1.1 in /usr/local/lib/python3.10/dist-packages (from werkzeug>=1.0.1->tensorboard>=2.5.0->tianshou==0.5.1) (2.1.5)\n",
            "Requirement already satisfied: mpmath>=0.19 in /usr/local/lib/python3.10/dist-packages (from sympy->torch>=1.4.0->tianshou==0.5.1) (1.3.0)\n",
            "Requirement already satisfied: pyasn1<0.7.0,>=0.4.6 in /usr/local/lib/python3.10/dist-packages (from pyasn1-modules>=0.2.1->google-auth<3,>=1.6.3->tensorboard>=2.5.0->tianshou==0.5.1) (0.6.0)\n",
            "Requirement already satisfied: oauthlib>=3.0.0 in /usr/local/lib/python3.10/dist-packages (from requests-oauthlib>=0.7.0->google-auth-oauthlib<2,>=0.5->tensorboard>=2.5.0->tianshou==0.5.1) (3.2.2)\n",
            "Installing collected packages: farama-notifications, pygame, nvidia-nvtx-cu12, nvidia-nvjitlink-cu12, nvidia-nccl-cu12, nvidia-curand-cu12, nvidia-cufft-cu12, nvidia-cuda-runtime-cu12, nvidia-cuda-nvrtc-cu12, nvidia-cuda-cupti-cu12, nvidia-cublas-cu12, gymnasium, pettingzoo, nvidia-cusparse-cu12, nvidia-cudnn-cu12, nvidia-cusolver-cu12, tianshou\n",
            "  Attempting uninstall: pygame\n",
            "    Found existing installation: pygame 2.5.2\n",
            "    Uninstalling pygame-2.5.2:\n",
            "      Successfully uninstalled pygame-2.5.2\n",
            "Successfully installed farama-notifications-0.0.4 gymnasium-0.29.1 nvidia-cublas-cu12-12.1.3.1 nvidia-cuda-cupti-cu12-12.1.105 nvidia-cuda-nvrtc-cu12-12.1.105 nvidia-cuda-runtime-cu12-12.1.105 nvidia-cudnn-cu12-8.9.2.26 nvidia-cufft-cu12-11.0.2.54 nvidia-curand-cu12-10.3.2.106 nvidia-cusolver-cu12-11.4.5.107 nvidia-cusparse-cu12-12.1.0.106 nvidia-nccl-cu12-2.19.3 nvidia-nvjitlink-cu12-12.4.127 nvidia-nvtx-cu12-12.1.105 pettingzoo-1.24.3 pygame-2.3.0 tianshou-0.5.1\n"
          ]
        }
      ]
    },
    {
      "cell_type": "markdown",
      "source": [
        "# Setup environment"
      ],
      "metadata": {
        "id": "GJUqMfTpGHkb"
      }
    },
    {
      "cell_type": "code",
      "source": [
        "import gymnasium as gym\n",
        "import torch\n",
        "\n",
        "import tianshou as ts\n",
        "\n",
        "device = \"cuda\" if torch.cuda.is_available() else \"cpu\"\n",
        "\n",
        "def get_env(render_mode=None):\n",
        "  return gym.make(\"CartPole-v1\", render_mode=render_mode)\n",
        "\n",
        "env = get_env()"
      ],
      "metadata": {
        "id": "8eNTgrS7Qozg"
      },
      "execution_count": 15,
      "outputs": []
    },
    {
      "cell_type": "code",
      "source": [
        "train_envs = ts.env.DummyVectorEnv([get_env for _ in range(10)])\n",
        "test_envs = ts.env.DummyVectorEnv([get_env for _ in range(100)])"
      ],
      "metadata": {
        "id": "LP3tEh8Acfca"
      },
      "execution_count": 16,
      "outputs": []
    },
    {
      "cell_type": "markdown",
      "source": [
        "# Create Policy"
      ],
      "metadata": {
        "id": "T4_YveVRRC87"
      }
    },
    {
      "cell_type": "code",
      "source": [
        "state_shape = env.observation_space.shape or env.observation_space.n\n",
        "action_shape = env.action_space.shape or env.action_space.n\n",
        "\n",
        "net = ts.utils.net.common.Net(state_shape=state_shape, hidden_sizes=[64, 64], device=device)\n",
        "\n",
        "actor = ts.utils.net.discrete.Actor(preprocess_net=net, action_shape=env.action_space.n, device=device).to(device)\n",
        "critic = ts.utils.net.discrete.Critic(preprocess_net=net, device=device).to(device)\n",
        "actor_critic = ts.utils.net.common.ActorCritic(actor, critic)\n",
        "optim = torch.optim.Adam(actor_critic.parameters(), lr=0.0003)\n",
        "\n",
        "policy = ts.policy.PPOPolicy(\n",
        "    actor=actor,\n",
        "    critic=critic,\n",
        "    optim=optim,\n",
        "    dist_fn=torch.distributions.Categorical,\n",
        "    action_space=env.action_space,\n",
        "    action_scaling=False,\n",
        ")"
      ],
      "metadata": {
        "id": "KJ-3vuAuREa8"
      },
      "execution_count": 17,
      "outputs": []
    },
    {
      "cell_type": "code",
      "source": [
        "train_collector = ts.data.Collector(\n",
        "    policy, train_envs, ts.data.VectorReplayBuffer(20000, 10), exploration_noise=True\n",
        ")\n",
        "test_collector = ts.data.Collector(policy, test_envs, exploration_noise=True)"
      ],
      "metadata": {
        "id": "5YDAB_hZRGR8"
      },
      "execution_count": 18,
      "outputs": []
    },
    {
      "cell_type": "markdown",
      "source": [
        "# Train the agent\n",
        "Using the OffPolicyTrainer."
      ],
      "metadata": {
        "id": "wgZy7_UPJzbJ"
      }
    },
    {
      "cell_type": "code",
      "source": [
        "result = ts.trainer.OnpolicyTrainer(\n",
        "    policy=policy,\n",
        "    batch_size=256,\n",
        "    train_collector=train_collector,\n",
        "    test_collector=test_collector,\n",
        "    max_epoch=10,\n",
        "    step_per_epoch=50000,\n",
        "    repeat_per_collect=10,\n",
        "    episode_per_test=10,\n",
        "    step_per_collect=2000,\n",
        "    stop_fn=lambda mean_reward: mean_reward >= 500,\n",
        ").run()\n",
        "print(f'Finished training! Use {result[\"duration\"]}')\n",
        "\n",
        "result"
      ],
      "metadata": {
        "id": "Sb9XhtchcB3G",
        "colab": {
          "base_uri": "https://localhost:8080/"
        },
        "outputId": "bf04b962-b3e8-45a5-e64b-01ce5ec0c168"
      },
      "execution_count": 20,
      "outputs": [
        {
          "output_type": "stream",
          "name": "stderr",
          "text": [
            "Epoch #1: 50001it [00:16, 3005.81it/s, env_step=50000, len=157, loss=57.326, loss/clip=-0.004, loss/ent=0.584, loss/vf=114.670, n/ep=14, n/st=2000, rew=157.43]                           \n"
          ]
        },
        {
          "output_type": "stream",
          "name": "stdout",
          "text": [
            "Epoch #1: test_reward: 143.300000 ± 83.316325, best_reward: 143.300000 ± 83.316325 in #1\n"
          ]
        },
        {
          "output_type": "stream",
          "name": "stderr",
          "text": [
            "Epoch #2: 50001it [00:17, 2881.67it/s, env_step=100000, len=160, loss=57.699, loss/clip=0.003, loss/ent=0.570, loss/vf=115.403, n/ep=17, n/st=2000, rew=160.88]                           \n"
          ]
        },
        {
          "output_type": "stream",
          "name": "stdout",
          "text": [
            "Epoch #2: test_reward: 145.500000 ± 102.473655, best_reward: 145.500000 ± 102.473655 in #2\n"
          ]
        },
        {
          "output_type": "stream",
          "name": "stderr",
          "text": [
            "Epoch #3: 50001it [00:16, 3100.44it/s, env_step=150000, len=169, loss=48.687, loss/clip=0.000, loss/ent=0.547, loss/vf=97.383, n/ep=11, n/st=2000, rew=169.64]                           \n"
          ]
        },
        {
          "output_type": "stream",
          "name": "stdout",
          "text": [
            "Epoch #3: test_reward: 204.900000 ± 98.658451, best_reward: 204.900000 ± 98.658451 in #3\n"
          ]
        },
        {
          "output_type": "stream",
          "name": "stderr",
          "text": [
            "Epoch #4: 50001it [00:16, 2990.13it/s, env_step=200000, len=411, loss=18.393, loss/clip=0.008, loss/ent=0.579, loss/vf=36.781, n/ep=6, n/st=2000, rew=411.67]                           \n"
          ]
        },
        {
          "output_type": "stream",
          "name": "stdout",
          "text": [
            "Epoch #4: test_reward: 234.000000 ± 104.868489, best_reward: 234.000000 ± 104.868489 in #4\n"
          ]
        },
        {
          "output_type": "stream",
          "name": "stderr",
          "text": [
            "Epoch #5: 50001it [00:17, 2939.66it/s, env_step=250000, len=300, loss=13.316, loss/clip=-0.002, loss/ent=0.576, loss/vf=26.648, n/ep=1, n/st=2000, rew=300.00]                           \n"
          ]
        },
        {
          "output_type": "stream",
          "name": "stdout",
          "text": [
            "Epoch #5: test_reward: 243.900000 ± 208.074242, best_reward: 243.900000 ± 208.074242 in #5\n"
          ]
        },
        {
          "output_type": "stream",
          "name": "stderr",
          "text": [
            "Epoch #6: 50001it [00:17, 2903.97it/s, env_step=300000, len=133, loss=17.080, loss/clip=0.002, loss/ent=0.550, loss/vf=34.167, n/ep=2, n/st=2000, rew=133.00]                           \n"
          ]
        },
        {
          "output_type": "stream",
          "name": "stdout",
          "text": [
            "Epoch #6: test_reward: 387.500000 ± 175.150935, best_reward: 387.500000 ± 175.150935 in #6\n"
          ]
        },
        {
          "output_type": "stream",
          "name": "stderr",
          "text": [
            "Epoch #7: 50001it [00:17, 2826.54it/s, env_step=350000, len=175, loss=78.020, loss/clip=-0.000, loss/ent=0.551, loss/vf=156.052, n/ep=16, n/st=2000, rew=175.38]                           \n"
          ]
        },
        {
          "output_type": "stream",
          "name": "stdout",
          "text": [
            "Epoch #7: test_reward: 303.900000 ± 174.958538, best_reward: 387.500000 ± 175.150935 in #6\n"
          ]
        },
        {
          "output_type": "stream",
          "name": "stderr",
          "text": [
            "Epoch #8: 50001it [00:16, 2948.04it/s, env_step=400000, len=275, loss=48.700, loss/clip=-0.000, loss/ent=0.555, loss/vf=97.411, n/ep=10, n/st=2000, rew=275.00]                           \n"
          ]
        },
        {
          "output_type": "stream",
          "name": "stdout",
          "text": [
            "Epoch #8: test_reward: 117.900000 ± 60.769153, best_reward: 387.500000 ± 175.150935 in #6\n"
          ]
        },
        {
          "output_type": "stream",
          "name": "stderr",
          "text": [
            "Epoch #9:  52%|#####2    | 26000/50000 [00:08<00:07, 3011.79it/s, env_step=426000, len=500, n/ep=4, n/st=2000, rew=500.00]"
          ]
        },
        {
          "output_type": "stream",
          "name": "stdout",
          "text": [
            "Finished training! Use 148.60s\n"
          ]
        },
        {
          "output_type": "stream",
          "name": "stderr",
          "text": [
            "\n"
          ]
        },
        {
          "output_type": "execute_result",
          "data": {
            "text/plain": [
              "{'duration': '148.60s',\n",
              " 'train_time/model': '76.91s',\n",
              " 'test_step': 35838,\n",
              " 'test_episode': 130,\n",
              " 'test_time': '6.93s',\n",
              " 'test_speed': '5168.02 step/s',\n",
              " 'best_reward': 500.0,\n",
              " 'best_result': '500.00 ± 0.00',\n",
              " 'train_step': 426000,\n",
              " 'train_episode': 2886,\n",
              " 'train_time/collector': '64.75s',\n",
              " 'train_speed': '3007.10 step/s'}"
            ]
          },
          "metadata": {},
          "execution_count": 20
        }
      ]
    },
    {
      "cell_type": "markdown",
      "source": [
        "# Play\n",
        "\n",
        "Play with the trained agent to the opponent a number of episodes and print the results"
      ],
      "metadata": {
        "id": "nxLtBMTBKNg-"
      }
    },
    {
      "cell_type": "code",
      "source": [
        "policy.eval()\n",
        "\n",
        "env = get_env(render_mode=None)\n",
        "env = ts.env.DummyVectorEnv([lambda: env])\n",
        "collector = ts.data.Collector(policy, env, exploration_noise=True)\n",
        "result = collector.collect(n_episode=100, render=None)\n",
        "rews, lens = result[\"rews\"], result[\"lens\"]\n",
        "\n",
        "display(rews.mean())"
      ],
      "metadata": {
        "id": "MAhLVoCMctbb",
        "colab": {
          "base_uri": "https://localhost:8080/",
          "height": 35
        },
        "outputId": "26b64d47-cbde-46a1-a9fe-19843a1300e3"
      },
      "execution_count": 21,
      "outputs": [
        {
          "output_type": "display_data",
          "data": {
            "text/plain": [
              "480.35"
            ]
          },
          "metadata": {}
        }
      ]
    },
    {
      "cell_type": "markdown",
      "source": [
        "Plot Result"
      ],
      "metadata": {
        "id": "lPwVK7sUZ7H7"
      }
    },
    {
      "cell_type": "code",
      "source": [
        "import plotly.figure_factory as ff\n",
        "\n",
        "fig = ff.create_distplot([result['rews']], ['reward'])\n",
        "fig.update_layout(title_text='CartPole DQN Result')\n",
        "fig.show()"
      ],
      "metadata": {
        "id": "77RNG1EUUA-P",
        "colab": {
          "base_uri": "https://localhost:8080/",
          "height": 542
        },
        "outputId": "ad67da88-82a3-49e7-f2b5-ebeb0ac6569e"
      },
      "execution_count": 22,
      "outputs": [
        {
          "output_type": "display_data",
          "data": {
            "text/html": [
              "<html>\n",
              "<head><meta charset=\"utf-8\" /></head>\n",
              "<body>\n",
              "    <div>            <script src=\"https://cdnjs.cloudflare.com/ajax/libs/mathjax/2.7.5/MathJax.js?config=TeX-AMS-MML_SVG\"></script><script type=\"text/javascript\">if (window.MathJax && window.MathJax.Hub && window.MathJax.Hub.Config) {window.MathJax.Hub.Config({SVG: {font: \"STIX-Web\"}});}</script>                <script type=\"text/javascript\">window.PlotlyConfig = {MathJaxConfig: 'local'};</script>\n",
              "        <script charset=\"utf-8\" src=\"https://cdn.plot.ly/plotly-2.24.1.min.js\"></script>                <div id=\"2f280ca2-c539-4fb8-a4c3-615ab8fc2891\" class=\"plotly-graph-div\" style=\"height:525px; width:100%;\"></div>            <script type=\"text/javascript\">                                    window.PLOTLYENV=window.PLOTLYENV || {};                                    if (document.getElementById(\"2f280ca2-c539-4fb8-a4c3-615ab8fc2891\")) {                    Plotly.newPlot(                        \"2f280ca2-c539-4fb8-a4c3-615ab8fc2891\",                        [{\"autobinx\":false,\"histnorm\":\"probability density\",\"legendgroup\":\"reward\",\"marker\":{\"color\":\"rgb(31, 119, 180)\"},\"name\":\"reward\",\"opacity\":0.7,\"x\":[500.0,500.0,37.0,25.0,500.0,500.0,500.0,500.0,500.0,500.0,500.0,500.0,500.0,500.0,500.0,500.0,500.0,500.0,500.0,500.0,500.0,500.0,500.0,500.0,500.0,500.0,500.0,500.0,500.0,500.0,500.0,500.0,500.0,500.0,500.0,500.0,395.0,500.0,500.0,500.0,500.0,500.0,500.0,500.0,500.0,500.0,500.0,500.0,500.0,37.0,500.0,500.0,500.0,500.0,500.0,500.0,500.0,500.0,500.0,500.0,500.0,500.0,500.0,500.0,500.0,500.0,500.0,500.0,500.0,500.0,500.0,500.0,500.0,500.0,500.0,500.0,500.0,500.0,500.0,500.0,41.0,500.0,500.0,500.0,500.0,500.0,500.0,500.0,500.0,500.0,500.0,500.0,500.0,500.0,500.0,500.0,500.0,500.0,500.0,500.0],\"xaxis\":\"x\",\"xbins\":{\"end\":500.0,\"size\":1.0,\"start\":25.0},\"yaxis\":\"y\",\"type\":\"histogram\"},{\"legendgroup\":\"reward\",\"marker\":{\"color\":\"rgb(31, 119, 180)\"},\"mode\":\"lines\",\"name\":\"reward\",\"showlegend\":false,\"x\":[25.0,25.95,26.9,27.85,28.8,29.75,30.7,31.65,32.6,33.55,34.5,35.45,36.4,37.35,38.3,39.25,40.2,41.15,42.1,43.05,44.0,44.95,45.9,46.85,47.8,48.75,49.7,50.65,51.6,52.55,53.5,54.45,55.4,56.35,57.3,58.25,59.2,60.15,61.1,62.05,63.0,63.95,64.9,65.85,66.8,67.75,68.7,69.65,70.6,71.55,72.5,73.45,74.4,75.35,76.3,77.25,78.2,79.15,80.1,81.05,82.0,82.95,83.9,84.85,85.8,86.75,87.7,88.65,89.6,90.55,91.5,92.45,93.4,94.35,95.3,96.25,97.2,98.15,99.1,100.05,101.0,101.95,102.9,103.85,104.8,105.75,106.7,107.65,108.6,109.55,110.5,111.45,112.4,113.35,114.3,115.25,116.2,117.15,118.1,119.05,120.0,120.95,121.9,122.85,123.8,124.75,125.7,126.65,127.6,128.55,129.5,130.45,131.4,132.35,133.3,134.25,135.2,136.15,137.1,138.05,139.0,139.95,140.9,141.85,142.8,143.75,144.7,145.65,146.6,147.55,148.5,149.45,150.4,151.35,152.3,153.25,154.2,155.15,156.1,157.05,158.0,158.95,159.9,160.85,161.8,162.75,163.7,164.65,165.6,166.55,167.5,168.45,169.4,170.35,171.3,172.25,173.2,174.15,175.1,176.05,177.0,177.95,178.9,179.85,180.8,181.75,182.7,183.65,184.6,185.55,186.5,187.45,188.4,189.35,190.3,191.25,192.2,193.15,194.1,195.05,196.0,196.95,197.9,198.85,199.8,200.75,201.7,202.65,203.6,204.55,205.5,206.45,207.4,208.35,209.3,210.25,211.2,212.15,213.1,214.05,215.0,215.95,216.9,217.85,218.8,219.75,220.7,221.65,222.6,223.55,224.5,225.45,226.4,227.35,228.3,229.25,230.2,231.15,232.1,233.05,234.0,234.95,235.9,236.85,237.8,238.75,239.7,240.65,241.6,242.55,243.5,244.45,245.4,246.35,247.3,248.25,249.2,250.15,251.1,252.05,253.0,253.95,254.9,255.85,256.8,257.75,258.7,259.65,260.6,261.55,262.5,263.45,264.4,265.35,266.3,267.25,268.2,269.15,270.1,271.05,272.0,272.95,273.9,274.85,275.8,276.75,277.7,278.65,279.6,280.55,281.5,282.45,283.4,284.35,285.3,286.25,287.2,288.15,289.1,290.05,291.0,291.95,292.9,293.85,294.8,295.75,296.7,297.65,298.6,299.55,300.5,301.45,302.4,303.35,304.3,305.25,306.2,307.15,308.1,309.05,310.0,310.95,311.9,312.85,313.8,314.75,315.7,316.65,317.6,318.55,319.5,320.45,321.4,322.35,323.3,324.25,325.2,326.15,327.1,328.05,329.0,329.95,330.9,331.85,332.8,333.75,334.7,335.65,336.6,337.55,338.5,339.45,340.4,341.35,342.3,343.25,344.2,345.15,346.1,347.05,348.0,348.95,349.9,350.85,351.8,352.75,353.7,354.65,355.6,356.55,357.5,358.45,359.4,360.35,361.3,362.25,363.2,364.15,365.1,366.05,367.0,367.95,368.9,369.85,370.8,371.75,372.7,373.65,374.6,375.55,376.5,377.45,378.4,379.35,380.3,381.25,382.2,383.15,384.1,385.05,386.0,386.95,387.9,388.85,389.8,390.75,391.7,392.65,393.6,394.55,395.5,396.45,397.4,398.35,399.3,400.25,401.2,402.15,403.1,404.05,405.0,405.95,406.9,407.85,408.8,409.75,410.7,411.65,412.6,413.55,414.5,415.45,416.4,417.35,418.3,419.25,420.2,421.15,422.1,423.05,424.0,424.95,425.9,426.85,427.8,428.75,429.7,430.65,431.6,432.55,433.5,434.45,435.4,436.35,437.3,438.25,439.2,440.15,441.1,442.05,443.0,443.95,444.9,445.85,446.8,447.75,448.7,449.65,450.6,451.55,452.5,453.45,454.4,455.35,456.3,457.25,458.2,459.15,460.1,461.05,462.0,462.95,463.9,464.85,465.8,466.75,467.7,468.65,469.6,470.55,471.5,472.45,473.4,474.35,475.3,476.25,477.2,478.15,479.1,480.05,481.0,481.95,482.9,483.85,484.8,485.75,486.7,487.65,488.6,489.55,490.5,491.45,492.4,493.35,494.3,495.25,496.2,497.15,498.1,499.05],\"xaxis\":\"x\",\"y\":[0.00041450424601598677,0.0004172564750860503,0.00041975206366707364,0.00042198617220528774,0.0004239544481007989,0.00042565303983085976,0.0004270786095034669,0.00042822834378403564,0.0004290999631451013,0.0004296917293964887,0.0004300024514611358,0.0004300314893697074,0.000429778756455249,0.0004292447197373536,0.0004284303984936035,0.00042733736102435756,0.00042596771962522423,0.0004243241237897546,0.0004224097516729487,0.000420228299854057,0.0004177839714448162,0.0004150814625966581,0.0004121259474675107,0.0004089230617155493,0.0004054788845936003,0.0004017999197238248,0.00039789307463777726,0.0003937656391719206,0.00038942526281315204,0.000384879931092839,0.0003801379411312535,0.000375207876437127,0.000370098581069293,0.00036481913326905904,0.00035937881867303153,0.0003537871032166124,0.0003480536058383098,0.00034218807109434487,0.0003362003417918249,0.0003301003317469921,0.0003238979987727697,0.0003176033179970394,0.0003112262556098067,0.00030477674313369465,0.00029826465230805405,0.0002916997706724478,0.00028509177793036575,0.0002784502231688215,0.00027178450300397914,0.0002651038407172155,0.00025841726644007615,0.0002517335984404611,0.0002450614255561355,0.00023840909081532404,0.00023178467627776454,0.00022519598912320492,0.00021865054900795583,0.00021215557670381196,0.00020571798402744545,0.0001993443650623008,0.00019304098866911306,0.0001868137922754445,0.0001806683769291464,0.00017461000359539366,0.00016864359067195956,0.0001627737126927046,0.00015700460018486354,0.00015134014064165525,0.0001457838805680089,0.00014033902855381834,0.00013500845932611,0.00012979471872883648,0.00012470002957670287,0.00011972629832748298,0.00011487512251569826,0.00011014779888929725,0.0001055453321900901,0.00010106844451815047,9.671758522018109e-05,9.249294124194396e-05,8.839444788526433e-05,8.44217999108131e-05,8.057446292884285e-05,7.6851685021278e-05,7.325250854002119e-05,6.977578202802067e-05,6.64201722115206e-05,6.318417601397779e-05,6.006613254434489e-05,5.706423501477545e-05,5.4176542545284053e-05,5.1400991815464585e-05,4.873540852602507e-05,4.617751863560766e-05,4.3724959341116655e-05,4.137528977255283e-05,3.912600137613446e-05,3.697452796225899e-05,3.491825539760206e-05,3.295453092335943e-05,3.1080672084287495e-05,2.9293975255783522e-05,2.7591723758756913e-05,2.5971195554462244e-05,2.44296705137892e-05,2.296443725772589e-05,2.1572799567819075e-05,2.0252082367447222e-05,1.8999637276593403e-05,1.78128477445486e-05,1.6689133766595313e-05,1.5625956192207987e-05,1.4620820633666942e-05,1.3671280985210207e-05,1.27749425639477e-05,1.1929464884736958e-05,1.1132564082066604e-05,1.0382014992723051e-05,9.675652913625229e-06,9.011375049708589e-06,8.387141667128618e-06,7.800976967336759e-06,7.2509696977690816e-06,6.735273514979702e-06,6.2521071160576345e-06,5.799754154091132e-06,5.376562953292983e-06,4.9809460391824e-06,4.611379498937453e-06,4.266402186694234e-06,3.944614788180903e-06,3.6446787586412986e-06,3.3653151475314223e-06,3.1053033229665024e-06,2.8634796083633394e-06,2.6387358431668315e-06,2.4300178789753816e-06,2.236324021793165e-06,2.0567034305409297e-06,1.8902544813563725e-06,1.7361231066133335e-06,1.59350111698964e-06,1.4616245143200898e-06,1.339771802385978e-06,1.2272623022189639e-06,1.1234544779371897e-06,1.0277442785871044e-06,9.395635009377359e-07,8.58378177666328e-07,7.83686994886853e-07,7.15019742506841e-07,6.519358004540486e-07,5.940226633936696e-07,5.408945061588113e-07,4.921907917428837e-07,4.4757492335179845e-07,4.067329416866634e-07,3.693722683237714e-07,3.352204957776431e-07,3.04024224574273e-07,2.7554794742510807e-07,2.495729803767717e-07,2.2589644061665498e-07,2.0433027043927992e-07,1.8470030672200387e-07,1.66845395120396e-07,1.5061654807238146e-07,1.3587614559529943e-07,1.2249717777024345e-07,1.103625277326145e-07,9.936429392573592e-08,8.940315032467462e-08,8.038774329927717e-08,7.223412375783661e-08,6.486521319495383e-08,5.821030225819416e-08,5.220458044719342e-08,4.678869556522445e-08,4.190834155607559e-08,3.7513873377757084e-08,3.3559947588337336e-08,3.000518734747871e-08,2.681187056942713e-08,2.394563999871443e-08,2.1375234018173614e-08,1.9072237039555327e-08,1.7010848369619662e-08,1.5167668488687292e-08,1.3521501723871106e-08,1.2053174345266756e-08,1.0745367159953835e-08,9.582461725482193e-09,8.550399351360728e-09,7.636552103721456e-09,6.829605074623717e-09,6.119449223237592e-09,5.497084141272488e-09,4.954530139393295e-09,4.484749094897916e-09,4.081573543553816e-09,3.739643540150348e-09,3.4543508529809327e-09,3.2217900971006066e-09,3.038716449794251e-09,2.902509629236879e-09,2.8111438538332574e-09,2.763163535200491e-09,2.7576644922229115e-09,2.7942805070808813e-09,2.8731750766612577e-09,2.9950382443184354e-09,3.1610884275992747e-09,3.3730791872948642e-09,3.633310912059238e-09,3.9446474208610765e-09,4.3105375127195045e-09,4.735041519534264e-09,5.222862943352608e-09,5.7793852841208135e-09,6.410714187833048e-09,7.123725067998748e-09,7.926116375467982e-09,8.826468712848886e-09,9.834310009969912e-09,1.096018699602458e-08,1.2215743222111453e-08,1.3613803904772535e-08,1.5168467876731336e-08,1.6895206945241418e-08,1.8810972971150465e-08,2.093431299282379e-08,2.3285492728329678e-08,2.5886628796575856e-08,2.8761830003268695e-08,3.1937348040427925e-08,3.544173794855403e-08,3.930602868821564e-08,4.356390416255345e-08,4.8251895023812846e-08,5.340958158523135e-08,5.907980814424858e-08,6.530890900375893e-08,7.21469464548254e-08,7.964796095662059e-08,8.787023371711828e-08,9.687656184103105e-08,1.0673454616939839e-07,1.1751689188784377e-07,1.2930172192773027e-07,1.4217290312588506e-07,1.562203850442491e-07,1.715405512804277e-07,1.8823658302368298e-07,2.0641883452818256e-07,2.262052200863968e-07,2.477216119903045e-07,2.711022488665011e-07,2.964901536637025e-07,3.240375604572967e-07,3.5390634911602087e-07,3.8626848675058807e-07,4.213064747334973e-07,4.592137999437943e-07,5.001953887505943e-07,5.444680621053128e-07,5.922609899654519e-07,6.438161431229111e-07,6.993887403584447e-07,7.592476886914278e-07,8.236760143418605e-07,8.929712818704599e-07,9.674459988141141e-07,1.047428002989004e-06,1.1332608294937754e-06,1.2253040543120842e-06,1.32393361128854e-06,1.4295420791369463e-06,1.542538935036028e-06,1.663350771278001e-06,1.7924214713602698e-06,1.9302123418538684e-06,2.077202196344148e-06,2.2338873877237913e-06,2.4007817851257703e-06,2.5784166918189443e-06,2.7673407004505677e-06,2.9681194821147448e-06,3.1813355058513277e-06,3.4075876853426967e-06,3.6474909497745086e-06,3.901675736067527e-06,4.170787399967478e-06,4.455485543807283e-06,4.756443259127568e-06,5.07434628276134e-06,5.409892065459772e-06,5.76378875265654e-06,6.1367540775447925e-06,6.529514167268508e-06,6.942802263715478e-06,7.377357361140158e-06,7.833922763642784e-06,8.313244566385826e-06,8.816070065342822e-06,9.343146101343133e-06,9.89521734520441e-06,1.0473024531827115e-05,1.1077302652260315e-05,1.1708779113943045e-05,1.2368171880563536e-05,1.3056187604271265e-05,1.3773519764314433e-05,1.4520846827555068e-05,1.5298830447735533e-05,1.6108113721827696e-05,1.6949319523281494e-05,1.7823048933509258e-05,1.872987979447757e-05,1.9670365406830858e-05,2.0645033399541464e-05,2.1654384798641874e-05,2.2698893324168123e-05,2.3779004945996307e-05,2.48951377307925e-05,2.6047682013813256e-05,2.723700093077155e-05,2.8463431346419627e-05,2.9727285217886047e-05,3.1028851432130836e-05,3.236839815812768e-05,3.374617575556014e-05,3.516242028289217e-05,3.6617357648640194e-05,3.811120845055187e-05,3.9644193548096436e-05,4.1216540414294294e-05,4.282849031332349e-05,4.448030635063645e-05,4.6172282442393344e-05,4.790475325093738e-05,4.9678105132721804e-05,5.149278814456875e-05,5.334932915339342e-05,5.524834609349256e-05,5.71905634142368e-05,5.917682875943776e-05,6.120813091779973e-05,6.328561908170664e-05,6.541062344909153e-05,6.758467720028802e-05,6.980953987857688e-05,7.208722219953685e-05,7.442001231037307e-05,7.681050351598163e-05,7.926162348373925e-05,8.17766649337661e-05,8.435931781572076e-05,8.701370296704258e-05,8.974440724095222e-05,9.255652008540946e-05,9.545567154662956e-05,9.844807166268875e-05,0.00010154055120412345,0.00010474060370936938,0.00010805642875321204,0.00011149697637638399,0.00011507199259375163,0.00011879206588749222,0.0001226686745800343,0.0001267142349695047,0.00013094215009795796,0.00013536685900970914,0.00014000388634386883,0.00014486989209148252,0.00014998272133376467,0.00015536145376371293,0.00016102645277893903,0.00016699941391902496,0.0001733034124060586,0.00017996294953231644,0.0001870039976245225,0.00019445404329963695,0.000202342128712979,0.00021069889048563732,0.00021955659598473718,0.00022894917661736518,0.00023891225778677444,0.000249483185148256,0.0002607010467916424,0.0002726066909681878,0.00028524273897147207,0.00029865359277532667,0.00031288543702657,0.00032798623498688954,0.00034400571801644495,0.0003609953681920891,0.0003790083936554834,0.0003980996962909959,0.0004183258313403911,0.00043974495857080845,0.0004624167846249546,0.0004864024961973112,0.0005117646836983505,0.0005385672550895277,0.0005668753395961573,0.0005967551810323447,0.0006282740205028425,0.0006614999682803835,0.000696501864694229,0.0007333491299060308,0.0007721116024928416,0.0008128593668039547,0.0008556625691084605,0.0009005912226034263,0.0009477150014087879,0.0009971030237339179,0.0010488236244622137,0.001102944117464111,0.0011595305480146653,0.0012186474357600565,0.0012803575087466008,0.0013447214290966934,0.0014117975109875695,0.0014816414316611156,0.0015543059362648026,0.001629840537396042,0.0017082912102928682,0.001789700084683944,0.0018741051343786764,0.0019615398657437787,0.002052033006275839,0.002145608194538373,0.002242283672787976,0.0023420719836650507,0.0024449796723709006,0.0025510069957938217,0.0026601476400812526,0.002772388448183801,0.002887709158917559,0.003006082159105809,0.0031274722503663267,0.003251836432109007,0.0033791237022970976,0.0035092748775063976,0.003642222433786734,0.003777890369793413,0.003916194093606952,0.004057040334603599,0.004200327081671012,0.004345943548987992,0.004493770170500471,0.004643678624130881,0.0047955318866538905,0.004949184320058074,0.005104481790091715,0.005261261817561562,0.005419353762816647,0.005578579043705181,0.0057387513871437635,0.0058996771142814895,0.0060611554590836725,0.006222978919993974,0.006384933644169491,0.006546799843612714,0.006708352242356498,0.006869360553687268,0.0070295899862241485,0.007188801777504428,0.0073467537535632215,0.007503200912835902,0.007657896032557598,0.007810590295687958,0.007961033936247712,0.008108976900824181,0.0082541695238782,0.00839636321437591,0.00853531115116595,0.008670768984435888,0.008802495540505195,0.00893025352715008,0.009053810236607946,0.009172938243375436,0.009287416093895965,0.009397028985230215,0.0095015694298152,0.009600837903446824,0.009694643473665209,0.009782804405781782,0.009865148743864162,0.009941514864084254,0.010011751997942932,0.010075720723003416,0.010133293418900437,0.010184354686539738,0.010228801728561013,0.010266544689309867,0.010297506952743788,0.010321625396890254,0.010338850603671606,0.010349147023119993],\"yaxis\":\"y\",\"type\":\"scatter\"},{\"legendgroup\":\"reward\",\"marker\":{\"color\":\"rgb(31, 119, 180)\",\"symbol\":\"line-ns-open\"},\"mode\":\"markers\",\"name\":\"reward\",\"showlegend\":false,\"x\":[500.0,500.0,37.0,25.0,500.0,500.0,500.0,500.0,500.0,500.0,500.0,500.0,500.0,500.0,500.0,500.0,500.0,500.0,500.0,500.0,500.0,500.0,500.0,500.0,500.0,500.0,500.0,500.0,500.0,500.0,500.0,500.0,500.0,500.0,500.0,500.0,395.0,500.0,500.0,500.0,500.0,500.0,500.0,500.0,500.0,500.0,500.0,500.0,500.0,37.0,500.0,500.0,500.0,500.0,500.0,500.0,500.0,500.0,500.0,500.0,500.0,500.0,500.0,500.0,500.0,500.0,500.0,500.0,500.0,500.0,500.0,500.0,500.0,500.0,500.0,500.0,500.0,500.0,500.0,500.0,41.0,500.0,500.0,500.0,500.0,500.0,500.0,500.0,500.0,500.0,500.0,500.0,500.0,500.0,500.0,500.0,500.0,500.0,500.0,500.0],\"xaxis\":\"x\",\"y\":[\"reward\",\"reward\",\"reward\",\"reward\",\"reward\",\"reward\",\"reward\",\"reward\",\"reward\",\"reward\",\"reward\",\"reward\",\"reward\",\"reward\",\"reward\",\"reward\",\"reward\",\"reward\",\"reward\",\"reward\",\"reward\",\"reward\",\"reward\",\"reward\",\"reward\",\"reward\",\"reward\",\"reward\",\"reward\",\"reward\",\"reward\",\"reward\",\"reward\",\"reward\",\"reward\",\"reward\",\"reward\",\"reward\",\"reward\",\"reward\",\"reward\",\"reward\",\"reward\",\"reward\",\"reward\",\"reward\",\"reward\",\"reward\",\"reward\",\"reward\",\"reward\",\"reward\",\"reward\",\"reward\",\"reward\",\"reward\",\"reward\",\"reward\",\"reward\",\"reward\",\"reward\",\"reward\",\"reward\",\"reward\",\"reward\",\"reward\",\"reward\",\"reward\",\"reward\",\"reward\",\"reward\",\"reward\",\"reward\",\"reward\",\"reward\",\"reward\",\"reward\",\"reward\",\"reward\",\"reward\",\"reward\",\"reward\",\"reward\",\"reward\",\"reward\",\"reward\",\"reward\",\"reward\",\"reward\",\"reward\",\"reward\",\"reward\",\"reward\",\"reward\",\"reward\",\"reward\",\"reward\",\"reward\",\"reward\",\"reward\"],\"yaxis\":\"y2\",\"type\":\"scatter\"}],                        {\"barmode\":\"overlay\",\"hovermode\":\"closest\",\"legend\":{\"traceorder\":\"reversed\"},\"xaxis\":{\"anchor\":\"y2\",\"domain\":[0.0,1.0],\"zeroline\":false},\"yaxis\":{\"anchor\":\"free\",\"domain\":[0.35,1],\"position\":0.0},\"yaxis2\":{\"anchor\":\"x\",\"domain\":[0,0.25],\"dtick\":1,\"showticklabels\":false},\"template\":{\"data\":{\"histogram2dcontour\":[{\"type\":\"histogram2dcontour\",\"colorbar\":{\"outlinewidth\":0,\"ticks\":\"\"},\"colorscale\":[[0.0,\"#0d0887\"],[0.1111111111111111,\"#46039f\"],[0.2222222222222222,\"#7201a8\"],[0.3333333333333333,\"#9c179e\"],[0.4444444444444444,\"#bd3786\"],[0.5555555555555556,\"#d8576b\"],[0.6666666666666666,\"#ed7953\"],[0.7777777777777778,\"#fb9f3a\"],[0.8888888888888888,\"#fdca26\"],[1.0,\"#f0f921\"]]}],\"choropleth\":[{\"type\":\"choropleth\",\"colorbar\":{\"outlinewidth\":0,\"ticks\":\"\"}}],\"histogram2d\":[{\"type\":\"histogram2d\",\"colorbar\":{\"outlinewidth\":0,\"ticks\":\"\"},\"colorscale\":[[0.0,\"#0d0887\"],[0.1111111111111111,\"#46039f\"],[0.2222222222222222,\"#7201a8\"],[0.3333333333333333,\"#9c179e\"],[0.4444444444444444,\"#bd3786\"],[0.5555555555555556,\"#d8576b\"],[0.6666666666666666,\"#ed7953\"],[0.7777777777777778,\"#fb9f3a\"],[0.8888888888888888,\"#fdca26\"],[1.0,\"#f0f921\"]]}],\"heatmap\":[{\"type\":\"heatmap\",\"colorbar\":{\"outlinewidth\":0,\"ticks\":\"\"},\"colorscale\":[[0.0,\"#0d0887\"],[0.1111111111111111,\"#46039f\"],[0.2222222222222222,\"#7201a8\"],[0.3333333333333333,\"#9c179e\"],[0.4444444444444444,\"#bd3786\"],[0.5555555555555556,\"#d8576b\"],[0.6666666666666666,\"#ed7953\"],[0.7777777777777778,\"#fb9f3a\"],[0.8888888888888888,\"#fdca26\"],[1.0,\"#f0f921\"]]}],\"heatmapgl\":[{\"type\":\"heatmapgl\",\"colorbar\":{\"outlinewidth\":0,\"ticks\":\"\"},\"colorscale\":[[0.0,\"#0d0887\"],[0.1111111111111111,\"#46039f\"],[0.2222222222222222,\"#7201a8\"],[0.3333333333333333,\"#9c179e\"],[0.4444444444444444,\"#bd3786\"],[0.5555555555555556,\"#d8576b\"],[0.6666666666666666,\"#ed7953\"],[0.7777777777777778,\"#fb9f3a\"],[0.8888888888888888,\"#fdca26\"],[1.0,\"#f0f921\"]]}],\"contourcarpet\":[{\"type\":\"contourcarpet\",\"colorbar\":{\"outlinewidth\":0,\"ticks\":\"\"}}],\"contour\":[{\"type\":\"contour\",\"colorbar\":{\"outlinewidth\":0,\"ticks\":\"\"},\"colorscale\":[[0.0,\"#0d0887\"],[0.1111111111111111,\"#46039f\"],[0.2222222222222222,\"#7201a8\"],[0.3333333333333333,\"#9c179e\"],[0.4444444444444444,\"#bd3786\"],[0.5555555555555556,\"#d8576b\"],[0.6666666666666666,\"#ed7953\"],[0.7777777777777778,\"#fb9f3a\"],[0.8888888888888888,\"#fdca26\"],[1.0,\"#f0f921\"]]}],\"surface\":[{\"type\":\"surface\",\"colorbar\":{\"outlinewidth\":0,\"ticks\":\"\"},\"colorscale\":[[0.0,\"#0d0887\"],[0.1111111111111111,\"#46039f\"],[0.2222222222222222,\"#7201a8\"],[0.3333333333333333,\"#9c179e\"],[0.4444444444444444,\"#bd3786\"],[0.5555555555555556,\"#d8576b\"],[0.6666666666666666,\"#ed7953\"],[0.7777777777777778,\"#fb9f3a\"],[0.8888888888888888,\"#fdca26\"],[1.0,\"#f0f921\"]]}],\"mesh3d\":[{\"type\":\"mesh3d\",\"colorbar\":{\"outlinewidth\":0,\"ticks\":\"\"}}],\"scatter\":[{\"fillpattern\":{\"fillmode\":\"overlay\",\"size\":10,\"solidity\":0.2},\"type\":\"scatter\"}],\"parcoords\":[{\"type\":\"parcoords\",\"line\":{\"colorbar\":{\"outlinewidth\":0,\"ticks\":\"\"}}}],\"scatterpolargl\":[{\"type\":\"scatterpolargl\",\"marker\":{\"colorbar\":{\"outlinewidth\":0,\"ticks\":\"\"}}}],\"bar\":[{\"error_x\":{\"color\":\"#2a3f5f\"},\"error_y\":{\"color\":\"#2a3f5f\"},\"marker\":{\"line\":{\"color\":\"#E5ECF6\",\"width\":0.5},\"pattern\":{\"fillmode\":\"overlay\",\"size\":10,\"solidity\":0.2}},\"type\":\"bar\"}],\"scattergeo\":[{\"type\":\"scattergeo\",\"marker\":{\"colorbar\":{\"outlinewidth\":0,\"ticks\":\"\"}}}],\"scatterpolar\":[{\"type\":\"scatterpolar\",\"marker\":{\"colorbar\":{\"outlinewidth\":0,\"ticks\":\"\"}}}],\"histogram\":[{\"marker\":{\"pattern\":{\"fillmode\":\"overlay\",\"size\":10,\"solidity\":0.2}},\"type\":\"histogram\"}],\"scattergl\":[{\"type\":\"scattergl\",\"marker\":{\"colorbar\":{\"outlinewidth\":0,\"ticks\":\"\"}}}],\"scatter3d\":[{\"type\":\"scatter3d\",\"line\":{\"colorbar\":{\"outlinewidth\":0,\"ticks\":\"\"}},\"marker\":{\"colorbar\":{\"outlinewidth\":0,\"ticks\":\"\"}}}],\"scattermapbox\":[{\"type\":\"scattermapbox\",\"marker\":{\"colorbar\":{\"outlinewidth\":0,\"ticks\":\"\"}}}],\"scatterternary\":[{\"type\":\"scatterternary\",\"marker\":{\"colorbar\":{\"outlinewidth\":0,\"ticks\":\"\"}}}],\"scattercarpet\":[{\"type\":\"scattercarpet\",\"marker\":{\"colorbar\":{\"outlinewidth\":0,\"ticks\":\"\"}}}],\"carpet\":[{\"aaxis\":{\"endlinecolor\":\"#2a3f5f\",\"gridcolor\":\"white\",\"linecolor\":\"white\",\"minorgridcolor\":\"white\",\"startlinecolor\":\"#2a3f5f\"},\"baxis\":{\"endlinecolor\":\"#2a3f5f\",\"gridcolor\":\"white\",\"linecolor\":\"white\",\"minorgridcolor\":\"white\",\"startlinecolor\":\"#2a3f5f\"},\"type\":\"carpet\"}],\"table\":[{\"cells\":{\"fill\":{\"color\":\"#EBF0F8\"},\"line\":{\"color\":\"white\"}},\"header\":{\"fill\":{\"color\":\"#C8D4E3\"},\"line\":{\"color\":\"white\"}},\"type\":\"table\"}],\"barpolar\":[{\"marker\":{\"line\":{\"color\":\"#E5ECF6\",\"width\":0.5},\"pattern\":{\"fillmode\":\"overlay\",\"size\":10,\"solidity\":0.2}},\"type\":\"barpolar\"}],\"pie\":[{\"automargin\":true,\"type\":\"pie\"}]},\"layout\":{\"autotypenumbers\":\"strict\",\"colorway\":[\"#636efa\",\"#EF553B\",\"#00cc96\",\"#ab63fa\",\"#FFA15A\",\"#19d3f3\",\"#FF6692\",\"#B6E880\",\"#FF97FF\",\"#FECB52\"],\"font\":{\"color\":\"#2a3f5f\"},\"hovermode\":\"closest\",\"hoverlabel\":{\"align\":\"left\"},\"paper_bgcolor\":\"white\",\"plot_bgcolor\":\"#E5ECF6\",\"polar\":{\"bgcolor\":\"#E5ECF6\",\"angularaxis\":{\"gridcolor\":\"white\",\"linecolor\":\"white\",\"ticks\":\"\"},\"radialaxis\":{\"gridcolor\":\"white\",\"linecolor\":\"white\",\"ticks\":\"\"}},\"ternary\":{\"bgcolor\":\"#E5ECF6\",\"aaxis\":{\"gridcolor\":\"white\",\"linecolor\":\"white\",\"ticks\":\"\"},\"baxis\":{\"gridcolor\":\"white\",\"linecolor\":\"white\",\"ticks\":\"\"},\"caxis\":{\"gridcolor\":\"white\",\"linecolor\":\"white\",\"ticks\":\"\"}},\"coloraxis\":{\"colorbar\":{\"outlinewidth\":0,\"ticks\":\"\"}},\"colorscale\":{\"sequential\":[[0.0,\"#0d0887\"],[0.1111111111111111,\"#46039f\"],[0.2222222222222222,\"#7201a8\"],[0.3333333333333333,\"#9c179e\"],[0.4444444444444444,\"#bd3786\"],[0.5555555555555556,\"#d8576b\"],[0.6666666666666666,\"#ed7953\"],[0.7777777777777778,\"#fb9f3a\"],[0.8888888888888888,\"#fdca26\"],[1.0,\"#f0f921\"]],\"sequentialminus\":[[0.0,\"#0d0887\"],[0.1111111111111111,\"#46039f\"],[0.2222222222222222,\"#7201a8\"],[0.3333333333333333,\"#9c179e\"],[0.4444444444444444,\"#bd3786\"],[0.5555555555555556,\"#d8576b\"],[0.6666666666666666,\"#ed7953\"],[0.7777777777777778,\"#fb9f3a\"],[0.8888888888888888,\"#fdca26\"],[1.0,\"#f0f921\"]],\"diverging\":[[0,\"#8e0152\"],[0.1,\"#c51b7d\"],[0.2,\"#de77ae\"],[0.3,\"#f1b6da\"],[0.4,\"#fde0ef\"],[0.5,\"#f7f7f7\"],[0.6,\"#e6f5d0\"],[0.7,\"#b8e186\"],[0.8,\"#7fbc41\"],[0.9,\"#4d9221\"],[1,\"#276419\"]]},\"xaxis\":{\"gridcolor\":\"white\",\"linecolor\":\"white\",\"ticks\":\"\",\"title\":{\"standoff\":15},\"zerolinecolor\":\"white\",\"automargin\":true,\"zerolinewidth\":2},\"yaxis\":{\"gridcolor\":\"white\",\"linecolor\":\"white\",\"ticks\":\"\",\"title\":{\"standoff\":15},\"zerolinecolor\":\"white\",\"automargin\":true,\"zerolinewidth\":2},\"scene\":{\"xaxis\":{\"backgroundcolor\":\"#E5ECF6\",\"gridcolor\":\"white\",\"linecolor\":\"white\",\"showbackground\":true,\"ticks\":\"\",\"zerolinecolor\":\"white\",\"gridwidth\":2},\"yaxis\":{\"backgroundcolor\":\"#E5ECF6\",\"gridcolor\":\"white\",\"linecolor\":\"white\",\"showbackground\":true,\"ticks\":\"\",\"zerolinecolor\":\"white\",\"gridwidth\":2},\"zaxis\":{\"backgroundcolor\":\"#E5ECF6\",\"gridcolor\":\"white\",\"linecolor\":\"white\",\"showbackground\":true,\"ticks\":\"\",\"zerolinecolor\":\"white\",\"gridwidth\":2}},\"shapedefaults\":{\"line\":{\"color\":\"#2a3f5f\"}},\"annotationdefaults\":{\"arrowcolor\":\"#2a3f5f\",\"arrowhead\":0,\"arrowwidth\":1},\"geo\":{\"bgcolor\":\"white\",\"landcolor\":\"#E5ECF6\",\"subunitcolor\":\"white\",\"showland\":true,\"showlakes\":true,\"lakecolor\":\"white\"},\"title\":{\"x\":0.05},\"mapbox\":{\"style\":\"light\"}}},\"title\":{\"text\":\"CartPole DQN Result\"}},                        {\"responsive\": true}                    ).then(function(){\n",
              "                            \n",
              "var gd = document.getElementById('2f280ca2-c539-4fb8-a4c3-615ab8fc2891');\n",
              "var x = new MutationObserver(function (mutations, observer) {{\n",
              "        var display = window.getComputedStyle(gd).display;\n",
              "        if (!display || display === 'none') {{\n",
              "            console.log([gd, 'removed!']);\n",
              "            Plotly.purge(gd);\n",
              "            observer.disconnect();\n",
              "        }}\n",
              "}});\n",
              "\n",
              "// Listen for the removal of the full notebook cells\n",
              "var notebookContainer = gd.closest('#notebook-container');\n",
              "if (notebookContainer) {{\n",
              "    x.observe(notebookContainer, {childList: true});\n",
              "}}\n",
              "\n",
              "// Listen for the clearing of the current output cell\n",
              "var outputEl = gd.closest('.output');\n",
              "if (outputEl) {{\n",
              "    x.observe(outputEl, {childList: true});\n",
              "}}\n",
              "\n",
              "                        })                };                            </script>        </div>\n",
              "</body>\n",
              "</html>"
            ]
          },
          "metadata": {}
        }
      ]
    },
    {
      "cell_type": "code",
      "source": [],
      "metadata": {
        "id": "wX5mHWKuUvjf"
      },
      "execution_count": null,
      "outputs": []
    }
  ]
}