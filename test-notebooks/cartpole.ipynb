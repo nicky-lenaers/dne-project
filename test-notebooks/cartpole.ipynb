{
 "cells": [
  {
   "cell_type": "code",
   "execution_count": null,
   "id": "ec35ac41-c52b-485d-a5c3-328b6a8f4187",
   "metadata": {},
   "outputs": [],
   "source": [
    "import gymnasium as gym\n",
    "import math\n",
    "from transformers import AutoTokenizer, AutoModelForCausalLM\n",
    "import torch"
   ]
  },
  {
   "cell_type": "code",
   "execution_count": null,
   "id": "cfbeb9ba-4950-41f7-9b95-ee0e783be038",
   "metadata": {},
   "outputs": [],
   "source": [
    "device = torch.device(\"cuda\" if torch.cuda.is_available() else \"cpu\")\n",
    "\n",
    "tokenizer = AutoTokenizer.from_pretrained(\n",
    "    \"microsoft/phi-2\",\n",
    "    torch_dtype=torch.float32 if device == \"cpu\" else \"auto\",\n",
    "    trust_remote_code = True\n",
    ")"
   ]
  },
  {
   "cell_type": "code",
   "execution_count": null,
   "id": "420c47c3-8820-4b39-adfa-9a2a8a88f130",
   "metadata": {},
   "outputs": [],
   "source": [
    "model = AutoModelForCausalLM.from_pretrained(\n",
    "    \"microsoft/phi-2\",\n",
    "    torch_dtype=torch.float32 if device == \"cpu\" else \"auto\",\n",
    "    # device_map=\"auto\",\n",
    "    trust_remote_code = True\n",
    ")"
   ]
  },
  {
   "cell_type": "code",
   "execution_count": null,
   "id": "9f428091-9243-4a4d-bedf-7aec4aaad87a",
   "metadata": {},
   "outputs": [
    {
     "ename": "",
     "evalue": "",
     "output_type": "error",
     "traceback": [
      "\u001b[1;31mThe Kernel crashed while executing code in the current cell or a previous cell. \n",
      "\u001b[1;31mPlease review the code in the cell(s) to identify a possible cause of the failure. \n",
      "\u001b[1;31mClick <a href='https://aka.ms/vscodeJupyterKernelCrash'>here</a> for more info. \n",
      "\u001b[1;31mView Jupyter <a href='command:jupyter.viewOutput'>log</a> for further details."
     ]
    }
   ],
   "source": [
    "env = gym.make('CartPole-v1', render_mode=\"human\")\n",
    "\n",
    "for i_episode in range(10):\n",
    "    observation = env.reset()\n",
    "    rad = observation[0][2]\n",
    "    rewards = 0\n",
    "    for t in range(250):\n",
    "        env.render()\n",
    "\n",
    "        #action = env.action_space.sample()\n",
    "        \n",
    "        degrees = round(math.degrees(rad), 2)\n",
    "        direction = \"right\"\n",
    "        if degrees < 0:\n",
    "            direction = \"left\"\n",
    "            degrees = degrees * -1\n",
    "\n",
    "        prompt = \"\"\"Instruct: In which direction the cart of a cart pole should be moved if the pole direction is \"\"\" + str(degrees) + \"\"\" degrees off to the \"\"\" + direction + \"\"\" to keep the pole up? Only answer are 'left' or 'right'. Output:\"\"\"\n",
    "        \n",
    "        with torch.no_grad():\n",
    "          token_ids = tokenizer.encode(prompt, add_special_tokens=False ,return_tensors=\"pt\")\n",
    "          output_ids = model.generate(\n",
    "              token_ids.to(model.device),\n",
    "              max_new_tokens=20,\n",
    "              do_sample=True,\n",
    "              temperature = 0.3,\n",
    "              pad_token_id=tokenizer.eos_token_id\n",
    "          )\n",
    "        \n",
    "        output = tokenizer.decode(output_ids[0][token_ids.size(1) :])\n",
    "        \n",
    "        action = 0\n",
    "        if \"right\" in output.lower():\n",
    "            action = 1\n",
    "        print(str(degrees) + \" \" + direction + \" action: \" + str(action))\n",
    "        observation, reward, terminated, truncated, info = env.step(action)\n",
    "        rad = observation[2]\n",
    "        rewards += reward\n",
    "\n",
    "        if terminated:\n",
    "            print('Episode finished after {} timesteps, total rewards {}'.format(t+1, rewards))\n",
    "            break\n",
    "\n",
    "env.close()"
   ]
  },
  {
   "cell_type": "code",
   "execution_count": null,
   "id": "6068a16d-44b7-42f8-8bc3-5a89665be970",
   "metadata": {},
   "outputs": [],
   "source": []
  },
  {
   "cell_type": "code",
   "execution_count": null,
   "id": "074d1415",
   "metadata": {},
   "outputs": [],
   "source": []
  }
 ],
 "metadata": {
  "kernelspec": {
   "display_name": ".venv",
   "language": "python",
   "name": "python3"
  },
  "language_info": {
   "codemirror_mode": {
    "name": "ipython",
    "version": 3
   },
   "file_extension": ".py",
   "mimetype": "text/x-python",
   "name": "python",
   "nbconvert_exporter": "python",
   "pygments_lexer": "ipython3",
   "version": "3.10.13"
  }
 },
 "nbformat": 4,
 "nbformat_minor": 5
}
